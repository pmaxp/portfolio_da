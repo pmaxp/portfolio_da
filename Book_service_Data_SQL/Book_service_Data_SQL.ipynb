{
 "cells": [
  {
   "cell_type": "markdown",
   "id": "4edfe683",
   "metadata": {},
   "source": [
    "# Проект по SQL \n",
    "\n",
    "**Описание:** компания решила купить крупный сервис для чтения книг по подписке. \n",
    "\n",
    "**Задача:** проанализировать базу данных.\n",
    "\n",
    "\n",
    "В нашем распоряжении информация о книгах, издательствах, авторах, а также пользовательские обзоры книг. Эти данные помогут сформулировать ценностное предложение для нового продукта.\n",
    "\n",
    "Используя SQL запросы ответить на вопросы:\n",
    "\n",
    "- 1. Сколько книг вышло после 1 января 2000 года;\n",
    "- 2. Какое количество обзоров и средняя оценка для каждой книги посчитайте;\n",
    "- 3. Определить издательство, которое выпустило наибольшее число книг толще 50 страниц;\n",
    "- 4. Определить автора с самой высокой средней оценкой книг(только книги с 50 и более оценками);\n",
    "- 5. Какое среднее количество обзоров от пользователей(которые поставили больше 50 оценок).\n",
    "\n",
    "**Ход действий**\n",
    " 1. Импорт необходимых библиотек\n",
    " 2. Подключение к базе данных\n",
    "     - подключение и проверка данных\n",
    " 3. Анализ базы данных\n",
    "     - ответы на вопросы\n",
    " 4. Выводы"
   ]
  },
  {
   "cell_type": "markdown",
   "id": "74e08a66",
   "metadata": {},
   "source": [
    "## Импорт библиотек и загрузка данных"
   ]
  },
  {
   "cell_type": "code",
   "execution_count": 1,
   "id": "ce190ced",
   "metadata": {},
   "outputs": [],
   "source": [
    "# импортируем библиотеки\n",
    "import pandas as pd\n",
    "from sqlalchemy import create_engine\n",
    "from datetime import datetime"
   ]
  },
  {
   "cell_type": "markdown",
   "id": "70d2970c",
   "metadata": {},
   "source": [
    "## Подключаемся к БД и делаем SQL запрос"
   ]
  },
  {
   "cell_type": "code",
   "execution_count": 2,
   "id": "61677285",
   "metadata": {},
   "outputs": [],
   "source": [
    "#словарь для подключения к БД\n",
    "db_config = {'user': '*****', # имя пользователя\n",
    "            'pwd': '*****', # пароль\n",
    "            'host': '*****',\n",
    "            'port': '*****', # порт подключения\n",
    "            'db': '*****'} # название базы данных\n",
    "\n",
    "connection_string = 'postgresql://{}:{}@{}:{}/{}'.format(db_config['user'],\n",
    "                                                db_config['pwd'],\n",
    "                                                db_config['host'],\n",
    "                                                db_config['port'],\n",
    "                                                db_config['db'])\n",
    "#Собориаем подключение в строку:\n",
    "engine = create_engine(connection_string)"
   ]
  },
  {
   "cell_type": "markdown",
   "id": "8ec8096a",
   "metadata": {},
   "source": [
    "### Проверка подключения и выполнения SQL запросов:"
   ]
  },
  {
   "cell_type": "code",
   "execution_count": 3,
   "id": "be43e478",
   "metadata": {
    "scrolled": false
   },
   "outputs": [
    {
     "data": {
      "text/html": [
       "<div>\n",
       "<style scoped>\n",
       "    .dataframe tbody tr th:only-of-type {\n",
       "        vertical-align: middle;\n",
       "    }\n",
       "\n",
       "    .dataframe tbody tr th {\n",
       "        vertical-align: top;\n",
       "    }\n",
       "\n",
       "    .dataframe thead th {\n",
       "        text-align: right;\n",
       "    }\n",
       "</style>\n",
       "<table border=\"1\" class=\"dataframe\">\n",
       "  <thead>\n",
       "    <tr style=\"text-align: right;\">\n",
       "      <th></th>\n",
       "      <th>book_id</th>\n",
       "      <th>author_id</th>\n",
       "      <th>title</th>\n",
       "      <th>num_pages</th>\n",
       "      <th>publication_date</th>\n",
       "      <th>publisher_id</th>\n",
       "    </tr>\n",
       "  </thead>\n",
       "  <tbody>\n",
       "    <tr>\n",
       "      <th>0</th>\n",
       "      <td>1</td>\n",
       "      <td>546</td>\n",
       "      <td>'Salem's Lot</td>\n",
       "      <td>594</td>\n",
       "      <td>2005-11-01</td>\n",
       "      <td>93</td>\n",
       "    </tr>\n",
       "    <tr>\n",
       "      <th>1</th>\n",
       "      <td>2</td>\n",
       "      <td>465</td>\n",
       "      <td>1 000 Places to See Before You Die</td>\n",
       "      <td>992</td>\n",
       "      <td>2003-05-22</td>\n",
       "      <td>336</td>\n",
       "    </tr>\n",
       "    <tr>\n",
       "      <th>2</th>\n",
       "      <td>3</td>\n",
       "      <td>407</td>\n",
       "      <td>13 Little Blue Envelopes (Little Blue Envelope...</td>\n",
       "      <td>322</td>\n",
       "      <td>2010-12-21</td>\n",
       "      <td>135</td>\n",
       "    </tr>\n",
       "    <tr>\n",
       "      <th>3</th>\n",
       "      <td>4</td>\n",
       "      <td>82</td>\n",
       "      <td>1491: New Revelations of the Americas Before C...</td>\n",
       "      <td>541</td>\n",
       "      <td>2006-10-10</td>\n",
       "      <td>309</td>\n",
       "    </tr>\n",
       "    <tr>\n",
       "      <th>4</th>\n",
       "      <td>5</td>\n",
       "      <td>125</td>\n",
       "      <td>1776</td>\n",
       "      <td>386</td>\n",
       "      <td>2006-07-04</td>\n",
       "      <td>268</td>\n",
       "    </tr>\n",
       "  </tbody>\n",
       "</table>\n",
       "</div>"
      ],
      "text/plain": [
       "   book_id  author_id                                              title  \\\n",
       "0        1        546                                       'Salem's Lot   \n",
       "1        2        465                 1 000 Places to See Before You Die   \n",
       "2        3        407  13 Little Blue Envelopes (Little Blue Envelope...   \n",
       "3        4         82  1491: New Revelations of the Americas Before C...   \n",
       "4        5        125                                               1776   \n",
       "\n",
       "   num_pages publication_date  publisher_id  \n",
       "0        594       2005-11-01            93  \n",
       "1        992       2003-05-22           336  \n",
       "2        322       2010-12-21           135  \n",
       "3        541       2006-10-10           309  \n",
       "4        386       2006-07-04           268  "
      ]
     },
     "execution_count": 3,
     "metadata": {},
     "output_type": "execute_result"
    }
   ],
   "source": [
    "#Пишем SQL запрос\n",
    "query = ''' SELECT *\n",
    "            FROM books\n",
    "        '''\n",
    "#Сохраняем в переменную загруженную БД\n",
    "df_books = pd.io.sql.read_sql(query, con = engine)\n",
    "\n",
    "df_books.head()"
   ]
  },
  {
   "cell_type": "markdown",
   "id": "8afeba58",
   "metadata": {},
   "source": [
    "Подключились посмотрим количество данных всего у нас в базе:"
   ]
  },
  {
   "cell_type": "markdown",
   "id": "1f270ecb",
   "metadata": {},
   "source": [
    "Сколько всего книг:"
   ]
  },
  {
   "cell_type": "code",
   "execution_count": 4,
   "id": "0e3ccdea",
   "metadata": {
    "scrolled": true
   },
   "outputs": [
    {
     "data": {
      "text/html": [
       "<div>\n",
       "<style scoped>\n",
       "    .dataframe tbody tr th:only-of-type {\n",
       "        vertical-align: middle;\n",
       "    }\n",
       "\n",
       "    .dataframe tbody tr th {\n",
       "        vertical-align: top;\n",
       "    }\n",
       "\n",
       "    .dataframe thead th {\n",
       "        text-align: right;\n",
       "    }\n",
       "</style>\n",
       "<table border=\"1\" class=\"dataframe\">\n",
       "  <thead>\n",
       "    <tr style=\"text-align: right;\">\n",
       "      <th></th>\n",
       "      <th>count</th>\n",
       "    </tr>\n",
       "  </thead>\n",
       "  <tbody>\n",
       "    <tr>\n",
       "      <th>0</th>\n",
       "      <td>1000</td>\n",
       "    </tr>\n",
       "  </tbody>\n",
       "</table>\n",
       "</div>"
      ],
      "text/plain": [
       "   count\n",
       "0   1000"
      ]
     },
     "execution_count": 4,
     "metadata": {},
     "output_type": "execute_result"
    }
   ],
   "source": [
    "#Пишем SQL запрос\n",
    "query = ''' SELECT COUNT(book_id)\n",
    "            FROM books\n",
    "        '''\n",
    "#Сохраняем в переменную загруженную БД\n",
    "df_books = pd.io.sql.read_sql(query, con = engine)\n",
    "\n",
    "df_books.head()"
   ]
  },
  {
   "cell_type": "markdown",
   "id": "885142b2",
   "metadata": {},
   "source": [
    "Сколько всего авторов:"
   ]
  },
  {
   "cell_type": "code",
   "execution_count": 5,
   "id": "fabe2e8b",
   "metadata": {
    "scrolled": true
   },
   "outputs": [
    {
     "data": {
      "text/html": [
       "<div>\n",
       "<style scoped>\n",
       "    .dataframe tbody tr th:only-of-type {\n",
       "        vertical-align: middle;\n",
       "    }\n",
       "\n",
       "    .dataframe tbody tr th {\n",
       "        vertical-align: top;\n",
       "    }\n",
       "\n",
       "    .dataframe thead th {\n",
       "        text-align: right;\n",
       "    }\n",
       "</style>\n",
       "<table border=\"1\" class=\"dataframe\">\n",
       "  <thead>\n",
       "    <tr style=\"text-align: right;\">\n",
       "      <th></th>\n",
       "      <th>count</th>\n",
       "    </tr>\n",
       "  </thead>\n",
       "  <tbody>\n",
       "    <tr>\n",
       "      <th>0</th>\n",
       "      <td>636</td>\n",
       "    </tr>\n",
       "  </tbody>\n",
       "</table>\n",
       "</div>"
      ],
      "text/plain": [
       "   count\n",
       "0    636"
      ]
     },
     "execution_count": 5,
     "metadata": {},
     "output_type": "execute_result"
    }
   ],
   "source": [
    "#Пишем SQL запрос\n",
    "query = ''' SELECT COUNT(DISTINCT author_id)\n",
    "            FROM books\n",
    "        '''\n",
    "#Сохраняем в переменную загруженную БД\n",
    "df_books = pd.io.sql.read_sql(query, con = engine)\n",
    "\n",
    "df_books.head()"
   ]
  },
  {
   "cell_type": "markdown",
   "id": "68e81e44",
   "metadata": {},
   "source": [
    "Сколько всего издательств:"
   ]
  },
  {
   "cell_type": "code",
   "execution_count": 6,
   "id": "290dc26c",
   "metadata": {},
   "outputs": [
    {
     "data": {
      "text/html": [
       "<div>\n",
       "<style scoped>\n",
       "    .dataframe tbody tr th:only-of-type {\n",
       "        vertical-align: middle;\n",
       "    }\n",
       "\n",
       "    .dataframe tbody tr th {\n",
       "        vertical-align: top;\n",
       "    }\n",
       "\n",
       "    .dataframe thead th {\n",
       "        text-align: right;\n",
       "    }\n",
       "</style>\n",
       "<table border=\"1\" class=\"dataframe\">\n",
       "  <thead>\n",
       "    <tr style=\"text-align: right;\">\n",
       "      <th></th>\n",
       "      <th>count</th>\n",
       "    </tr>\n",
       "  </thead>\n",
       "  <tbody>\n",
       "    <tr>\n",
       "      <th>0</th>\n",
       "      <td>340</td>\n",
       "    </tr>\n",
       "  </tbody>\n",
       "</table>\n",
       "</div>"
      ],
      "text/plain": [
       "   count\n",
       "0    340"
      ]
     },
     "execution_count": 6,
     "metadata": {},
     "output_type": "execute_result"
    }
   ],
   "source": [
    "#Пишем SQL запрос\n",
    "query = ''' SELECT COUNT(publisher)\n",
    "            FROM publishers\n",
    "        '''\n",
    "#Сохраняем в переменную загруженную БД\n",
    "df_books = pd.io.sql.read_sql(query, con = engine)\n",
    "\n",
    "df_books.head()"
   ]
  },
  {
   "cell_type": "markdown",
   "id": "9ca9def4",
   "metadata": {},
   "source": [
    "Сколько всего пользователей:"
   ]
  },
  {
   "cell_type": "code",
   "execution_count": 7,
   "id": "bdb7910d",
   "metadata": {},
   "outputs": [
    {
     "data": {
      "text/html": [
       "<div>\n",
       "<style scoped>\n",
       "    .dataframe tbody tr th:only-of-type {\n",
       "        vertical-align: middle;\n",
       "    }\n",
       "\n",
       "    .dataframe tbody tr th {\n",
       "        vertical-align: top;\n",
       "    }\n",
       "\n",
       "    .dataframe thead th {\n",
       "        text-align: right;\n",
       "    }\n",
       "</style>\n",
       "<table border=\"1\" class=\"dataframe\">\n",
       "  <thead>\n",
       "    <tr style=\"text-align: right;\">\n",
       "      <th></th>\n",
       "      <th>count</th>\n",
       "    </tr>\n",
       "  </thead>\n",
       "  <tbody>\n",
       "    <tr>\n",
       "      <th>0</th>\n",
       "      <td>160</td>\n",
       "    </tr>\n",
       "  </tbody>\n",
       "</table>\n",
       "</div>"
      ],
      "text/plain": [
       "   count\n",
       "0    160"
      ]
     },
     "execution_count": 7,
     "metadata": {},
     "output_type": "execute_result"
    }
   ],
   "source": [
    "#Пишем SQL запрос\n",
    "query = ''' SELECT COUNT(DISTINCT username)\n",
    "            FROM ratings\n",
    "        '''\n",
    "#Сохраняем в переменную загруженную БД\n",
    "df_books = pd.io.sql.read_sql(query, con = engine)\n",
    "\n",
    "df_books.head()"
   ]
  },
  {
   "cell_type": "markdown",
   "id": "95f97157",
   "metadata": {},
   "source": [
    "Сколько всего оценок книг:"
   ]
  },
  {
   "cell_type": "code",
   "execution_count": 8,
   "id": "8f3dda6f",
   "metadata": {},
   "outputs": [
    {
     "data": {
      "text/html": [
       "<div>\n",
       "<style scoped>\n",
       "    .dataframe tbody tr th:only-of-type {\n",
       "        vertical-align: middle;\n",
       "    }\n",
       "\n",
       "    .dataframe tbody tr th {\n",
       "        vertical-align: top;\n",
       "    }\n",
       "\n",
       "    .dataframe thead th {\n",
       "        text-align: right;\n",
       "    }\n",
       "</style>\n",
       "<table border=\"1\" class=\"dataframe\">\n",
       "  <thead>\n",
       "    <tr style=\"text-align: right;\">\n",
       "      <th></th>\n",
       "      <th>count</th>\n",
       "    </tr>\n",
       "  </thead>\n",
       "  <tbody>\n",
       "    <tr>\n",
       "      <th>0</th>\n",
       "      <td>6456</td>\n",
       "    </tr>\n",
       "  </tbody>\n",
       "</table>\n",
       "</div>"
      ],
      "text/plain": [
       "   count\n",
       "0   6456"
      ]
     },
     "execution_count": 8,
     "metadata": {},
     "output_type": "execute_result"
    }
   ],
   "source": [
    "#Пишем SQL запрос\n",
    "query = ''' SELECT COUNT(*)\n",
    "            FROM ratings\n",
    "        '''\n",
    "#Сохраняем в переменную загруженную БД\n",
    "df_books = pd.io.sql.read_sql(query, con = engine)\n",
    "\n",
    "df_books.head()"
   ]
  },
  {
   "cell_type": "markdown",
   "id": "3296df14",
   "metadata": {},
   "source": [
    "Сколько всего обзоров книг:"
   ]
  },
  {
   "cell_type": "code",
   "execution_count": 9,
   "id": "14bb527a",
   "metadata": {},
   "outputs": [
    {
     "data": {
      "text/html": [
       "<div>\n",
       "<style scoped>\n",
       "    .dataframe tbody tr th:only-of-type {\n",
       "        vertical-align: middle;\n",
       "    }\n",
       "\n",
       "    .dataframe tbody tr th {\n",
       "        vertical-align: top;\n",
       "    }\n",
       "\n",
       "    .dataframe thead th {\n",
       "        text-align: right;\n",
       "    }\n",
       "</style>\n",
       "<table border=\"1\" class=\"dataframe\">\n",
       "  <thead>\n",
       "    <tr style=\"text-align: right;\">\n",
       "      <th></th>\n",
       "      <th>count</th>\n",
       "    </tr>\n",
       "  </thead>\n",
       "  <tbody>\n",
       "    <tr>\n",
       "      <th>0</th>\n",
       "      <td>2793</td>\n",
       "    </tr>\n",
       "  </tbody>\n",
       "</table>\n",
       "</div>"
      ],
      "text/plain": [
       "   count\n",
       "0   2793"
      ]
     },
     "execution_count": 9,
     "metadata": {},
     "output_type": "execute_result"
    }
   ],
   "source": [
    "#Пишем SQL запрос\n",
    "query = ''' SELECT COUNT(*)\n",
    "            FROM reviews\n",
    "        '''\n",
    "#Сохраняем в переменную загруженную БД\n",
    "df_books = pd.io.sql.read_sql(query, con = engine)\n",
    "\n",
    "df_books.head()"
   ]
  },
  {
   "cell_type": "markdown",
   "id": "095d23b1",
   "metadata": {},
   "source": [
    "# Анализ базы данных"
   ]
  },
  {
   "cell_type": "markdown",
   "id": "e70a5a22",
   "metadata": {},
   "source": [
    "Ответы на наши вопросы:"
   ]
  },
  {
   "cell_type": "markdown",
   "id": "7f78b42a",
   "metadata": {},
   "source": [
    "### Сколько книг вышло после 1 января 2000 года;"
   ]
  },
  {
   "cell_type": "code",
   "execution_count": 10,
   "id": "5dbc49cc",
   "metadata": {
    "scrolled": true
   },
   "outputs": [
    {
     "data": {
      "text/html": [
       "<div>\n",
       "<style scoped>\n",
       "    .dataframe tbody tr th:only-of-type {\n",
       "        vertical-align: middle;\n",
       "    }\n",
       "\n",
       "    .dataframe tbody tr th {\n",
       "        vertical-align: top;\n",
       "    }\n",
       "\n",
       "    .dataframe thead th {\n",
       "        text-align: right;\n",
       "    }\n",
       "</style>\n",
       "<table border=\"1\" class=\"dataframe\">\n",
       "  <thead>\n",
       "    <tr style=\"text-align: right;\">\n",
       "      <th></th>\n",
       "      <th>count</th>\n",
       "    </tr>\n",
       "  </thead>\n",
       "  <tbody>\n",
       "    <tr>\n",
       "      <th>0</th>\n",
       "      <td>819</td>\n",
       "    </tr>\n",
       "  </tbody>\n",
       "</table>\n",
       "</div>"
      ],
      "text/plain": [
       "   count\n",
       "0    819"
      ]
     },
     "execution_count": 10,
     "metadata": {},
     "output_type": "execute_result"
    }
   ],
   "source": [
    "#Пишем SQL запрос\n",
    "query = ''' SELECT COUNT(*)\n",
    "            FROM books\n",
    "            WHERE publication_date > '2000-01-01'\n",
    "        '''\n",
    "#Сохраняем в переменную загруженную БД\n",
    "df_books = pd.io.sql.read_sql(query, con = engine)\n",
    "\n",
    "df_books"
   ]
  },
  {
   "cell_type": "markdown",
   "id": "b5ffc30e",
   "metadata": {},
   "source": [
    "### Какое количество обзоров и средняя оценка для каждой книги посчитайте (войдут только имеющие оценки);"
   ]
  },
  {
   "cell_type": "code",
   "execution_count": 11,
   "id": "a5c5d1ca",
   "metadata": {},
   "outputs": [
    {
     "data": {
      "text/plain": [
       "1000"
      ]
     },
     "metadata": {},
     "output_type": "display_data"
    },
    {
     "data": {
      "text/html": [
       "<div>\n",
       "<style scoped>\n",
       "    .dataframe tbody tr th:only-of-type {\n",
       "        vertical-align: middle;\n",
       "    }\n",
       "\n",
       "    .dataframe tbody tr th {\n",
       "        vertical-align: top;\n",
       "    }\n",
       "\n",
       "    .dataframe thead th {\n",
       "        text-align: right;\n",
       "    }\n",
       "</style>\n",
       "<table border=\"1\" class=\"dataframe\">\n",
       "  <thead>\n",
       "    <tr style=\"text-align: right;\">\n",
       "      <th></th>\n",
       "      <th>book_id_main</th>\n",
       "      <th>title</th>\n",
       "      <th>count_review</th>\n",
       "      <th>round</th>\n",
       "    </tr>\n",
       "  </thead>\n",
       "  <tbody>\n",
       "    <tr>\n",
       "      <th>0</th>\n",
       "      <td>948</td>\n",
       "      <td>Twilight (Twilight  #1)</td>\n",
       "      <td>7</td>\n",
       "      <td>3.66</td>\n",
       "    </tr>\n",
       "    <tr>\n",
       "      <th>1</th>\n",
       "      <td>963</td>\n",
       "      <td>Water for Elephants</td>\n",
       "      <td>6</td>\n",
       "      <td>3.98</td>\n",
       "    </tr>\n",
       "    <tr>\n",
       "      <th>2</th>\n",
       "      <td>734</td>\n",
       "      <td>The Glass Castle</td>\n",
       "      <td>6</td>\n",
       "      <td>4.21</td>\n",
       "    </tr>\n",
       "    <tr>\n",
       "      <th>3</th>\n",
       "      <td>302</td>\n",
       "      <td>Harry Potter and the Prisoner of Azkaban (Harr...</td>\n",
       "      <td>6</td>\n",
       "      <td>4.41</td>\n",
       "    </tr>\n",
       "    <tr>\n",
       "      <th>4</th>\n",
       "      <td>695</td>\n",
       "      <td>The Curious Incident of the Dog in the Night-Time</td>\n",
       "      <td>6</td>\n",
       "      <td>4.08</td>\n",
       "    </tr>\n",
       "    <tr>\n",
       "      <th>5</th>\n",
       "      <td>696</td>\n",
       "      <td>The Da Vinci Code (Robert Langdon  #2)</td>\n",
       "      <td>6</td>\n",
       "      <td>3.83</td>\n",
       "    </tr>\n",
       "    <tr>\n",
       "      <th>6</th>\n",
       "      <td>627</td>\n",
       "      <td>The Alchemist</td>\n",
       "      <td>6</td>\n",
       "      <td>3.79</td>\n",
       "    </tr>\n",
       "    <tr>\n",
       "      <th>7</th>\n",
       "      <td>750</td>\n",
       "      <td>The Hobbit  or There and Back Again</td>\n",
       "      <td>6</td>\n",
       "      <td>4.13</td>\n",
       "    </tr>\n",
       "    <tr>\n",
       "      <th>8</th>\n",
       "      <td>656</td>\n",
       "      <td>The Book Thief</td>\n",
       "      <td>6</td>\n",
       "      <td>4.26</td>\n",
       "    </tr>\n",
       "    <tr>\n",
       "      <th>9</th>\n",
       "      <td>779</td>\n",
       "      <td>The Lightning Thief (Percy Jackson and the Oly...</td>\n",
       "      <td>6</td>\n",
       "      <td>4.08</td>\n",
       "    </tr>\n",
       "    <tr>\n",
       "      <th>10</th>\n",
       "      <td>854</td>\n",
       "      <td>The Road</td>\n",
       "      <td>6</td>\n",
       "      <td>3.77</td>\n",
       "    </tr>\n",
       "    <tr>\n",
       "      <th>11</th>\n",
       "      <td>207</td>\n",
       "      <td>Eat  Pray  Love</td>\n",
       "      <td>6</td>\n",
       "      <td>3.40</td>\n",
       "    </tr>\n",
       "    <tr>\n",
       "      <th>12</th>\n",
       "      <td>673</td>\n",
       "      <td>The Catcher in the Rye</td>\n",
       "      <td>6</td>\n",
       "      <td>3.83</td>\n",
       "    </tr>\n",
       "    <tr>\n",
       "      <th>13</th>\n",
       "      <td>733</td>\n",
       "      <td>The Giver (The Giver  #1)</td>\n",
       "      <td>6</td>\n",
       "      <td>3.75</td>\n",
       "    </tr>\n",
       "    <tr>\n",
       "      <th>14</th>\n",
       "      <td>299</td>\n",
       "      <td>Harry Potter and the Chamber of Secrets (Harry...</td>\n",
       "      <td>6</td>\n",
       "      <td>4.29</td>\n",
       "    </tr>\n",
       "    <tr>\n",
       "      <th>15</th>\n",
       "      <td>497</td>\n",
       "      <td>Outlander (Outlander  #1)</td>\n",
       "      <td>6</td>\n",
       "      <td>4.13</td>\n",
       "    </tr>\n",
       "    <tr>\n",
       "      <th>16</th>\n",
       "      <td>461</td>\n",
       "      <td>My Sister's Keeper</td>\n",
       "      <td>5</td>\n",
       "      <td>4.14</td>\n",
       "    </tr>\n",
       "    <tr>\n",
       "      <th>17</th>\n",
       "      <td>405</td>\n",
       "      <td>Lord of the Flies</td>\n",
       "      <td>5</td>\n",
       "      <td>3.90</td>\n",
       "    </tr>\n",
       "    <tr>\n",
       "      <th>18</th>\n",
       "      <td>793</td>\n",
       "      <td>The Memory Keeper's Daughter</td>\n",
       "      <td>5</td>\n",
       "      <td>3.26</td>\n",
       "    </tr>\n",
       "    <tr>\n",
       "      <th>19</th>\n",
       "      <td>194</td>\n",
       "      <td>Dracula</td>\n",
       "      <td>5</td>\n",
       "      <td>3.30</td>\n",
       "    </tr>\n",
       "  </tbody>\n",
       "</table>\n",
       "</div>"
      ],
      "text/plain": [
       "    book_id_main                                              title  \\\n",
       "0            948                            Twilight (Twilight  #1)   \n",
       "1            963                                Water for Elephants   \n",
       "2            734                                   The Glass Castle   \n",
       "3            302  Harry Potter and the Prisoner of Azkaban (Harr...   \n",
       "4            695  The Curious Incident of the Dog in the Night-Time   \n",
       "5            696             The Da Vinci Code (Robert Langdon  #2)   \n",
       "6            627                                      The Alchemist   \n",
       "7            750                The Hobbit  or There and Back Again   \n",
       "8            656                                     The Book Thief   \n",
       "9            779  The Lightning Thief (Percy Jackson and the Oly...   \n",
       "10           854                                           The Road   \n",
       "11           207                                    Eat  Pray  Love   \n",
       "12           673                             The Catcher in the Rye   \n",
       "13           733                          The Giver (The Giver  #1)   \n",
       "14           299  Harry Potter and the Chamber of Secrets (Harry...   \n",
       "15           497                          Outlander (Outlander  #1)   \n",
       "16           461                                 My Sister's Keeper   \n",
       "17           405                                  Lord of the Flies   \n",
       "18           793                       The Memory Keeper's Daughter   \n",
       "19           194                                            Dracula   \n",
       "\n",
       "    count_review  round  \n",
       "0              7   3.66  \n",
       "1              6   3.98  \n",
       "2              6   4.21  \n",
       "3              6   4.41  \n",
       "4              6   4.08  \n",
       "5              6   3.83  \n",
       "6              6   3.79  \n",
       "7              6   4.13  \n",
       "8              6   4.26  \n",
       "9              6   4.08  \n",
       "10             6   3.77  \n",
       "11             6   3.40  \n",
       "12             6   3.83  \n",
       "13             6   3.75  \n",
       "14             6   4.29  \n",
       "15             6   4.13  \n",
       "16             5   4.14  \n",
       "17             5   3.90  \n",
       "18             5   3.26  \n",
       "19             5   3.30  "
      ]
     },
     "execution_count": 11,
     "metadata": {},
     "output_type": "execute_result"
    }
   ],
   "source": [
    "#Пишем SQL запрос\n",
    "query = '''SELECT bo.book_id AS book_id_main,\n",
    "                  bo.title,\n",
    "                  COUNT (DISTINCT re.review_id) AS count_review,\n",
    "                  ROUND (AVG(ra.rating),2)\n",
    "           FROM books as bo\n",
    "           LEFT JOIN ratings AS ra ON bo.book_id=ra.book_id\n",
    "           LEFT JOIN reviews AS re ON bo.book_id=re.book_id\n",
    "           GROUP BY book_id_main\n",
    "           ORDER BY count_review DESC\n",
    "           '''\n",
    "#Сохраняем в переменную загруженную БД\n",
    "df_books = pd.io.sql.read_sql(query, con = engine)\n",
    "display(df_books.shape[0])\n",
    "df_books.head(20)"
   ]
  },
  {
   "cell_type": "markdown",
   "id": "72ff2493",
   "metadata": {},
   "source": [
    "Посмотрим на лидеров по рейтингу и кол-во оценок (кол-во оценок более 150)"
   ]
  },
  {
   "cell_type": "markdown",
   "id": "94fcca89",
   "metadata": {},
   "source": [
    "### Определить издательство, которое выпустило наибольшее число книг толще 50 страниц;"
   ]
  },
  {
   "cell_type": "code",
   "execution_count": 12,
   "id": "74b3b365",
   "metadata": {},
   "outputs": [
    {
     "data": {
      "text/html": [
       "<div>\n",
       "<style scoped>\n",
       "    .dataframe tbody tr th:only-of-type {\n",
       "        vertical-align: middle;\n",
       "    }\n",
       "\n",
       "    .dataframe tbody tr th {\n",
       "        vertical-align: top;\n",
       "    }\n",
       "\n",
       "    .dataframe thead th {\n",
       "        text-align: right;\n",
       "    }\n",
       "</style>\n",
       "<table border=\"1\" class=\"dataframe\">\n",
       "  <thead>\n",
       "    <tr style=\"text-align: right;\">\n",
       "      <th></th>\n",
       "      <th>publisher</th>\n",
       "      <th>num_books</th>\n",
       "    </tr>\n",
       "  </thead>\n",
       "  <tbody>\n",
       "    <tr>\n",
       "      <th>0</th>\n",
       "      <td>Penguin Books</td>\n",
       "      <td>42</td>\n",
       "    </tr>\n",
       "  </tbody>\n",
       "</table>\n",
       "</div>"
      ],
      "text/plain": [
       "       publisher  num_books\n",
       "0  Penguin Books         42"
      ]
     },
     "execution_count": 12,
     "metadata": {},
     "output_type": "execute_result"
    }
   ],
   "source": [
    "#Пишем SQL запрос\n",
    "query = ''' SELECT p.publisher,\n",
    "                   COUNT(b.book_id) as num_books\n",
    "            FROM books AS b\n",
    "            JOIN publishers AS p ON b.publisher_id = p.publisher_id\n",
    "            WHERE b.num_pages > 50\n",
    "            GROUP BY p.publisher\n",
    "            ORDER BY num_books DESC\n",
    "            LIMIT 1\n",
    "        '''\n",
    "#Сохраняем в переменную загруженную БД\n",
    "df_books = pd.io.sql.read_sql(query, con = engine)\n",
    "\n",
    "df_books.head()"
   ]
  },
  {
   "cell_type": "markdown",
   "id": "05467a3d",
   "metadata": {},
   "source": [
    "### Определить автора с самой высокой средней оценкой книг(только книги с 50 и более оценками);"
   ]
  },
  {
   "cell_type": "code",
   "execution_count": 13,
   "id": "7af84ca7",
   "metadata": {},
   "outputs": [
    {
     "data": {
      "text/html": [
       "<div>\n",
       "<style scoped>\n",
       "    .dataframe tbody tr th:only-of-type {\n",
       "        vertical-align: middle;\n",
       "    }\n",
       "\n",
       "    .dataframe tbody tr th {\n",
       "        vertical-align: top;\n",
       "    }\n",
       "\n",
       "    .dataframe thead th {\n",
       "        text-align: right;\n",
       "    }\n",
       "</style>\n",
       "<table border=\"1\" class=\"dataframe\">\n",
       "  <thead>\n",
       "    <tr style=\"text-align: right;\">\n",
       "      <th></th>\n",
       "      <th>author</th>\n",
       "      <th>avg_rating</th>\n",
       "    </tr>\n",
       "  </thead>\n",
       "  <tbody>\n",
       "    <tr>\n",
       "      <th>0</th>\n",
       "      <td>J.K. Rowling/Mary GrandPré</td>\n",
       "      <td>4.287097</td>\n",
       "    </tr>\n",
       "  </tbody>\n",
       "</table>\n",
       "</div>"
      ],
      "text/plain": [
       "                       author  avg_rating\n",
       "0  J.K. Rowling/Mary GrandPré    4.287097"
      ]
     },
     "execution_count": 13,
     "metadata": {},
     "output_type": "execute_result"
    }
   ],
   "source": [
    "#Пишем SQL запрос\n",
    "query = ''' WITH best_books as (SELECT r.book_id,\n",
    "                                       COUNT(rating) as num_rating\n",
    "                                FROM ratings AS r\n",
    "                                GROUP BY r.book_id\n",
    "                                HAVING COUNT(rating) > 50\n",
    "                                ORDER BY num_rating DESC)\n",
    "            \n",
    "            SELECT a.author,\n",
    "                   AVG(r.rating) AS avg_rating\n",
    "            FROM best_books as bb\n",
    "            JOIN books as b on bb.book_id = b.book_id\n",
    "            JOIN authors as a on b.author_id = a.author_id\n",
    "            JOIN ratings as r on bb.book_id = r.book_id\n",
    "            GROUP BY a.author\n",
    "            ORDER BY avg_rating DESC\n",
    "            LIMIT 1\n",
    "        '''\n",
    "#Сохраняем в переменную загруженную БД\n",
    "df_books = pd.io.sql.read_sql(query, con = engine)\n",
    "\n",
    "df_books.head()"
   ]
  },
  {
   "cell_type": "markdown",
   "id": "23587bf9",
   "metadata": {},
   "source": [
    "### Какое среднее количество обзоров от пользователей(которые поставили больше 50 оценок)."
   ]
  },
  {
   "cell_type": "code",
   "execution_count": 14,
   "id": "53e44bed",
   "metadata": {},
   "outputs": [
    {
     "data": {
      "text/html": [
       "<div>\n",
       "<style scoped>\n",
       "    .dataframe tbody tr th:only-of-type {\n",
       "        vertical-align: middle;\n",
       "    }\n",
       "\n",
       "    .dataframe tbody tr th {\n",
       "        vertical-align: top;\n",
       "    }\n",
       "\n",
       "    .dataframe thead th {\n",
       "        text-align: right;\n",
       "    }\n",
       "</style>\n",
       "<table border=\"1\" class=\"dataframe\">\n",
       "  <thead>\n",
       "    <tr style=\"text-align: right;\">\n",
       "      <th></th>\n",
       "      <th>avg</th>\n",
       "    </tr>\n",
       "  </thead>\n",
       "  <tbody>\n",
       "    <tr>\n",
       "      <th>0</th>\n",
       "      <td>24.333333</td>\n",
       "    </tr>\n",
       "  </tbody>\n",
       "</table>\n",
       "</div>"
      ],
      "text/plain": [
       "         avg\n",
       "0  24.333333"
      ]
     },
     "execution_count": 14,
     "metadata": {},
     "output_type": "execute_result"
    }
   ],
   "source": [
    "#Пишем SQL запрос\n",
    "query = ''' WITH best_users as (SELECT r.username,\n",
    "                                       COUNT(rating) as num_rating\n",
    "                                FROM ratings AS r\n",
    "                                GROUP BY r.username\n",
    "                                HAVING COUNT(rating) > 50\n",
    "                                ORDER BY num_rating DESC),\n",
    "                                \n",
    "               counts_review as (SELECT re.username,\n",
    "                                       COUNT(re.text) as count_review\n",
    "                                FROM best_users as bu\n",
    "                                JOIN reviews AS re ON bu.username = re.username\n",
    "                                GROUP BY re.username)\n",
    "           SELECT AVG(count_review)\n",
    "           FROM counts_review\n",
    "        '''\n",
    "#Сохраняем в переменную загруженную БД\n",
    "df_books = pd.io.sql.read_sql(query, con = engine)\n",
    "\n",
    "df_books"
   ]
  },
  {
   "cell_type": "markdown",
   "id": "6c70c467",
   "metadata": {},
   "source": [
    "# Выводы"
   ]
  },
  {
   "cell_type": "markdown",
   "id": "f4268dd5",
   "metadata": {},
   "source": [
    "ОБЩЕЕ:\n",
    " - Всего книг: **1000**\n",
    " - Всего авторов: **636**\n",
    " - Всего издательств: **340**\n",
    " - Всего пользователей: **160**\n",
    " - Всего оценок книг: **6456**\n",
    " - Всего обзоров книг: **2793**\n",
    "    \n",
    "Ответы на вопросы:\n",
    " 1. 819 книг вышло после 1 января 2000 года\n",
    " 2. Количество обзоров и средняя оценка для каждой книги:\n",
    "     - Лидер по оценкам `Twilight` (Twilight №1) кол-во обзоров: **7**, средняя оценка: **3.66** \n",
    "     - Лидер по оценкам и рейтингу `Harry Potter and the Prisoner of Azkaban` кол-во обзоров: **6**, средняя оценка: **4.41**\n",
    " 3. Издательство лидер по кол-ву изданых книг(не менее 50 страниц в книге) это `Penguin Books` (**42** книги)\n",
    " 4. Автор с самой высокой средней оценкой книг `J.K. Rowling / Mary GrandPré` (**4.287**)\n",
    " 5. **24,33** - среднее количество обзоров от пользователей (которые поставили больше 50 оценок)"
   ]
  }
 ],
 "metadata": {
  "ExecuteTimeLog": [
   {
    "duration": 542,
    "start_time": "2023-01-26T12:55:09.401Z"
   },
   {
    "duration": 12979,
    "start_time": "2023-01-26T12:55:09.948Z"
   },
   {
    "duration": 219,
    "start_time": "2023-01-26T12:55:22.928Z"
   },
   {
    "duration": 35,
    "start_time": "2023-01-26T12:55:23.149Z"
   },
   {
    "duration": 19,
    "start_time": "2023-01-26T12:55:23.186Z"
   },
   {
    "duration": 72,
    "start_time": "2023-01-26T12:55:23.207Z"
   },
   {
    "duration": 21,
    "start_time": "2023-01-26T12:55:23.281Z"
   },
   {
    "duration": 71,
    "start_time": "2023-01-26T12:55:23.304Z"
   },
   {
    "duration": 73,
    "start_time": "2023-01-26T12:55:23.378Z"
   },
   {
    "duration": 23,
    "start_time": "2023-01-26T12:55:23.453Z"
   },
   {
    "duration": 88,
    "start_time": "2023-01-26T12:55:23.478Z"
   },
   {
    "duration": 27,
    "start_time": "2023-01-26T12:55:23.568Z"
   },
   {
    "duration": 11,
    "start_time": "2023-01-26T12:55:23.597Z"
   },
   {
    "duration": 74,
    "start_time": "2023-01-26T12:55:23.609Z"
   },
   {
    "duration": 96,
    "start_time": "2023-01-26T12:55:23.684Z"
   },
   {
    "duration": 25,
    "start_time": "2023-01-26T12:55:23.781Z"
   },
   {
    "duration": 72,
    "start_time": "2023-01-26T12:55:23.807Z"
   },
   {
    "duration": 75,
    "start_time": "2023-01-26T12:56:52.909Z"
   },
   {
    "duration": 497,
    "start_time": "2023-01-27T00:51:17.754Z"
   },
   {
    "duration": 7811,
    "start_time": "2023-01-27T00:51:18.253Z"
   },
   {
    "duration": 55,
    "start_time": "2023-01-27T00:51:26.065Z"
   },
   {
    "duration": 10,
    "start_time": "2023-01-27T00:51:26.122Z"
   },
   {
    "duration": 13,
    "start_time": "2023-01-27T00:51:26.133Z"
   },
   {
    "duration": 9,
    "start_time": "2023-01-27T00:51:26.147Z"
   },
   {
    "duration": 16,
    "start_time": "2023-01-27T00:51:26.158Z"
   },
   {
    "duration": 10,
    "start_time": "2023-01-27T00:51:26.175Z"
   },
   {
    "duration": 9,
    "start_time": "2023-01-27T00:51:26.187Z"
   },
   {
    "duration": 9,
    "start_time": "2023-01-27T00:51:26.199Z"
   },
   {
    "duration": 25,
    "start_time": "2023-01-27T00:51:26.209Z"
   },
   {
    "duration": 13,
    "start_time": "2023-01-27T00:51:26.235Z"
   },
   {
    "duration": 10,
    "start_time": "2023-01-27T00:51:26.249Z"
   },
   {
    "duration": 16,
    "start_time": "2023-01-27T00:51:26.261Z"
   },
   {
    "duration": 15,
    "start_time": "2023-01-27T00:51:26.285Z"
   },
   {
    "duration": 52,
    "start_time": "2023-01-27T00:51:26.301Z"
   },
   {
    "duration": 18,
    "start_time": "2023-01-27T00:51:43.726Z"
   },
   {
    "duration": 24,
    "start_time": "2023-01-27T00:51:48.454Z"
   },
   {
    "duration": 20,
    "start_time": "2023-01-27T00:54:04.432Z"
   },
   {
    "duration": 19,
    "start_time": "2023-01-27T00:54:07.771Z"
   },
   {
    "duration": 30,
    "start_time": "2023-01-27T00:54:10.132Z"
   },
   {
    "duration": 28,
    "start_time": "2023-01-27T00:54:37.844Z"
   },
   {
    "duration": 522,
    "start_time": "2023-01-27T07:32:59.130Z"
   },
   {
    "duration": 7987,
    "start_time": "2023-01-27T07:32:59.654Z"
   },
   {
    "duration": 58,
    "start_time": "2023-01-27T07:33:07.643Z"
   },
   {
    "duration": 11,
    "start_time": "2023-01-27T07:33:07.703Z"
   },
   {
    "duration": 24,
    "start_time": "2023-01-27T07:33:07.715Z"
   },
   {
    "duration": 16,
    "start_time": "2023-01-27T07:33:07.740Z"
   },
   {
    "duration": 22,
    "start_time": "2023-01-27T07:33:07.757Z"
   },
   {
    "duration": 13,
    "start_time": "2023-01-27T07:33:07.780Z"
   },
   {
    "duration": 11,
    "start_time": "2023-01-27T07:33:07.794Z"
   },
   {
    "duration": 22,
    "start_time": "2023-01-27T07:33:07.807Z"
   },
   {
    "duration": 24,
    "start_time": "2023-01-27T07:33:07.831Z"
   },
   {
    "duration": 28,
    "start_time": "2023-01-27T07:33:10.704Z"
   }
  ],
  "kernelspec": {
   "display_name": "Python 3 (ipykernel)",
   "language": "python",
   "name": "python3"
  },
  "language_info": {
   "codemirror_mode": {
    "name": "ipython",
    "version": 3
   },
   "file_extension": ".py",
   "mimetype": "text/x-python",
   "name": "python",
   "nbconvert_exporter": "python",
   "pygments_lexer": "ipython3",
   "version": "3.9.7"
  },
  "toc": {
   "base_numbering": 1,
   "nav_menu": {},
   "number_sections": true,
   "sideBar": true,
   "skip_h1_title": false,
   "title_cell": "Table of Contents",
   "title_sidebar": "Contents",
   "toc_cell": false,
   "toc_position": {},
   "toc_section_display": true,
   "toc_window_display": true
  }
 },
 "nbformat": 4,
 "nbformat_minor": 5
}
