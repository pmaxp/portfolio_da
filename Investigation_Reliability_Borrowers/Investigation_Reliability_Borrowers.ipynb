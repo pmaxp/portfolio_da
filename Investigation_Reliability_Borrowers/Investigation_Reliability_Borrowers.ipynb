{
 "cells": [
  {
   "cell_type": "markdown",
   "id": "a6036f1f",
   "metadata": {},
   "source": [
    "## Исследование надежности заемщиков."
   ]
  },
  {
   "cell_type": "markdown",
   "id": "4cbedcd7",
   "metadata": {},
   "source": [
    "Проведения исследования для проверки гипотез как различные переменные влияют на погашения заемщика кредита в срок.\n",
    "Результаты исследования будут учтены для построения модели *кредитного скролинга* - специальной системы, которая будет оценивать способность потенциального заёмщика вернуть кредит банку.\n",
    "\n",
    "**Цель исследования** — проверьте гипотезы:\n",
    " * *Влияет ли семейное положение заёмщика на погошения им кредита в срок?* - запрос заказчика\n",
    " * *Влияет ли количество детей заёмщика на возврат кредита в срок?* - запрос заказчика\n",
    " * Влияет ли уровень дохода и возвратом кредита в срок?\n",
    " * Как разные цели кредита влияют на его возврат в срок?\n",
    " \n",
    "**Входные данный** - статистика о платёжеспособности клиентов предоставленные банком заказчиком. `data.csv`\n",
    "\n",
    "**Ход исследования**\n",
    "1. **Обзор данных.** Мы проведем загрузку и обзор предоставленных данных. \n",
    "2. **Предобработка данных.** Проверим данные на ошибки и пропуски, поищем возможность исправить самые критические ошибки. Оценив их влияние на исследования.\n",
    "3. **Проверка гипотез.** Подтвердим или опровергнем выдвенутые гипотезы.\n",
    "4. **Результаты и выводы** Зделаем заключение основываясь на результатах."
   ]
  },
  {
   "cell_type": "markdown",
   "id": "3b38e34b",
   "metadata": {},
   "source": [
    "### Шаг 1. Обзор данных\n",
    "\n",
    "Для загрузки и обработки данных мы воспльзуемся библеотекой pandas"
   ]
  },
  {
   "cell_type": "code",
   "execution_count": 1,
   "id": "e1287950",
   "metadata": {},
   "outputs": [],
   "source": [
    "import pandas as pd"
   ]
  },
  {
   "cell_type": "markdown",
   "id": "986c6e2b",
   "metadata": {},
   "source": [
    "Загрузим файл `data.csv` из папки `/datasets` и сохраним в переменной `dt`"
   ]
  },
  {
   "cell_type": "code",
   "execution_count": 2,
   "id": "ae2bf552",
   "metadata": {},
   "outputs": [
    {
     "data": {
      "text/plain": [
       "'Загрузка офлайн'"
      ]
     },
     "metadata": {},
     "output_type": "display_data"
    }
   ],
   "source": [
    "try:\n",
    "    df = pd.read_csv('/datasets/data.csv')\n",
    "    display('Загрузка онлайн')\n",
    "except:\n",
    "    df = pd.read_csv('data.csv')\n",
    "    display('Загрузка офлайн')"
   ]
  },
  {
   "cell_type": "markdown",
   "id": "11001a37",
   "metadata": {},
   "source": [
    "Выведем на экран первые 10 строк таблицы:"
   ]
  },
  {
   "cell_type": "code",
   "execution_count": 3,
   "id": "92150134",
   "metadata": {
    "scrolled": true
   },
   "outputs": [
    {
     "data": {
      "text/html": [
       "<div>\n",
       "<style scoped>\n",
       "    .dataframe tbody tr th:only-of-type {\n",
       "        vertical-align: middle;\n",
       "    }\n",
       "\n",
       "    .dataframe tbody tr th {\n",
       "        vertical-align: top;\n",
       "    }\n",
       "\n",
       "    .dataframe thead th {\n",
       "        text-align: right;\n",
       "    }\n",
       "</style>\n",
       "<table border=\"1\" class=\"dataframe\">\n",
       "  <thead>\n",
       "    <tr style=\"text-align: right;\">\n",
       "      <th></th>\n",
       "      <th>children</th>\n",
       "      <th>days_employed</th>\n",
       "      <th>dob_years</th>\n",
       "      <th>education</th>\n",
       "      <th>education_id</th>\n",
       "      <th>family_status</th>\n",
       "      <th>family_status_id</th>\n",
       "      <th>gender</th>\n",
       "      <th>income_type</th>\n",
       "      <th>debt</th>\n",
       "      <th>total_income</th>\n",
       "      <th>purpose</th>\n",
       "    </tr>\n",
       "  </thead>\n",
       "  <tbody>\n",
       "    <tr>\n",
       "      <th>0</th>\n",
       "      <td>1</td>\n",
       "      <td>-8437.673028</td>\n",
       "      <td>42</td>\n",
       "      <td>высшее</td>\n",
       "      <td>0</td>\n",
       "      <td>женат / замужем</td>\n",
       "      <td>0</td>\n",
       "      <td>F</td>\n",
       "      <td>сотрудник</td>\n",
       "      <td>0</td>\n",
       "      <td>253875.639453</td>\n",
       "      <td>покупка жилья</td>\n",
       "    </tr>\n",
       "    <tr>\n",
       "      <th>1</th>\n",
       "      <td>1</td>\n",
       "      <td>-4024.803754</td>\n",
       "      <td>36</td>\n",
       "      <td>среднее</td>\n",
       "      <td>1</td>\n",
       "      <td>женат / замужем</td>\n",
       "      <td>0</td>\n",
       "      <td>F</td>\n",
       "      <td>сотрудник</td>\n",
       "      <td>0</td>\n",
       "      <td>112080.014102</td>\n",
       "      <td>приобретение автомобиля</td>\n",
       "    </tr>\n",
       "    <tr>\n",
       "      <th>2</th>\n",
       "      <td>0</td>\n",
       "      <td>-5623.422610</td>\n",
       "      <td>33</td>\n",
       "      <td>Среднее</td>\n",
       "      <td>1</td>\n",
       "      <td>женат / замужем</td>\n",
       "      <td>0</td>\n",
       "      <td>M</td>\n",
       "      <td>сотрудник</td>\n",
       "      <td>0</td>\n",
       "      <td>145885.952297</td>\n",
       "      <td>покупка жилья</td>\n",
       "    </tr>\n",
       "    <tr>\n",
       "      <th>3</th>\n",
       "      <td>3</td>\n",
       "      <td>-4124.747207</td>\n",
       "      <td>32</td>\n",
       "      <td>среднее</td>\n",
       "      <td>1</td>\n",
       "      <td>женат / замужем</td>\n",
       "      <td>0</td>\n",
       "      <td>M</td>\n",
       "      <td>сотрудник</td>\n",
       "      <td>0</td>\n",
       "      <td>267628.550329</td>\n",
       "      <td>дополнительное образование</td>\n",
       "    </tr>\n",
       "    <tr>\n",
       "      <th>4</th>\n",
       "      <td>0</td>\n",
       "      <td>340266.072047</td>\n",
       "      <td>53</td>\n",
       "      <td>среднее</td>\n",
       "      <td>1</td>\n",
       "      <td>гражданский брак</td>\n",
       "      <td>1</td>\n",
       "      <td>F</td>\n",
       "      <td>пенсионер</td>\n",
       "      <td>0</td>\n",
       "      <td>158616.077870</td>\n",
       "      <td>сыграть свадьбу</td>\n",
       "    </tr>\n",
       "    <tr>\n",
       "      <th>5</th>\n",
       "      <td>0</td>\n",
       "      <td>-926.185831</td>\n",
       "      <td>27</td>\n",
       "      <td>высшее</td>\n",
       "      <td>0</td>\n",
       "      <td>гражданский брак</td>\n",
       "      <td>1</td>\n",
       "      <td>M</td>\n",
       "      <td>компаньон</td>\n",
       "      <td>0</td>\n",
       "      <td>255763.565419</td>\n",
       "      <td>покупка жилья</td>\n",
       "    </tr>\n",
       "    <tr>\n",
       "      <th>6</th>\n",
       "      <td>0</td>\n",
       "      <td>-2879.202052</td>\n",
       "      <td>43</td>\n",
       "      <td>высшее</td>\n",
       "      <td>0</td>\n",
       "      <td>женат / замужем</td>\n",
       "      <td>0</td>\n",
       "      <td>F</td>\n",
       "      <td>компаньон</td>\n",
       "      <td>0</td>\n",
       "      <td>240525.971920</td>\n",
       "      <td>операции с жильем</td>\n",
       "    </tr>\n",
       "    <tr>\n",
       "      <th>7</th>\n",
       "      <td>0</td>\n",
       "      <td>-152.779569</td>\n",
       "      <td>50</td>\n",
       "      <td>СРЕДНЕЕ</td>\n",
       "      <td>1</td>\n",
       "      <td>женат / замужем</td>\n",
       "      <td>0</td>\n",
       "      <td>M</td>\n",
       "      <td>сотрудник</td>\n",
       "      <td>0</td>\n",
       "      <td>135823.934197</td>\n",
       "      <td>образование</td>\n",
       "    </tr>\n",
       "    <tr>\n",
       "      <th>8</th>\n",
       "      <td>2</td>\n",
       "      <td>-6929.865299</td>\n",
       "      <td>35</td>\n",
       "      <td>ВЫСШЕЕ</td>\n",
       "      <td>0</td>\n",
       "      <td>гражданский брак</td>\n",
       "      <td>1</td>\n",
       "      <td>F</td>\n",
       "      <td>сотрудник</td>\n",
       "      <td>0</td>\n",
       "      <td>95856.832424</td>\n",
       "      <td>на проведение свадьбы</td>\n",
       "    </tr>\n",
       "    <tr>\n",
       "      <th>9</th>\n",
       "      <td>0</td>\n",
       "      <td>-2188.756445</td>\n",
       "      <td>41</td>\n",
       "      <td>среднее</td>\n",
       "      <td>1</td>\n",
       "      <td>женат / замужем</td>\n",
       "      <td>0</td>\n",
       "      <td>M</td>\n",
       "      <td>сотрудник</td>\n",
       "      <td>0</td>\n",
       "      <td>144425.938277</td>\n",
       "      <td>покупка жилья для семьи</td>\n",
       "    </tr>\n",
       "  </tbody>\n",
       "</table>\n",
       "</div>"
      ],
      "text/plain": [
       "   children  days_employed  dob_years education  education_id  \\\n",
       "0         1   -8437.673028         42    высшее             0   \n",
       "1         1   -4024.803754         36   среднее             1   \n",
       "2         0   -5623.422610         33   Среднее             1   \n",
       "3         3   -4124.747207         32   среднее             1   \n",
       "4         0  340266.072047         53   среднее             1   \n",
       "5         0    -926.185831         27    высшее             0   \n",
       "6         0   -2879.202052         43    высшее             0   \n",
       "7         0    -152.779569         50   СРЕДНЕЕ             1   \n",
       "8         2   -6929.865299         35    ВЫСШЕЕ             0   \n",
       "9         0   -2188.756445         41   среднее             1   \n",
       "\n",
       "      family_status  family_status_id gender income_type  debt   total_income  \\\n",
       "0   женат / замужем                 0      F   сотрудник     0  253875.639453   \n",
       "1   женат / замужем                 0      F   сотрудник     0  112080.014102   \n",
       "2   женат / замужем                 0      M   сотрудник     0  145885.952297   \n",
       "3   женат / замужем                 0      M   сотрудник     0  267628.550329   \n",
       "4  гражданский брак                 1      F   пенсионер     0  158616.077870   \n",
       "5  гражданский брак                 1      M   компаньон     0  255763.565419   \n",
       "6   женат / замужем                 0      F   компаньон     0  240525.971920   \n",
       "7   женат / замужем                 0      M   сотрудник     0  135823.934197   \n",
       "8  гражданский брак                 1      F   сотрудник     0   95856.832424   \n",
       "9   женат / замужем                 0      M   сотрудник     0  144425.938277   \n",
       "\n",
       "                      purpose  \n",
       "0               покупка жилья  \n",
       "1     приобретение автомобиля  \n",
       "2               покупка жилья  \n",
       "3  дополнительное образование  \n",
       "4             сыграть свадьбу  \n",
       "5               покупка жилья  \n",
       "6           операции с жильем  \n",
       "7                 образование  \n",
       "8       на проведение свадьбы  \n",
       "9     покупка жилья для семьи  "
      ]
     },
     "execution_count": 3,
     "metadata": {},
     "output_type": "execute_result"
    }
   ],
   "source": [
    "df.head(10)"
   ]
  },
  {
   "cell_type": "markdown",
   "id": "0fbfd994",
   "metadata": {},
   "source": [
    "Посмотрим общую информацию о таблице:"
   ]
  },
  {
   "cell_type": "code",
   "execution_count": 4,
   "id": "8e36c455",
   "metadata": {
    "scrolled": true
   },
   "outputs": [
    {
     "data": {
      "text/plain": [
       " 0     14149\n",
       " 1      4818\n",
       " 2      2055\n",
       " 3       330\n",
       " 20       76\n",
       "-1        47\n",
       " 4        41\n",
       " 5         9\n",
       "Name: children, dtype: int64"
      ]
     },
     "execution_count": 4,
     "metadata": {},
     "output_type": "execute_result"
    }
   ],
   "source": [
    "df['children'].value_counts()"
   ]
  },
  {
   "cell_type": "markdown",
   "id": "c9bdd754",
   "metadata": {},
   "source": [
    "Мы видим в таблице 12 столбцов, с различными типами данных.\n",
    "\n",
    "Согласно документации к данным:\n",
    " - `children` — **количество детей в семье** тип данных `int64` целочисленное число\n",
    " - `days_employed` — **общий трудовой стаж в днях** тип данных `float64` вещественное число\n",
    " - `dob_years` — **возраст клиента в годах** тип данных `int64` целочисленное число\n",
    " - `education` — **уровень образования клиента** тип данных `object` текст\n",
    " - `education_id` — **идентификатор уровня образования** тип данных `int64` целочисленное число\n",
    " - `family_status` — **семейное положение** тип данных `object` текст\n",
    " - `family_status_id` — **идентификатор семейного положения** тип данных `int64` целочисленное число\n",
    " - `gender` — **пол клиента** тип данных `object` текст\n",
    " - `income_type` — **тип занятости** тип данных `object` текст\n",
    " - `debt` — **имел ли задолженность по возврату кредитов** тип данных `int64` целочисленное число\n",
    " - `total_income` — **ежемесячный доход** тип данных `float64` вещественное число\n",
    " - `purpose` — **цель получения кредита** тип данных `object` текст\n",
    "\n",
    "В названиях колонок нарушения стиля нет.\n",
    "\n",
    "Так же стоит обратить внимание на аномалию отрицательных значений в столбце общего трудового стажа.\n",
    "\n",
    "И в колонке с образованиям применение разного регистра, при поиске и удалении дубликатов нужно все превести к нижнему регистру.\n",
    "\n",
    "Количество значений в столбцах различается.\n",
    "Проверим все столбцы на пропуски:"
   ]
  },
  {
   "cell_type": "code",
   "execution_count": 5,
   "id": "e7f464c5",
   "metadata": {
    "scrolled": true
   },
   "outputs": [
    {
     "data": {
      "text/plain": [
       "children               0\n",
       "days_employed       2174\n",
       "dob_years              0\n",
       "education              0\n",
       "education_id           0\n",
       "family_status          0\n",
       "family_status_id       0\n",
       "gender                 0\n",
       "income_type            0\n",
       "debt                   0\n",
       "total_income        2174\n",
       "purpose                0\n",
       "dtype: int64"
      ]
     },
     "execution_count": 5,
     "metadata": {},
     "output_type": "execute_result"
    }
   ],
   "source": [
    "df.isna().sum()"
   ]
  },
  {
   "cell_type": "markdown",
   "id": "9e85f14e",
   "metadata": {},
   "source": [
    "В данных есть пропущеные значения, в столбцах `days_employed` и `total_income`."
   ]
  },
  {
   "cell_type": "code",
   "execution_count": 6,
   "id": "e611d752",
   "metadata": {},
   "outputs": [
    {
     "data": {
      "text/html": [
       "<div>\n",
       "<style scoped>\n",
       "    .dataframe tbody tr th:only-of-type {\n",
       "        vertical-align: middle;\n",
       "    }\n",
       "\n",
       "    .dataframe tbody tr th {\n",
       "        vertical-align: top;\n",
       "    }\n",
       "\n",
       "    .dataframe thead th {\n",
       "        text-align: right;\n",
       "    }\n",
       "</style>\n",
       "<table border=\"1\" class=\"dataframe\">\n",
       "  <thead>\n",
       "    <tr style=\"text-align: right;\">\n",
       "      <th></th>\n",
       "      <th>children</th>\n",
       "      <th>days_employed</th>\n",
       "      <th>dob_years</th>\n",
       "      <th>education_id</th>\n",
       "      <th>family_status_id</th>\n",
       "      <th>debt</th>\n",
       "      <th>total_income</th>\n",
       "    </tr>\n",
       "  </thead>\n",
       "  <tbody>\n",
       "    <tr>\n",
       "      <th>count</th>\n",
       "      <td>21525.000000</td>\n",
       "      <td>19351.000000</td>\n",
       "      <td>21525.000000</td>\n",
       "      <td>21525.000000</td>\n",
       "      <td>21525.000000</td>\n",
       "      <td>21525.000000</td>\n",
       "      <td>1.935100e+04</td>\n",
       "    </tr>\n",
       "    <tr>\n",
       "      <th>mean</th>\n",
       "      <td>0.538908</td>\n",
       "      <td>63046.497661</td>\n",
       "      <td>43.293380</td>\n",
       "      <td>0.817236</td>\n",
       "      <td>0.972544</td>\n",
       "      <td>0.080883</td>\n",
       "      <td>1.674223e+05</td>\n",
       "    </tr>\n",
       "    <tr>\n",
       "      <th>std</th>\n",
       "      <td>1.381587</td>\n",
       "      <td>140827.311974</td>\n",
       "      <td>12.574584</td>\n",
       "      <td>0.548138</td>\n",
       "      <td>1.420324</td>\n",
       "      <td>0.272661</td>\n",
       "      <td>1.029716e+05</td>\n",
       "    </tr>\n",
       "    <tr>\n",
       "      <th>min</th>\n",
       "      <td>-1.000000</td>\n",
       "      <td>-18388.949901</td>\n",
       "      <td>0.000000</td>\n",
       "      <td>0.000000</td>\n",
       "      <td>0.000000</td>\n",
       "      <td>0.000000</td>\n",
       "      <td>2.066726e+04</td>\n",
       "    </tr>\n",
       "    <tr>\n",
       "      <th>25%</th>\n",
       "      <td>0.000000</td>\n",
       "      <td>-2747.423625</td>\n",
       "      <td>33.000000</td>\n",
       "      <td>1.000000</td>\n",
       "      <td>0.000000</td>\n",
       "      <td>0.000000</td>\n",
       "      <td>1.030532e+05</td>\n",
       "    </tr>\n",
       "    <tr>\n",
       "      <th>50%</th>\n",
       "      <td>0.000000</td>\n",
       "      <td>-1203.369529</td>\n",
       "      <td>42.000000</td>\n",
       "      <td>1.000000</td>\n",
       "      <td>0.000000</td>\n",
       "      <td>0.000000</td>\n",
       "      <td>1.450179e+05</td>\n",
       "    </tr>\n",
       "    <tr>\n",
       "      <th>75%</th>\n",
       "      <td>1.000000</td>\n",
       "      <td>-291.095954</td>\n",
       "      <td>53.000000</td>\n",
       "      <td>1.000000</td>\n",
       "      <td>1.000000</td>\n",
       "      <td>0.000000</td>\n",
       "      <td>2.034351e+05</td>\n",
       "    </tr>\n",
       "    <tr>\n",
       "      <th>max</th>\n",
       "      <td>20.000000</td>\n",
       "      <td>401755.400475</td>\n",
       "      <td>75.000000</td>\n",
       "      <td>4.000000</td>\n",
       "      <td>4.000000</td>\n",
       "      <td>1.000000</td>\n",
       "      <td>2.265604e+06</td>\n",
       "    </tr>\n",
       "  </tbody>\n",
       "</table>\n",
       "</div>"
      ],
      "text/plain": [
       "           children  days_employed     dob_years  education_id  \\\n",
       "count  21525.000000   19351.000000  21525.000000  21525.000000   \n",
       "mean       0.538908   63046.497661     43.293380      0.817236   \n",
       "std        1.381587  140827.311974     12.574584      0.548138   \n",
       "min       -1.000000  -18388.949901      0.000000      0.000000   \n",
       "25%        0.000000   -2747.423625     33.000000      1.000000   \n",
       "50%        0.000000   -1203.369529     42.000000      1.000000   \n",
       "75%        1.000000    -291.095954     53.000000      1.000000   \n",
       "max       20.000000  401755.400475     75.000000      4.000000   \n",
       "\n",
       "       family_status_id          debt  total_income  \n",
       "count      21525.000000  21525.000000  1.935100e+04  \n",
       "mean           0.972544      0.080883  1.674223e+05  \n",
       "std            1.420324      0.272661  1.029716e+05  \n",
       "min            0.000000      0.000000  2.066726e+04  \n",
       "25%            0.000000      0.000000  1.030532e+05  \n",
       "50%            0.000000      0.000000  1.450179e+05  \n",
       "75%            1.000000      0.000000  2.034351e+05  \n",
       "max            4.000000      1.000000  2.265604e+06  "
      ]
     },
     "execution_count": 6,
     "metadata": {},
     "output_type": "execute_result"
    }
   ],
   "source": [
    "df.describe()"
   ]
  },
  {
   "cell_type": "markdown",
   "id": "90a6f1e9",
   "metadata": {},
   "source": [
    "### Шаг 2.1 Заполнение пропусков\n",
    "\n",
    "В столбцах  \"общий трудовой стаж в днях\" `days_employed` и \"ежемесячный доход\" `total_income` есть пустые значения.\n",
    "\n",
    "Посмотрим как выглядят пропуски на примере столбца \"общий трудовой стаж в днях\" `days_employed`, выведем первые 5 строк:"
   ]
  },
  {
   "cell_type": "code",
   "execution_count": 7,
   "id": "ff82a82c",
   "metadata": {
    "scrolled": true
   },
   "outputs": [
    {
     "data": {
      "text/html": [
       "<div>\n",
       "<style scoped>\n",
       "    .dataframe tbody tr th:only-of-type {\n",
       "        vertical-align: middle;\n",
       "    }\n",
       "\n",
       "    .dataframe tbody tr th {\n",
       "        vertical-align: top;\n",
       "    }\n",
       "\n",
       "    .dataframe thead th {\n",
       "        text-align: right;\n",
       "    }\n",
       "</style>\n",
       "<table border=\"1\" class=\"dataframe\">\n",
       "  <thead>\n",
       "    <tr style=\"text-align: right;\">\n",
       "      <th></th>\n",
       "      <th>children</th>\n",
       "      <th>days_employed</th>\n",
       "      <th>dob_years</th>\n",
       "      <th>education</th>\n",
       "      <th>education_id</th>\n",
       "      <th>family_status</th>\n",
       "      <th>family_status_id</th>\n",
       "      <th>gender</th>\n",
       "      <th>income_type</th>\n",
       "      <th>debt</th>\n",
       "      <th>total_income</th>\n",
       "      <th>purpose</th>\n",
       "    </tr>\n",
       "  </thead>\n",
       "  <tbody>\n",
       "    <tr>\n",
       "      <th>12</th>\n",
       "      <td>0</td>\n",
       "      <td>NaN</td>\n",
       "      <td>65</td>\n",
       "      <td>среднее</td>\n",
       "      <td>1</td>\n",
       "      <td>гражданский брак</td>\n",
       "      <td>1</td>\n",
       "      <td>M</td>\n",
       "      <td>пенсионер</td>\n",
       "      <td>0</td>\n",
       "      <td>NaN</td>\n",
       "      <td>сыграть свадьбу</td>\n",
       "    </tr>\n",
       "    <tr>\n",
       "      <th>26</th>\n",
       "      <td>0</td>\n",
       "      <td>NaN</td>\n",
       "      <td>41</td>\n",
       "      <td>среднее</td>\n",
       "      <td>1</td>\n",
       "      <td>женат / замужем</td>\n",
       "      <td>0</td>\n",
       "      <td>M</td>\n",
       "      <td>госслужащий</td>\n",
       "      <td>0</td>\n",
       "      <td>NaN</td>\n",
       "      <td>образование</td>\n",
       "    </tr>\n",
       "    <tr>\n",
       "      <th>29</th>\n",
       "      <td>0</td>\n",
       "      <td>NaN</td>\n",
       "      <td>63</td>\n",
       "      <td>среднее</td>\n",
       "      <td>1</td>\n",
       "      <td>Не женат / не замужем</td>\n",
       "      <td>4</td>\n",
       "      <td>F</td>\n",
       "      <td>пенсионер</td>\n",
       "      <td>0</td>\n",
       "      <td>NaN</td>\n",
       "      <td>строительство жилой недвижимости</td>\n",
       "    </tr>\n",
       "    <tr>\n",
       "      <th>41</th>\n",
       "      <td>0</td>\n",
       "      <td>NaN</td>\n",
       "      <td>50</td>\n",
       "      <td>среднее</td>\n",
       "      <td>1</td>\n",
       "      <td>женат / замужем</td>\n",
       "      <td>0</td>\n",
       "      <td>F</td>\n",
       "      <td>госслужащий</td>\n",
       "      <td>0</td>\n",
       "      <td>NaN</td>\n",
       "      <td>сделка с подержанным автомобилем</td>\n",
       "    </tr>\n",
       "    <tr>\n",
       "      <th>55</th>\n",
       "      <td>0</td>\n",
       "      <td>NaN</td>\n",
       "      <td>54</td>\n",
       "      <td>среднее</td>\n",
       "      <td>1</td>\n",
       "      <td>гражданский брак</td>\n",
       "      <td>1</td>\n",
       "      <td>F</td>\n",
       "      <td>пенсионер</td>\n",
       "      <td>1</td>\n",
       "      <td>NaN</td>\n",
       "      <td>сыграть свадьбу</td>\n",
       "    </tr>\n",
       "  </tbody>\n",
       "</table>\n",
       "</div>"
      ],
      "text/plain": [
       "    children  days_employed  dob_years education  education_id  \\\n",
       "12         0            NaN         65   среднее             1   \n",
       "26         0            NaN         41   среднее             1   \n",
       "29         0            NaN         63   среднее             1   \n",
       "41         0            NaN         50   среднее             1   \n",
       "55         0            NaN         54   среднее             1   \n",
       "\n",
       "            family_status  family_status_id gender  income_type  debt  \\\n",
       "12       гражданский брак                 1      M    пенсионер     0   \n",
       "26        женат / замужем                 0      M  госслужащий     0   \n",
       "29  Не женат / не замужем                 4      F    пенсионер     0   \n",
       "41        женат / замужем                 0      F  госслужащий     0   \n",
       "55       гражданский брак                 1      F    пенсионер     1   \n",
       "\n",
       "    total_income                           purpose  \n",
       "12           NaN                   сыграть свадьбу  \n",
       "26           NaN                       образование  \n",
       "29           NaN  строительство жилой недвижимости  \n",
       "41           NaN  сделка с подержанным автомобилем  \n",
       "55           NaN                   сыграть свадьбу  "
      ]
     },
     "execution_count": 7,
     "metadata": {},
     "output_type": "execute_result"
    }
   ],
   "source": [
    "df.loc[df['days_employed'].isna()].head(5)"
   ]
  },
  {
   "cell_type": "markdown",
   "id": "1871654d",
   "metadata": {},
   "source": [
    "Видим что пропуски в двух столбцах совпадают, возможно ошибка при выгрузке данных или технический сбой.\n",
    "Совпадение в двух столбцах врят ли вызвано человеческий фактором, так что исключаем его.\n",
    "\n",
    "Посчитаем какую долю долю составляют пропущенные значения:"
   ]
  },
  {
   "cell_type": "code",
   "execution_count": 8,
   "id": "3b7640f8",
   "metadata": {},
   "outputs": [
    {
     "data": {
      "text/plain": [
       "'Доля пустых значений в days_employed:10.10%'"
      ]
     },
     "metadata": {},
     "output_type": "display_data"
    },
    {
     "data": {
      "text/plain": [
       "'Доля пустых значений в total_income:10.10%'"
      ]
     },
     "metadata": {},
     "output_type": "display_data"
    }
   ],
   "source": [
    "display('Доля пустых значений в days_employed:{:.2%}'.format(df['days_employed'].isna().sum() / df.shape[0]))\n",
    "display('Доля пустых значений в total_income:{:.2%}'.format(df['total_income'].isna().sum() / df.shape[0]))"
   ]
  },
  {
   "cell_type": "markdown",
   "id": "989cfc5b",
   "metadata": {},
   "source": [
    "10% большая доля выборки.\n",
    "\n",
    "Оптимальным решение в количественных переменных поставить медиальное значение, так как это центральное числовое значение набора данных, а не просто это среднее значение что может существеннее \"исказить\" результаты и выводы.\n",
    "\n",
    "Так как в столбце со стажем аномальные данные, пока займемся столбцом `total_income`.\n",
    "\n",
    "Выясним в каких категории занятости есть пропуски:"
   ]
  },
  {
   "cell_type": "code",
   "execution_count": 9,
   "id": "971e27f0",
   "metadata": {
    "scrolled": false
   },
   "outputs": [
    {
     "data": {
      "text/plain": [
       "сотрудник          1105\n",
       "компаньон           508\n",
       "пенсионер           413\n",
       "госслужащий         147\n",
       "предприниматель       1\n",
       "Name: income_type, dtype: int64"
      ]
     },
     "execution_count": 9,
     "metadata": {},
     "output_type": "execute_result"
    }
   ],
   "source": [
    "df.loc[df['total_income'].isna()]['income_type'].value_counts()"
   ]
  },
  {
   "cell_type": "markdown",
   "id": "6ddd3650",
   "metadata": {},
   "source": [
    "заполняем пустые значения медиальным"
   ]
  },
  {
   "cell_type": "code",
   "execution_count": 10,
   "id": "aa9c00ba",
   "metadata": {
    "scrolled": true
   },
   "outputs": [],
   "source": [
    "list_income_type = df['income_type'].unique() #список категорий\n",
    "\n",
    "for item in list_income_type:\n",
    "    median_income = df.loc[df['income_type'] == item,'total_income'].median() #получаем медиальное значение каждой категории\n",
    "    df.loc[(df['income_type'] == item) & (df['total_income'] .isna()),'total_income'] = median_income #вставляем медиальное значение в пустые ячейки категрии"
   ]
  },
  {
   "cell_type": "markdown",
   "id": "151bf29b",
   "metadata": {},
   "source": [
    "Проверим на примере категории гослужащих поменялись ли значения выведем первые 5 строк:"
   ]
  },
  {
   "cell_type": "code",
   "execution_count": 11,
   "id": "7736aa8d",
   "metadata": {},
   "outputs": [
    {
     "data": {
      "text/html": [
       "<div>\n",
       "<style scoped>\n",
       "    .dataframe tbody tr th:only-of-type {\n",
       "        vertical-align: middle;\n",
       "    }\n",
       "\n",
       "    .dataframe tbody tr th {\n",
       "        vertical-align: top;\n",
       "    }\n",
       "\n",
       "    .dataframe thead th {\n",
       "        text-align: right;\n",
       "    }\n",
       "</style>\n",
       "<table border=\"1\" class=\"dataframe\">\n",
       "  <thead>\n",
       "    <tr style=\"text-align: right;\">\n",
       "      <th></th>\n",
       "      <th>children</th>\n",
       "      <th>days_employed</th>\n",
       "      <th>dob_years</th>\n",
       "      <th>education</th>\n",
       "      <th>education_id</th>\n",
       "      <th>family_status</th>\n",
       "      <th>family_status_id</th>\n",
       "      <th>gender</th>\n",
       "      <th>income_type</th>\n",
       "      <th>debt</th>\n",
       "      <th>total_income</th>\n",
       "      <th>purpose</th>\n",
       "    </tr>\n",
       "  </thead>\n",
       "  <tbody>\n",
       "    <tr>\n",
       "      <th>26</th>\n",
       "      <td>0</td>\n",
       "      <td>NaN</td>\n",
       "      <td>41</td>\n",
       "      <td>среднее</td>\n",
       "      <td>1</td>\n",
       "      <td>женат / замужем</td>\n",
       "      <td>0</td>\n",
       "      <td>M</td>\n",
       "      <td>госслужащий</td>\n",
       "      <td>0</td>\n",
       "      <td>150447.935283</td>\n",
       "      <td>образование</td>\n",
       "    </tr>\n",
       "    <tr>\n",
       "      <th>41</th>\n",
       "      <td>0</td>\n",
       "      <td>NaN</td>\n",
       "      <td>50</td>\n",
       "      <td>среднее</td>\n",
       "      <td>1</td>\n",
       "      <td>женат / замужем</td>\n",
       "      <td>0</td>\n",
       "      <td>F</td>\n",
       "      <td>госслужащий</td>\n",
       "      <td>0</td>\n",
       "      <td>150447.935283</td>\n",
       "      <td>сделка с подержанным автомобилем</td>\n",
       "    </tr>\n",
       "    <tr>\n",
       "      <th>47</th>\n",
       "      <td>1</td>\n",
       "      <td>-2689.137274</td>\n",
       "      <td>33</td>\n",
       "      <td>высшее</td>\n",
       "      <td>0</td>\n",
       "      <td>гражданский брак</td>\n",
       "      <td>1</td>\n",
       "      <td>M</td>\n",
       "      <td>госслужащий</td>\n",
       "      <td>0</td>\n",
       "      <td>356277.909345</td>\n",
       "      <td>на проведение свадьбы</td>\n",
       "    </tr>\n",
       "    <tr>\n",
       "      <th>62</th>\n",
       "      <td>0</td>\n",
       "      <td>-7845.649233</td>\n",
       "      <td>48</td>\n",
       "      <td>Высшее</td>\n",
       "      <td>0</td>\n",
       "      <td>Не женат / не замужем</td>\n",
       "      <td>4</td>\n",
       "      <td>M</td>\n",
       "      <td>госслужащий</td>\n",
       "      <td>0</td>\n",
       "      <td>435388.195272</td>\n",
       "      <td>получение высшего образования</td>\n",
       "    </tr>\n",
       "    <tr>\n",
       "      <th>70</th>\n",
       "      <td>1</td>\n",
       "      <td>-2802.226671</td>\n",
       "      <td>28</td>\n",
       "      <td>ВЫСШЕЕ</td>\n",
       "      <td>0</td>\n",
       "      <td>женат / замужем</td>\n",
       "      <td>0</td>\n",
       "      <td>M</td>\n",
       "      <td>госслужащий</td>\n",
       "      <td>0</td>\n",
       "      <td>207561.466998</td>\n",
       "      <td>покупка коммерческой недвижимости</td>\n",
       "    </tr>\n",
       "  </tbody>\n",
       "</table>\n",
       "</div>"
      ],
      "text/plain": [
       "    children  days_employed  dob_years education  education_id  \\\n",
       "26         0            NaN         41   среднее             1   \n",
       "41         0            NaN         50   среднее             1   \n",
       "47         1   -2689.137274         33    высшее             0   \n",
       "62         0   -7845.649233         48    Высшее             0   \n",
       "70         1   -2802.226671         28    ВЫСШЕЕ             0   \n",
       "\n",
       "            family_status  family_status_id gender  income_type  debt  \\\n",
       "26        женат / замужем                 0      M  госслужащий     0   \n",
       "41        женат / замужем                 0      F  госслужащий     0   \n",
       "47       гражданский брак                 1      M  госслужащий     0   \n",
       "62  Не женат / не замужем                 4      M  госслужащий     0   \n",
       "70        женат / замужем                 0      M  госслужащий     0   \n",
       "\n",
       "     total_income                            purpose  \n",
       "26  150447.935283                        образование  \n",
       "41  150447.935283   сделка с подержанным автомобилем  \n",
       "47  356277.909345              на проведение свадьбы  \n",
       "62  435388.195272      получение высшего образования  \n",
       "70  207561.466998  покупка коммерческой недвижимости  "
      ]
     },
     "execution_count": 11,
     "metadata": {},
     "output_type": "execute_result"
    }
   ],
   "source": [
    "df.loc[df['income_type'] == 'госслужащий'].head(5)"
   ]
  },
  {
   "cell_type": "markdown",
   "id": "bdd1de94",
   "metadata": {},
   "source": [
    "Видим что при пропущеном значении в столбце `days_employed` столбец `total_income` заполнен медиальном значением\n",
    "\n",
    "Подсчитаем количество пропусков после заполнения столбца `total_income`:"
   ]
  },
  {
   "cell_type": "code",
   "execution_count": 12,
   "id": "f06123e2",
   "metadata": {},
   "outputs": [
    {
     "data": {
      "text/plain": [
       "0"
      ]
     },
     "execution_count": 12,
     "metadata": {},
     "output_type": "execute_result"
    }
   ],
   "source": [
    "df['total_income'].isna().sum()"
   ]
  },
  {
   "cell_type": "markdown",
   "id": "6dc1f05f",
   "metadata": {},
   "source": [
    "### Шаг 2.2 Проверка данных на аномалии и исправления.\n",
    "\n",
    "Возвращаемся к столбцу `days_employed`, возможно при заполнение формы заявки перепутали ячейки с датами местами и вычисляя стаж он стал отрицательным, но так как есть и положительные значение пока трудно сакзать точно."
   ]
  },
  {
   "cell_type": "code",
   "execution_count": 13,
   "id": "1d692fd0",
   "metadata": {
    "scrolled": false
   },
   "outputs": [
    {
     "data": {
      "text/html": [
       "<div>\n",
       "<style scoped>\n",
       "    .dataframe tbody tr th:only-of-type {\n",
       "        vertical-align: middle;\n",
       "    }\n",
       "\n",
       "    .dataframe tbody tr th {\n",
       "        vertical-align: top;\n",
       "    }\n",
       "\n",
       "    .dataframe thead th {\n",
       "        text-align: right;\n",
       "    }\n",
       "</style>\n",
       "<table border=\"1\" class=\"dataframe\">\n",
       "  <thead>\n",
       "    <tr style=\"text-align: right;\">\n",
       "      <th></th>\n",
       "      <th>children</th>\n",
       "      <th>days_employed</th>\n",
       "      <th>dob_years</th>\n",
       "      <th>education</th>\n",
       "      <th>education_id</th>\n",
       "      <th>family_status</th>\n",
       "      <th>family_status_id</th>\n",
       "      <th>gender</th>\n",
       "      <th>income_type</th>\n",
       "      <th>debt</th>\n",
       "      <th>total_income</th>\n",
       "      <th>purpose</th>\n",
       "    </tr>\n",
       "  </thead>\n",
       "  <tbody>\n",
       "    <tr>\n",
       "      <th>0</th>\n",
       "      <td>1</td>\n",
       "      <td>-8437.673028</td>\n",
       "      <td>42</td>\n",
       "      <td>высшее</td>\n",
       "      <td>0</td>\n",
       "      <td>женат / замужем</td>\n",
       "      <td>0</td>\n",
       "      <td>F</td>\n",
       "      <td>сотрудник</td>\n",
       "      <td>0</td>\n",
       "      <td>253875.639453</td>\n",
       "      <td>покупка жилья</td>\n",
       "    </tr>\n",
       "    <tr>\n",
       "      <th>1</th>\n",
       "      <td>1</td>\n",
       "      <td>-4024.803754</td>\n",
       "      <td>36</td>\n",
       "      <td>среднее</td>\n",
       "      <td>1</td>\n",
       "      <td>женат / замужем</td>\n",
       "      <td>0</td>\n",
       "      <td>F</td>\n",
       "      <td>сотрудник</td>\n",
       "      <td>0</td>\n",
       "      <td>112080.014102</td>\n",
       "      <td>приобретение автомобиля</td>\n",
       "    </tr>\n",
       "    <tr>\n",
       "      <th>2</th>\n",
       "      <td>0</td>\n",
       "      <td>-5623.422610</td>\n",
       "      <td>33</td>\n",
       "      <td>Среднее</td>\n",
       "      <td>1</td>\n",
       "      <td>женат / замужем</td>\n",
       "      <td>0</td>\n",
       "      <td>M</td>\n",
       "      <td>сотрудник</td>\n",
       "      <td>0</td>\n",
       "      <td>145885.952297</td>\n",
       "      <td>покупка жилья</td>\n",
       "    </tr>\n",
       "    <tr>\n",
       "      <th>3</th>\n",
       "      <td>3</td>\n",
       "      <td>-4124.747207</td>\n",
       "      <td>32</td>\n",
       "      <td>среднее</td>\n",
       "      <td>1</td>\n",
       "      <td>женат / замужем</td>\n",
       "      <td>0</td>\n",
       "      <td>M</td>\n",
       "      <td>сотрудник</td>\n",
       "      <td>0</td>\n",
       "      <td>267628.550329</td>\n",
       "      <td>дополнительное образование</td>\n",
       "    </tr>\n",
       "    <tr>\n",
       "      <th>4</th>\n",
       "      <td>0</td>\n",
       "      <td>340266.072047</td>\n",
       "      <td>53</td>\n",
       "      <td>среднее</td>\n",
       "      <td>1</td>\n",
       "      <td>гражданский брак</td>\n",
       "      <td>1</td>\n",
       "      <td>F</td>\n",
       "      <td>пенсионер</td>\n",
       "      <td>0</td>\n",
       "      <td>158616.077870</td>\n",
       "      <td>сыграть свадьбу</td>\n",
       "    </tr>\n",
       "  </tbody>\n",
       "</table>\n",
       "</div>"
      ],
      "text/plain": [
       "   children  days_employed  dob_years education  education_id  \\\n",
       "0         1   -8437.673028         42    высшее             0   \n",
       "1         1   -4024.803754         36   среднее             1   \n",
       "2         0   -5623.422610         33   Среднее             1   \n",
       "3         3   -4124.747207         32   среднее             1   \n",
       "4         0  340266.072047         53   среднее             1   \n",
       "\n",
       "      family_status  family_status_id gender income_type  debt   total_income  \\\n",
       "0   женат / замужем                 0      F   сотрудник     0  253875.639453   \n",
       "1   женат / замужем                 0      F   сотрудник     0  112080.014102   \n",
       "2   женат / замужем                 0      M   сотрудник     0  145885.952297   \n",
       "3   женат / замужем                 0      M   сотрудник     0  267628.550329   \n",
       "4  гражданский брак                 1      F   пенсионер     0  158616.077870   \n",
       "\n",
       "                      purpose  \n",
       "0               покупка жилья  \n",
       "1     приобретение автомобиля  \n",
       "2               покупка жилья  \n",
       "3  дополнительное образование  \n",
       "4             сыграть свадьбу  "
      ]
     },
     "execution_count": 13,
     "metadata": {},
     "output_type": "execute_result"
    }
   ],
   "source": [
    "df.head(5)"
   ]
  },
  {
   "cell_type": "markdown",
   "id": "4d90d436",
   "metadata": {},
   "source": [
    "Наверное нужно обратиться к заказчику и выяснить как вычислялось этот столбец, какие данные использовались чтобы избежать таких аномалий!\n",
    "\n",
    "Пока выясним какой процент отрицательных значений а какой положительный:"
   ]
  },
  {
   "cell_type": "code",
   "execution_count": 14,
   "id": "559c8696",
   "metadata": {
    "scrolled": true
   },
   "outputs": [
    {
     "data": {
      "text/plain": [
       "'Доля отрицательных значений в total_income:82.20%'"
      ]
     },
     "metadata": {},
     "output_type": "display_data"
    },
    {
     "data": {
      "text/plain": [
       "'Доля положительных значений в total_income:17.80%'"
      ]
     },
     "metadata": {},
     "output_type": "display_data"
    }
   ],
   "source": [
    "display('Доля отрицательных значений в total_income:{:.2%}'.format(df.loc[df['days_employed'] < 0]['days_employed'].count() / df['days_employed'].count()))\n",
    "display('Доля положительных значений в total_income:{:.2%}'.format(df.loc[df['days_employed'] > 0]['days_employed'].count() / df['days_employed'].count()))"
   ]
  },
  {
   "cell_type": "markdown",
   "id": "af2bf014",
   "metadata": {},
   "source": [
    "Отрицательных значений 82 процента так что будем его брать как основу.\n",
    "Посмотрим на минимальные и максимальные значения в этих диапозонов:"
   ]
  },
  {
   "cell_type": "code",
   "execution_count": 15,
   "id": "9d78f48b",
   "metadata": {
    "scrolled": true
   },
   "outputs": [
    {
     "data": {
      "text/plain": [
       "'Минимальное отрицательное: -18388.9'"
      ]
     },
     "metadata": {},
     "output_type": "display_data"
    },
    {
     "data": {
      "text/plain": [
       "'Максимальное отрицательное: -24.1416'"
      ]
     },
     "metadata": {},
     "output_type": "display_data"
    },
    {
     "data": {
      "text/plain": [
       "'Минимальное положительное: 328728.72'"
      ]
     },
     "metadata": {},
     "output_type": "display_data"
    },
    {
     "data": {
      "text/plain": [
       "'Максимальное положительное: 401755.4'"
      ]
     },
     "metadata": {},
     "output_type": "display_data"
    }
   ],
   "source": [
    "display('Минимальное отрицательное: {:.6}'.format(df.loc[df['days_employed'] < 0]['days_employed'].min()))\n",
    "display('Максимальное отрицательное: {:.6}'.format(df.loc[df['days_employed'] < 0]['days_employed'].max()))\n",
    "display('Минимальное положительное: {:.8}'.format(df.loc[df['days_employed'] > 0]['days_employed'].min()))\n",
    "display('Максимальное положительное: {:.8}'.format(df.loc[df['days_employed'] > 0]['days_employed'].max()))"
   ]
  },
  {
   "cell_type": "markdown",
   "id": "6ab9fcb5",
   "metadata": {},
   "source": [
    "Слишком большой отрыв у положительных значений данные начинаются с 328728 тогда как отрицательные -24. Видемо что то с еденицами измерения возможно в отрицательных данных перепутаны колонки и вычисляя количество дней получаем отрицательное значение. Тогда как в положительной выборке даты не перепутанны но еденицы измерения не дни, а возможно часы. прикинем так ли это:"
   ]
  },
  {
   "cell_type": "code",
   "execution_count": 16,
   "id": "dd7034da",
   "metadata": {
    "scrolled": true
   },
   "outputs": [
    {
     "data": {
      "text/plain": [
       "'Максимальный стаж (отрицательная выборка): 50.38 лет'"
      ]
     },
     "metadata": {},
     "output_type": "display_data"
    },
    {
     "data": {
      "text/plain": [
       "'Максимальный стаж (положительная выборка): 1100.7 лет'"
      ]
     },
     "metadata": {},
     "output_type": "display_data"
    }
   ],
   "source": [
    "display(\n",
    "    'Максимальный стаж (отрицательная выборка): {:.4} лет'\n",
    "    .format(df.loc[df['days_employed'] < 0]['days_employed'].min()/365*-1)\n",
    ")\n",
    "display(\n",
    "    'Максимальный стаж (положительная выборка): {:.6} лет'\n",
    "    .format(df.loc[df['days_employed'] > 0]['days_employed'].max()/365)\n",
    ")"
   ]
  },
  {
   "cell_type": "markdown",
   "id": "32860428",
   "metadata": {},
   "source": [
    "Видим что отрицательная выборка действительно измеряется днями тогда как положительная явно превышена, если только это не египетские боги которые живут несколько тысяч лет. Так что поделим на 24, предположив что данные предоставленны в часах."
   ]
  },
  {
   "cell_type": "code",
   "execution_count": 17,
   "id": "ccea9f37",
   "metadata": {},
   "outputs": [
    {
     "data": {
      "text/plain": [
       "'Максимальный стаж (положительная выборка): 45.8625 лет'"
      ]
     },
     "metadata": {},
     "output_type": "display_data"
    }
   ],
   "source": [
    "display(\n",
    "    'Максимальный стаж (положительная выборка): {:.6} лет'\n",
    "    .format(df.loc[df['days_employed'] > 0]['days_employed'].max()/24/365)\n",
    ")"
   ]
  },
  {
   "cell_type": "markdown",
   "id": "4becb9b7",
   "metadata": {},
   "source": [
    "Больше похоже на истину. Приведем все данные к общему знаменателю. У положительной выборки данные разделим на 24, а у отрицательных убирем минус:"
   ]
  },
  {
   "cell_type": "code",
   "execution_count": 18,
   "id": "71511373",
   "metadata": {},
   "outputs": [
    {
     "data": {
      "text/plain": [
       "'Минимальное: 24.1416'"
      ]
     },
     "metadata": {},
     "output_type": "display_data"
    },
    {
     "data": {
      "text/plain": [
       "'Максимальное: 18388.9'"
      ]
     },
     "metadata": {},
     "output_type": "display_data"
    }
   ],
   "source": [
    "df.loc[df['days_employed'] > 0,'days_employed'] = df.loc[df['days_employed'] > 0,'days_employed']/24\n",
    "df['days_employed'] = df['days_employed'].abs()\n",
    "\n",
    "display('Минимальное: {:.6}'.format(df['days_employed'].min()))\n",
    "display('Максимальное: {:.6}'.format(df['days_employed'].max()))"
   ]
  },
  {
   "cell_type": "markdown",
   "id": "ba574dbd",
   "metadata": {},
   "source": [
    "Поставим медиальное значение в пропущенные ячейки и посчитаем есть ли пустые яцейки в таблице:"
   ]
  },
  {
   "cell_type": "code",
   "execution_count": 19,
   "id": "70dfa7aa",
   "metadata": {},
   "outputs": [
    {
     "data": {
      "text/plain": [
       "children            0\n",
       "days_employed       0\n",
       "dob_years           0\n",
       "education           0\n",
       "education_id        0\n",
       "family_status       0\n",
       "family_status_id    0\n",
       "gender              0\n",
       "income_type         0\n",
       "debt                0\n",
       "total_income        0\n",
       "purpose             0\n",
       "dtype: int64"
      ]
     },
     "execution_count": 19,
     "metadata": {},
     "output_type": "execute_result"
    }
   ],
   "source": [
    "df.loc[df['days_employed'] .isna(),'days_employed'] = df['days_employed'].median()\n",
    "df.isna().sum()"
   ]
  },
  {
   "cell_type": "markdown",
   "id": "17b3100c",
   "metadata": {},
   "source": [
    "Все пустых ячеек не осталось. Так же при изучения данных можно обратить внимание что в поле возраста есть нулевые значения, выведем данные:"
   ]
  },
  {
   "cell_type": "code",
   "execution_count": 20,
   "id": "e6696614",
   "metadata": {},
   "outputs": [
    {
     "data": {
      "text/html": [
       "<div>\n",
       "<style scoped>\n",
       "    .dataframe tbody tr th:only-of-type {\n",
       "        vertical-align: middle;\n",
       "    }\n",
       "\n",
       "    .dataframe tbody tr th {\n",
       "        vertical-align: top;\n",
       "    }\n",
       "\n",
       "    .dataframe thead th {\n",
       "        text-align: right;\n",
       "    }\n",
       "</style>\n",
       "<table border=\"1\" class=\"dataframe\">\n",
       "  <thead>\n",
       "    <tr style=\"text-align: right;\">\n",
       "      <th></th>\n",
       "      <th>children</th>\n",
       "      <th>days_employed</th>\n",
       "      <th>dob_years</th>\n",
       "      <th>education</th>\n",
       "      <th>education_id</th>\n",
       "      <th>family_status</th>\n",
       "      <th>family_status_id</th>\n",
       "      <th>gender</th>\n",
       "      <th>income_type</th>\n",
       "      <th>debt</th>\n",
       "      <th>total_income</th>\n",
       "      <th>purpose</th>\n",
       "    </tr>\n",
       "  </thead>\n",
       "  <tbody>\n",
       "    <tr>\n",
       "      <th>99</th>\n",
       "      <td>0</td>\n",
       "      <td>14439.234121</td>\n",
       "      <td>0</td>\n",
       "      <td>Среднее</td>\n",
       "      <td>1</td>\n",
       "      <td>женат / замужем</td>\n",
       "      <td>0</td>\n",
       "      <td>F</td>\n",
       "      <td>пенсионер</td>\n",
       "      <td>0</td>\n",
       "      <td>71291.522491</td>\n",
       "      <td>автомобиль</td>\n",
       "    </tr>\n",
       "    <tr>\n",
       "      <th>149</th>\n",
       "      <td>0</td>\n",
       "      <td>2664.273168</td>\n",
       "      <td>0</td>\n",
       "      <td>среднее</td>\n",
       "      <td>1</td>\n",
       "      <td>в разводе</td>\n",
       "      <td>3</td>\n",
       "      <td>F</td>\n",
       "      <td>сотрудник</td>\n",
       "      <td>0</td>\n",
       "      <td>70176.435951</td>\n",
       "      <td>операции с жильем</td>\n",
       "    </tr>\n",
       "    <tr>\n",
       "      <th>270</th>\n",
       "      <td>3</td>\n",
       "      <td>1872.663186</td>\n",
       "      <td>0</td>\n",
       "      <td>среднее</td>\n",
       "      <td>1</td>\n",
       "      <td>женат / замужем</td>\n",
       "      <td>0</td>\n",
       "      <td>F</td>\n",
       "      <td>сотрудник</td>\n",
       "      <td>0</td>\n",
       "      <td>102166.458894</td>\n",
       "      <td>ремонт жилью</td>\n",
       "    </tr>\n",
       "    <tr>\n",
       "      <th>578</th>\n",
       "      <td>0</td>\n",
       "      <td>16577.356876</td>\n",
       "      <td>0</td>\n",
       "      <td>среднее</td>\n",
       "      <td>1</td>\n",
       "      <td>женат / замужем</td>\n",
       "      <td>0</td>\n",
       "      <td>F</td>\n",
       "      <td>пенсионер</td>\n",
       "      <td>0</td>\n",
       "      <td>97620.687042</td>\n",
       "      <td>строительство собственной недвижимости</td>\n",
       "    </tr>\n",
       "    <tr>\n",
       "      <th>1040</th>\n",
       "      <td>0</td>\n",
       "      <td>1158.029561</td>\n",
       "      <td>0</td>\n",
       "      <td>высшее</td>\n",
       "      <td>0</td>\n",
       "      <td>в разводе</td>\n",
       "      <td>3</td>\n",
       "      <td>F</td>\n",
       "      <td>компаньон</td>\n",
       "      <td>0</td>\n",
       "      <td>303994.134987</td>\n",
       "      <td>свой автомобиль</td>\n",
       "    </tr>\n",
       "    <tr>\n",
       "      <th>...</th>\n",
       "      <td>...</td>\n",
       "      <td>...</td>\n",
       "      <td>...</td>\n",
       "      <td>...</td>\n",
       "      <td>...</td>\n",
       "      <td>...</td>\n",
       "      <td>...</td>\n",
       "      <td>...</td>\n",
       "      <td>...</td>\n",
       "      <td>...</td>\n",
       "      <td>...</td>\n",
       "      <td>...</td>\n",
       "    </tr>\n",
       "    <tr>\n",
       "      <th>19829</th>\n",
       "      <td>0</td>\n",
       "      <td>2194.220567</td>\n",
       "      <td>0</td>\n",
       "      <td>среднее</td>\n",
       "      <td>1</td>\n",
       "      <td>женат / замужем</td>\n",
       "      <td>0</td>\n",
       "      <td>F</td>\n",
       "      <td>сотрудник</td>\n",
       "      <td>0</td>\n",
       "      <td>142594.396847</td>\n",
       "      <td>жилье</td>\n",
       "    </tr>\n",
       "    <tr>\n",
       "      <th>20462</th>\n",
       "      <td>0</td>\n",
       "      <td>14113.952856</td>\n",
       "      <td>0</td>\n",
       "      <td>среднее</td>\n",
       "      <td>1</td>\n",
       "      <td>женат / замужем</td>\n",
       "      <td>0</td>\n",
       "      <td>F</td>\n",
       "      <td>пенсионер</td>\n",
       "      <td>0</td>\n",
       "      <td>259193.920299</td>\n",
       "      <td>покупка своего жилья</td>\n",
       "    </tr>\n",
       "    <tr>\n",
       "      <th>20577</th>\n",
       "      <td>0</td>\n",
       "      <td>13822.552977</td>\n",
       "      <td>0</td>\n",
       "      <td>среднее</td>\n",
       "      <td>1</td>\n",
       "      <td>Не женат / не замужем</td>\n",
       "      <td>4</td>\n",
       "      <td>F</td>\n",
       "      <td>пенсионер</td>\n",
       "      <td>0</td>\n",
       "      <td>129788.762899</td>\n",
       "      <td>недвижимость</td>\n",
       "    </tr>\n",
       "    <tr>\n",
       "      <th>21179</th>\n",
       "      <td>2</td>\n",
       "      <td>108.967042</td>\n",
       "      <td>0</td>\n",
       "      <td>высшее</td>\n",
       "      <td>0</td>\n",
       "      <td>женат / замужем</td>\n",
       "      <td>0</td>\n",
       "      <td>M</td>\n",
       "      <td>компаньон</td>\n",
       "      <td>0</td>\n",
       "      <td>240702.007382</td>\n",
       "      <td>строительство жилой недвижимости</td>\n",
       "    </tr>\n",
       "    <tr>\n",
       "      <th>21313</th>\n",
       "      <td>0</td>\n",
       "      <td>1268.487728</td>\n",
       "      <td>0</td>\n",
       "      <td>среднее</td>\n",
       "      <td>1</td>\n",
       "      <td>Не женат / не замужем</td>\n",
       "      <td>4</td>\n",
       "      <td>M</td>\n",
       "      <td>сотрудник</td>\n",
       "      <td>0</td>\n",
       "      <td>152419.184851</td>\n",
       "      <td>операции с жильем</td>\n",
       "    </tr>\n",
       "  </tbody>\n",
       "</table>\n",
       "<p>101 rows × 12 columns</p>\n",
       "</div>"
      ],
      "text/plain": [
       "       children  days_employed  dob_years education  education_id  \\\n",
       "99            0   14439.234121          0   Среднее             1   \n",
       "149           0    2664.273168          0   среднее             1   \n",
       "270           3    1872.663186          0   среднее             1   \n",
       "578           0   16577.356876          0   среднее             1   \n",
       "1040          0    1158.029561          0    высшее             0   \n",
       "...         ...            ...        ...       ...           ...   \n",
       "19829         0    2194.220567          0   среднее             1   \n",
       "20462         0   14113.952856          0   среднее             1   \n",
       "20577         0   13822.552977          0   среднее             1   \n",
       "21179         2     108.967042          0    высшее             0   \n",
       "21313         0    1268.487728          0   среднее             1   \n",
       "\n",
       "               family_status  family_status_id gender income_type  debt  \\\n",
       "99           женат / замужем                 0      F   пенсионер     0   \n",
       "149                в разводе                 3      F   сотрудник     0   \n",
       "270          женат / замужем                 0      F   сотрудник     0   \n",
       "578          женат / замужем                 0      F   пенсионер     0   \n",
       "1040               в разводе                 3      F   компаньон     0   \n",
       "...                      ...               ...    ...         ...   ...   \n",
       "19829        женат / замужем                 0      F   сотрудник     0   \n",
       "20462        женат / замужем                 0      F   пенсионер     0   \n",
       "20577  Не женат / не замужем                 4      F   пенсионер     0   \n",
       "21179        женат / замужем                 0      M   компаньон     0   \n",
       "21313  Не женат / не замужем                 4      M   сотрудник     0   \n",
       "\n",
       "        total_income                                 purpose  \n",
       "99      71291.522491                              автомобиль  \n",
       "149     70176.435951                       операции с жильем  \n",
       "270    102166.458894                            ремонт жилью  \n",
       "578     97620.687042  строительство собственной недвижимости  \n",
       "1040   303994.134987                         свой автомобиль  \n",
       "...              ...                                     ...  \n",
       "19829  142594.396847                                   жилье  \n",
       "20462  259193.920299                    покупка своего жилья  \n",
       "20577  129788.762899                            недвижимость  \n",
       "21179  240702.007382        строительство жилой недвижимости  \n",
       "21313  152419.184851                       операции с жильем  \n",
       "\n",
       "[101 rows x 12 columns]"
      ]
     },
     "execution_count": 20,
     "metadata": {},
     "output_type": "execute_result"
    }
   ],
   "source": [
    "df.loc[df['dob_years'] == 0]"
   ]
  },
  {
   "cell_type": "markdown",
   "id": "b9073c04",
   "metadata": {},
   "source": [
    "101 ячейка это 0,4 % от всех данных. Можно удалить или оставить так как есть."
   ]
  },
  {
   "cell_type": "markdown",
   "id": "33ff67c7",
   "metadata": {},
   "source": [
    "Отлично, еще при проверке обнаружилась еще одна аномалия, в столбце с количеством детей есть отрицательное значение,  Так же значение в 20 детей у 76 анкет наводит на мыль в опечатке или сбое(так как нет разброса после 5 сразу 20) или у банка отдельная программа для семей с 20 детьми."
   ]
  },
  {
   "cell_type": "code",
   "execution_count": 21,
   "id": "7cd257ed",
   "metadata": {},
   "outputs": [
    {
     "data": {
      "text/plain": [
       " 0     14149\n",
       " 1      4818\n",
       " 2      2055\n",
       " 3       330\n",
       " 20       76\n",
       "-1        47\n",
       " 4        41\n",
       " 5         9\n",
       "Name: children, dtype: int64"
      ]
     },
     "execution_count": 21,
     "metadata": {},
     "output_type": "execute_result"
    }
   ],
   "source": [
    "df['children'].value_counts()"
   ]
  },
  {
   "cell_type": "markdown",
   "id": "c4618743",
   "metadata": {},
   "source": [
    "Избавимся от этой аномалий и повторно выведем данные:"
   ]
  },
  {
   "cell_type": "code",
   "execution_count": 22,
   "id": "7be944f3",
   "metadata": {
    "scrolled": true
   },
   "outputs": [
    {
     "data": {
      "text/plain": [
       "0    14149\n",
       "1     4865\n",
       "2     2131\n",
       "3      330\n",
       "4       41\n",
       "5        9\n",
       "Name: children, dtype: int64"
      ]
     },
     "execution_count": 22,
     "metadata": {},
     "output_type": "execute_result"
    }
   ],
   "source": [
    "df['children'] = df['children'].abs()\n",
    "df.loc[df['children'] == 20, 'children'] = 2\n",
    "df['children'].value_counts()"
   ]
  },
  {
   "cell_type": "markdown",
   "id": "1ba8bcfd",
   "metadata": {},
   "source": [
    "Все переходим к следущему шагу."
   ]
  },
  {
   "cell_type": "markdown",
   "id": "ed530299",
   "metadata": {},
   "source": [
    "### Шаг 2.3. Изменение типов данных."
   ]
  },
  {
   "cell_type": "markdown",
   "id": "6861ef5f",
   "metadata": {},
   "source": [
    "###### Преведем столбцы из вещесвенного типа в целочисленное для удобства восприятия:"
   ]
  },
  {
   "cell_type": "code",
   "execution_count": 23,
   "id": "ebcb659b",
   "metadata": {},
   "outputs": [],
   "source": [
    "df['days_employed'] = df['days_employed'].astype('int')\n",
    "df['total_income'] = df['total_income'].astype('int')"
   ]
  },
  {
   "cell_type": "markdown",
   "id": "ff94341c",
   "metadata": {},
   "source": [
    "###### Проверим данные:"
   ]
  },
  {
   "cell_type": "code",
   "execution_count": 24,
   "id": "f843c6fa",
   "metadata": {
    "scrolled": true
   },
   "outputs": [
    {
     "data": {
      "text/html": [
       "<div>\n",
       "<style scoped>\n",
       "    .dataframe tbody tr th:only-of-type {\n",
       "        vertical-align: middle;\n",
       "    }\n",
       "\n",
       "    .dataframe tbody tr th {\n",
       "        vertical-align: top;\n",
       "    }\n",
       "\n",
       "    .dataframe thead th {\n",
       "        text-align: right;\n",
       "    }\n",
       "</style>\n",
       "<table border=\"1\" class=\"dataframe\">\n",
       "  <thead>\n",
       "    <tr style=\"text-align: right;\">\n",
       "      <th></th>\n",
       "      <th>children</th>\n",
       "      <th>days_employed</th>\n",
       "      <th>dob_years</th>\n",
       "      <th>education</th>\n",
       "      <th>education_id</th>\n",
       "      <th>family_status</th>\n",
       "      <th>family_status_id</th>\n",
       "      <th>gender</th>\n",
       "      <th>income_type</th>\n",
       "      <th>debt</th>\n",
       "      <th>total_income</th>\n",
       "      <th>purpose</th>\n",
       "    </tr>\n",
       "  </thead>\n",
       "  <tbody>\n",
       "    <tr>\n",
       "      <th>0</th>\n",
       "      <td>1</td>\n",
       "      <td>8437</td>\n",
       "      <td>42</td>\n",
       "      <td>высшее</td>\n",
       "      <td>0</td>\n",
       "      <td>женат / замужем</td>\n",
       "      <td>0</td>\n",
       "      <td>F</td>\n",
       "      <td>сотрудник</td>\n",
       "      <td>0</td>\n",
       "      <td>253875</td>\n",
       "      <td>покупка жилья</td>\n",
       "    </tr>\n",
       "    <tr>\n",
       "      <th>1</th>\n",
       "      <td>1</td>\n",
       "      <td>4024</td>\n",
       "      <td>36</td>\n",
       "      <td>среднее</td>\n",
       "      <td>1</td>\n",
       "      <td>женат / замужем</td>\n",
       "      <td>0</td>\n",
       "      <td>F</td>\n",
       "      <td>сотрудник</td>\n",
       "      <td>0</td>\n",
       "      <td>112080</td>\n",
       "      <td>приобретение автомобиля</td>\n",
       "    </tr>\n",
       "    <tr>\n",
       "      <th>2</th>\n",
       "      <td>0</td>\n",
       "      <td>5623</td>\n",
       "      <td>33</td>\n",
       "      <td>Среднее</td>\n",
       "      <td>1</td>\n",
       "      <td>женат / замужем</td>\n",
       "      <td>0</td>\n",
       "      <td>M</td>\n",
       "      <td>сотрудник</td>\n",
       "      <td>0</td>\n",
       "      <td>145885</td>\n",
       "      <td>покупка жилья</td>\n",
       "    </tr>\n",
       "    <tr>\n",
       "      <th>3</th>\n",
       "      <td>3</td>\n",
       "      <td>4124</td>\n",
       "      <td>32</td>\n",
       "      <td>среднее</td>\n",
       "      <td>1</td>\n",
       "      <td>женат / замужем</td>\n",
       "      <td>0</td>\n",
       "      <td>M</td>\n",
       "      <td>сотрудник</td>\n",
       "      <td>0</td>\n",
       "      <td>267628</td>\n",
       "      <td>дополнительное образование</td>\n",
       "    </tr>\n",
       "    <tr>\n",
       "      <th>4</th>\n",
       "      <td>0</td>\n",
       "      <td>14177</td>\n",
       "      <td>53</td>\n",
       "      <td>среднее</td>\n",
       "      <td>1</td>\n",
       "      <td>гражданский брак</td>\n",
       "      <td>1</td>\n",
       "      <td>F</td>\n",
       "      <td>пенсионер</td>\n",
       "      <td>0</td>\n",
       "      <td>158616</td>\n",
       "      <td>сыграть свадьбу</td>\n",
       "    </tr>\n",
       "  </tbody>\n",
       "</table>\n",
       "</div>"
      ],
      "text/plain": [
       "   children  days_employed  dob_years education  education_id  \\\n",
       "0         1           8437         42    высшее             0   \n",
       "1         1           4024         36   среднее             1   \n",
       "2         0           5623         33   Среднее             1   \n",
       "3         3           4124         32   среднее             1   \n",
       "4         0          14177         53   среднее             1   \n",
       "\n",
       "      family_status  family_status_id gender income_type  debt  total_income  \\\n",
       "0   женат / замужем                 0      F   сотрудник     0        253875   \n",
       "1   женат / замужем                 0      F   сотрудник     0        112080   \n",
       "2   женат / замужем                 0      M   сотрудник     0        145885   \n",
       "3   женат / замужем                 0      M   сотрудник     0        267628   \n",
       "4  гражданский брак                 1      F   пенсионер     0        158616   \n",
       "\n",
       "                      purpose  \n",
       "0               покупка жилья  \n",
       "1     приобретение автомобиля  \n",
       "2               покупка жилья  \n",
       "3  дополнительное образование  \n",
       "4             сыграть свадьбу  "
      ]
     },
     "execution_count": 24,
     "metadata": {},
     "output_type": "execute_result"
    }
   ],
   "source": [
    "df.head(5)"
   ]
  },
  {
   "cell_type": "markdown",
   "id": "459804ec",
   "metadata": {},
   "source": [
    "Все заменилось, переходим к следущему шагу:"
   ]
  },
  {
   "cell_type": "markdown",
   "id": "419033d7",
   "metadata": {},
   "source": [
    "### Шаг 2.4. Удаление дубликатов.\n",
    "\n",
    "Удалим явные дубликаты в нашем DataFrame.\n",
    "\n",
    "И выведем для проверки общую информацию:"
   ]
  },
  {
   "cell_type": "code",
   "execution_count": 25,
   "id": "5d07ebf7",
   "metadata": {
    "scrolled": true
   },
   "outputs": [
    {
     "name": "stdout",
     "output_type": "stream",
     "text": [
      "<class 'pandas.core.frame.DataFrame'>\n",
      "Int64Index: 21471 entries, 0 to 21524\n",
      "Data columns (total 12 columns):\n",
      " #   Column            Non-Null Count  Dtype \n",
      "---  ------            --------------  ----- \n",
      " 0   children          21471 non-null  int64 \n",
      " 1   days_employed     21471 non-null  int32 \n",
      " 2   dob_years         21471 non-null  int64 \n",
      " 3   education         21471 non-null  object\n",
      " 4   education_id      21471 non-null  int64 \n",
      " 5   family_status     21471 non-null  object\n",
      " 6   family_status_id  21471 non-null  int64 \n",
      " 7   gender            21471 non-null  object\n",
      " 8   income_type       21471 non-null  object\n",
      " 9   debt              21471 non-null  int64 \n",
      " 10  total_income      21471 non-null  int32 \n",
      " 11  purpose           21471 non-null  object\n",
      "dtypes: int32(2), int64(5), object(5)\n",
      "memory usage: 2.0+ MB\n"
     ]
    }
   ],
   "source": [
    "df = df.drop_duplicates()\n",
    "df.info()"
   ]
  },
  {
   "cell_type": "markdown",
   "id": "fadb8aa1",
   "metadata": {},
   "source": [
    "Из 21525 строк 54 были явными дубликатами.\n",
    "\n",
    "Теперь колонку `education` проверим на уникальные значения чтобы произвести поиск неявных дубликатов:"
   ]
  },
  {
   "cell_type": "code",
   "execution_count": 26,
   "id": "cd339242",
   "metadata": {},
   "outputs": [
    {
     "data": {
      "text/plain": [
       "среднее                13705\n",
       "высшее                  4710\n",
       "СРЕДНЕЕ                  772\n",
       "Среднее                  711\n",
       "неоконченное высшее      668\n",
       "ВЫСШЕЕ                   273\n",
       "Высшее                   268\n",
       "начальное                250\n",
       "Неоконченное высшее       47\n",
       "НЕОКОНЧЕННОЕ ВЫСШЕЕ       29\n",
       "НАЧАЛЬНОЕ                 17\n",
       "Начальное                 15\n",
       "ученая степень             4\n",
       "Ученая степень             1\n",
       "УЧЕНАЯ СТЕПЕНЬ             1\n",
       "Name: education, dtype: int64"
      ]
     },
     "execution_count": 26,
     "metadata": {},
     "output_type": "execute_result"
    }
   ],
   "source": [
    "df['education'].value_counts()"
   ]
  },
  {
   "cell_type": "markdown",
   "id": "d966cc6e",
   "metadata": {},
   "source": [
    "Дубликаты могли появиться при внесении данных человеком, появились разные варинты написания.\n",
    "\n",
    "Приведем все к нижнему регистру и опять выведем уникальные значения стобца:"
   ]
  },
  {
   "cell_type": "code",
   "execution_count": 27,
   "id": "4d3ed646",
   "metadata": {
    "scrolled": true
   },
   "outputs": [
    {
     "data": {
      "text/plain": [
       "среднее                15188\n",
       "высшее                  5251\n",
       "неоконченное высшее      744\n",
       "начальное                282\n",
       "ученая степень             6\n",
       "Name: education, dtype: int64"
      ]
     },
     "execution_count": 27,
     "metadata": {},
     "output_type": "execute_result"
    }
   ],
   "source": [
    "df['education'] = df['education'].str.lower()\n",
    "df['education'].value_counts()"
   ]
  },
  {
   "cell_type": "markdown",
   "id": "c4878ae0",
   "metadata": {},
   "source": [
    "Из 15 стало всего 5 уникальных значений.\n",
    "Повторно удалим дубликаты и выведем общую информацию по таблице:"
   ]
  },
  {
   "cell_type": "code",
   "execution_count": 28,
   "id": "cb147665",
   "metadata": {
    "scrolled": false
   },
   "outputs": [
    {
     "name": "stdout",
     "output_type": "stream",
     "text": [
      "<class 'pandas.core.frame.DataFrame'>\n",
      "Int64Index: 21454 entries, 0 to 21524\n",
      "Data columns (total 12 columns):\n",
      " #   Column            Non-Null Count  Dtype \n",
      "---  ------            --------------  ----- \n",
      " 0   children          21454 non-null  int64 \n",
      " 1   days_employed     21454 non-null  int32 \n",
      " 2   dob_years         21454 non-null  int64 \n",
      " 3   education         21454 non-null  object\n",
      " 4   education_id      21454 non-null  int64 \n",
      " 5   family_status     21454 non-null  object\n",
      " 6   family_status_id  21454 non-null  int64 \n",
      " 7   gender            21454 non-null  object\n",
      " 8   income_type       21454 non-null  object\n",
      " 9   debt              21454 non-null  int64 \n",
      " 10  total_income      21454 non-null  int32 \n",
      " 11  purpose           21454 non-null  object\n",
      "dtypes: int32(2), int64(5), object(5)\n",
      "memory usage: 2.0+ MB\n"
     ]
    }
   ],
   "source": [
    "df = df.drop_duplicates()\n",
    "df.info()"
   ]
  },
  {
   "cell_type": "markdown",
   "id": "b32df888",
   "metadata": {},
   "source": [
    "Еще 17 дубликатов удалены из таблицы.\n",
    "Также при проверке колонки `family_status` на уникальные значения Есть едиственная категория с заглавной буквой :"
   ]
  },
  {
   "cell_type": "code",
   "execution_count": 29,
   "id": "66e32a7b",
   "metadata": {
    "scrolled": true
   },
   "outputs": [
    {
     "data": {
      "text/plain": [
       "женат / замужем          12339\n",
       "гражданский брак          4151\n",
       "Не женат / не замужем     2810\n",
       "в разводе                 1195\n",
       "вдовец / вдова             959\n",
       "Name: family_status, dtype: int64"
      ]
     },
     "execution_count": 29,
     "metadata": {},
     "output_type": "execute_result"
    }
   ],
   "source": [
    "df['family_status'].value_counts()"
   ]
  },
  {
   "cell_type": "markdown",
   "id": "39530f65",
   "metadata": {},
   "source": [
    "Приведем все к нижнему регистру для общего стиля и выведим для проверки:"
   ]
  },
  {
   "cell_type": "code",
   "execution_count": 30,
   "id": "d361ae23",
   "metadata": {},
   "outputs": [
    {
     "data": {
      "text/plain": [
       "женат / замужем          12339\n",
       "гражданский брак          4151\n",
       "не женат / не замужем     2810\n",
       "в разводе                 1195\n",
       "вдовец / вдова             959\n",
       "Name: family_status, dtype: int64"
      ]
     },
     "execution_count": 30,
     "metadata": {},
     "output_type": "execute_result"
    }
   ],
   "source": [
    "df['family_status'] = df['family_status'].str.lower()\n",
    "df['family_status'].value_counts()"
   ]
  },
  {
   "cell_type": "markdown",
   "id": "f68e53b1",
   "metadata": {},
   "source": [
    "### Шаг 2.5. Формирование дополнительных датафреймов словарей, декомпозиция исходного датафрейма."
   ]
  },
  {
   "cell_type": "markdown",
   "id": "c75ac2f1",
   "metadata": {},
   "source": [
    "Создадим два новых датафрейма для визуального удобства и ускорение времени обработки данных.\n",
    "\n",
    "Сделаем словарь для категорий по образованию выведем его отсортировав:"
   ]
  },
  {
   "cell_type": "code",
   "execution_count": 31,
   "id": "de591547",
   "metadata": {},
   "outputs": [
    {
     "data": {
      "text/html": [
       "<div>\n",
       "<style scoped>\n",
       "    .dataframe tbody tr th:only-of-type {\n",
       "        vertical-align: middle;\n",
       "    }\n",
       "\n",
       "    .dataframe tbody tr th {\n",
       "        vertical-align: top;\n",
       "    }\n",
       "\n",
       "    .dataframe thead th {\n",
       "        text-align: right;\n",
       "    }\n",
       "</style>\n",
       "<table border=\"1\" class=\"dataframe\">\n",
       "  <thead>\n",
       "    <tr style=\"text-align: right;\">\n",
       "      <th></th>\n",
       "      <th>education</th>\n",
       "      <th>education_id</th>\n",
       "    </tr>\n",
       "  </thead>\n",
       "  <tbody>\n",
       "    <tr>\n",
       "      <th>0</th>\n",
       "      <td>высшее</td>\n",
       "      <td>0</td>\n",
       "    </tr>\n",
       "    <tr>\n",
       "      <th>1</th>\n",
       "      <td>среднее</td>\n",
       "      <td>1</td>\n",
       "    </tr>\n",
       "    <tr>\n",
       "      <th>2</th>\n",
       "      <td>неоконченное высшее</td>\n",
       "      <td>2</td>\n",
       "    </tr>\n",
       "    <tr>\n",
       "      <th>3</th>\n",
       "      <td>начальное</td>\n",
       "      <td>3</td>\n",
       "    </tr>\n",
       "    <tr>\n",
       "      <th>4</th>\n",
       "      <td>ученая степень</td>\n",
       "      <td>4</td>\n",
       "    </tr>\n",
       "  </tbody>\n",
       "</table>\n",
       "</div>"
      ],
      "text/plain": [
       "             education  education_id\n",
       "0               высшее             0\n",
       "1              среднее             1\n",
       "2  неоконченное высшее             2\n",
       "3            начальное             3\n",
       "4       ученая степень             4"
      ]
     },
     "execution_count": 31,
     "metadata": {},
     "output_type": "execute_result"
    }
   ],
   "source": [
    "education_dict = df[['education','education_id']]\n",
    "education_dict = education_dict.drop_duplicates().reset_index(drop=True)\n",
    "education_dict.sort_values('education_id')"
   ]
  },
  {
   "cell_type": "markdown",
   "id": "c6b4c7b3",
   "metadata": {},
   "source": [
    "Второй словарь по категориям семейного статуса:"
   ]
  },
  {
   "cell_type": "code",
   "execution_count": 32,
   "id": "ef360255",
   "metadata": {
    "scrolled": true
   },
   "outputs": [
    {
     "data": {
      "text/html": [
       "<div>\n",
       "<style scoped>\n",
       "    .dataframe tbody tr th:only-of-type {\n",
       "        vertical-align: middle;\n",
       "    }\n",
       "\n",
       "    .dataframe tbody tr th {\n",
       "        vertical-align: top;\n",
       "    }\n",
       "\n",
       "    .dataframe thead th {\n",
       "        text-align: right;\n",
       "    }\n",
       "</style>\n",
       "<table border=\"1\" class=\"dataframe\">\n",
       "  <thead>\n",
       "    <tr style=\"text-align: right;\">\n",
       "      <th></th>\n",
       "      <th>family_status</th>\n",
       "      <th>family_status_id</th>\n",
       "    </tr>\n",
       "  </thead>\n",
       "  <tbody>\n",
       "    <tr>\n",
       "      <th>0</th>\n",
       "      <td>женат / замужем</td>\n",
       "      <td>0</td>\n",
       "    </tr>\n",
       "    <tr>\n",
       "      <th>1</th>\n",
       "      <td>гражданский брак</td>\n",
       "      <td>1</td>\n",
       "    </tr>\n",
       "    <tr>\n",
       "      <th>2</th>\n",
       "      <td>вдовец / вдова</td>\n",
       "      <td>2</td>\n",
       "    </tr>\n",
       "    <tr>\n",
       "      <th>3</th>\n",
       "      <td>в разводе</td>\n",
       "      <td>3</td>\n",
       "    </tr>\n",
       "    <tr>\n",
       "      <th>4</th>\n",
       "      <td>не женат / не замужем</td>\n",
       "      <td>4</td>\n",
       "    </tr>\n",
       "  </tbody>\n",
       "</table>\n",
       "</div>"
      ],
      "text/plain": [
       "           family_status  family_status_id\n",
       "0        женат / замужем                 0\n",
       "1       гражданский брак                 1\n",
       "2         вдовец / вдова                 2\n",
       "3              в разводе                 3\n",
       "4  не женат / не замужем                 4"
      ]
     },
     "execution_count": 32,
     "metadata": {},
     "output_type": "execute_result"
    }
   ],
   "source": [
    "family_dict = df[['family_status','family_status_id']]\n",
    "family_dict = family_dict.drop_duplicates().reset_index(drop=True)\n",
    "family_dict.sort_values('family_status_id')\n",
    "\n"
   ]
  },
  {
   "cell_type": "markdown",
   "id": "b1595f17",
   "metadata": {},
   "source": [
    "Удалим из исходного датафрейма столбцы `education`, `family_status`  оставив только столбцы с ID, чтобы к словарям обращаться по индификатору. Выведем первые 5 строк."
   ]
  },
  {
   "cell_type": "code",
   "execution_count": 33,
   "id": "d6e8ac08",
   "metadata": {},
   "outputs": [
    {
     "data": {
      "text/html": [
       "<div>\n",
       "<style scoped>\n",
       "    .dataframe tbody tr th:only-of-type {\n",
       "        vertical-align: middle;\n",
       "    }\n",
       "\n",
       "    .dataframe tbody tr th {\n",
       "        vertical-align: top;\n",
       "    }\n",
       "\n",
       "    .dataframe thead th {\n",
       "        text-align: right;\n",
       "    }\n",
       "</style>\n",
       "<table border=\"1\" class=\"dataframe\">\n",
       "  <thead>\n",
       "    <tr style=\"text-align: right;\">\n",
       "      <th></th>\n",
       "      <th>children</th>\n",
       "      <th>days_employed</th>\n",
       "      <th>dob_years</th>\n",
       "      <th>education_id</th>\n",
       "      <th>family_status_id</th>\n",
       "      <th>gender</th>\n",
       "      <th>income_type</th>\n",
       "      <th>debt</th>\n",
       "      <th>total_income</th>\n",
       "      <th>purpose</th>\n",
       "    </tr>\n",
       "  </thead>\n",
       "  <tbody>\n",
       "    <tr>\n",
       "      <th>0</th>\n",
       "      <td>1</td>\n",
       "      <td>8437</td>\n",
       "      <td>42</td>\n",
       "      <td>0</td>\n",
       "      <td>0</td>\n",
       "      <td>F</td>\n",
       "      <td>сотрудник</td>\n",
       "      <td>0</td>\n",
       "      <td>253875</td>\n",
       "      <td>покупка жилья</td>\n",
       "    </tr>\n",
       "    <tr>\n",
       "      <th>1</th>\n",
       "      <td>1</td>\n",
       "      <td>4024</td>\n",
       "      <td>36</td>\n",
       "      <td>1</td>\n",
       "      <td>0</td>\n",
       "      <td>F</td>\n",
       "      <td>сотрудник</td>\n",
       "      <td>0</td>\n",
       "      <td>112080</td>\n",
       "      <td>приобретение автомобиля</td>\n",
       "    </tr>\n",
       "    <tr>\n",
       "      <th>2</th>\n",
       "      <td>0</td>\n",
       "      <td>5623</td>\n",
       "      <td>33</td>\n",
       "      <td>1</td>\n",
       "      <td>0</td>\n",
       "      <td>M</td>\n",
       "      <td>сотрудник</td>\n",
       "      <td>0</td>\n",
       "      <td>145885</td>\n",
       "      <td>покупка жилья</td>\n",
       "    </tr>\n",
       "    <tr>\n",
       "      <th>3</th>\n",
       "      <td>3</td>\n",
       "      <td>4124</td>\n",
       "      <td>32</td>\n",
       "      <td>1</td>\n",
       "      <td>0</td>\n",
       "      <td>M</td>\n",
       "      <td>сотрудник</td>\n",
       "      <td>0</td>\n",
       "      <td>267628</td>\n",
       "      <td>дополнительное образование</td>\n",
       "    </tr>\n",
       "    <tr>\n",
       "      <th>4</th>\n",
       "      <td>0</td>\n",
       "      <td>14177</td>\n",
       "      <td>53</td>\n",
       "      <td>1</td>\n",
       "      <td>1</td>\n",
       "      <td>F</td>\n",
       "      <td>пенсионер</td>\n",
       "      <td>0</td>\n",
       "      <td>158616</td>\n",
       "      <td>сыграть свадьбу</td>\n",
       "    </tr>\n",
       "  </tbody>\n",
       "</table>\n",
       "</div>"
      ],
      "text/plain": [
       "   children  days_employed  dob_years  education_id  family_status_id gender  \\\n",
       "0         1           8437         42             0                 0      F   \n",
       "1         1           4024         36             1                 0      F   \n",
       "2         0           5623         33             1                 0      M   \n",
       "3         3           4124         32             1                 0      M   \n",
       "4         0          14177         53             1                 1      F   \n",
       "\n",
       "  income_type  debt  total_income                     purpose  \n",
       "0   сотрудник     0        253875               покупка жилья  \n",
       "1   сотрудник     0        112080     приобретение автомобиля  \n",
       "2   сотрудник     0        145885               покупка жилья  \n",
       "3   сотрудник     0        267628  дополнительное образование  \n",
       "4   пенсионер     0        158616             сыграть свадьбу  "
      ]
     },
     "execution_count": 33,
     "metadata": {},
     "output_type": "execute_result"
    }
   ],
   "source": [
    "df = df.drop(columns=['education','family_status'])\n",
    "df.head(5)"
   ]
  },
  {
   "cell_type": "markdown",
   "id": "a1e783b5",
   "metadata": {},
   "source": [
    "Переходим к категоризации."
   ]
  },
  {
   "cell_type": "markdown",
   "id": "b8277399",
   "metadata": {},
   "source": [
    "### Шаг 2.6. Категоризация дохода."
   ]
  },
  {
   "cell_type": "markdown",
   "id": "47c809b0",
   "metadata": {},
   "source": [
    "Создадим функцию `income_group` для групированию по уровню дохода.\n",
    "\n",
    "Сделаем 5 категорий\n",
    "\n",
    " - **A** - с диапозоном дохода 1000001 и больше\n",
    " - **B** - с диапозоном дохода 200001–1000000\n",
    " - **C** - с диапозоном дохода 50001–200000\n",
    " - **D** - с диапозоном дохода 30001–50000\n",
    " - **E** - с диапозоном дохода 0–30000"
   ]
  },
  {
   "cell_type": "code",
   "execution_count": 34,
   "id": "b1bd374f",
   "metadata": {},
   "outputs": [
    {
     "data": {
      "text/plain": [
       "'E'"
      ]
     },
     "execution_count": 34,
     "metadata": {},
     "output_type": "execute_result"
    }
   ],
   "source": [
    "def income_group(row):\n",
    "    \n",
    "    income = row['total_income']\n",
    "    \n",
    "    try:\n",
    "        if income < 30001:\n",
    "            return 'E'\n",
    "        if 30000 < income < 50001:\n",
    "            return 'D'\n",
    "        if 50000 < income < 200001:\n",
    "            return 'C'\n",
    "        if 200000 < income < 1000001:\n",
    "            return 'B'\n",
    "        return 'A'\n",
    "    except:\n",
    "        display('Ошибка проверить тип данных в total_income')\n",
    "\n",
    "#для проверки сделаем серию pandas и запустим нашу функцию\n",
    "row_values = [25000]\n",
    "row_columns = ['total_income']\n",
    "\n",
    "row = pd.Series(data=row_values, index=row_columns)\n",
    "\n",
    "income_group(row)"
   ]
  },
  {
   "cell_type": "markdown",
   "id": "2b2c092a",
   "metadata": {},
   "source": [
    "Применим нашу функцию на датафрейм и выведем 5 строк."
   ]
  },
  {
   "cell_type": "code",
   "execution_count": 35,
   "id": "ae82b366",
   "metadata": {
    "scrolled": true
   },
   "outputs": [
    {
     "data": {
      "text/html": [
       "<div>\n",
       "<style scoped>\n",
       "    .dataframe tbody tr th:only-of-type {\n",
       "        vertical-align: middle;\n",
       "    }\n",
       "\n",
       "    .dataframe tbody tr th {\n",
       "        vertical-align: top;\n",
       "    }\n",
       "\n",
       "    .dataframe thead th {\n",
       "        text-align: right;\n",
       "    }\n",
       "</style>\n",
       "<table border=\"1\" class=\"dataframe\">\n",
       "  <thead>\n",
       "    <tr style=\"text-align: right;\">\n",
       "      <th></th>\n",
       "      <th>children</th>\n",
       "      <th>days_employed</th>\n",
       "      <th>dob_years</th>\n",
       "      <th>education_id</th>\n",
       "      <th>family_status_id</th>\n",
       "      <th>gender</th>\n",
       "      <th>income_type</th>\n",
       "      <th>debt</th>\n",
       "      <th>total_income</th>\n",
       "      <th>purpose</th>\n",
       "      <th>total_income_category</th>\n",
       "    </tr>\n",
       "  </thead>\n",
       "  <tbody>\n",
       "    <tr>\n",
       "      <th>0</th>\n",
       "      <td>1</td>\n",
       "      <td>8437</td>\n",
       "      <td>42</td>\n",
       "      <td>0</td>\n",
       "      <td>0</td>\n",
       "      <td>F</td>\n",
       "      <td>сотрудник</td>\n",
       "      <td>0</td>\n",
       "      <td>253875</td>\n",
       "      <td>покупка жилья</td>\n",
       "      <td>B</td>\n",
       "    </tr>\n",
       "    <tr>\n",
       "      <th>1</th>\n",
       "      <td>1</td>\n",
       "      <td>4024</td>\n",
       "      <td>36</td>\n",
       "      <td>1</td>\n",
       "      <td>0</td>\n",
       "      <td>F</td>\n",
       "      <td>сотрудник</td>\n",
       "      <td>0</td>\n",
       "      <td>112080</td>\n",
       "      <td>приобретение автомобиля</td>\n",
       "      <td>C</td>\n",
       "    </tr>\n",
       "    <tr>\n",
       "      <th>2</th>\n",
       "      <td>0</td>\n",
       "      <td>5623</td>\n",
       "      <td>33</td>\n",
       "      <td>1</td>\n",
       "      <td>0</td>\n",
       "      <td>M</td>\n",
       "      <td>сотрудник</td>\n",
       "      <td>0</td>\n",
       "      <td>145885</td>\n",
       "      <td>покупка жилья</td>\n",
       "      <td>C</td>\n",
       "    </tr>\n",
       "    <tr>\n",
       "      <th>3</th>\n",
       "      <td>3</td>\n",
       "      <td>4124</td>\n",
       "      <td>32</td>\n",
       "      <td>1</td>\n",
       "      <td>0</td>\n",
       "      <td>M</td>\n",
       "      <td>сотрудник</td>\n",
       "      <td>0</td>\n",
       "      <td>267628</td>\n",
       "      <td>дополнительное образование</td>\n",
       "      <td>B</td>\n",
       "    </tr>\n",
       "    <tr>\n",
       "      <th>4</th>\n",
       "      <td>0</td>\n",
       "      <td>14177</td>\n",
       "      <td>53</td>\n",
       "      <td>1</td>\n",
       "      <td>1</td>\n",
       "      <td>F</td>\n",
       "      <td>пенсионер</td>\n",
       "      <td>0</td>\n",
       "      <td>158616</td>\n",
       "      <td>сыграть свадьбу</td>\n",
       "      <td>C</td>\n",
       "    </tr>\n",
       "  </tbody>\n",
       "</table>\n",
       "</div>"
      ],
      "text/plain": [
       "   children  days_employed  dob_years  education_id  family_status_id gender  \\\n",
       "0         1           8437         42             0                 0      F   \n",
       "1         1           4024         36             1                 0      F   \n",
       "2         0           5623         33             1                 0      M   \n",
       "3         3           4124         32             1                 0      M   \n",
       "4         0          14177         53             1                 1      F   \n",
       "\n",
       "  income_type  debt  total_income                     purpose  \\\n",
       "0   сотрудник     0        253875               покупка жилья   \n",
       "1   сотрудник     0        112080     приобретение автомобиля   \n",
       "2   сотрудник     0        145885               покупка жилья   \n",
       "3   сотрудник     0        267628  дополнительное образование   \n",
       "4   пенсионер     0        158616             сыграть свадьбу   \n",
       "\n",
       "  total_income_category  \n",
       "0                     B  \n",
       "1                     C  \n",
       "2                     C  \n",
       "3                     B  \n",
       "4                     C  "
      ]
     },
     "execution_count": 35,
     "metadata": {},
     "output_type": "execute_result"
    }
   ],
   "source": [
    "df['total_income_category'] = df.apply(income_group, axis=1)\n",
    "df.head(5)"
   ]
  },
  {
   "cell_type": "markdown",
   "id": "4c9519d0",
   "metadata": {},
   "source": [
    "Так же для вывода подготовим для словарь по уровню доходов:"
   ]
  },
  {
   "cell_type": "code",
   "execution_count": 36,
   "id": "a2082d92",
   "metadata": {
    "scrolled": true
   },
   "outputs": [
    {
     "data": {
      "text/html": [
       "<div>\n",
       "<style scoped>\n",
       "    .dataframe tbody tr th:only-of-type {\n",
       "        vertical-align: middle;\n",
       "    }\n",
       "\n",
       "    .dataframe tbody tr th {\n",
       "        vertical-align: top;\n",
       "    }\n",
       "\n",
       "    .dataframe thead th {\n",
       "        text-align: right;\n",
       "    }\n",
       "</style>\n",
       "<table border=\"1\" class=\"dataframe\">\n",
       "  <thead>\n",
       "    <tr style=\"text-align: right;\">\n",
       "      <th></th>\n",
       "      <th>total_income_category</th>\n",
       "      <th>income_range</th>\n",
       "    </tr>\n",
       "  </thead>\n",
       "  <tbody>\n",
       "    <tr>\n",
       "      <th>0</th>\n",
       "      <td>A</td>\n",
       "      <td>A от 1 000 001₽ и больше</td>\n",
       "    </tr>\n",
       "    <tr>\n",
       "      <th>1</th>\n",
       "      <td>B</td>\n",
       "      <td>B от 200 001₽ - 1 000 000₽</td>\n",
       "    </tr>\n",
       "    <tr>\n",
       "      <th>2</th>\n",
       "      <td>C</td>\n",
       "      <td>C от 50 001₽ - 200 000₽</td>\n",
       "    </tr>\n",
       "    <tr>\n",
       "      <th>3</th>\n",
       "      <td>D</td>\n",
       "      <td>D от 30 001₽ - 50 000₽</td>\n",
       "    </tr>\n",
       "    <tr>\n",
       "      <th>4</th>\n",
       "      <td>E</td>\n",
       "      <td>E от 0₽ - 30 000₽</td>\n",
       "    </tr>\n",
       "  </tbody>\n",
       "</table>\n",
       "</div>"
      ],
      "text/plain": [
       "  total_income_category                income_range\n",
       "0                     A    A от 1 000 001₽ и больше\n",
       "1                     B  B от 200 001₽ - 1 000 000₽\n",
       "2                     C     C от 50 001₽ - 200 000₽\n",
       "3                     D      D от 30 001₽ - 50 000₽\n",
       "4                     E           E от 0₽ - 30 000₽"
      ]
     },
     "execution_count": 36,
     "metadata": {},
     "output_type": "execute_result"
    }
   ],
   "source": [
    "income_values = [\n",
    "    ['A','A от 1 000 001₽ и больше'],\n",
    "    ['B','B от 200 001₽ - 1 000 000₽'],\n",
    "    ['C','C от 50 001₽ - 200 000₽'],\n",
    "    ['D','D от 30 001₽ - 50 000₽'],\n",
    "    ['E','E от 0₽ - 30 000₽'],\n",
    "]\n",
    "\n",
    "income_columns = ['total_income_category','income_range']\n",
    "income_group = pd.DataFrame(data=income_values , columns=income_columns)\n",
    "\n",
    "income_group"
   ]
  },
  {
   "cell_type": "markdown",
   "id": "3d0e4384",
   "metadata": {},
   "source": [
    "### Шаг 2.7. Категоризация целей кредита."
   ]
  },
  {
   "cell_type": "markdown",
   "id": "7dac845b",
   "metadata": {},
   "source": [
    "Создадим функцию `purpose_group` для групированию по цели кредита.\n",
    "\n",
    "Сделаем 4 категорий:\n",
    "\n",
    " - **операции с автомобилем**\n",
    " - **операции с недвижимостью**\n",
    " - **проведение свадьбы**\n",
    " - **получение образования**\n",
    " \n",
    " Посмотрим какие категорие есть в колонке `purpose`:"
   ]
  },
  {
   "cell_type": "code",
   "execution_count": 37,
   "id": "321f9132",
   "metadata": {
    "scrolled": false
   },
   "outputs": [
    {
     "data": {
      "text/plain": [
       "свадьба                                   791\n",
       "на проведение свадьбы                     768\n",
       "сыграть свадьбу                           765\n",
       "операции с недвижимостью                  675\n",
       "покупка коммерческой недвижимости         661\n",
       "операции с жильем                         652\n",
       "покупка жилья для сдачи                   651\n",
       "операции с коммерческой недвижимостью     650\n",
       "покупка жилья                             646\n",
       "жилье                                     646\n",
       "покупка жилья для семьи                   638\n",
       "строительство собственной недвижимости    635\n",
       "недвижимость                              633\n",
       "операции со своей недвижимостью           627\n",
       "строительство жилой недвижимости          624\n",
       "покупка недвижимости                      621\n",
       "покупка своего жилья                      620\n",
       "строительство недвижимости                619\n",
       "ремонт жилью                              607\n",
       "покупка жилой недвижимости                606\n",
       "на покупку своего автомобиля              505\n",
       "заняться высшим образованием              496\n",
       "автомобиль                                494\n",
       "сделка с подержанным автомобилем          486\n",
       "свой автомобиль                           478\n",
       "на покупку подержанного автомобиля        478\n",
       "автомобили                                478\n",
       "на покупку автомобиля                     471\n",
       "приобретение автомобиля                   461\n",
       "дополнительное образование                460\n",
       "сделка с автомобилем                      455\n",
       "высшее образование                        452\n",
       "образование                               447\n",
       "получение дополнительного образования     446\n",
       "получение образования                     442\n",
       "профильное образование                    436\n",
       "получение высшего образования             426\n",
       "заняться образованием                     408\n",
       "Name: purpose, dtype: int64"
      ]
     },
     "execution_count": 37,
     "metadata": {},
     "output_type": "execute_result"
    }
   ],
   "source": [
    " df['purpose'].value_counts()"
   ]
  },
  {
   "cell_type": "markdown",
   "id": "99e0b8fa",
   "metadata": {},
   "source": [
    "Напишем функцию и проверим ее на проверочной строке:"
   ]
  },
  {
   "cell_type": "code",
   "execution_count": 38,
   "id": "efe65bf5",
   "metadata": {
    "scrolled": true
   },
   "outputs": [
    {
     "data": {
      "text/plain": [
       "'получение образования'"
      ]
     },
     "execution_count": 38,
     "metadata": {},
     "output_type": "execute_result"
    }
   ],
   "source": [
    "def purpose_group(row):\n",
    "    \n",
    "    purpose = row['purpose']#берем ячейки из колонки purpose разбивая их в списки\n",
    "    try:\n",
    "        if 'авто' in purpose:\n",
    "            return 'операции с автомобилем'\n",
    "        elif 'недвиж' in purpose or 'жиль' in purpose:\n",
    "            return 'операции с недвижимостью'\n",
    "        elif 'свадьб' in purpose:\n",
    "            return 'проведение свадьбы'\n",
    "        elif 'образо' in purpose:\n",
    "            return 'получение образования'\n",
    "    except:\n",
    "        display('Ошибка проверь слова тригеры в списке')\n",
    "\n",
    "            \n",
    "#сделаем проверочную Series            \n",
    "row_values = ['получение дополнительного образования']\n",
    "row_columns = ['purpose']\n",
    "\n",
    "row = pd.Series(data=row_values, index=row_columns)\n",
    "\n",
    "purpose_group(row)#запустим нашу функцию по проверочной переменной row"
   ]
  },
  {
   "cell_type": "markdown",
   "id": "620f257d",
   "metadata": {},
   "source": [
    "Запустим функцию пременив ее на нашем DataFrame и затем выведем первые 5 строк для проверки:"
   ]
  },
  {
   "cell_type": "code",
   "execution_count": 39,
   "id": "d71f5c77",
   "metadata": {
    "scrolled": true
   },
   "outputs": [
    {
     "data": {
      "text/html": [
       "<div>\n",
       "<style scoped>\n",
       "    .dataframe tbody tr th:only-of-type {\n",
       "        vertical-align: middle;\n",
       "    }\n",
       "\n",
       "    .dataframe tbody tr th {\n",
       "        vertical-align: top;\n",
       "    }\n",
       "\n",
       "    .dataframe thead th {\n",
       "        text-align: right;\n",
       "    }\n",
       "</style>\n",
       "<table border=\"1\" class=\"dataframe\">\n",
       "  <thead>\n",
       "    <tr style=\"text-align: right;\">\n",
       "      <th></th>\n",
       "      <th>children</th>\n",
       "      <th>days_employed</th>\n",
       "      <th>dob_years</th>\n",
       "      <th>education_id</th>\n",
       "      <th>family_status_id</th>\n",
       "      <th>gender</th>\n",
       "      <th>income_type</th>\n",
       "      <th>debt</th>\n",
       "      <th>total_income</th>\n",
       "      <th>purpose</th>\n",
       "      <th>total_income_category</th>\n",
       "      <th>purpose_category</th>\n",
       "    </tr>\n",
       "  </thead>\n",
       "  <tbody>\n",
       "    <tr>\n",
       "      <th>0</th>\n",
       "      <td>1</td>\n",
       "      <td>8437</td>\n",
       "      <td>42</td>\n",
       "      <td>0</td>\n",
       "      <td>0</td>\n",
       "      <td>F</td>\n",
       "      <td>сотрудник</td>\n",
       "      <td>0</td>\n",
       "      <td>253875</td>\n",
       "      <td>покупка жилья</td>\n",
       "      <td>B</td>\n",
       "      <td>операции с недвижимостью</td>\n",
       "    </tr>\n",
       "    <tr>\n",
       "      <th>1</th>\n",
       "      <td>1</td>\n",
       "      <td>4024</td>\n",
       "      <td>36</td>\n",
       "      <td>1</td>\n",
       "      <td>0</td>\n",
       "      <td>F</td>\n",
       "      <td>сотрудник</td>\n",
       "      <td>0</td>\n",
       "      <td>112080</td>\n",
       "      <td>приобретение автомобиля</td>\n",
       "      <td>C</td>\n",
       "      <td>операции с автомобилем</td>\n",
       "    </tr>\n",
       "    <tr>\n",
       "      <th>2</th>\n",
       "      <td>0</td>\n",
       "      <td>5623</td>\n",
       "      <td>33</td>\n",
       "      <td>1</td>\n",
       "      <td>0</td>\n",
       "      <td>M</td>\n",
       "      <td>сотрудник</td>\n",
       "      <td>0</td>\n",
       "      <td>145885</td>\n",
       "      <td>покупка жилья</td>\n",
       "      <td>C</td>\n",
       "      <td>операции с недвижимостью</td>\n",
       "    </tr>\n",
       "    <tr>\n",
       "      <th>3</th>\n",
       "      <td>3</td>\n",
       "      <td>4124</td>\n",
       "      <td>32</td>\n",
       "      <td>1</td>\n",
       "      <td>0</td>\n",
       "      <td>M</td>\n",
       "      <td>сотрудник</td>\n",
       "      <td>0</td>\n",
       "      <td>267628</td>\n",
       "      <td>дополнительное образование</td>\n",
       "      <td>B</td>\n",
       "      <td>получение образования</td>\n",
       "    </tr>\n",
       "    <tr>\n",
       "      <th>4</th>\n",
       "      <td>0</td>\n",
       "      <td>14177</td>\n",
       "      <td>53</td>\n",
       "      <td>1</td>\n",
       "      <td>1</td>\n",
       "      <td>F</td>\n",
       "      <td>пенсионер</td>\n",
       "      <td>0</td>\n",
       "      <td>158616</td>\n",
       "      <td>сыграть свадьбу</td>\n",
       "      <td>C</td>\n",
       "      <td>проведение свадьбы</td>\n",
       "    </tr>\n",
       "  </tbody>\n",
       "</table>\n",
       "</div>"
      ],
      "text/plain": [
       "   children  days_employed  dob_years  education_id  family_status_id gender  \\\n",
       "0         1           8437         42             0                 0      F   \n",
       "1         1           4024         36             1                 0      F   \n",
       "2         0           5623         33             1                 0      M   \n",
       "3         3           4124         32             1                 0      M   \n",
       "4         0          14177         53             1                 1      F   \n",
       "\n",
       "  income_type  debt  total_income                     purpose  \\\n",
       "0   сотрудник     0        253875               покупка жилья   \n",
       "1   сотрудник     0        112080     приобретение автомобиля   \n",
       "2   сотрудник     0        145885               покупка жилья   \n",
       "3   сотрудник     0        267628  дополнительное образование   \n",
       "4   пенсионер     0        158616             сыграть свадьбу   \n",
       "\n",
       "  total_income_category          purpose_category  \n",
       "0                     B  операции с недвижимостью  \n",
       "1                     C    операции с автомобилем  \n",
       "2                     C  операции с недвижимостью  \n",
       "3                     B     получение образования  \n",
       "4                     C        проведение свадьбы  "
      ]
     },
     "execution_count": 39,
     "metadata": {},
     "output_type": "execute_result"
    }
   ],
   "source": [
    "df['purpose_category'] = df.apply(purpose_group, axis=1)\n",
    "df.head(5)"
   ]
  },
  {
   "cell_type": "markdown",
   "id": "838737a4",
   "metadata": {},
   "source": [
    "### Шаг 2.8. Дополнительная категоризация."
   ]
  },
  {
   "cell_type": "markdown",
   "id": "587e3e57",
   "metadata": {},
   "source": [
    "Так же с учетом правок по аномалиям проведем дополнительную класификацию по возрасту и стажу.\n",
    "\n",
    "Напишем функцию `experience_group` по категоризации стажа:\n",
    "\n",
    " - **E** - до года\n",
    " - **D** - 1 - 3 лет\n",
    " - **C** - 3 - 8 лет\n",
    " - **B** - 8 - 20 лет\n",
    " - **A** - больше 20 лет\n"
   ]
  },
  {
   "cell_type": "code",
   "execution_count": 40,
   "id": "6c78cce9",
   "metadata": {
    "scrolled": true
   },
   "outputs": [
    {
     "data": {
      "text/plain": [
       "'B'"
      ]
     },
     "execution_count": 40,
     "metadata": {},
     "output_type": "execute_result"
    }
   ],
   "source": [
    "def experience_group(row):\n",
    "    \n",
    "    experience = row['days_employed']\n",
    "    year = 365\n",
    "    try:\n",
    "        if experience < year + 1: \n",
    "            return 'E'\n",
    "        if year < experience < 3 * year + 1:\n",
    "            return 'D'\n",
    "        if 3 * year < experience < 8 * year + 1:\n",
    "            return 'C'\n",
    "        if 8 * year < experience < 20 * year:\n",
    "            return 'B'\n",
    "        return 'A'\n",
    "    except:\n",
    "        display('Ошибка проверить тип данных в days_employed')\n",
    "\n",
    "#для проверки сделаем серию pandas и запустим нашу функцию\n",
    "row_values = [10 * 365]\n",
    "row_columns = ['days_employed']\n",
    "\n",
    "row = pd.Series(data=row_values, index=row_columns)\n",
    "\n",
    "experience_group(row)"
   ]
  },
  {
   "cell_type": "markdown",
   "id": "29074f0d",
   "metadata": {},
   "source": [
    "Так же для вывода подготовим для словарь по стажу:"
   ]
  },
  {
   "cell_type": "code",
   "execution_count": 41,
   "id": "32955ae4",
   "metadata": {},
   "outputs": [
    {
     "data": {
      "text/html": [
       "<div>\n",
       "<style scoped>\n",
       "    .dataframe tbody tr th:only-of-type {\n",
       "        vertical-align: middle;\n",
       "    }\n",
       "\n",
       "    .dataframe tbody tr th {\n",
       "        vertical-align: top;\n",
       "    }\n",
       "\n",
       "    .dataframe thead th {\n",
       "        text-align: right;\n",
       "    }\n",
       "</style>\n",
       "<table border=\"1\" class=\"dataframe\">\n",
       "  <thead>\n",
       "    <tr style=\"text-align: right;\">\n",
       "      <th></th>\n",
       "      <th>experience_category</th>\n",
       "      <th>experience_range</th>\n",
       "    </tr>\n",
       "  </thead>\n",
       "  <tbody>\n",
       "    <tr>\n",
       "      <th>0</th>\n",
       "      <td>A</td>\n",
       "      <td>A больше 20 лет</td>\n",
       "    </tr>\n",
       "    <tr>\n",
       "      <th>1</th>\n",
       "      <td>B</td>\n",
       "      <td>B от 8 - 20 лет</td>\n",
       "    </tr>\n",
       "    <tr>\n",
       "      <th>2</th>\n",
       "      <td>C</td>\n",
       "      <td>C от 3 - 8 лет</td>\n",
       "    </tr>\n",
       "    <tr>\n",
       "      <th>3</th>\n",
       "      <td>D</td>\n",
       "      <td>D от 1 - 3 лет</td>\n",
       "    </tr>\n",
       "    <tr>\n",
       "      <th>4</th>\n",
       "      <td>E</td>\n",
       "      <td>E до 1 года</td>\n",
       "    </tr>\n",
       "  </tbody>\n",
       "</table>\n",
       "</div>"
      ],
      "text/plain": [
       "  experience_category experience_range\n",
       "0                   A  A больше 20 лет\n",
       "1                   B  B от 8 - 20 лет\n",
       "2                   C   C от 3 - 8 лет\n",
       "3                   D   D от 1 - 3 лет\n",
       "4                   E      E до 1 года"
      ]
     },
     "execution_count": 41,
     "metadata": {},
     "output_type": "execute_result"
    }
   ],
   "source": [
    "experience_values = [\n",
    "    ['A','A больше 20 лет'],\n",
    "    ['B','B от 8 - 20 лет'],\n",
    "    ['C','C от 3 - 8 лет'],\n",
    "    ['D','D от 1 - 3 лет'],\n",
    "    ['E','E до 1 года'],\n",
    "]\n",
    "\n",
    "experience_columns = ['experience_category','experience_range']\n",
    "experience_groups = pd.DataFrame(data=experience_values , columns=experience_columns)\n",
    "\n",
    "experience_groups"
   ]
  },
  {
   "cell_type": "code",
   "execution_count": 42,
   "id": "d8a0a424",
   "metadata": {},
   "outputs": [
    {
     "data": {
      "text/html": [
       "<div>\n",
       "<style scoped>\n",
       "    .dataframe tbody tr th:only-of-type {\n",
       "        vertical-align: middle;\n",
       "    }\n",
       "\n",
       "    .dataframe tbody tr th {\n",
       "        vertical-align: top;\n",
       "    }\n",
       "\n",
       "    .dataframe thead th {\n",
       "        text-align: right;\n",
       "    }\n",
       "</style>\n",
       "<table border=\"1\" class=\"dataframe\">\n",
       "  <thead>\n",
       "    <tr style=\"text-align: right;\">\n",
       "      <th></th>\n",
       "      <th>children</th>\n",
       "      <th>days_employed</th>\n",
       "      <th>dob_years</th>\n",
       "      <th>education_id</th>\n",
       "      <th>family_status_id</th>\n",
       "      <th>gender</th>\n",
       "      <th>income_type</th>\n",
       "      <th>debt</th>\n",
       "      <th>total_income</th>\n",
       "      <th>purpose</th>\n",
       "      <th>total_income_category</th>\n",
       "      <th>purpose_category</th>\n",
       "      <th>experience_category</th>\n",
       "    </tr>\n",
       "  </thead>\n",
       "  <tbody>\n",
       "    <tr>\n",
       "      <th>0</th>\n",
       "      <td>1</td>\n",
       "      <td>8437</td>\n",
       "      <td>42</td>\n",
       "      <td>0</td>\n",
       "      <td>0</td>\n",
       "      <td>F</td>\n",
       "      <td>сотрудник</td>\n",
       "      <td>0</td>\n",
       "      <td>253875</td>\n",
       "      <td>покупка жилья</td>\n",
       "      <td>B</td>\n",
       "      <td>операции с недвижимостью</td>\n",
       "      <td>A</td>\n",
       "    </tr>\n",
       "    <tr>\n",
       "      <th>1</th>\n",
       "      <td>1</td>\n",
       "      <td>4024</td>\n",
       "      <td>36</td>\n",
       "      <td>1</td>\n",
       "      <td>0</td>\n",
       "      <td>F</td>\n",
       "      <td>сотрудник</td>\n",
       "      <td>0</td>\n",
       "      <td>112080</td>\n",
       "      <td>приобретение автомобиля</td>\n",
       "      <td>C</td>\n",
       "      <td>операции с автомобилем</td>\n",
       "      <td>B</td>\n",
       "    </tr>\n",
       "    <tr>\n",
       "      <th>2</th>\n",
       "      <td>0</td>\n",
       "      <td>5623</td>\n",
       "      <td>33</td>\n",
       "      <td>1</td>\n",
       "      <td>0</td>\n",
       "      <td>M</td>\n",
       "      <td>сотрудник</td>\n",
       "      <td>0</td>\n",
       "      <td>145885</td>\n",
       "      <td>покупка жилья</td>\n",
       "      <td>C</td>\n",
       "      <td>операции с недвижимостью</td>\n",
       "      <td>B</td>\n",
       "    </tr>\n",
       "    <tr>\n",
       "      <th>3</th>\n",
       "      <td>3</td>\n",
       "      <td>4124</td>\n",
       "      <td>32</td>\n",
       "      <td>1</td>\n",
       "      <td>0</td>\n",
       "      <td>M</td>\n",
       "      <td>сотрудник</td>\n",
       "      <td>0</td>\n",
       "      <td>267628</td>\n",
       "      <td>дополнительное образование</td>\n",
       "      <td>B</td>\n",
       "      <td>получение образования</td>\n",
       "      <td>B</td>\n",
       "    </tr>\n",
       "    <tr>\n",
       "      <th>4</th>\n",
       "      <td>0</td>\n",
       "      <td>14177</td>\n",
       "      <td>53</td>\n",
       "      <td>1</td>\n",
       "      <td>1</td>\n",
       "      <td>F</td>\n",
       "      <td>пенсионер</td>\n",
       "      <td>0</td>\n",
       "      <td>158616</td>\n",
       "      <td>сыграть свадьбу</td>\n",
       "      <td>C</td>\n",
       "      <td>проведение свадьбы</td>\n",
       "      <td>A</td>\n",
       "    </tr>\n",
       "  </tbody>\n",
       "</table>\n",
       "</div>"
      ],
      "text/plain": [
       "   children  days_employed  dob_years  education_id  family_status_id gender  \\\n",
       "0         1           8437         42             0                 0      F   \n",
       "1         1           4024         36             1                 0      F   \n",
       "2         0           5623         33             1                 0      M   \n",
       "3         3           4124         32             1                 0      M   \n",
       "4         0          14177         53             1                 1      F   \n",
       "\n",
       "  income_type  debt  total_income                     purpose  \\\n",
       "0   сотрудник     0        253875               покупка жилья   \n",
       "1   сотрудник     0        112080     приобретение автомобиля   \n",
       "2   сотрудник     0        145885               покупка жилья   \n",
       "3   сотрудник     0        267628  дополнительное образование   \n",
       "4   пенсионер     0        158616             сыграть свадьбу   \n",
       "\n",
       "  total_income_category          purpose_category experience_category  \n",
       "0                     B  операции с недвижимостью                   A  \n",
       "1                     C    операции с автомобилем                   B  \n",
       "2                     C  операции с недвижимостью                   B  \n",
       "3                     B     получение образования                   B  \n",
       "4                     C        проведение свадьбы                   A  "
      ]
     },
     "execution_count": 42,
     "metadata": {},
     "output_type": "execute_result"
    }
   ],
   "source": [
    "df['experience_category'] = df.apply(experience_group, axis=1)\n",
    "df.head(5)"
   ]
  },
  {
   "cell_type": "markdown",
   "id": "3198cd76",
   "metadata": {},
   "source": [
    "Напишем функцию `age_group` по категоризации возроста:\n",
    "\n",
    " - **A** - до 30 лет\n",
    " - **B** - от 30 - 40 лет\n",
    " - **C** - от 40 - 60 лет\n",
    " - **D** - больше 60 лет"
   ]
  },
  {
   "cell_type": "code",
   "execution_count": 43,
   "id": "06b728b6",
   "metadata": {},
   "outputs": [
    {
     "data": {
      "text/plain": [
       "'C'"
      ]
     },
     "execution_count": 43,
     "metadata": {},
     "output_type": "execute_result"
    }
   ],
   "source": [
    "def age_group(row):\n",
    "    \n",
    "    experience = row['dob_years']\n",
    "    \n",
    "    try:\n",
    "        if experience < 31: #\n",
    "            return 'A'\n",
    "        if 30 < experience < 41:\n",
    "            return 'B'\n",
    "        if 40 < experience < 61:\n",
    "            return 'C'\n",
    "        if 60 < experience < 150:\n",
    "            return 'D'\n",
    "        return display('Проверить возраст! или готовить книгу рекордов гинноса по долгожителям')\n",
    "    except:\n",
    "        display('Ошибка проверить тип данных в dob_years')\n",
    "\n",
    "#для проверки сделаем серию pandas и запустим нашу функцию\n",
    "row_values = [50]\n",
    "row_columns = ['dob_years']\n",
    "\n",
    "row = pd.Series(data=row_values, index=row_columns)\n",
    "\n",
    "age_group(row)"
   ]
  },
  {
   "cell_type": "code",
   "execution_count": 44,
   "id": "c89ca572",
   "metadata": {
    "scrolled": true
   },
   "outputs": [
    {
     "data": {
      "text/html": [
       "<div>\n",
       "<style scoped>\n",
       "    .dataframe tbody tr th:only-of-type {\n",
       "        vertical-align: middle;\n",
       "    }\n",
       "\n",
       "    .dataframe tbody tr th {\n",
       "        vertical-align: top;\n",
       "    }\n",
       "\n",
       "    .dataframe thead th {\n",
       "        text-align: right;\n",
       "    }\n",
       "</style>\n",
       "<table border=\"1\" class=\"dataframe\">\n",
       "  <thead>\n",
       "    <tr style=\"text-align: right;\">\n",
       "      <th></th>\n",
       "      <th>children</th>\n",
       "      <th>days_employed</th>\n",
       "      <th>dob_years</th>\n",
       "      <th>education_id</th>\n",
       "      <th>family_status_id</th>\n",
       "      <th>gender</th>\n",
       "      <th>income_type</th>\n",
       "      <th>debt</th>\n",
       "      <th>total_income</th>\n",
       "      <th>purpose</th>\n",
       "      <th>total_income_category</th>\n",
       "      <th>purpose_category</th>\n",
       "      <th>experience_category</th>\n",
       "      <th>age_category</th>\n",
       "    </tr>\n",
       "  </thead>\n",
       "  <tbody>\n",
       "    <tr>\n",
       "      <th>0</th>\n",
       "      <td>1</td>\n",
       "      <td>8437</td>\n",
       "      <td>42</td>\n",
       "      <td>0</td>\n",
       "      <td>0</td>\n",
       "      <td>F</td>\n",
       "      <td>сотрудник</td>\n",
       "      <td>0</td>\n",
       "      <td>253875</td>\n",
       "      <td>покупка жилья</td>\n",
       "      <td>B</td>\n",
       "      <td>операции с недвижимостью</td>\n",
       "      <td>A</td>\n",
       "      <td>C</td>\n",
       "    </tr>\n",
       "    <tr>\n",
       "      <th>1</th>\n",
       "      <td>1</td>\n",
       "      <td>4024</td>\n",
       "      <td>36</td>\n",
       "      <td>1</td>\n",
       "      <td>0</td>\n",
       "      <td>F</td>\n",
       "      <td>сотрудник</td>\n",
       "      <td>0</td>\n",
       "      <td>112080</td>\n",
       "      <td>приобретение автомобиля</td>\n",
       "      <td>C</td>\n",
       "      <td>операции с автомобилем</td>\n",
       "      <td>B</td>\n",
       "      <td>B</td>\n",
       "    </tr>\n",
       "    <tr>\n",
       "      <th>2</th>\n",
       "      <td>0</td>\n",
       "      <td>5623</td>\n",
       "      <td>33</td>\n",
       "      <td>1</td>\n",
       "      <td>0</td>\n",
       "      <td>M</td>\n",
       "      <td>сотрудник</td>\n",
       "      <td>0</td>\n",
       "      <td>145885</td>\n",
       "      <td>покупка жилья</td>\n",
       "      <td>C</td>\n",
       "      <td>операции с недвижимостью</td>\n",
       "      <td>B</td>\n",
       "      <td>B</td>\n",
       "    </tr>\n",
       "    <tr>\n",
       "      <th>3</th>\n",
       "      <td>3</td>\n",
       "      <td>4124</td>\n",
       "      <td>32</td>\n",
       "      <td>1</td>\n",
       "      <td>0</td>\n",
       "      <td>M</td>\n",
       "      <td>сотрудник</td>\n",
       "      <td>0</td>\n",
       "      <td>267628</td>\n",
       "      <td>дополнительное образование</td>\n",
       "      <td>B</td>\n",
       "      <td>получение образования</td>\n",
       "      <td>B</td>\n",
       "      <td>B</td>\n",
       "    </tr>\n",
       "    <tr>\n",
       "      <th>4</th>\n",
       "      <td>0</td>\n",
       "      <td>14177</td>\n",
       "      <td>53</td>\n",
       "      <td>1</td>\n",
       "      <td>1</td>\n",
       "      <td>F</td>\n",
       "      <td>пенсионер</td>\n",
       "      <td>0</td>\n",
       "      <td>158616</td>\n",
       "      <td>сыграть свадьбу</td>\n",
       "      <td>C</td>\n",
       "      <td>проведение свадьбы</td>\n",
       "      <td>A</td>\n",
       "      <td>C</td>\n",
       "    </tr>\n",
       "  </tbody>\n",
       "</table>\n",
       "</div>"
      ],
      "text/plain": [
       "   children  days_employed  dob_years  education_id  family_status_id gender  \\\n",
       "0         1           8437         42             0                 0      F   \n",
       "1         1           4024         36             1                 0      F   \n",
       "2         0           5623         33             1                 0      M   \n",
       "3         3           4124         32             1                 0      M   \n",
       "4         0          14177         53             1                 1      F   \n",
       "\n",
       "  income_type  debt  total_income                     purpose  \\\n",
       "0   сотрудник     0        253875               покупка жилья   \n",
       "1   сотрудник     0        112080     приобретение автомобиля   \n",
       "2   сотрудник     0        145885               покупка жилья   \n",
       "3   сотрудник     0        267628  дополнительное образование   \n",
       "4   пенсионер     0        158616             сыграть свадьбу   \n",
       "\n",
       "  total_income_category          purpose_category experience_category  \\\n",
       "0                     B  операции с недвижимостью                   A   \n",
       "1                     C    операции с автомобилем                   B   \n",
       "2                     C  операции с недвижимостью                   B   \n",
       "3                     B     получение образования                   B   \n",
       "4                     C        проведение свадьбы                   A   \n",
       "\n",
       "  age_category  \n",
       "0            C  \n",
       "1            B  \n",
       "2            B  \n",
       "3            B  \n",
       "4            C  "
      ]
     },
     "execution_count": 44,
     "metadata": {},
     "output_type": "execute_result"
    }
   ],
   "source": [
    "df['age_category'] = df.apply(age_group, axis=1)\n",
    "df.head(5)"
   ]
  },
  {
   "cell_type": "markdown",
   "id": "c3726e34",
   "metadata": {},
   "source": [
    "Так же для вывода подготовим для словарь по возрасту:"
   ]
  },
  {
   "cell_type": "code",
   "execution_count": 45,
   "id": "5db2c6a3",
   "metadata": {},
   "outputs": [
    {
     "data": {
      "text/html": [
       "<div>\n",
       "<style scoped>\n",
       "    .dataframe tbody tr th:only-of-type {\n",
       "        vertical-align: middle;\n",
       "    }\n",
       "\n",
       "    .dataframe tbody tr th {\n",
       "        vertical-align: top;\n",
       "    }\n",
       "\n",
       "    .dataframe thead th {\n",
       "        text-align: right;\n",
       "    }\n",
       "</style>\n",
       "<table border=\"1\" class=\"dataframe\">\n",
       "  <thead>\n",
       "    <tr style=\"text-align: right;\">\n",
       "      <th></th>\n",
       "      <th>age_category</th>\n",
       "      <th>age_range</th>\n",
       "    </tr>\n",
       "  </thead>\n",
       "  <tbody>\n",
       "    <tr>\n",
       "      <th>0</th>\n",
       "      <td>A</td>\n",
       "      <td>A меньше 30 лет</td>\n",
       "    </tr>\n",
       "    <tr>\n",
       "      <th>1</th>\n",
       "      <td>B</td>\n",
       "      <td>B от 30 - 40 лет</td>\n",
       "    </tr>\n",
       "    <tr>\n",
       "      <th>2</th>\n",
       "      <td>C</td>\n",
       "      <td>C от 40 - 60 лет</td>\n",
       "    </tr>\n",
       "    <tr>\n",
       "      <th>3</th>\n",
       "      <td>D</td>\n",
       "      <td>D больше 60 лет</td>\n",
       "    </tr>\n",
       "  </tbody>\n",
       "</table>\n",
       "</div>"
      ],
      "text/plain": [
       "  age_category         age_range\n",
       "0            A   A меньше 30 лет\n",
       "1            B  B от 30 - 40 лет\n",
       "2            C  C от 40 - 60 лет\n",
       "3            D   D больше 60 лет"
      ]
     },
     "execution_count": 45,
     "metadata": {},
     "output_type": "execute_result"
    }
   ],
   "source": [
    "age_values = [\n",
    "    ['A','A меньше 30 лет'],\n",
    "    ['B','B от 30 - 40 лет'],\n",
    "    ['C','C от 40 - 60 лет'],\n",
    "    ['D','D больше 60 лет'],\n",
    "]\n",
    "\n",
    "age_columns = ['age_category','age_range']\n",
    "age_groups = pd.DataFrame(data=age_values , columns=age_columns)\n",
    "\n",
    "age_groups"
   ]
  },
  {
   "cell_type": "markdown",
   "id": "4d29f4b4",
   "metadata": {},
   "source": [
    "### Ответы на вопросы."
   ]
  },
  {
   "cell_type": "markdown",
   "id": "832d34e0",
   "metadata": {},
   "source": [
    "Перед вопросом можно посмотреть средний % проблем с кредитом по всей таблице:"
   ]
  },
  {
   "cell_type": "code",
   "execution_count": 46,
   "id": "968a42c1",
   "metadata": {
    "scrolled": true
   },
   "outputs": [
    {
     "data": {
      "text/plain": [
       "0.08115036822970076"
      ]
     },
     "execution_count": 46,
     "metadata": {},
     "output_type": "execute_result"
    }
   ],
   "source": [
    "df['debt'].mean()"
   ]
  },
  {
   "cell_type": "markdown",
   "id": "28170ea8",
   "metadata": {},
   "source": [
    "Около **8%**"
   ]
  },
  {
   "cell_type": "markdown",
   "id": "559fd3df",
   "metadata": {},
   "source": [
    "Выведем общую информацию о базе данных:"
   ]
  },
  {
   "cell_type": "code",
   "execution_count": 47,
   "id": "7b1624c2",
   "metadata": {},
   "outputs": [
    {
     "name": "stdout",
     "output_type": "stream",
     "text": [
      "<class 'pandas.core.frame.DataFrame'>\n",
      "Int64Index: 21454 entries, 0 to 21524\n",
      "Data columns (total 14 columns):\n",
      " #   Column                 Non-Null Count  Dtype \n",
      "---  ------                 --------------  ----- \n",
      " 0   children               21454 non-null  int64 \n",
      " 1   days_employed          21454 non-null  int32 \n",
      " 2   dob_years              21454 non-null  int64 \n",
      " 3   education_id           21454 non-null  int64 \n",
      " 4   family_status_id       21454 non-null  int64 \n",
      " 5   gender                 21454 non-null  object\n",
      " 6   income_type            21454 non-null  object\n",
      " 7   debt                   21454 non-null  int64 \n",
      " 8   total_income           21454 non-null  int32 \n",
      " 9   purpose                21454 non-null  object\n",
      " 10  total_income_category  21454 non-null  object\n",
      " 11  purpose_category       21454 non-null  object\n",
      " 12  experience_category    21454 non-null  object\n",
      " 13  age_category           21454 non-null  object\n",
      "dtypes: int32(2), int64(5), object(7)\n",
      "memory usage: 2.3+ MB\n"
     ]
    }
   ],
   "source": [
    "df.info()"
   ]
  },
  {
   "cell_type": "markdown",
   "id": "117efa89",
   "metadata": {},
   "source": [
    "##### Влияет ли семейное положение заёмщика на погошения им кредита в срок?"
   ]
  },
  {
   "cell_type": "code",
   "execution_count": 48,
   "id": "a6319a28",
   "metadata": {},
   "outputs": [
    {
     "data": {
      "text/html": [
       "<div>\n",
       "<style scoped>\n",
       "    .dataframe tbody tr th:only-of-type {\n",
       "        vertical-align: middle;\n",
       "    }\n",
       "\n",
       "    .dataframe tbody tr th {\n",
       "        vertical-align: top;\n",
       "    }\n",
       "\n",
       "    .dataframe thead th {\n",
       "        text-align: right;\n",
       "    }\n",
       "</style>\n",
       "<table border=\"1\" class=\"dataframe\">\n",
       "  <thead>\n",
       "    <tr style=\"text-align: right;\">\n",
       "      <th></th>\n",
       "      <th>debt</th>\n",
       "    </tr>\n",
       "    <tr>\n",
       "      <th>family_status</th>\n",
       "      <th></th>\n",
       "    </tr>\n",
       "  </thead>\n",
       "  <tbody>\n",
       "    <tr>\n",
       "      <th>в разводе</th>\n",
       "      <td>0.071130</td>\n",
       "    </tr>\n",
       "    <tr>\n",
       "      <th>вдовец / вдова</th>\n",
       "      <td>0.065693</td>\n",
       "    </tr>\n",
       "    <tr>\n",
       "      <th>гражданский брак</th>\n",
       "      <td>0.093471</td>\n",
       "    </tr>\n",
       "    <tr>\n",
       "      <th>женат / замужем</th>\n",
       "      <td>0.075452</td>\n",
       "    </tr>\n",
       "    <tr>\n",
       "      <th>не женат / не замужем</th>\n",
       "      <td>0.097509</td>\n",
       "    </tr>\n",
       "  </tbody>\n",
       "</table>\n",
       "</div>"
      ],
      "text/plain": [
       "                           debt\n",
       "family_status                  \n",
       "в разводе              0.071130\n",
       "вдовец / вдова         0.065693\n",
       "гражданский брак       0.093471\n",
       "женат / замужем        0.075452\n",
       "не женат / не замужем  0.097509"
      ]
     },
     "execution_count": 48,
     "metadata": {},
     "output_type": "execute_result"
    }
   ],
   "source": [
    "family_status_group = df.merge(family_dict, on='family_status_id', how='left').groupby(['family_status']).agg({'debt':'mean'})\n",
    "family_status_group"
   ]
  },
  {
   "cell_type": "markdown",
   "id": "22587f56",
   "metadata": {},
   "source": [
    "##### Вывод 1:"
   ]
  },
  {
   "cell_type": "markdown",
   "id": "0b3435d2",
   "metadata": {},
   "source": [
    "Самый низкий показатель в **7%** и **7.5%** у категории `в разводе` и `женат/замужем` соответственно, далее в около **9,5%** у категорий `не женат / не замужем` и `гражданский брак`.\n",
    "\n",
    "И самый низкий показатель проблем с кредитами в **6,5%**, у категории `вдовец / вдова`"
   ]
  },
  {
   "cell_type": "markdown",
   "id": "eb0ef231",
   "metadata": {},
   "source": [
    "##### Влияет ли количество детей заёмщика на возврат кредита в срок?"
   ]
  },
  {
   "cell_type": "code",
   "execution_count": 49,
   "id": "41a07788",
   "metadata": {
    "scrolled": true
   },
   "outputs": [
    {
     "data": {
      "text/html": [
       "<div>\n",
       "<style scoped>\n",
       "    .dataframe tbody tr th:only-of-type {\n",
       "        vertical-align: middle;\n",
       "    }\n",
       "\n",
       "    .dataframe tbody tr th {\n",
       "        vertical-align: top;\n",
       "    }\n",
       "\n",
       "    .dataframe thead th {\n",
       "        text-align: right;\n",
       "    }\n",
       "</style>\n",
       "<table border=\"1\" class=\"dataframe\">\n",
       "  <thead>\n",
       "    <tr style=\"text-align: right;\">\n",
       "      <th></th>\n",
       "      <th>debt</th>\n",
       "    </tr>\n",
       "    <tr>\n",
       "      <th>children</th>\n",
       "      <th></th>\n",
       "    </tr>\n",
       "  </thead>\n",
       "  <tbody>\n",
       "    <tr>\n",
       "      <th>0</th>\n",
       "      <td>0.075438</td>\n",
       "    </tr>\n",
       "    <tr>\n",
       "      <th>1</th>\n",
       "      <td>0.091658</td>\n",
       "    </tr>\n",
       "    <tr>\n",
       "      <th>2</th>\n",
       "      <td>0.094925</td>\n",
       "    </tr>\n",
       "    <tr>\n",
       "      <th>3</th>\n",
       "      <td>0.081818</td>\n",
       "    </tr>\n",
       "    <tr>\n",
       "      <th>4</th>\n",
       "      <td>0.097561</td>\n",
       "    </tr>\n",
       "    <tr>\n",
       "      <th>5</th>\n",
       "      <td>0.000000</td>\n",
       "    </tr>\n",
       "  </tbody>\n",
       "</table>\n",
       "</div>"
      ],
      "text/plain": [
       "              debt\n",
       "children          \n",
       "0         0.075438\n",
       "1         0.091658\n",
       "2         0.094925\n",
       "3         0.081818\n",
       "4         0.097561\n",
       "5         0.000000"
      ]
     },
     "execution_count": 49,
     "metadata": {},
     "output_type": "execute_result"
    }
   ],
   "source": [
    "children_group = df.groupby(['children']).agg({'debt':'mean'})\n",
    "children_group"
   ]
  },
  {
   "cell_type": "markdown",
   "id": "7a2b8735",
   "metadata": {},
   "source": [
    "##### Вывод 2: \n",
    "\n",
    "Самый высокий показатель это кредитор с `4` детьми - около **9,7%**\n",
    "\n",
    "С `1` или `2` детьми **9,1%** и **9,5%** имели проблемы с возвратом в срок.\n",
    "\n",
    "С `3` близко к среднему значению **8%**, без детей около **7,5%**\n",
    "\n",
    "Ну и лидер, у семей с `5` детьми **0%**, можно посмотреть сколько всего таких анкет:"
   ]
  },
  {
   "cell_type": "code",
   "execution_count": 50,
   "id": "1f9ac53f",
   "metadata": {},
   "outputs": [
    {
     "data": {
      "text/plain": [
       "9"
      ]
     },
     "execution_count": 50,
     "metadata": {},
     "output_type": "execute_result"
    }
   ],
   "source": [
    "df.loc[df['children'] == 5]['children'].count()"
   ]
  },
  {
   "cell_type": "markdown",
   "id": "7f31560c",
   "metadata": {},
   "source": [
    "Всего 9 анкет из 21 тыс. очень маленькая выборка для твердой оценки, что лучшие потенциальные кредиторы должны иметь 5 детей."
   ]
  },
  {
   "cell_type": "markdown",
   "id": "dc8c639e",
   "metadata": {},
   "source": [
    "##### Влияет ли уровень дохода и возвратом кредита в срок?"
   ]
  },
  {
   "cell_type": "code",
   "execution_count": 51,
   "id": "fe706ad4",
   "metadata": {},
   "outputs": [
    {
     "data": {
      "text/html": [
       "<div>\n",
       "<style scoped>\n",
       "    .dataframe tbody tr th:only-of-type {\n",
       "        vertical-align: middle;\n",
       "    }\n",
       "\n",
       "    .dataframe tbody tr th {\n",
       "        vertical-align: top;\n",
       "    }\n",
       "\n",
       "    .dataframe thead th {\n",
       "        text-align: right;\n",
       "    }\n",
       "</style>\n",
       "<table border=\"1\" class=\"dataframe\">\n",
       "  <thead>\n",
       "    <tr style=\"text-align: right;\">\n",
       "      <th></th>\n",
       "      <th>debt</th>\n",
       "    </tr>\n",
       "    <tr>\n",
       "      <th>income_range</th>\n",
       "      <th></th>\n",
       "    </tr>\n",
       "  </thead>\n",
       "  <tbody>\n",
       "    <tr>\n",
       "      <th>A от 1 000 001₽ и больше</th>\n",
       "      <td>0.080000</td>\n",
       "    </tr>\n",
       "    <tr>\n",
       "      <th>B от 200 001₽ - 1 000 000₽</th>\n",
       "      <td>0.070607</td>\n",
       "    </tr>\n",
       "    <tr>\n",
       "      <th>C от 50 001₽ - 200 000₽</th>\n",
       "      <td>0.084920</td>\n",
       "    </tr>\n",
       "    <tr>\n",
       "      <th>D от 30 001₽ - 50 000₽</th>\n",
       "      <td>0.060000</td>\n",
       "    </tr>\n",
       "    <tr>\n",
       "      <th>E от 0₽ - 30 000₽</th>\n",
       "      <td>0.090909</td>\n",
       "    </tr>\n",
       "  </tbody>\n",
       "</table>\n",
       "</div>"
      ],
      "text/plain": [
       "                                debt\n",
       "income_range                        \n",
       "A от 1 000 001₽ и больше    0.080000\n",
       "B от 200 001₽ - 1 000 000₽  0.070607\n",
       "C от 50 001₽ - 200 000₽     0.084920\n",
       "D от 30 001₽ - 50 000₽      0.060000\n",
       "E от 0₽ - 30 000₽           0.090909"
      ]
     },
     "execution_count": 51,
     "metadata": {},
     "output_type": "execute_result"
    }
   ],
   "source": [
    "total_income_group = df.merge(income_group, on='total_income_category', how='left').groupby(['income_range']).agg({'debt':'mean'})\n",
    "total_income_group"
   ]
  },
  {
   "cell_type": "markdown",
   "id": "ffe00620",
   "metadata": {},
   "source": [
    "##### Вывод 3:"
   ]
  },
  {
   "cell_type": "markdown",
   "id": "661076b6",
   "metadata": {},
   "source": [
    "###### Зависимости проблем с возвратами кредита от уровня дохода не наблюдается.\n",
    "\n",
    "Cамый низкий показатель в **6%** у клиентов с `D` - с диапозоном дохода **30 001₽ – 50 000₽**\n",
    "\n",
    "Самый высокий в **9%** у категории `E` - с диапозоном дохода **0₽ – 30 000₽**\n",
    "\n",
    "В категориях `A`, `B`, `C` -  **8%**, **7%**, **8,5%** соответственно."
   ]
  },
  {
   "cell_type": "markdown",
   "id": "da9aef0a",
   "metadata": {},
   "source": [
    "##### Как разные цели кредита влияют на его возврат в срок?"
   ]
  },
  {
   "cell_type": "code",
   "execution_count": 52,
   "id": "f3e8480a",
   "metadata": {
    "scrolled": true
   },
   "outputs": [
    {
     "data": {
      "text/html": [
       "<div>\n",
       "<style scoped>\n",
       "    .dataframe tbody tr th:only-of-type {\n",
       "        vertical-align: middle;\n",
       "    }\n",
       "\n",
       "    .dataframe tbody tr th {\n",
       "        vertical-align: top;\n",
       "    }\n",
       "\n",
       "    .dataframe thead th {\n",
       "        text-align: right;\n",
       "    }\n",
       "</style>\n",
       "<table border=\"1\" class=\"dataframe\">\n",
       "  <thead>\n",
       "    <tr style=\"text-align: right;\">\n",
       "      <th></th>\n",
       "      <th>debt</th>\n",
       "    </tr>\n",
       "    <tr>\n",
       "      <th>purpose_category</th>\n",
       "      <th></th>\n",
       "    </tr>\n",
       "  </thead>\n",
       "  <tbody>\n",
       "    <tr>\n",
       "      <th>операции с автомобилем</th>\n",
       "      <td>0.093590</td>\n",
       "    </tr>\n",
       "    <tr>\n",
       "      <th>операции с недвижимостью</th>\n",
       "      <td>0.072334</td>\n",
       "    </tr>\n",
       "    <tr>\n",
       "      <th>получение образования</th>\n",
       "      <td>0.092200</td>\n",
       "    </tr>\n",
       "    <tr>\n",
       "      <th>проведение свадьбы</th>\n",
       "      <td>0.080034</td>\n",
       "    </tr>\n",
       "  </tbody>\n",
       "</table>\n",
       "</div>"
      ],
      "text/plain": [
       "                              debt\n",
       "purpose_category                  \n",
       "операции с автомобилем    0.093590\n",
       "операции с недвижимостью  0.072334\n",
       "получение образования     0.092200\n",
       "проведение свадьбы        0.080034"
      ]
     },
     "execution_count": 52,
     "metadata": {},
     "output_type": "execute_result"
    }
   ],
   "source": [
    "purpose_group = df.groupby(['purpose_category']).agg({'debt':'mean'})\n",
    "purpose_group"
   ]
  },
  {
   "cell_type": "markdown",
   "id": "d92f39a1",
   "metadata": {},
   "source": [
    "##### Вывод 4:"
   ]
  },
  {
   "cell_type": "markdown",
   "id": "1e303449",
   "metadata": {},
   "source": [
    "###### Цель кредита так же не сильно влияет на его возврат.\n",
    "\n",
    "Больше всего проблем у категорий кредита связанный с `автомобилем` и `образованием`, **9,3%** и **9,2%**.\n",
    "\n",
    "**7,2%** у `операциий с недвижимостью` и **8%** на `проведение свадьбы`"
   ]
  },
  {
   "cell_type": "markdown",
   "id": "0c44e038",
   "metadata": {},
   "source": [
    "##### Как стаж влияет на его возврат займа в срок? \n",
    "*(учитываем, что это очень примерный параметр, из за аномальных значений и преобразований)*"
   ]
  },
  {
   "cell_type": "code",
   "execution_count": 53,
   "id": "6004f8d3",
   "metadata": {
    "scrolled": true
   },
   "outputs": [
    {
     "data": {
      "text/html": [
       "<div>\n",
       "<style scoped>\n",
       "    .dataframe tbody tr th:only-of-type {\n",
       "        vertical-align: middle;\n",
       "    }\n",
       "\n",
       "    .dataframe tbody tr th {\n",
       "        vertical-align: top;\n",
       "    }\n",
       "\n",
       "    .dataframe thead th {\n",
       "        text-align: right;\n",
       "    }\n",
       "</style>\n",
       "<table border=\"1\" class=\"dataframe\">\n",
       "  <thead>\n",
       "    <tr style=\"text-align: right;\">\n",
       "      <th></th>\n",
       "      <th>debt</th>\n",
       "    </tr>\n",
       "    <tr>\n",
       "      <th>experience_range</th>\n",
       "      <th></th>\n",
       "    </tr>\n",
       "  </thead>\n",
       "  <tbody>\n",
       "    <tr>\n",
       "      <th>A больше 20 лет</th>\n",
       "      <td>0.050452</td>\n",
       "    </tr>\n",
       "    <tr>\n",
       "      <th>B от 8 - 20 лет</th>\n",
       "      <td>0.064707</td>\n",
       "    </tr>\n",
       "    <tr>\n",
       "      <th>C от 3 - 8 лет</th>\n",
       "      <td>0.083899</td>\n",
       "    </tr>\n",
       "    <tr>\n",
       "      <th>D от 1 - 3 лет</th>\n",
       "      <td>0.112821</td>\n",
       "    </tr>\n",
       "    <tr>\n",
       "      <th>E до 1 года</th>\n",
       "      <td>0.105664</td>\n",
       "    </tr>\n",
       "  </tbody>\n",
       "</table>\n",
       "</div>"
      ],
      "text/plain": [
       "                      debt\n",
       "experience_range          \n",
       "A больше 20 лет   0.050452\n",
       "B от 8 - 20 лет   0.064707\n",
       "C от 3 - 8 лет    0.083899\n",
       "D от 1 - 3 лет    0.112821\n",
       "E до 1 года       0.105664"
      ]
     },
     "execution_count": 53,
     "metadata": {},
     "output_type": "execute_result"
    }
   ],
   "source": [
    "experiences_group = df.merge(experience_groups, on='experience_category', how='left').groupby(['experience_range']).agg({'debt':'mean'})\n",
    "experiences_group"
   ]
  },
  {
   "cell_type": "markdown",
   "id": "f0715a3b",
   "metadata": {},
   "source": [
    "##### Вывод 5:"
   ]
  },
  {
   "cell_type": "markdown",
   "id": "efe16117",
   "metadata": {},
   "source": [
    "В категории стаж, лучший показатель у кого его `больше 20 лет` всего **5%**\n",
    "\n",
    "И худшие `до 1 года` и `от 1-3 лет` **10,5%** и **11,2%** соответсвенно."
   ]
  },
  {
   "cell_type": "markdown",
   "id": "3824af7d",
   "metadata": {},
   "source": [
    "##### Как возраст влияет на его возврат в кредита срок? "
   ]
  },
  {
   "cell_type": "code",
   "execution_count": 54,
   "id": "cf83ee20",
   "metadata": {},
   "outputs": [
    {
     "data": {
      "text/html": [
       "<div>\n",
       "<style scoped>\n",
       "    .dataframe tbody tr th:only-of-type {\n",
       "        vertical-align: middle;\n",
       "    }\n",
       "\n",
       "    .dataframe tbody tr th {\n",
       "        vertical-align: top;\n",
       "    }\n",
       "\n",
       "    .dataframe thead th {\n",
       "        text-align: right;\n",
       "    }\n",
       "</style>\n",
       "<table border=\"1\" class=\"dataframe\">\n",
       "  <thead>\n",
       "    <tr style=\"text-align: right;\">\n",
       "      <th></th>\n",
       "      <th>debt</th>\n",
       "    </tr>\n",
       "    <tr>\n",
       "      <th>age_range</th>\n",
       "      <th></th>\n",
       "    </tr>\n",
       "  </thead>\n",
       "  <tbody>\n",
       "    <tr>\n",
       "      <th>A меньше 30 лет</th>\n",
       "      <td>0.107648</td>\n",
       "    </tr>\n",
       "    <tr>\n",
       "      <th>B от 30 - 40 лет</th>\n",
       "      <td>0.095255</td>\n",
       "    </tr>\n",
       "    <tr>\n",
       "      <th>C от 40 - 60 лет</th>\n",
       "      <td>0.069851</td>\n",
       "    </tr>\n",
       "    <tr>\n",
       "      <th>D больше 60 лет</th>\n",
       "      <td>0.047507</td>\n",
       "    </tr>\n",
       "  </tbody>\n",
       "</table>\n",
       "</div>"
      ],
      "text/plain": [
       "                      debt\n",
       "age_range                 \n",
       "A меньше 30 лет   0.107648\n",
       "B от 30 - 40 лет  0.095255\n",
       "C от 40 - 60 лет  0.069851\n",
       "D больше 60 лет   0.047507"
      ]
     },
     "execution_count": 54,
     "metadata": {},
     "output_type": "execute_result"
    }
   ],
   "source": [
    "ages_group = df.merge(age_groups, on='age_category', how='left').groupby(['age_range']).agg({'debt':'mean'})\n",
    "ages_group"
   ]
  },
  {
   "cell_type": "markdown",
   "id": "14b0859e",
   "metadata": {},
   "source": [
    "###### Вывод 6:"
   ]
  },
  {
   "cell_type": "markdown",
   "id": "65ed6738",
   "metadata": {},
   "source": [
    "В возрастной группе так же как и группе со стажем. \n",
    "Лучший показатель у возрастной категории `больше 60 лет` всего **4%**\n",
    "Средний у категории `от 40 - 60 лет` **7%**\n",
    "Ну самый большой процент у группы возрастом `меньше 30 лет` **10,8%** и **9,5%** у группы от `30 - 40 лет`"
   ]
  },
  {
   "cell_type": "markdown",
   "id": "a8775c9b",
   "metadata": {},
   "source": [
    "## Общий вывод:"
   ]
  },
  {
   "cell_type": "markdown",
   "id": "77431e53",
   "metadata": {},
   "source": [
    "##### Мы проверили две гипотезы по требованию заказчика и 4 свои гипотезы и установили:"
   ]
  },
  {
   "cell_type": "markdown",
   "id": "617e52c1",
   "metadata": {},
   "source": [
    "1) Семейное положение не сильно влияет на выплату кредита в срок!\n",
    " - Лучшая категория `вдовец / вдова` c **6,5%** и худшии `не женат/не замужем` и `гражданский брак` около **9%**\n",
    " \n",
    "2) Количество детей так же не сильно сказывается на сроке выплаты!\n",
    " - Лучшая категория `без детей` c **7,5%** и худший `4 ребенка` около **9,7%**\n",
    " \n",
    "3) Уровень дохода не влияет на выплату кредита в срок! \n",
    " - Лучшая категория `30 001₽ – 50 000₽` c **6%** и худший `0 - 30 000₽` около **9%**\n",
    " \n",
    "4) Цели кредита не очень сказываетются на сроке выплаты!\n",
    " - Лучшая категория `операциий с недвижимостью` c **7,2%** и худший `операции с автомобилем` около **9,3%**\n",
    " \n",
    "5) Стаж влияет на выплату кредита в срок! \n",
    " - Лучшая категория `больше 20 лет` c **5%** и худшии `до 1 года` и `от 1-3 лет` около **11%**\n",
    " \n",
    "6) Возраст так же сказывается на сроке выплаты!\n",
    " - Лучшая категория `старше 60 лет` c **4,7%** и худший `младше 30 лет` около **10,8%**\n",
    " \n",
    " "
   ]
  }
 ],
 "metadata": {
  "ExecuteTimeLog": [
   {
    "duration": 721,
    "start_time": "2022-05-23T14:44:20.270Z"
   },
   {
    "duration": 305,
    "start_time": "2022-05-23T14:44:26.771Z"
   },
   {
    "duration": 28,
    "start_time": "2022-05-23T14:45:38.064Z"
   },
   {
    "duration": 15,
    "start_time": "2022-05-23T14:47:48.541Z"
   },
   {
    "duration": 13,
    "start_time": "2022-05-23T16:02:59.811Z"
   },
   {
    "duration": 64,
    "start_time": "2022-05-23T16:04:32.910Z"
   },
   {
    "duration": 4,
    "start_time": "2022-05-23T16:04:39.308Z"
   },
   {
    "duration": 5,
    "start_time": "2022-05-23T16:04:55.253Z"
   },
   {
    "duration": 6,
    "start_time": "2022-05-23T16:06:44.147Z"
   },
   {
    "duration": 7,
    "start_time": "2022-05-23T16:06:56.105Z"
   },
   {
    "duration": 8,
    "start_time": "2022-05-23T16:08:10.720Z"
   },
   {
    "duration": 8,
    "start_time": "2022-05-23T16:08:19.640Z"
   },
   {
    "duration": 9,
    "start_time": "2022-05-23T16:08:22.380Z"
   },
   {
    "duration": 6,
    "start_time": "2022-05-23T16:08:56.750Z"
   },
   {
    "duration": 6,
    "start_time": "2022-05-23T16:12:25.443Z"
   },
   {
    "duration": 15,
    "start_time": "2022-05-23T16:13:01.523Z"
   },
   {
    "duration": 13,
    "start_time": "2022-05-23T16:13:34.098Z"
   },
   {
    "duration": 49,
    "start_time": "2022-05-23T16:14:52.898Z"
   },
   {
    "duration": 9,
    "start_time": "2022-05-23T16:15:09.811Z"
   },
   {
    "duration": 7,
    "start_time": "2022-05-23T16:15:43.779Z"
   },
   {
    "duration": 9,
    "start_time": "2022-05-23T16:15:57.018Z"
   },
   {
    "duration": 13,
    "start_time": "2022-05-23T16:16:20.221Z"
   },
   {
    "duration": 11,
    "start_time": "2022-05-23T16:16:25.573Z"
   },
   {
    "duration": 9,
    "start_time": "2022-05-23T16:16:55.706Z"
   },
   {
    "duration": 10,
    "start_time": "2022-05-23T16:17:00.757Z"
   },
   {
    "duration": 11,
    "start_time": "2022-05-23T16:17:11.169Z"
   },
   {
    "duration": 27,
    "start_time": "2022-05-23T16:17:27.457Z"
   },
   {
    "duration": 7,
    "start_time": "2022-05-23T16:17:40.647Z"
   },
   {
    "duration": 24,
    "start_time": "2022-05-23T16:17:51.748Z"
   },
   {
    "duration": 6,
    "start_time": "2022-05-23T16:18:05.193Z"
   },
   {
    "duration": 15,
    "start_time": "2022-05-23T16:18:09.594Z"
   },
   {
    "duration": 27,
    "start_time": "2022-05-23T16:18:22.348Z"
   },
   {
    "duration": 9,
    "start_time": "2022-05-23T16:18:35.256Z"
   },
   {
    "duration": 12,
    "start_time": "2022-05-23T16:18:42.742Z"
   },
   {
    "duration": 20,
    "start_time": "2022-05-23T16:18:48.170Z"
   },
   {
    "duration": 38,
    "start_time": "2022-05-23T16:27:36.336Z"
   },
   {
    "duration": 7,
    "start_time": "2022-05-23T16:28:01.459Z"
   },
   {
    "duration": 7,
    "start_time": "2022-05-23T16:29:26.473Z"
   },
   {
    "duration": 7,
    "start_time": "2022-05-23T16:30:17.353Z"
   },
   {
    "duration": 6,
    "start_time": "2022-05-23T16:31:06.876Z"
   },
   {
    "duration": 13,
    "start_time": "2022-05-23T16:32:07.636Z"
   },
   {
    "duration": 13,
    "start_time": "2022-05-23T16:32:19.834Z"
   },
   {
    "duration": 13,
    "start_time": "2022-05-23T16:32:37.184Z"
   },
   {
    "duration": 13,
    "start_time": "2022-05-23T16:32:39.982Z"
   },
   {
    "duration": 35,
    "start_time": "2022-05-23T16:37:53.192Z"
   },
   {
    "duration": 5,
    "start_time": "2022-05-23T16:38:01.330Z"
   },
   {
    "duration": 15,
    "start_time": "2022-05-23T16:38:13.461Z"
   },
   {
    "duration": 14,
    "start_time": "2022-05-23T16:39:09.802Z"
   },
   {
    "duration": 8,
    "start_time": "2022-05-23T16:46:51.353Z"
   },
   {
    "duration": 9,
    "start_time": "2022-05-23T17:18:39.393Z"
   },
   {
    "duration": 16,
    "start_time": "2022-05-23T17:21:37.998Z"
   },
   {
    "duration": 18,
    "start_time": "2022-05-23T17:21:52.595Z"
   },
   {
    "duration": 11,
    "start_time": "2022-05-23T17:22:49.046Z"
   },
   {
    "duration": 6,
    "start_time": "2022-05-23T17:23:34.098Z"
   },
   {
    "duration": 14,
    "start_time": "2022-05-23T17:23:45.348Z"
   },
   {
    "duration": 3,
    "start_time": "2022-05-23T17:23:56.748Z"
   },
   {
    "duration": 130,
    "start_time": "2022-05-23T17:23:56.753Z"
   },
   {
    "duration": 19,
    "start_time": "2022-05-23T17:23:56.886Z"
   },
   {
    "duration": 23,
    "start_time": "2022-05-23T17:23:56.907Z"
   },
   {
    "duration": 44,
    "start_time": "2022-05-23T17:23:56.933Z"
   },
   {
    "duration": 10,
    "start_time": "2022-05-23T17:23:56.982Z"
   },
   {
    "duration": 9,
    "start_time": "2022-05-23T17:23:56.994Z"
   },
   {
    "duration": 2,
    "start_time": "2022-05-23T17:25:04.999Z"
   },
   {
    "duration": 100,
    "start_time": "2022-05-23T17:25:05.006Z"
   },
   {
    "duration": 13,
    "start_time": "2022-05-23T17:25:05.108Z"
   },
   {
    "duration": 58,
    "start_time": "2022-05-23T17:25:05.122Z"
   },
   {
    "duration": 49,
    "start_time": "2022-05-23T17:25:05.182Z"
   },
   {
    "duration": 16,
    "start_time": "2022-05-23T17:25:05.233Z"
   },
   {
    "duration": 55,
    "start_time": "2022-05-23T17:25:05.250Z"
   },
   {
    "duration": 19,
    "start_time": "2022-05-23T17:25:10.320Z"
   },
   {
    "duration": 10,
    "start_time": "2022-05-23T17:25:42.103Z"
   },
   {
    "duration": 11,
    "start_time": "2022-05-23T17:25:44.609Z"
   },
   {
    "duration": 6,
    "start_time": "2022-05-23T17:26:08.850Z"
   },
   {
    "duration": 15,
    "start_time": "2022-05-23T17:26:40.476Z"
   },
   {
    "duration": 13,
    "start_time": "2022-05-23T17:27:16.478Z"
   },
   {
    "duration": 13,
    "start_time": "2022-05-23T17:28:22.891Z"
   },
   {
    "duration": 13,
    "start_time": "2022-05-23T17:28:34.283Z"
   },
   {
    "duration": 9,
    "start_time": "2022-05-23T17:28:40.757Z"
   },
   {
    "duration": 451,
    "start_time": "2022-05-23T17:28:57.671Z"
   },
   {
    "duration": 86,
    "start_time": "2022-05-23T17:28:58.124Z"
   },
   {
    "duration": 23,
    "start_time": "2022-05-23T17:28:58.212Z"
   },
   {
    "duration": 48,
    "start_time": "2022-05-23T17:28:58.238Z"
   },
   {
    "duration": 25,
    "start_time": "2022-05-23T17:28:58.289Z"
   },
   {
    "duration": 18,
    "start_time": "2022-05-23T17:28:58.316Z"
   },
   {
    "duration": 13,
    "start_time": "2022-05-23T17:28:58.336Z"
   },
   {
    "duration": 32,
    "start_time": "2022-05-23T17:28:58.363Z"
   },
   {
    "duration": 10,
    "start_time": "2022-05-23T17:29:37.757Z"
   },
   {
    "duration": 7,
    "start_time": "2022-05-23T17:30:18.597Z"
   },
   {
    "duration": 5,
    "start_time": "2022-05-23T17:30:25.689Z"
   },
   {
    "duration": 9,
    "start_time": "2022-05-23T17:31:27.994Z"
   },
   {
    "duration": 6,
    "start_time": "2022-05-23T17:33:20.404Z"
   },
   {
    "duration": 4,
    "start_time": "2022-05-23T17:35:08.911Z"
   },
   {
    "duration": 77,
    "start_time": "2022-05-23T17:35:11.409Z"
   },
   {
    "duration": 10,
    "start_time": "2022-05-23T17:37:37.444Z"
   },
   {
    "duration": 3,
    "start_time": "2022-05-23T17:37:48.916Z"
   },
   {
    "duration": 82,
    "start_time": "2022-05-23T17:37:48.923Z"
   },
   {
    "duration": 11,
    "start_time": "2022-05-23T17:37:49.007Z"
   },
   {
    "duration": 17,
    "start_time": "2022-05-23T17:37:49.020Z"
   },
   {
    "duration": 39,
    "start_time": "2022-05-23T17:37:49.039Z"
   },
   {
    "duration": 6,
    "start_time": "2022-05-23T17:37:49.079Z"
   },
   {
    "duration": 7,
    "start_time": "2022-05-23T17:37:49.087Z"
   },
   {
    "duration": 5,
    "start_time": "2022-05-23T17:38:09.042Z"
   },
   {
    "duration": 13,
    "start_time": "2022-05-23T17:38:19.809Z"
   },
   {
    "duration": 5,
    "start_time": "2022-05-23T17:38:49.242Z"
   },
   {
    "duration": 4,
    "start_time": "2022-05-23T17:39:13.973Z"
   },
   {
    "duration": 13,
    "start_time": "2022-05-23T17:39:42.373Z"
   },
   {
    "duration": 9,
    "start_time": "2022-05-23T17:42:07.605Z"
   },
   {
    "duration": 6,
    "start_time": "2022-05-23T17:42:26.637Z"
   },
   {
    "duration": 5,
    "start_time": "2022-05-23T17:43:58.896Z"
   },
   {
    "duration": 4,
    "start_time": "2022-05-23T17:44:46.977Z"
   },
   {
    "duration": 9,
    "start_time": "2022-05-23T17:49:13.376Z"
   },
   {
    "duration": 8,
    "start_time": "2022-05-23T17:49:35.339Z"
   },
   {
    "duration": 5,
    "start_time": "2022-05-23T17:50:27.086Z"
   },
   {
    "duration": 59,
    "start_time": "2022-05-24T10:15:11.507Z"
   },
   {
    "duration": 424,
    "start_time": "2022-05-24T10:15:21.753Z"
   },
   {
    "duration": 286,
    "start_time": "2022-05-24T10:15:22.179Z"
   },
   {
    "duration": 20,
    "start_time": "2022-05-24T10:15:22.466Z"
   },
   {
    "duration": 16,
    "start_time": "2022-05-24T10:15:22.489Z"
   },
   {
    "duration": 15,
    "start_time": "2022-05-24T10:15:22.507Z"
   },
   {
    "duration": 8,
    "start_time": "2022-05-24T10:15:22.524Z"
   },
   {
    "duration": 5,
    "start_time": "2022-05-24T10:15:22.560Z"
   },
   {
    "duration": 6,
    "start_time": "2022-05-24T10:15:22.567Z"
   },
   {
    "duration": 15,
    "start_time": "2022-05-24T10:15:22.575Z"
   },
   {
    "duration": 12,
    "start_time": "2022-05-24T10:15:59.389Z"
   },
   {
    "duration": 467,
    "start_time": "2022-05-24T10:20:18.831Z"
   },
   {
    "duration": 75,
    "start_time": "2022-05-24T10:20:19.300Z"
   },
   {
    "duration": 25,
    "start_time": "2022-05-24T10:20:19.377Z"
   },
   {
    "duration": 23,
    "start_time": "2022-05-24T10:20:19.404Z"
   },
   {
    "duration": 45,
    "start_time": "2022-05-24T10:20:19.429Z"
   },
   {
    "duration": 8,
    "start_time": "2022-05-24T10:20:19.476Z"
   },
   {
    "duration": 4,
    "start_time": "2022-05-24T10:20:19.486Z"
   },
   {
    "duration": 7,
    "start_time": "2022-05-24T10:20:19.492Z"
   },
   {
    "duration": 104,
    "start_time": "2022-05-24T10:20:19.500Z"
   },
   {
    "duration": 13,
    "start_time": "2022-05-24T10:20:29.359Z"
   },
   {
    "duration": 8,
    "start_time": "2022-05-24T10:21:20.544Z"
   },
   {
    "duration": 14,
    "start_time": "2022-05-24T10:21:39.439Z"
   },
   {
    "duration": 6,
    "start_time": "2022-05-24T10:23:32.654Z"
   },
   {
    "duration": 4,
    "start_time": "2022-05-24T10:25:00.691Z"
   },
   {
    "duration": 398,
    "start_time": "2022-05-24T10:25:24.416Z"
   },
   {
    "duration": 72,
    "start_time": "2022-05-24T10:25:24.816Z"
   },
   {
    "duration": 18,
    "start_time": "2022-05-24T10:25:24.890Z"
   },
   {
    "duration": 16,
    "start_time": "2022-05-24T10:25:24.910Z"
   },
   {
    "duration": 31,
    "start_time": "2022-05-24T10:25:24.928Z"
   },
   {
    "duration": 6,
    "start_time": "2022-05-24T10:25:24.961Z"
   },
   {
    "duration": 9,
    "start_time": "2022-05-24T10:25:24.968Z"
   },
   {
    "duration": 9,
    "start_time": "2022-05-24T10:25:24.979Z"
   },
   {
    "duration": 15,
    "start_time": "2022-05-24T10:25:24.990Z"
   },
   {
    "duration": 16,
    "start_time": "2022-05-24T10:25:25.007Z"
   },
   {
    "duration": 42,
    "start_time": "2022-05-24T10:25:25.024Z"
   },
   {
    "duration": 5,
    "start_time": "2022-05-24T10:25:25.068Z"
   },
   {
    "duration": 3,
    "start_time": "2022-05-24T10:26:34.199Z"
   },
   {
    "duration": 5,
    "start_time": "2022-05-24T10:26:42.304Z"
   },
   {
    "duration": 3,
    "start_time": "2022-05-24T10:26:53.026Z"
   },
   {
    "duration": 91,
    "start_time": "2022-05-24T10:26:53.035Z"
   },
   {
    "duration": 11,
    "start_time": "2022-05-24T10:26:53.128Z"
   },
   {
    "duration": 22,
    "start_time": "2022-05-24T10:26:53.141Z"
   },
   {
    "duration": 30,
    "start_time": "2022-05-24T10:26:53.165Z"
   },
   {
    "duration": 7,
    "start_time": "2022-05-24T10:26:53.196Z"
   },
   {
    "duration": 24,
    "start_time": "2022-05-24T10:26:53.205Z"
   },
   {
    "duration": 21,
    "start_time": "2022-05-24T10:26:53.230Z"
   },
   {
    "duration": 28,
    "start_time": "2022-05-24T10:26:53.252Z"
   },
   {
    "duration": 31,
    "start_time": "2022-05-24T10:26:53.282Z"
   },
   {
    "duration": 24,
    "start_time": "2022-05-24T10:26:53.315Z"
   },
   {
    "duration": 6,
    "start_time": "2022-05-24T10:27:15.642Z"
   },
   {
    "duration": 4,
    "start_time": "2022-05-24T10:29:29.579Z"
   },
   {
    "duration": 14,
    "start_time": "2022-05-24T10:31:20.274Z"
   },
   {
    "duration": 443,
    "start_time": "2022-05-24T10:33:21.138Z"
   },
   {
    "duration": 72,
    "start_time": "2022-05-24T10:33:21.583Z"
   },
   {
    "duration": 19,
    "start_time": "2022-05-24T10:33:21.656Z"
   },
   {
    "duration": 15,
    "start_time": "2022-05-24T10:33:21.677Z"
   },
   {
    "duration": 9,
    "start_time": "2022-05-24T10:33:21.693Z"
   },
   {
    "duration": 15,
    "start_time": "2022-05-24T10:33:21.703Z"
   },
   {
    "duration": 5,
    "start_time": "2022-05-24T10:33:21.720Z"
   },
   {
    "duration": 5,
    "start_time": "2022-05-24T10:33:21.759Z"
   },
   {
    "duration": 20,
    "start_time": "2022-05-24T10:33:21.765Z"
   },
   {
    "duration": 18,
    "start_time": "2022-05-24T10:33:21.787Z"
   },
   {
    "duration": 9,
    "start_time": "2022-05-24T10:33:21.807Z"
   },
   {
    "duration": 18,
    "start_time": "2022-05-24T10:33:21.817Z"
   },
   {
    "duration": 9,
    "start_time": "2022-05-24T10:33:21.837Z"
   },
   {
    "duration": 10,
    "start_time": "2022-05-24T10:33:21.848Z"
   },
   {
    "duration": 57,
    "start_time": "2022-05-24T12:40:26.118Z"
   },
   {
    "duration": 435,
    "start_time": "2022-05-24T12:40:45.346Z"
   },
   {
    "duration": 133,
    "start_time": "2022-05-24T12:40:45.783Z"
   },
   {
    "duration": 20,
    "start_time": "2022-05-24T12:40:45.918Z"
   },
   {
    "duration": 18,
    "start_time": "2022-05-24T12:40:45.939Z"
   },
   {
    "duration": 38,
    "start_time": "2022-05-24T12:40:45.960Z"
   },
   {
    "duration": 25,
    "start_time": "2022-05-24T12:40:46.000Z"
   },
   {
    "duration": 17,
    "start_time": "2022-05-24T12:40:46.026Z"
   },
   {
    "duration": 23,
    "start_time": "2022-05-24T12:40:46.045Z"
   },
   {
    "duration": 26,
    "start_time": "2022-05-24T12:40:46.070Z"
   },
   {
    "duration": 21,
    "start_time": "2022-05-24T12:40:46.099Z"
   },
   {
    "duration": 14,
    "start_time": "2022-05-24T12:40:46.122Z"
   },
   {
    "duration": 24,
    "start_time": "2022-05-24T12:40:46.138Z"
   },
   {
    "duration": 17,
    "start_time": "2022-05-24T12:40:46.164Z"
   },
   {
    "duration": 30,
    "start_time": "2022-05-24T12:40:46.183Z"
   },
   {
    "duration": 10,
    "start_time": "2022-05-24T12:41:34.040Z"
   },
   {
    "duration": 11,
    "start_time": "2022-05-24T12:41:50.301Z"
   },
   {
    "duration": 4,
    "start_time": "2022-05-24T12:52:17.863Z"
   },
   {
    "duration": 9,
    "start_time": "2022-05-24T12:53:22.477Z"
   },
   {
    "duration": 18,
    "start_time": "2022-05-24T12:54:28.640Z"
   },
   {
    "duration": 7,
    "start_time": "2022-05-24T12:54:50.175Z"
   },
   {
    "duration": 16,
    "start_time": "2022-05-24T12:55:02.221Z"
   },
   {
    "duration": 8,
    "start_time": "2022-05-24T12:55:12.384Z"
   },
   {
    "duration": 22,
    "start_time": "2022-05-24T12:55:20.557Z"
   },
   {
    "duration": 7,
    "start_time": "2022-05-24T12:55:36.681Z"
   },
   {
    "duration": 7,
    "start_time": "2022-05-24T12:56:19.327Z"
   },
   {
    "duration": 8,
    "start_time": "2022-05-24T12:56:31.981Z"
   },
   {
    "duration": 93,
    "start_time": "2022-05-24T12:58:39.805Z"
   },
   {
    "duration": 16,
    "start_time": "2022-05-24T12:58:55.939Z"
   },
   {
    "duration": 14,
    "start_time": "2022-05-24T12:59:12.982Z"
   },
   {
    "duration": 10,
    "start_time": "2022-05-24T12:59:29.653Z"
   },
   {
    "duration": 3,
    "start_time": "2022-05-24T12:59:42.538Z"
   },
   {
    "duration": 100,
    "start_time": "2022-05-24T12:59:42.543Z"
   },
   {
    "duration": 15,
    "start_time": "2022-05-24T12:59:42.645Z"
   },
   {
    "duration": 39,
    "start_time": "2022-05-24T12:59:42.663Z"
   },
   {
    "duration": 17,
    "start_time": "2022-05-24T12:59:42.704Z"
   },
   {
    "duration": 22,
    "start_time": "2022-05-24T12:59:42.723Z"
   },
   {
    "duration": 49,
    "start_time": "2022-05-24T12:59:42.747Z"
   },
   {
    "duration": 9,
    "start_time": "2022-05-24T12:59:48.283Z"
   },
   {
    "duration": 109,
    "start_time": "2022-05-24T12:59:48.294Z"
   },
   {
    "duration": 14,
    "start_time": "2022-05-24T12:59:48.405Z"
   },
   {
    "duration": 33,
    "start_time": "2022-05-24T12:59:48.422Z"
   },
   {
    "duration": 32,
    "start_time": "2022-05-24T12:59:48.457Z"
   },
   {
    "duration": 30,
    "start_time": "2022-05-24T12:59:48.500Z"
   },
   {
    "duration": 13,
    "start_time": "2022-05-24T12:59:48.532Z"
   },
   {
    "duration": 10,
    "start_time": "2022-05-24T13:00:05.902Z"
   },
   {
    "duration": 37,
    "start_time": "2022-05-24T13:00:17.666Z"
   },
   {
    "duration": 9,
    "start_time": "2022-05-24T13:00:43.777Z"
   },
   {
    "duration": 18,
    "start_time": "2022-05-24T13:01:01.384Z"
   },
   {
    "duration": 10,
    "start_time": "2022-05-24T13:05:44.477Z"
   },
   {
    "duration": 10,
    "start_time": "2022-05-24T13:05:47.998Z"
   },
   {
    "duration": 7,
    "start_time": "2022-05-24T13:05:51.047Z"
   },
   {
    "duration": 11,
    "start_time": "2022-05-24T13:06:11.434Z"
   },
   {
    "duration": 10,
    "start_time": "2022-05-24T13:07:45.079Z"
   },
   {
    "duration": 11,
    "start_time": "2022-05-24T13:07:51.268Z"
   },
   {
    "duration": 21,
    "start_time": "2022-05-24T13:08:05.927Z"
   },
   {
    "duration": 8,
    "start_time": "2022-05-24T13:08:30.811Z"
   },
   {
    "duration": 16,
    "start_time": "2022-05-24T13:08:45.218Z"
   },
   {
    "duration": 9,
    "start_time": "2022-05-24T13:09:26.515Z"
   },
   {
    "duration": 11,
    "start_time": "2022-05-24T13:09:49.179Z"
   },
   {
    "duration": 10,
    "start_time": "2022-05-24T13:09:51.667Z"
   },
   {
    "duration": 10,
    "start_time": "2022-05-24T13:09:58.721Z"
   },
   {
    "duration": 11,
    "start_time": "2022-05-24T13:16:09.462Z"
   },
   {
    "duration": 7,
    "start_time": "2022-05-24T13:16:40.745Z"
   },
   {
    "duration": 14,
    "start_time": "2022-05-24T13:17:44.753Z"
   },
   {
    "duration": 17,
    "start_time": "2022-05-24T13:18:07.060Z"
   },
   {
    "duration": 17,
    "start_time": "2022-05-24T13:18:18.493Z"
   },
   {
    "duration": 20,
    "start_time": "2022-05-24T13:22:06.242Z"
   },
   {
    "duration": 24,
    "start_time": "2022-05-24T13:23:29.697Z"
   },
   {
    "duration": 29,
    "start_time": "2022-05-24T13:23:57.520Z"
   },
   {
    "duration": 39,
    "start_time": "2022-05-24T13:26:29.135Z"
   },
   {
    "duration": 3,
    "start_time": "2022-05-24T13:26:45.422Z"
   },
   {
    "duration": 76,
    "start_time": "2022-05-24T13:26:45.427Z"
   },
   {
    "duration": 14,
    "start_time": "2022-05-24T13:26:45.505Z"
   },
   {
    "duration": 18,
    "start_time": "2022-05-24T13:26:45.521Z"
   },
   {
    "duration": 11,
    "start_time": "2022-05-24T13:26:45.542Z"
   },
   {
    "duration": 44,
    "start_time": "2022-05-24T13:26:45.555Z"
   },
   {
    "duration": 8,
    "start_time": "2022-05-24T13:26:45.601Z"
   },
   {
    "duration": 10,
    "start_time": "2022-05-24T13:26:45.611Z"
   },
   {
    "duration": 82,
    "start_time": "2022-05-24T13:26:45.623Z"
   },
   {
    "duration": 13,
    "start_time": "2022-05-24T13:27:11.321Z"
   },
   {
    "duration": 13,
    "start_time": "2022-05-24T13:27:37.392Z"
   },
   {
    "duration": 19,
    "start_time": "2022-05-24T13:28:08.952Z"
   },
   {
    "duration": 23,
    "start_time": "2022-05-24T13:28:11.050Z"
   },
   {
    "duration": 10,
    "start_time": "2022-05-24T13:28:21.849Z"
   },
   {
    "duration": 3,
    "start_time": "2022-05-24T13:28:31.634Z"
   },
   {
    "duration": 98,
    "start_time": "2022-05-24T13:28:31.639Z"
   },
   {
    "duration": 14,
    "start_time": "2022-05-24T13:28:31.739Z"
   },
   {
    "duration": 31,
    "start_time": "2022-05-24T13:28:31.756Z"
   },
   {
    "duration": 41,
    "start_time": "2022-05-24T13:28:31.789Z"
   },
   {
    "duration": 18,
    "start_time": "2022-05-24T13:28:31.832Z"
   },
   {
    "duration": 10,
    "start_time": "2022-05-24T13:28:31.852Z"
   },
   {
    "duration": 46,
    "start_time": "2022-05-24T13:28:31.864Z"
   },
   {
    "duration": 22,
    "start_time": "2022-05-24T13:28:31.913Z"
   },
   {
    "duration": 17,
    "start_time": "2022-05-24T13:28:31.937Z"
   },
   {
    "duration": 23,
    "start_time": "2022-05-24T13:29:27.746Z"
   },
   {
    "duration": 43,
    "start_time": "2022-05-24T13:30:15.475Z"
   },
   {
    "duration": 64,
    "start_time": "2022-05-24T13:30:43.645Z"
   },
   {
    "duration": 45,
    "start_time": "2022-05-24T13:31:03.608Z"
   },
   {
    "duration": 69,
    "start_time": "2022-05-24T13:31:21.655Z"
   },
   {
    "duration": 36,
    "start_time": "2022-05-24T13:31:25.752Z"
   },
   {
    "duration": 3,
    "start_time": "2022-05-24T13:31:31.372Z"
   },
   {
    "duration": 105,
    "start_time": "2022-05-24T13:31:31.376Z"
   },
   {
    "duration": 30,
    "start_time": "2022-05-24T13:31:31.484Z"
   },
   {
    "duration": 23,
    "start_time": "2022-05-24T13:31:31.516Z"
   },
   {
    "duration": 26,
    "start_time": "2022-05-24T13:31:31.541Z"
   },
   {
    "duration": 34,
    "start_time": "2022-05-24T13:31:31.569Z"
   },
   {
    "duration": 45,
    "start_time": "2022-05-24T13:31:31.604Z"
   },
   {
    "duration": 40,
    "start_time": "2022-05-24T13:31:31.651Z"
   },
   {
    "duration": 69,
    "start_time": "2022-05-24T13:31:31.693Z"
   },
   {
    "duration": 37,
    "start_time": "2022-05-24T13:31:54.275Z"
   },
   {
    "duration": 32,
    "start_time": "2022-05-24T13:32:02.675Z"
   },
   {
    "duration": 2,
    "start_time": "2022-05-24T13:32:06.209Z"
   },
   {
    "duration": 75,
    "start_time": "2022-05-24T13:32:06.214Z"
   },
   {
    "duration": 15,
    "start_time": "2022-05-24T13:32:06.291Z"
   },
   {
    "duration": 29,
    "start_time": "2022-05-24T13:32:06.307Z"
   },
   {
    "duration": 10,
    "start_time": "2022-05-24T13:32:06.339Z"
   },
   {
    "duration": 39,
    "start_time": "2022-05-24T13:32:06.351Z"
   },
   {
    "duration": 9,
    "start_time": "2022-05-24T13:32:06.392Z"
   },
   {
    "duration": 10,
    "start_time": "2022-05-24T13:32:06.403Z"
   },
   {
    "duration": 3,
    "start_time": "2022-05-24T13:32:10.866Z"
   },
   {
    "duration": 128,
    "start_time": "2022-05-24T13:32:10.871Z"
   },
   {
    "duration": 14,
    "start_time": "2022-05-24T13:32:11.000Z"
   },
   {
    "duration": 24,
    "start_time": "2022-05-24T13:32:11.016Z"
   },
   {
    "duration": 21,
    "start_time": "2022-05-24T13:32:11.042Z"
   },
   {
    "duration": 25,
    "start_time": "2022-05-24T13:32:11.064Z"
   },
   {
    "duration": 5,
    "start_time": "2022-05-24T13:32:11.091Z"
   },
   {
    "duration": 16,
    "start_time": "2022-05-24T13:32:11.098Z"
   },
   {
    "duration": 36,
    "start_time": "2022-05-24T13:32:11.116Z"
   },
   {
    "duration": 36,
    "start_time": "2022-05-24T13:32:21.244Z"
   },
   {
    "duration": 3,
    "start_time": "2022-05-24T13:34:05.828Z"
   },
   {
    "duration": 106,
    "start_time": "2022-05-24T13:34:05.832Z"
   },
   {
    "duration": 13,
    "start_time": "2022-05-24T13:34:05.942Z"
   },
   {
    "duration": 68,
    "start_time": "2022-05-24T13:34:05.957Z"
   },
   {
    "duration": 9,
    "start_time": "2022-05-24T13:34:06.028Z"
   },
   {
    "duration": 26,
    "start_time": "2022-05-24T13:34:06.039Z"
   },
   {
    "duration": 52,
    "start_time": "2022-05-24T13:34:06.067Z"
   },
   {
    "duration": 27,
    "start_time": "2022-05-24T13:34:06.121Z"
   },
   {
    "duration": 64,
    "start_time": "2022-05-24T13:34:06.150Z"
   },
   {
    "duration": 41,
    "start_time": "2022-05-24T13:34:31.056Z"
   },
   {
    "duration": 33,
    "start_time": "2022-05-24T14:30:08.330Z"
   },
   {
    "duration": 36,
    "start_time": "2022-05-24T14:30:24.613Z"
   },
   {
    "duration": 31,
    "start_time": "2022-05-24T14:30:51.426Z"
   },
   {
    "duration": 2,
    "start_time": "2022-05-24T14:30:56.104Z"
   },
   {
    "duration": 76,
    "start_time": "2022-05-24T14:30:56.108Z"
   },
   {
    "duration": 13,
    "start_time": "2022-05-24T14:30:56.185Z"
   },
   {
    "duration": 18,
    "start_time": "2022-05-24T14:30:56.200Z"
   },
   {
    "duration": 10,
    "start_time": "2022-05-24T14:30:56.220Z"
   },
   {
    "duration": 15,
    "start_time": "2022-05-24T14:30:56.232Z"
   },
   {
    "duration": 8,
    "start_time": "2022-05-24T14:30:56.284Z"
   },
   {
    "duration": 9,
    "start_time": "2022-05-24T14:30:56.294Z"
   },
   {
    "duration": 34,
    "start_time": "2022-05-24T14:30:56.305Z"
   },
   {
    "duration": 23,
    "start_time": "2022-05-24T14:34:31.163Z"
   },
   {
    "duration": 30,
    "start_time": "2022-05-24T14:35:12.571Z"
   },
   {
    "duration": 24,
    "start_time": "2022-05-24T14:35:36.778Z"
   },
   {
    "duration": 741,
    "start_time": "2022-05-24T14:36:27.129Z"
   },
   {
    "duration": 381,
    "start_time": "2022-05-24T14:36:51.501Z"
   },
   {
    "duration": 609,
    "start_time": "2022-05-24T14:37:00.047Z"
   },
   {
    "duration": 2,
    "start_time": "2022-05-24T14:37:21.745Z"
   },
   {
    "duration": 76,
    "start_time": "2022-05-24T14:37:21.753Z"
   },
   {
    "duration": 14,
    "start_time": "2022-05-24T14:37:21.831Z"
   },
   {
    "duration": 18,
    "start_time": "2022-05-24T14:37:21.847Z"
   },
   {
    "duration": 21,
    "start_time": "2022-05-24T14:37:21.867Z"
   },
   {
    "duration": 20,
    "start_time": "2022-05-24T14:37:21.890Z"
   },
   {
    "duration": 9,
    "start_time": "2022-05-24T14:37:21.912Z"
   },
   {
    "duration": 7,
    "start_time": "2022-05-24T14:37:21.923Z"
   },
   {
    "duration": 68,
    "start_time": "2022-05-24T14:37:21.932Z"
   },
   {
    "duration": 3,
    "start_time": "2022-05-24T14:37:38.450Z"
   },
   {
    "duration": 80,
    "start_time": "2022-05-24T14:37:38.455Z"
   },
   {
    "duration": 14,
    "start_time": "2022-05-24T14:37:38.537Z"
   },
   {
    "duration": 31,
    "start_time": "2022-05-24T14:37:38.553Z"
   },
   {
    "duration": 11,
    "start_time": "2022-05-24T14:37:38.586Z"
   },
   {
    "duration": 19,
    "start_time": "2022-05-24T14:37:38.598Z"
   },
   {
    "duration": 6,
    "start_time": "2022-05-24T14:37:38.619Z"
   },
   {
    "duration": 19,
    "start_time": "2022-05-24T14:37:38.627Z"
   },
   {
    "duration": 56,
    "start_time": "2022-05-24T14:37:38.648Z"
   },
   {
    "duration": 419,
    "start_time": "2022-05-24T14:38:01.027Z"
   },
   {
    "duration": 85,
    "start_time": "2022-05-24T14:38:01.449Z"
   },
   {
    "duration": 25,
    "start_time": "2022-05-24T14:38:01.536Z"
   },
   {
    "duration": 26,
    "start_time": "2022-05-24T14:38:01.585Z"
   },
   {
    "duration": 21,
    "start_time": "2022-05-24T14:38:01.613Z"
   },
   {
    "duration": 31,
    "start_time": "2022-05-24T14:38:01.636Z"
   },
   {
    "duration": 21,
    "start_time": "2022-05-24T14:38:01.684Z"
   },
   {
    "duration": 59,
    "start_time": "2022-05-24T14:38:01.707Z"
   },
   {
    "duration": 59,
    "start_time": "2022-05-24T14:38:01.768Z"
   },
   {
    "duration": 25,
    "start_time": "2022-05-24T14:38:01.830Z"
   },
   {
    "duration": 33,
    "start_time": "2022-05-24T14:38:01.857Z"
   },
   {
    "duration": 48,
    "start_time": "2022-05-24T14:38:01.892Z"
   },
   {
    "duration": 10,
    "start_time": "2022-05-24T14:38:01.942Z"
   },
   {
    "duration": 112,
    "start_time": "2022-05-24T14:38:01.953Z"
   },
   {
    "duration": 0,
    "start_time": "2022-05-24T14:38:02.067Z"
   },
   {
    "duration": 0,
    "start_time": "2022-05-24T14:38:02.073Z"
   },
   {
    "duration": 16,
    "start_time": "2022-05-24T14:38:25.044Z"
   },
   {
    "duration": 3,
    "start_time": "2022-05-24T14:38:29.517Z"
   },
   {
    "duration": 135,
    "start_time": "2022-05-24T14:38:29.522Z"
   },
   {
    "duration": 15,
    "start_time": "2022-05-24T14:38:29.659Z"
   },
   {
    "duration": 16,
    "start_time": "2022-05-24T14:38:29.677Z"
   },
   {
    "duration": 9,
    "start_time": "2022-05-24T14:38:29.696Z"
   },
   {
    "duration": 14,
    "start_time": "2022-05-24T14:38:29.707Z"
   },
   {
    "duration": 7,
    "start_time": "2022-05-24T14:38:29.723Z"
   },
   {
    "duration": 8,
    "start_time": "2022-05-24T14:38:29.732Z"
   },
   {
    "duration": 73,
    "start_time": "2022-05-24T14:38:29.742Z"
   },
   {
    "duration": 3,
    "start_time": "2022-05-24T14:40:56.146Z"
   },
   {
    "duration": 75,
    "start_time": "2022-05-24T14:40:56.151Z"
   },
   {
    "duration": 16,
    "start_time": "2022-05-24T14:40:56.228Z"
   },
   {
    "duration": 20,
    "start_time": "2022-05-24T14:40:56.246Z"
   },
   {
    "duration": 26,
    "start_time": "2022-05-24T14:40:56.268Z"
   },
   {
    "duration": 21,
    "start_time": "2022-05-24T14:40:56.295Z"
   },
   {
    "duration": 9,
    "start_time": "2022-05-24T14:40:56.318Z"
   },
   {
    "duration": 19,
    "start_time": "2022-05-24T14:40:56.328Z"
   },
   {
    "duration": 57,
    "start_time": "2022-05-24T14:40:56.349Z"
   },
   {
    "duration": 43,
    "start_time": "2022-05-24T14:41:56.456Z"
   },
   {
    "duration": 419,
    "start_time": "2022-05-24T14:42:14.010Z"
   },
   {
    "duration": 75,
    "start_time": "2022-05-24T14:42:14.431Z"
   },
   {
    "duration": 22,
    "start_time": "2022-05-24T14:42:14.507Z"
   },
   {
    "duration": 17,
    "start_time": "2022-05-24T14:42:14.532Z"
   },
   {
    "duration": 33,
    "start_time": "2022-05-24T14:42:14.551Z"
   },
   {
    "duration": 15,
    "start_time": "2022-05-24T14:42:14.586Z"
   },
   {
    "duration": 6,
    "start_time": "2022-05-24T14:42:14.602Z"
   },
   {
    "duration": 7,
    "start_time": "2022-05-24T14:42:14.609Z"
   },
   {
    "duration": 76,
    "start_time": "2022-05-24T14:42:14.618Z"
   },
   {
    "duration": 14,
    "start_time": "2022-05-24T14:42:14.697Z"
   },
   {
    "duration": 15,
    "start_time": "2022-05-24T14:42:14.713Z"
   },
   {
    "duration": 17,
    "start_time": "2022-05-24T14:42:14.730Z"
   },
   {
    "duration": 37,
    "start_time": "2022-05-24T14:42:14.749Z"
   },
   {
    "duration": 72,
    "start_time": "2022-05-24T14:42:14.788Z"
   },
   {
    "duration": 0,
    "start_time": "2022-05-24T14:42:14.861Z"
   },
   {
    "duration": 0,
    "start_time": "2022-05-24T14:42:14.863Z"
   },
   {
    "duration": 37,
    "start_time": "2022-05-24T14:43:10.706Z"
   },
   {
    "duration": 28,
    "start_time": "2022-05-24T14:47:38.537Z"
   },
   {
    "duration": 23,
    "start_time": "2022-05-24T14:48:58.630Z"
   },
   {
    "duration": 2,
    "start_time": "2022-05-24T14:49:06.231Z"
   },
   {
    "duration": 77,
    "start_time": "2022-05-24T14:49:06.235Z"
   },
   {
    "duration": 17,
    "start_time": "2022-05-24T14:49:06.314Z"
   },
   {
    "duration": 31,
    "start_time": "2022-05-24T14:49:06.333Z"
   },
   {
    "duration": 24,
    "start_time": "2022-05-24T14:49:06.366Z"
   },
   {
    "duration": 19,
    "start_time": "2022-05-24T14:49:06.392Z"
   },
   {
    "duration": 9,
    "start_time": "2022-05-24T14:49:06.414Z"
   },
   {
    "duration": 7,
    "start_time": "2022-05-24T14:49:06.424Z"
   },
   {
    "duration": 75,
    "start_time": "2022-05-24T14:49:06.433Z"
   },
   {
    "duration": 28,
    "start_time": "2022-05-24T14:49:58.174Z"
   },
   {
    "duration": 3,
    "start_time": "2022-05-24T14:50:53.827Z"
   },
   {
    "duration": 74,
    "start_time": "2022-05-24T14:50:53.833Z"
   },
   {
    "duration": 13,
    "start_time": "2022-05-24T14:50:53.909Z"
   },
   {
    "duration": 32,
    "start_time": "2022-05-24T14:50:53.925Z"
   },
   {
    "duration": 26,
    "start_time": "2022-05-24T14:50:53.959Z"
   },
   {
    "duration": 27,
    "start_time": "2022-05-24T14:50:53.987Z"
   },
   {
    "duration": 7,
    "start_time": "2022-05-24T14:50:54.016Z"
   },
   {
    "duration": 27,
    "start_time": "2022-05-24T14:50:54.025Z"
   },
   {
    "duration": 30,
    "start_time": "2022-05-24T14:50:54.054Z"
   },
   {
    "duration": 443,
    "start_time": "2022-05-24T14:58:14.300Z"
   },
   {
    "duration": 2,
    "start_time": "2022-05-24T14:59:26.623Z"
   },
   {
    "duration": 81,
    "start_time": "2022-05-24T14:59:26.628Z"
   },
   {
    "duration": 13,
    "start_time": "2022-05-24T14:59:26.711Z"
   },
   {
    "duration": 18,
    "start_time": "2022-05-24T14:59:26.726Z"
   },
   {
    "duration": 10,
    "start_time": "2022-05-24T14:59:26.746Z"
   },
   {
    "duration": 15,
    "start_time": "2022-05-24T14:59:26.784Z"
   },
   {
    "duration": 7,
    "start_time": "2022-05-24T14:59:26.801Z"
   },
   {
    "duration": 15,
    "start_time": "2022-05-24T14:59:26.810Z"
   },
   {
    "duration": 458,
    "start_time": "2022-05-24T14:59:26.828Z"
   },
   {
    "duration": 3,
    "start_time": "2022-05-24T15:00:00.741Z"
   },
   {
    "duration": 113,
    "start_time": "2022-05-24T15:00:00.746Z"
   },
   {
    "duration": 15,
    "start_time": "2022-05-24T15:00:00.861Z"
   },
   {
    "duration": 85,
    "start_time": "2022-05-24T15:00:00.879Z"
   },
   {
    "duration": 58,
    "start_time": "2022-05-24T15:00:00.967Z"
   },
   {
    "duration": 36,
    "start_time": "2022-05-24T15:00:01.028Z"
   },
   {
    "duration": 23,
    "start_time": "2022-05-24T15:00:01.066Z"
   },
   {
    "duration": 51,
    "start_time": "2022-05-24T15:00:01.092Z"
   },
   {
    "duration": 67,
    "start_time": "2022-05-24T15:00:01.145Z"
   },
   {
    "duration": 391,
    "start_time": "2022-05-24T15:00:22.840Z"
   },
   {
    "duration": 422,
    "start_time": "2022-05-24T15:00:42.255Z"
   },
   {
    "duration": 408,
    "start_time": "2022-05-24T15:01:16.454Z"
   },
   {
    "duration": 458,
    "start_time": "2022-05-24T15:01:51.153Z"
   },
   {
    "duration": 82,
    "start_time": "2022-05-24T15:01:51.613Z"
   },
   {
    "duration": 21,
    "start_time": "2022-05-24T15:01:51.697Z"
   },
   {
    "duration": 20,
    "start_time": "2022-05-24T15:01:51.720Z"
   },
   {
    "duration": 16,
    "start_time": "2022-05-24T15:01:51.743Z"
   },
   {
    "duration": 22,
    "start_time": "2022-05-24T15:01:51.784Z"
   },
   {
    "duration": 8,
    "start_time": "2022-05-24T15:01:51.808Z"
   },
   {
    "duration": 9,
    "start_time": "2022-05-24T15:01:51.818Z"
   },
   {
    "duration": 72,
    "start_time": "2022-05-24T15:01:51.830Z"
   },
   {
    "duration": 16,
    "start_time": "2022-05-24T15:01:51.905Z"
   },
   {
    "duration": 16,
    "start_time": "2022-05-24T15:01:51.923Z"
   },
   {
    "duration": 22,
    "start_time": "2022-05-24T15:01:51.941Z"
   },
   {
    "duration": 6,
    "start_time": "2022-05-24T15:01:51.983Z"
   },
   {
    "duration": 79,
    "start_time": "2022-05-24T15:01:51.990Z"
   },
   {
    "duration": 0,
    "start_time": "2022-05-24T15:01:52.084Z"
   },
   {
    "duration": 0,
    "start_time": "2022-05-24T15:01:52.085Z"
   },
   {
    "duration": 377,
    "start_time": "2022-05-24T15:48:13.709Z"
   },
   {
    "duration": 460,
    "start_time": "2022-05-24T15:48:44.294Z"
   },
   {
    "duration": 76,
    "start_time": "2022-05-24T15:48:44.756Z"
   },
   {
    "duration": 20,
    "start_time": "2022-05-24T15:48:44.834Z"
   },
   {
    "duration": 32,
    "start_time": "2022-05-24T15:48:44.856Z"
   },
   {
    "duration": 11,
    "start_time": "2022-05-24T15:48:44.890Z"
   },
   {
    "duration": 16,
    "start_time": "2022-05-24T15:48:44.903Z"
   },
   {
    "duration": 8,
    "start_time": "2022-05-24T15:48:44.922Z"
   },
   {
    "duration": 53,
    "start_time": "2022-05-24T15:48:44.931Z"
   },
   {
    "duration": 120,
    "start_time": "2022-05-24T15:48:44.986Z"
   },
   {
    "duration": 0,
    "start_time": "2022-05-24T15:48:45.107Z"
   },
   {
    "duration": 0,
    "start_time": "2022-05-24T15:48:45.108Z"
   },
   {
    "duration": 0,
    "start_time": "2022-05-24T15:48:45.109Z"
   },
   {
    "duration": 0,
    "start_time": "2022-05-24T15:48:45.110Z"
   },
   {
    "duration": 0,
    "start_time": "2022-05-24T15:48:45.111Z"
   },
   {
    "duration": 0,
    "start_time": "2022-05-24T15:48:45.112Z"
   },
   {
    "duration": 0,
    "start_time": "2022-05-24T15:48:45.113Z"
   },
   {
    "duration": 21,
    "start_time": "2022-05-24T15:49:27.203Z"
   },
   {
    "duration": 2,
    "start_time": "2022-05-24T15:49:44.670Z"
   },
   {
    "duration": 76,
    "start_time": "2022-05-24T15:49:44.674Z"
   },
   {
    "duration": 14,
    "start_time": "2022-05-24T15:49:44.752Z"
   },
   {
    "duration": 16,
    "start_time": "2022-05-24T15:49:44.767Z"
   },
   {
    "duration": 10,
    "start_time": "2022-05-24T15:49:44.785Z"
   },
   {
    "duration": 15,
    "start_time": "2022-05-24T15:49:44.796Z"
   },
   {
    "duration": 7,
    "start_time": "2022-05-24T15:49:44.812Z"
   },
   {
    "duration": 9,
    "start_time": "2022-05-24T15:49:44.820Z"
   },
   {
    "duration": 60,
    "start_time": "2022-05-24T15:49:44.830Z"
   },
   {
    "duration": 3,
    "start_time": "2022-05-24T15:50:26.564Z"
   },
   {
    "duration": 76,
    "start_time": "2022-05-24T15:50:26.573Z"
   },
   {
    "duration": 14,
    "start_time": "2022-05-24T15:50:26.651Z"
   },
   {
    "duration": 18,
    "start_time": "2022-05-24T15:50:26.666Z"
   },
   {
    "duration": 11,
    "start_time": "2022-05-24T15:50:26.686Z"
   },
   {
    "duration": 15,
    "start_time": "2022-05-24T15:50:26.700Z"
   },
   {
    "duration": 10,
    "start_time": "2022-05-24T15:50:26.717Z"
   },
   {
    "duration": 7,
    "start_time": "2022-05-24T15:50:26.728Z"
   },
   {
    "duration": 59,
    "start_time": "2022-05-24T15:50:26.736Z"
   },
   {
    "duration": 330,
    "start_time": "2022-05-24T15:50:35.446Z"
   },
   {
    "duration": 328,
    "start_time": "2022-05-24T15:50:58.810Z"
   },
   {
    "duration": 425,
    "start_time": "2022-05-24T15:51:34.118Z"
   },
   {
    "duration": 473,
    "start_time": "2022-05-24T15:52:48.082Z"
   },
   {
    "duration": 76,
    "start_time": "2022-05-24T15:52:48.556Z"
   },
   {
    "duration": 20,
    "start_time": "2022-05-24T15:52:48.636Z"
   },
   {
    "duration": 32,
    "start_time": "2022-05-24T15:52:48.658Z"
   },
   {
    "duration": 24,
    "start_time": "2022-05-24T15:52:48.691Z"
   },
   {
    "duration": 14,
    "start_time": "2022-05-24T15:52:48.717Z"
   },
   {
    "duration": 7,
    "start_time": "2022-05-24T15:52:48.733Z"
   },
   {
    "duration": 19,
    "start_time": "2022-05-24T15:52:48.741Z"
   },
   {
    "duration": 33,
    "start_time": "2022-05-24T15:52:48.762Z"
   },
   {
    "duration": 31,
    "start_time": "2022-05-24T15:52:48.797Z"
   },
   {
    "duration": 12,
    "start_time": "2022-05-24T15:52:48.830Z"
   },
   {
    "duration": 15,
    "start_time": "2022-05-24T15:52:48.844Z"
   },
   {
    "duration": 4,
    "start_time": "2022-05-24T15:52:48.861Z"
   },
   {
    "duration": 9,
    "start_time": "2022-05-24T15:52:48.867Z"
   },
   {
    "duration": 11,
    "start_time": "2022-05-24T15:52:48.877Z"
   },
   {
    "duration": 6,
    "start_time": "2022-05-24T15:52:48.889Z"
   },
   {
    "duration": 8,
    "start_time": "2022-05-24T15:53:04.060Z"
   },
   {
    "duration": 20,
    "start_time": "2022-05-24T15:53:52.023Z"
   },
   {
    "duration": 495,
    "start_time": "2022-05-24T15:54:50.922Z"
   },
   {
    "duration": 396,
    "start_time": "2022-05-24T15:55:04.803Z"
   },
   {
    "duration": 390,
    "start_time": "2022-05-24T15:55:36.271Z"
   },
   {
    "duration": 448,
    "start_time": "2022-05-24T15:56:40.060Z"
   },
   {
    "duration": 417,
    "start_time": "2022-05-24T15:56:56.609Z"
   },
   {
    "duration": 3,
    "start_time": "2022-05-24T15:57:14.791Z"
   },
   {
    "duration": 77,
    "start_time": "2022-05-24T15:57:14.796Z"
   },
   {
    "duration": 20,
    "start_time": "2022-05-24T15:57:14.875Z"
   },
   {
    "duration": 29,
    "start_time": "2022-05-24T15:57:14.897Z"
   },
   {
    "duration": 10,
    "start_time": "2022-05-24T15:57:14.929Z"
   },
   {
    "duration": 16,
    "start_time": "2022-05-24T15:57:14.940Z"
   },
   {
    "duration": 31,
    "start_time": "2022-05-24T15:57:14.957Z"
   },
   {
    "duration": 9,
    "start_time": "2022-05-24T15:57:14.991Z"
   },
   {
    "duration": 24,
    "start_time": "2022-05-24T15:57:37.714Z"
   },
   {
    "duration": 24,
    "start_time": "2022-05-24T15:57:44.377Z"
   },
   {
    "duration": 26,
    "start_time": "2022-05-24T15:58:16.932Z"
   },
   {
    "duration": 28,
    "start_time": "2022-05-24T15:58:25.008Z"
   },
   {
    "duration": 25,
    "start_time": "2022-05-24T15:58:34.864Z"
   },
   {
    "duration": 415,
    "start_time": "2022-05-24T15:58:44.377Z"
   },
   {
    "duration": 450,
    "start_time": "2022-05-24T15:59:00.043Z"
   },
   {
    "duration": 395,
    "start_time": "2022-05-24T15:59:27.386Z"
   },
   {
    "duration": 3,
    "start_time": "2022-05-24T15:59:34.422Z"
   },
   {
    "duration": 134,
    "start_time": "2022-05-24T15:59:34.428Z"
   },
   {
    "duration": 13,
    "start_time": "2022-05-24T15:59:34.563Z"
   },
   {
    "duration": 55,
    "start_time": "2022-05-24T15:59:34.578Z"
   },
   {
    "duration": 54,
    "start_time": "2022-05-24T15:59:34.635Z"
   },
   {
    "duration": 31,
    "start_time": "2022-05-24T15:59:34.690Z"
   },
   {
    "duration": 29,
    "start_time": "2022-05-24T15:59:34.723Z"
   },
   {
    "duration": 56,
    "start_time": "2022-05-24T15:59:34.754Z"
   },
   {
    "duration": 74,
    "start_time": "2022-05-24T15:59:34.812Z"
   },
   {
    "duration": 37,
    "start_time": "2022-05-24T16:06:06.436Z"
   },
   {
    "duration": 78,
    "start_time": "2022-05-24T16:07:03.501Z"
   },
   {
    "duration": 3,
    "start_time": "2022-05-24T16:08:14.288Z"
   },
   {
    "duration": 98,
    "start_time": "2022-05-24T16:08:14.294Z"
   },
   {
    "duration": 14,
    "start_time": "2022-05-24T16:08:14.394Z"
   },
   {
    "duration": 26,
    "start_time": "2022-05-24T16:08:14.410Z"
   },
   {
    "duration": 11,
    "start_time": "2022-05-24T16:08:14.439Z"
   },
   {
    "duration": 38,
    "start_time": "2022-05-24T16:08:14.452Z"
   },
   {
    "duration": 8,
    "start_time": "2022-05-24T16:08:14.492Z"
   },
   {
    "duration": 11,
    "start_time": "2022-05-24T16:08:14.502Z"
   },
   {
    "duration": 46,
    "start_time": "2022-05-24T16:08:14.515Z"
   },
   {
    "duration": 32,
    "start_time": "2022-05-24T16:08:30.548Z"
   },
   {
    "duration": 34,
    "start_time": "2022-05-24T16:08:49.957Z"
   },
   {
    "duration": 6,
    "start_time": "2022-05-24T16:10:09.626Z"
   },
   {
    "duration": 39,
    "start_time": "2022-05-24T16:11:12.455Z"
   },
   {
    "duration": 38,
    "start_time": "2022-05-24T16:12:16.691Z"
   },
   {
    "duration": 26,
    "start_time": "2022-05-24T16:16:43.884Z"
   },
   {
    "duration": 16,
    "start_time": "2022-05-24T16:16:46.761Z"
   },
   {
    "duration": 5,
    "start_time": "2022-05-24T16:18:25.692Z"
   },
   {
    "duration": 51,
    "start_time": "2022-05-25T10:05:48.986Z"
   },
   {
    "duration": 372,
    "start_time": "2022-05-25T10:05:54.124Z"
   },
   {
    "duration": 116,
    "start_time": "2022-05-25T10:05:54.498Z"
   },
   {
    "duration": 17,
    "start_time": "2022-05-25T10:05:54.616Z"
   },
   {
    "duration": 28,
    "start_time": "2022-05-25T10:05:54.636Z"
   },
   {
    "duration": 11,
    "start_time": "2022-05-25T10:05:54.666Z"
   },
   {
    "duration": 29,
    "start_time": "2022-05-25T10:05:54.679Z"
   },
   {
    "duration": 14,
    "start_time": "2022-05-25T10:05:54.709Z"
   },
   {
    "duration": 21,
    "start_time": "2022-05-25T10:05:54.724Z"
   },
   {
    "duration": 25,
    "start_time": "2022-05-25T10:05:54.746Z"
   },
   {
    "duration": 13,
    "start_time": "2022-05-25T10:05:54.773Z"
   },
   {
    "duration": 12,
    "start_time": "2022-05-25T10:05:54.788Z"
   },
   {
    "duration": 11,
    "start_time": "2022-05-25T10:05:56.802Z"
   },
   {
    "duration": 13,
    "start_time": "2022-05-25T10:06:15.451Z"
   },
   {
    "duration": 2,
    "start_time": "2022-05-25T10:06:32.097Z"
   },
   {
    "duration": 66,
    "start_time": "2022-05-25T10:06:32.104Z"
   },
   {
    "duration": 12,
    "start_time": "2022-05-25T10:06:32.172Z"
   },
   {
    "duration": 14,
    "start_time": "2022-05-25T10:06:32.185Z"
   },
   {
    "duration": 9,
    "start_time": "2022-05-25T10:06:32.200Z"
   },
   {
    "duration": 13,
    "start_time": "2022-05-25T10:06:32.211Z"
   },
   {
    "duration": 36,
    "start_time": "2022-05-25T10:06:32.225Z"
   },
   {
    "duration": 7,
    "start_time": "2022-05-25T10:06:32.262Z"
   },
   {
    "duration": 24,
    "start_time": "2022-05-25T10:06:32.271Z"
   },
   {
    "duration": 16,
    "start_time": "2022-05-25T10:06:32.297Z"
   },
   {
    "duration": 6,
    "start_time": "2022-05-25T10:06:32.314Z"
   },
   {
    "duration": 47,
    "start_time": "2022-05-25T10:06:32.322Z"
   },
   {
    "duration": 12,
    "start_time": "2022-05-25T10:06:38.929Z"
   },
   {
    "duration": 4,
    "start_time": "2022-05-25T10:07:09.908Z"
   },
   {
    "duration": 3,
    "start_time": "2022-05-25T10:08:20.344Z"
   },
   {
    "duration": 71,
    "start_time": "2022-05-25T10:08:20.348Z"
   },
   {
    "duration": 13,
    "start_time": "2022-05-25T10:08:20.421Z"
   },
   {
    "duration": 16,
    "start_time": "2022-05-25T10:08:20.436Z"
   },
   {
    "duration": 8,
    "start_time": "2022-05-25T10:08:20.454Z"
   },
   {
    "duration": 15,
    "start_time": "2022-05-25T10:08:20.464Z"
   },
   {
    "duration": 6,
    "start_time": "2022-05-25T10:08:20.480Z"
   },
   {
    "duration": 8,
    "start_time": "2022-05-25T10:08:20.487Z"
   },
   {
    "duration": 66,
    "start_time": "2022-05-25T10:08:20.496Z"
   },
   {
    "duration": 16,
    "start_time": "2022-05-25T10:08:20.564Z"
   },
   {
    "duration": 6,
    "start_time": "2022-05-25T10:08:20.582Z"
   },
   {
    "duration": 15,
    "start_time": "2022-05-25T10:08:20.590Z"
   },
   {
    "duration": 20,
    "start_time": "2022-05-25T10:08:20.607Z"
   },
   {
    "duration": 32,
    "start_time": "2022-05-25T10:08:20.628Z"
   },
   {
    "duration": 26,
    "start_time": "2022-05-25T10:08:20.662Z"
   },
   {
    "duration": 0,
    "start_time": "2022-05-25T10:08:20.690Z"
   },
   {
    "duration": 3,
    "start_time": "2022-05-25T10:08:43.029Z"
   },
   {
    "duration": 9,
    "start_time": "2022-05-25T10:08:45.489Z"
   },
   {
    "duration": 4,
    "start_time": "2022-05-25T10:09:57.213Z"
   },
   {
    "duration": 11,
    "start_time": "2022-05-25T10:22:36.348Z"
   },
   {
    "duration": 5,
    "start_time": "2022-05-25T10:22:43.346Z"
   },
   {
    "duration": 10,
    "start_time": "2022-05-25T10:22:45.412Z"
   },
   {
    "duration": 18,
    "start_time": "2022-05-25T10:25:56.702Z"
   },
   {
    "duration": 29,
    "start_time": "2022-05-25T10:26:10.765Z"
   },
   {
    "duration": 11,
    "start_time": "2022-05-25T10:33:48.247Z"
   },
   {
    "duration": 17,
    "start_time": "2022-05-25T10:34:26.391Z"
   },
   {
    "duration": 3,
    "start_time": "2022-05-25T10:34:57.193Z"
   },
   {
    "duration": 91,
    "start_time": "2022-05-25T10:34:57.198Z"
   },
   {
    "duration": 12,
    "start_time": "2022-05-25T10:34:57.291Z"
   },
   {
    "duration": 19,
    "start_time": "2022-05-25T10:34:57.304Z"
   },
   {
    "duration": 10,
    "start_time": "2022-05-25T10:34:57.325Z"
   },
   {
    "duration": 34,
    "start_time": "2022-05-25T10:34:57.337Z"
   },
   {
    "duration": 5,
    "start_time": "2022-05-25T10:34:57.373Z"
   },
   {
    "duration": 19,
    "start_time": "2022-05-25T10:34:57.379Z"
   },
   {
    "duration": 31,
    "start_time": "2022-05-25T10:34:57.400Z"
   },
   {
    "duration": 37,
    "start_time": "2022-05-25T10:34:57.432Z"
   },
   {
    "duration": 10,
    "start_time": "2022-05-25T10:34:57.471Z"
   },
   {
    "duration": 21,
    "start_time": "2022-05-25T10:34:57.483Z"
   },
   {
    "duration": 17,
    "start_time": "2022-05-25T10:34:57.505Z"
   },
   {
    "duration": 4,
    "start_time": "2022-05-25T10:34:57.525Z"
   },
   {
    "duration": 10,
    "start_time": "2022-05-25T10:34:57.531Z"
   },
   {
    "duration": 10,
    "start_time": "2022-05-25T10:34:57.560Z"
   },
   {
    "duration": 6,
    "start_time": "2022-05-25T10:34:57.572Z"
   },
   {
    "duration": 16,
    "start_time": "2022-05-25T10:34:57.579Z"
   },
   {
    "duration": 30,
    "start_time": "2022-05-25T10:34:57.597Z"
   },
   {
    "duration": 7,
    "start_time": "2022-05-25T10:34:57.629Z"
   },
   {
    "duration": 20,
    "start_time": "2022-05-25T10:34:57.660Z"
   },
   {
    "duration": 28,
    "start_time": "2022-05-25T10:38:48.577Z"
   },
   {
    "duration": 7,
    "start_time": "2022-05-25T10:40:50.931Z"
   },
   {
    "duration": 10,
    "start_time": "2022-05-25T10:41:55.073Z"
   },
   {
    "duration": 7,
    "start_time": "2022-05-25T10:42:37.726Z"
   },
   {
    "duration": 23,
    "start_time": "2022-05-25T10:42:53.902Z"
   },
   {
    "duration": 6,
    "start_time": "2022-05-25T10:46:06.572Z"
   },
   {
    "duration": 4,
    "start_time": "2022-05-25T10:47:55.966Z"
   },
   {
    "duration": 6,
    "start_time": "2022-05-25T10:48:04.837Z"
   },
   {
    "duration": 57,
    "start_time": "2022-05-25T11:53:17.452Z"
   },
   {
    "duration": 22,
    "start_time": "2022-05-25T11:53:21.952Z"
   },
   {
    "duration": 2,
    "start_time": "2022-05-25T11:53:27.891Z"
   },
   {
    "duration": 84,
    "start_time": "2022-05-25T11:53:27.895Z"
   },
   {
    "duration": 16,
    "start_time": "2022-05-25T11:53:27.981Z"
   },
   {
    "duration": 22,
    "start_time": "2022-05-25T11:53:27.998Z"
   },
   {
    "duration": 42,
    "start_time": "2022-05-25T11:53:28.022Z"
   },
   {
    "duration": 15,
    "start_time": "2022-05-25T11:53:28.067Z"
   },
   {
    "duration": 8,
    "start_time": "2022-05-25T11:53:28.084Z"
   },
   {
    "duration": 9,
    "start_time": "2022-05-25T11:53:28.093Z"
   },
   {
    "duration": 59,
    "start_time": "2022-05-25T11:53:28.104Z"
   },
   {
    "duration": 16,
    "start_time": "2022-05-25T11:53:28.165Z"
   },
   {
    "duration": 6,
    "start_time": "2022-05-25T11:53:28.183Z"
   },
   {
    "duration": 13,
    "start_time": "2022-05-25T11:53:28.190Z"
   },
   {
    "duration": 13,
    "start_time": "2022-05-25T11:53:28.204Z"
   },
   {
    "duration": 4,
    "start_time": "2022-05-25T11:53:28.218Z"
   },
   {
    "duration": 3,
    "start_time": "2022-05-25T11:53:28.259Z"
   },
   {
    "duration": 12,
    "start_time": "2022-05-25T11:53:28.264Z"
   },
   {
    "duration": 4,
    "start_time": "2022-05-25T11:53:28.278Z"
   },
   {
    "duration": 6,
    "start_time": "2022-05-25T11:53:28.284Z"
   },
   {
    "duration": 4,
    "start_time": "2022-05-25T11:53:28.291Z"
   },
   {
    "duration": 12,
    "start_time": "2022-05-25T11:53:28.296Z"
   },
   {
    "duration": 56,
    "start_time": "2022-05-25T11:53:28.310Z"
   },
   {
    "duration": 14,
    "start_time": "2022-05-25T11:53:28.367Z"
   },
   {
    "duration": 14,
    "start_time": "2022-05-25T11:53:28.383Z"
   },
   {
    "duration": 23,
    "start_time": "2022-05-25T11:54:04.614Z"
   },
   {
    "duration": 3,
    "start_time": "2022-05-25T11:54:21.449Z"
   },
   {
    "duration": 73,
    "start_time": "2022-05-25T11:54:21.454Z"
   },
   {
    "duration": 11,
    "start_time": "2022-05-25T11:54:21.529Z"
   },
   {
    "duration": 15,
    "start_time": "2022-05-25T11:54:21.541Z"
   },
   {
    "duration": 9,
    "start_time": "2022-05-25T11:54:21.558Z"
   },
   {
    "duration": 15,
    "start_time": "2022-05-25T11:54:21.568Z"
   },
   {
    "duration": 7,
    "start_time": "2022-05-25T11:54:21.584Z"
   },
   {
    "duration": 7,
    "start_time": "2022-05-25T11:54:21.593Z"
   },
   {
    "duration": 57,
    "start_time": "2022-05-25T11:54:21.602Z"
   },
   {
    "duration": 18,
    "start_time": "2022-05-25T11:54:21.661Z"
   },
   {
    "duration": 9,
    "start_time": "2022-05-25T11:54:21.681Z"
   },
   {
    "duration": 21,
    "start_time": "2022-05-25T11:54:21.692Z"
   },
   {
    "duration": 15,
    "start_time": "2022-05-25T11:54:21.717Z"
   },
   {
    "duration": 29,
    "start_time": "2022-05-25T11:54:21.733Z"
   },
   {
    "duration": 5,
    "start_time": "2022-05-25T11:54:21.763Z"
   },
   {
    "duration": 10,
    "start_time": "2022-05-25T11:54:21.769Z"
   },
   {
    "duration": 5,
    "start_time": "2022-05-25T11:54:21.781Z"
   },
   {
    "duration": 5,
    "start_time": "2022-05-25T11:54:21.787Z"
   },
   {
    "duration": 4,
    "start_time": "2022-05-25T11:54:21.793Z"
   },
   {
    "duration": 21,
    "start_time": "2022-05-25T11:54:21.798Z"
   },
   {
    "duration": 74,
    "start_time": "2022-05-25T11:54:21.820Z"
   },
   {
    "duration": 15,
    "start_time": "2022-05-25T11:54:21.896Z"
   },
   {
    "duration": 14,
    "start_time": "2022-05-25T11:54:21.913Z"
   },
   {
    "duration": 8,
    "start_time": "2022-05-25T11:54:52.052Z"
   },
   {
    "duration": 8,
    "start_time": "2022-05-25T12:02:35.864Z"
   },
   {
    "duration": 16,
    "start_time": "2022-05-25T12:02:59.375Z"
   },
   {
    "duration": 6,
    "start_time": "2022-05-25T12:03:21.308Z"
   },
   {
    "duration": 7,
    "start_time": "2022-05-25T12:04:22.450Z"
   },
   {
    "duration": 2,
    "start_time": "2022-05-25T12:04:46.302Z"
   },
   {
    "duration": 73,
    "start_time": "2022-05-25T12:04:46.305Z"
   },
   {
    "duration": 11,
    "start_time": "2022-05-25T12:04:46.380Z"
   },
   {
    "duration": 24,
    "start_time": "2022-05-25T12:04:46.392Z"
   },
   {
    "duration": 37,
    "start_time": "2022-05-25T12:04:46.418Z"
   },
   {
    "duration": 18,
    "start_time": "2022-05-25T12:04:46.457Z"
   },
   {
    "duration": 13,
    "start_time": "2022-05-25T12:04:46.476Z"
   },
   {
    "duration": 17,
    "start_time": "2022-05-25T12:04:46.490Z"
   },
   {
    "duration": 25,
    "start_time": "2022-05-25T12:04:46.509Z"
   },
   {
    "duration": 16,
    "start_time": "2022-05-25T12:04:46.536Z"
   },
   {
    "duration": 21,
    "start_time": "2022-05-25T12:04:46.555Z"
   },
   {
    "duration": 21,
    "start_time": "2022-05-25T12:04:46.577Z"
   },
   {
    "duration": 19,
    "start_time": "2022-05-25T12:04:46.599Z"
   },
   {
    "duration": 4,
    "start_time": "2022-05-25T12:04:46.620Z"
   },
   {
    "duration": 19,
    "start_time": "2022-05-25T12:04:46.625Z"
   },
   {
    "duration": 25,
    "start_time": "2022-05-25T12:04:46.645Z"
   },
   {
    "duration": 17,
    "start_time": "2022-05-25T12:04:46.672Z"
   },
   {
    "duration": 24,
    "start_time": "2022-05-25T12:04:46.690Z"
   },
   {
    "duration": 17,
    "start_time": "2022-05-25T12:04:46.715Z"
   },
   {
    "duration": 12,
    "start_time": "2022-05-25T12:04:46.733Z"
   },
   {
    "duration": 26,
    "start_time": "2022-05-25T12:04:46.747Z"
   },
   {
    "duration": 6,
    "start_time": "2022-05-25T12:04:46.774Z"
   },
   {
    "duration": 21,
    "start_time": "2022-05-25T12:04:46.781Z"
   },
   {
    "duration": 24,
    "start_time": "2022-05-25T12:04:46.803Z"
   },
   {
    "duration": 7,
    "start_time": "2022-05-25T12:06:19.946Z"
   },
   {
    "duration": 17,
    "start_time": "2022-05-25T12:10:06.490Z"
   },
   {
    "duration": 3,
    "start_time": "2022-05-25T12:11:31.888Z"
   },
   {
    "duration": 81,
    "start_time": "2022-05-25T12:11:31.893Z"
   },
   {
    "duration": 17,
    "start_time": "2022-05-25T12:11:31.976Z"
   },
   {
    "duration": 41,
    "start_time": "2022-05-25T12:11:31.995Z"
   },
   {
    "duration": 24,
    "start_time": "2022-05-25T12:11:32.039Z"
   },
   {
    "duration": 20,
    "start_time": "2022-05-25T12:11:32.065Z"
   },
   {
    "duration": 13,
    "start_time": "2022-05-25T12:11:32.086Z"
   },
   {
    "duration": 26,
    "start_time": "2022-05-25T12:11:32.101Z"
   },
   {
    "duration": 37,
    "start_time": "2022-05-25T12:11:32.130Z"
   },
   {
    "duration": 34,
    "start_time": "2022-05-25T12:11:32.169Z"
   },
   {
    "duration": 33,
    "start_time": "2022-05-25T12:11:32.205Z"
   },
   {
    "duration": 39,
    "start_time": "2022-05-25T12:11:32.240Z"
   },
   {
    "duration": 25,
    "start_time": "2022-05-25T12:11:32.281Z"
   },
   {
    "duration": 15,
    "start_time": "2022-05-25T12:11:32.308Z"
   },
   {
    "duration": 24,
    "start_time": "2022-05-25T12:11:32.325Z"
   },
   {
    "duration": 21,
    "start_time": "2022-05-25T12:11:32.350Z"
   },
   {
    "duration": 30,
    "start_time": "2022-05-25T12:11:32.372Z"
   },
   {
    "duration": 21,
    "start_time": "2022-05-25T12:11:32.404Z"
   },
   {
    "duration": 16,
    "start_time": "2022-05-25T12:11:32.427Z"
   },
   {
    "duration": 33,
    "start_time": "2022-05-25T12:11:32.444Z"
   },
   {
    "duration": 60,
    "start_time": "2022-05-25T12:11:32.479Z"
   },
   {
    "duration": 9,
    "start_time": "2022-05-25T12:11:32.541Z"
   },
   {
    "duration": 25,
    "start_time": "2022-05-25T12:11:32.552Z"
   },
   {
    "duration": 49,
    "start_time": "2022-05-25T12:11:32.578Z"
   },
   {
    "duration": 6,
    "start_time": "2022-05-25T12:11:32.629Z"
   },
   {
    "duration": 38,
    "start_time": "2022-05-25T12:11:32.636Z"
   },
   {
    "duration": 11,
    "start_time": "2022-05-25T12:24:23.342Z"
   },
   {
    "duration": 12,
    "start_time": "2022-05-25T12:24:54.369Z"
   },
   {
    "duration": 10,
    "start_time": "2022-05-25T12:27:03.219Z"
   },
   {
    "duration": 13,
    "start_time": "2022-05-25T12:27:16.157Z"
   },
   {
    "duration": 13,
    "start_time": "2022-05-25T12:27:35.448Z"
   },
   {
    "duration": 13,
    "start_time": "2022-05-25T12:27:50.262Z"
   },
   {
    "duration": 26,
    "start_time": "2022-05-25T13:56:14.886Z"
   },
   {
    "duration": 17,
    "start_time": "2022-05-25T13:56:27.017Z"
   },
   {
    "duration": 23,
    "start_time": "2022-05-25T14:08:56.017Z"
   },
   {
    "duration": 9,
    "start_time": "2022-05-25T14:24:51.426Z"
   },
   {
    "duration": 12,
    "start_time": "2022-05-25T14:25:05.690Z"
   },
   {
    "duration": 14,
    "start_time": "2022-05-25T14:25:18.718Z"
   },
   {
    "duration": 10,
    "start_time": "2022-05-25T14:27:14.467Z"
   },
   {
    "duration": 9,
    "start_time": "2022-05-25T14:27:49.288Z"
   },
   {
    "duration": 8,
    "start_time": "2022-05-25T14:28:04.423Z"
   },
   {
    "duration": 8,
    "start_time": "2022-05-25T14:28:08.202Z"
   },
   {
    "duration": 6,
    "start_time": "2022-05-25T14:28:14.500Z"
   },
   {
    "duration": 12,
    "start_time": "2022-05-25T15:03:44.157Z"
   },
   {
    "duration": 19,
    "start_time": "2022-05-25T15:04:09.458Z"
   },
   {
    "duration": 7,
    "start_time": "2022-05-25T15:04:23.438Z"
   },
   {
    "duration": 6,
    "start_time": "2022-05-25T15:04:29.825Z"
   },
   {
    "duration": 13,
    "start_time": "2022-05-25T15:04:41.704Z"
   },
   {
    "duration": 8,
    "start_time": "2022-05-25T15:04:47.280Z"
   },
   {
    "duration": 11,
    "start_time": "2022-05-25T15:04:59.686Z"
   },
   {
    "duration": 8,
    "start_time": "2022-05-25T15:05:09.576Z"
   },
   {
    "duration": 6,
    "start_time": "2022-05-25T15:09:12.637Z"
   },
   {
    "duration": 6,
    "start_time": "2022-05-25T15:09:28.739Z"
   },
   {
    "duration": 12,
    "start_time": "2022-05-25T15:10:22.087Z"
   },
   {
    "duration": 12,
    "start_time": "2022-05-25T15:10:28.470Z"
   },
   {
    "duration": 6,
    "start_time": "2022-05-25T15:10:40.731Z"
   },
   {
    "duration": 7,
    "start_time": "2022-05-25T15:10:54.199Z"
   },
   {
    "duration": 8,
    "start_time": "2022-05-25T15:11:05.490Z"
   },
   {
    "duration": 8,
    "start_time": "2022-05-25T15:11:09.735Z"
   },
   {
    "duration": 9,
    "start_time": "2022-05-25T15:11:12.125Z"
   },
   {
    "duration": 14,
    "start_time": "2022-05-25T15:11:18.270Z"
   },
   {
    "duration": 6,
    "start_time": "2022-05-25T15:11:23.037Z"
   },
   {
    "duration": 7,
    "start_time": "2022-05-25T15:11:30.002Z"
   },
   {
    "duration": 6,
    "start_time": "2022-05-25T15:11:52.848Z"
   },
   {
    "duration": 11,
    "start_time": "2022-05-25T15:11:59.450Z"
   },
   {
    "duration": 166,
    "start_time": "2022-05-25T15:20:15.239Z"
   },
   {
    "duration": 161,
    "start_time": "2022-05-25T15:20:26.879Z"
   },
   {
    "duration": 12,
    "start_time": "2022-05-25T15:22:47.593Z"
   },
   {
    "duration": 16,
    "start_time": "2022-05-25T15:23:33.988Z"
   },
   {
    "duration": 8,
    "start_time": "2022-05-25T15:30:17.497Z"
   },
   {
    "duration": 4,
    "start_time": "2022-05-25T15:30:28.906Z"
   },
   {
    "duration": 191,
    "start_time": "2022-05-25T15:36:11.151Z"
   },
   {
    "duration": 83,
    "start_time": "2022-05-25T15:36:15.727Z"
   },
   {
    "duration": 86,
    "start_time": "2022-05-25T15:36:25.616Z"
   },
   {
    "duration": 4,
    "start_time": "2022-05-25T15:36:32.193Z"
   },
   {
    "duration": 4,
    "start_time": "2022-05-25T15:37:04.041Z"
   },
   {
    "duration": 10,
    "start_time": "2022-05-25T15:37:29.916Z"
   },
   {
    "duration": 7,
    "start_time": "2022-05-25T15:37:54.537Z"
   },
   {
    "duration": 9,
    "start_time": "2022-05-25T15:38:18.736Z"
   },
   {
    "duration": 8,
    "start_time": "2022-05-25T15:38:39.021Z"
   },
   {
    "duration": 30,
    "start_time": "2022-05-25T15:38:45.768Z"
   },
   {
    "duration": 340,
    "start_time": "2022-05-25T15:40:25.990Z"
   },
   {
    "duration": 78,
    "start_time": "2022-05-25T15:40:37.116Z"
   },
   {
    "duration": 13,
    "start_time": "2022-05-25T15:40:42.647Z"
   },
   {
    "duration": 11,
    "start_time": "2022-05-25T15:42:34.124Z"
   },
   {
    "duration": 8,
    "start_time": "2022-05-25T15:48:39.518Z"
   },
   {
    "duration": 8,
    "start_time": "2022-05-25T15:49:03.573Z"
   },
   {
    "duration": 4,
    "start_time": "2022-05-25T15:49:08.381Z"
   },
   {
    "duration": 8,
    "start_time": "2022-05-25T15:52:53.546Z"
   },
   {
    "duration": 8,
    "start_time": "2022-05-25T15:53:12.409Z"
   },
   {
    "duration": 5,
    "start_time": "2022-05-25T15:54:03.737Z"
   },
   {
    "duration": 13,
    "start_time": "2022-05-25T15:55:51.389Z"
   },
   {
    "duration": 8,
    "start_time": "2022-05-25T15:58:58.971Z"
   },
   {
    "duration": 9,
    "start_time": "2022-05-25T15:59:15.163Z"
   },
   {
    "duration": 6,
    "start_time": "2022-05-25T15:59:23.714Z"
   },
   {
    "duration": 42,
    "start_time": "2022-05-25T16:12:16.870Z"
   },
   {
    "duration": 11,
    "start_time": "2022-05-25T16:18:06.417Z"
   },
   {
    "duration": 5557,
    "start_time": "2022-05-25T16:22:41.974Z"
   },
   {
    "duration": 12,
    "start_time": "2022-05-25T16:27:29.022Z"
   },
   {
    "duration": 28,
    "start_time": "2022-05-25T16:27:41.259Z"
   },
   {
    "duration": 44,
    "start_time": "2022-05-25T16:30:37.636Z"
   },
   {
    "duration": 12,
    "start_time": "2022-05-25T16:32:02.780Z"
   },
   {
    "duration": 10,
    "start_time": "2022-05-25T16:32:57.546Z"
   },
   {
    "duration": 19,
    "start_time": "2022-05-25T20:34:54.073Z"
   },
   {
    "duration": 688,
    "start_time": "2022-05-25T20:35:14.358Z"
   },
   {
    "duration": 48,
    "start_time": "2022-05-25T20:35:26.890Z"
   },
   {
    "duration": 88,
    "start_time": "2022-05-25T20:37:01.187Z"
   },
   {
    "duration": 41,
    "start_time": "2022-05-25T20:37:45.280Z"
   },
   {
    "duration": 5,
    "start_time": "2022-05-25T20:38:39.509Z"
   },
   {
    "duration": 9,
    "start_time": "2022-05-25T20:39:04.103Z"
   },
   {
    "duration": 22,
    "start_time": "2022-05-25T20:40:11.335Z"
   },
   {
    "duration": 20,
    "start_time": "2022-05-25T20:41:20.186Z"
   },
   {
    "duration": 8,
    "start_time": "2022-05-25T20:43:06.045Z"
   },
   {
    "duration": 8,
    "start_time": "2022-05-25T20:43:47.775Z"
   },
   {
    "duration": 43,
    "start_time": "2022-05-25T20:43:59.953Z"
   },
   {
    "duration": 14,
    "start_time": "2022-05-25T20:46:19.255Z"
   },
   {
    "duration": 9,
    "start_time": "2022-05-25T20:46:31.437Z"
   },
   {
    "duration": 34,
    "start_time": "2022-05-25T20:47:27.859Z"
   },
   {
    "duration": 26,
    "start_time": "2022-05-25T20:49:35.845Z"
   },
   {
    "duration": 127,
    "start_time": "2022-05-25T20:50:33.649Z"
   },
   {
    "duration": 19,
    "start_time": "2022-05-25T20:50:57.654Z"
   },
   {
    "duration": 60,
    "start_time": "2022-05-25T20:51:03.757Z"
   },
   {
    "duration": 28,
    "start_time": "2022-05-25T20:52:11.246Z"
   },
   {
    "duration": 9,
    "start_time": "2022-05-25T20:53:07.281Z"
   },
   {
    "duration": 24,
    "start_time": "2022-05-25T20:53:23.342Z"
   },
   {
    "duration": 18,
    "start_time": "2022-05-25T20:54:31.300Z"
   },
   {
    "duration": 27,
    "start_time": "2022-05-25T20:56:55.011Z"
   },
   {
    "duration": 37,
    "start_time": "2022-05-25T20:57:19.666Z"
   },
   {
    "duration": 6,
    "start_time": "2022-05-25T20:57:36.388Z"
   },
   {
    "duration": 8,
    "start_time": "2022-05-25T20:58:41.403Z"
   },
   {
    "duration": 9,
    "start_time": "2022-05-25T21:01:48.710Z"
   },
   {
    "duration": 13,
    "start_time": "2022-05-25T21:13:31.673Z"
   },
   {
    "duration": 12,
    "start_time": "2022-05-25T21:14:19.950Z"
   },
   {
    "duration": 9,
    "start_time": "2022-05-25T21:14:34.887Z"
   },
   {
    "duration": 12,
    "start_time": "2022-05-25T21:15:11.882Z"
   },
   {
    "duration": 30,
    "start_time": "2022-05-25T21:15:55.952Z"
   },
   {
    "duration": 5,
    "start_time": "2022-05-25T21:16:05.611Z"
   },
   {
    "duration": 163,
    "start_time": "2022-05-25T21:16:17.864Z"
   },
   {
    "duration": 117,
    "start_time": "2022-05-25T21:16:40.196Z"
   },
   {
    "duration": 110,
    "start_time": "2022-05-25T21:18:16.785Z"
   },
   {
    "duration": 63,
    "start_time": "2022-05-26T09:21:04.838Z"
   },
   {
    "duration": 476,
    "start_time": "2022-05-26T09:21:11.449Z"
   },
   {
    "duration": 307,
    "start_time": "2022-05-26T09:21:11.927Z"
   },
   {
    "duration": 22,
    "start_time": "2022-05-26T09:21:12.235Z"
   },
   {
    "duration": 18,
    "start_time": "2022-05-26T09:21:12.261Z"
   },
   {
    "duration": 22,
    "start_time": "2022-05-26T09:21:12.280Z"
   },
   {
    "duration": 28,
    "start_time": "2022-05-26T09:21:12.304Z"
   },
   {
    "duration": 25,
    "start_time": "2022-05-26T09:21:12.334Z"
   },
   {
    "duration": 30,
    "start_time": "2022-05-26T09:21:12.361Z"
   },
   {
    "duration": 30,
    "start_time": "2022-05-26T09:21:12.393Z"
   },
   {
    "duration": 15,
    "start_time": "2022-05-26T09:21:12.427Z"
   },
   {
    "duration": 16,
    "start_time": "2022-05-26T09:21:12.444Z"
   },
   {
    "duration": 29,
    "start_time": "2022-05-26T09:21:12.462Z"
   },
   {
    "duration": 30,
    "start_time": "2022-05-26T09:21:12.493Z"
   },
   {
    "duration": 4,
    "start_time": "2022-05-26T09:21:12.525Z"
   },
   {
    "duration": 21,
    "start_time": "2022-05-26T09:21:12.531Z"
   },
   {
    "duration": 26,
    "start_time": "2022-05-26T09:21:12.554Z"
   },
   {
    "duration": 31,
    "start_time": "2022-05-26T09:21:12.581Z"
   },
   {
    "duration": 21,
    "start_time": "2022-05-26T09:21:12.613Z"
   },
   {
    "duration": 23,
    "start_time": "2022-05-26T09:21:12.635Z"
   },
   {
    "duration": 41,
    "start_time": "2022-05-26T09:21:12.660Z"
   },
   {
    "duration": 59,
    "start_time": "2022-05-26T09:21:12.703Z"
   },
   {
    "duration": 7,
    "start_time": "2022-05-26T09:21:12.764Z"
   },
   {
    "duration": 31,
    "start_time": "2022-05-26T09:21:12.773Z"
   },
   {
    "duration": 47,
    "start_time": "2022-05-26T09:21:12.806Z"
   },
   {
    "duration": 8,
    "start_time": "2022-05-26T09:21:12.855Z"
   },
   {
    "duration": 29,
    "start_time": "2022-05-26T09:21:12.865Z"
   },
   {
    "duration": 24,
    "start_time": "2022-05-26T09:21:12.896Z"
   },
   {
    "duration": 22,
    "start_time": "2022-05-26T09:21:12.924Z"
   },
   {
    "duration": 17,
    "start_time": "2022-05-26T09:21:12.948Z"
   },
   {
    "duration": 26,
    "start_time": "2022-05-26T09:21:12.968Z"
   },
   {
    "duration": 165,
    "start_time": "2022-05-26T09:21:12.997Z"
   },
   {
    "duration": 9,
    "start_time": "2022-05-26T09:21:13.164Z"
   },
   {
    "duration": 120,
    "start_time": "2022-05-26T09:21:14.959Z"
   },
   {
    "duration": 161,
    "start_time": "2022-05-26T09:21:32.231Z"
   },
   {
    "duration": 704,
    "start_time": "2022-05-26T09:26:27.265Z"
   },
   {
    "duration": 7,
    "start_time": "2022-05-26T09:29:23.872Z"
   },
   {
    "duration": 41,
    "start_time": "2022-05-26T09:30:10.407Z"
   },
   {
    "duration": 48,
    "start_time": "2022-05-26T09:30:34.330Z"
   },
   {
    "duration": 41,
    "start_time": "2022-05-26T09:38:40.773Z"
   },
   {
    "duration": 43,
    "start_time": "2022-05-26T09:38:58.608Z"
   },
   {
    "duration": 38,
    "start_time": "2022-05-26T09:39:28.461Z"
   },
   {
    "duration": 12,
    "start_time": "2022-05-26T09:39:53.070Z"
   },
   {
    "duration": 14,
    "start_time": "2022-05-26T09:41:37.198Z"
   },
   {
    "duration": 9,
    "start_time": "2022-05-26T09:41:56.245Z"
   },
   {
    "duration": 212,
    "start_time": "2022-05-26T09:42:24.469Z"
   },
   {
    "duration": 11,
    "start_time": "2022-05-26T09:42:58.991Z"
   },
   {
    "duration": 8,
    "start_time": "2022-05-26T09:45:01.574Z"
   },
   {
    "duration": 194,
    "start_time": "2022-05-26T09:45:05.180Z"
   },
   {
    "duration": 457,
    "start_time": "2022-05-26T09:45:14.569Z"
   },
   {
    "duration": 86,
    "start_time": "2022-05-26T09:45:15.028Z"
   },
   {
    "duration": 21,
    "start_time": "2022-05-26T09:45:15.115Z"
   },
   {
    "duration": 29,
    "start_time": "2022-05-26T09:45:15.139Z"
   },
   {
    "duration": 10,
    "start_time": "2022-05-26T09:45:15.170Z"
   },
   {
    "duration": 31,
    "start_time": "2022-05-26T09:45:15.182Z"
   },
   {
    "duration": 7,
    "start_time": "2022-05-26T09:45:15.215Z"
   },
   {
    "duration": 39,
    "start_time": "2022-05-26T09:45:15.223Z"
   },
   {
    "duration": 28,
    "start_time": "2022-05-26T09:45:15.264Z"
   },
   {
    "duration": 16,
    "start_time": "2022-05-26T09:45:15.295Z"
   },
   {
    "duration": 5,
    "start_time": "2022-05-26T09:45:15.313Z"
   },
   {
    "duration": 15,
    "start_time": "2022-05-26T09:45:15.320Z"
   },
   {
    "duration": 42,
    "start_time": "2022-05-26T09:45:15.337Z"
   },
   {
    "duration": 5,
    "start_time": "2022-05-26T09:45:15.380Z"
   },
   {
    "duration": 5,
    "start_time": "2022-05-26T09:45:15.387Z"
   },
   {
    "duration": 19,
    "start_time": "2022-05-26T09:45:15.394Z"
   },
   {
    "duration": 5,
    "start_time": "2022-05-26T09:45:15.415Z"
   },
   {
    "duration": 10,
    "start_time": "2022-05-26T09:45:15.422Z"
   },
   {
    "duration": 31,
    "start_time": "2022-05-26T09:45:15.434Z"
   },
   {
    "duration": 12,
    "start_time": "2022-05-26T09:45:15.467Z"
   },
   {
    "duration": 35,
    "start_time": "2022-05-26T09:45:15.480Z"
   },
   {
    "duration": 7,
    "start_time": "2022-05-26T09:45:15.517Z"
   },
   {
    "duration": 24,
    "start_time": "2022-05-26T09:45:15.525Z"
   },
   {
    "duration": 32,
    "start_time": "2022-05-26T09:45:15.565Z"
   },
   {
    "duration": 7,
    "start_time": "2022-05-26T09:45:15.599Z"
   },
   {
    "duration": 23,
    "start_time": "2022-05-26T09:45:15.608Z"
   },
   {
    "duration": 37,
    "start_time": "2022-05-26T09:45:15.632Z"
   },
   {
    "duration": 15,
    "start_time": "2022-05-26T09:45:15.672Z"
   },
   {
    "duration": 12,
    "start_time": "2022-05-26T09:45:15.688Z"
   },
   {
    "duration": 9,
    "start_time": "2022-05-26T09:45:15.702Z"
   },
   {
    "duration": 181,
    "start_time": "2022-05-26T09:45:15.713Z"
   },
   {
    "duration": 8,
    "start_time": "2022-05-26T09:45:15.896Z"
   },
   {
    "duration": 12,
    "start_time": "2022-05-26T09:45:15.905Z"
   },
   {
    "duration": 230,
    "start_time": "2022-05-26T09:45:15.918Z"
   },
   {
    "duration": 8,
    "start_time": "2022-05-26T09:45:54.642Z"
   },
   {
    "duration": 9,
    "start_time": "2022-05-26T09:46:49.497Z"
   },
   {
    "duration": 207,
    "start_time": "2022-05-26T09:46:52.321Z"
   },
   {
    "duration": 14,
    "start_time": "2022-05-26T09:48:15.393Z"
   },
   {
    "duration": 12,
    "start_time": "2022-05-26T09:48:27.143Z"
   },
   {
    "duration": 8,
    "start_time": "2022-05-26T09:51:50.001Z"
   },
   {
    "duration": 11,
    "start_time": "2022-05-26T12:42:31.150Z"
   },
   {
    "duration": 84,
    "start_time": "2022-05-26T12:43:17.895Z"
   },
   {
    "duration": 10,
    "start_time": "2022-05-26T12:43:40.151Z"
   },
   {
    "duration": 6,
    "start_time": "2022-05-26T12:43:45.419Z"
   },
   {
    "duration": 192,
    "start_time": "2022-05-26T12:47:44.745Z"
   },
   {
    "duration": 11,
    "start_time": "2022-05-26T12:48:03.244Z"
   },
   {
    "duration": 5,
    "start_time": "2022-05-26T12:52:05.636Z"
   },
   {
    "duration": 10,
    "start_time": "2022-05-26T12:52:35.017Z"
   },
   {
    "duration": 14,
    "start_time": "2022-05-26T12:58:21.269Z"
   },
   {
    "duration": 29,
    "start_time": "2022-05-26T13:04:47.120Z"
   },
   {
    "duration": 19,
    "start_time": "2022-05-26T13:05:28.296Z"
   },
   {
    "duration": 18,
    "start_time": "2022-05-26T13:06:18.077Z"
   },
   {
    "duration": 21,
    "start_time": "2022-05-26T13:06:47.607Z"
   },
   {
    "duration": 25,
    "start_time": "2022-05-26T13:06:55.563Z"
   },
   {
    "duration": 27,
    "start_time": "2022-05-26T13:07:06.132Z"
   },
   {
    "duration": 8,
    "start_time": "2022-05-26T13:15:42.045Z"
   },
   {
    "duration": 11,
    "start_time": "2022-05-26T13:15:48.149Z"
   },
   {
    "duration": 7,
    "start_time": "2022-05-26T13:17:54.952Z"
   },
   {
    "duration": 8,
    "start_time": "2022-05-26T13:18:11.583Z"
   },
   {
    "duration": 455,
    "start_time": "2022-05-26T13:18:26.913Z"
   },
   {
    "duration": 86,
    "start_time": "2022-05-26T13:18:27.371Z"
   },
   {
    "duration": 30,
    "start_time": "2022-05-26T13:18:27.459Z"
   },
   {
    "duration": 33,
    "start_time": "2022-05-26T13:18:27.492Z"
   },
   {
    "duration": 16,
    "start_time": "2022-05-26T13:18:27.527Z"
   },
   {
    "duration": 17,
    "start_time": "2022-05-26T13:18:27.544Z"
   },
   {
    "duration": 14,
    "start_time": "2022-05-26T13:18:27.562Z"
   },
   {
    "duration": 33,
    "start_time": "2022-05-26T13:18:27.578Z"
   },
   {
    "duration": 46,
    "start_time": "2022-05-26T13:18:27.613Z"
   },
   {
    "duration": 22,
    "start_time": "2022-05-26T13:18:27.662Z"
   },
   {
    "duration": 12,
    "start_time": "2022-05-26T13:18:27.686Z"
   },
   {
    "duration": 23,
    "start_time": "2022-05-26T13:18:27.700Z"
   },
   {
    "duration": 26,
    "start_time": "2022-05-26T13:18:27.725Z"
   },
   {
    "duration": 36,
    "start_time": "2022-05-26T13:18:27.753Z"
   },
   {
    "duration": 9,
    "start_time": "2022-05-26T13:18:27.791Z"
   },
   {
    "duration": 21,
    "start_time": "2022-05-26T13:18:27.802Z"
   },
   {
    "duration": 22,
    "start_time": "2022-05-26T13:18:27.825Z"
   },
   {
    "duration": 22,
    "start_time": "2022-05-26T13:18:27.849Z"
   },
   {
    "duration": 38,
    "start_time": "2022-05-26T13:18:27.873Z"
   },
   {
    "duration": 27,
    "start_time": "2022-05-26T13:18:27.913Z"
   },
   {
    "duration": 46,
    "start_time": "2022-05-26T13:18:27.942Z"
   },
   {
    "duration": 9,
    "start_time": "2022-05-26T13:18:27.990Z"
   },
   {
    "duration": 28,
    "start_time": "2022-05-26T13:18:28.000Z"
   },
   {
    "duration": 54,
    "start_time": "2022-05-26T13:18:28.030Z"
   },
   {
    "duration": 8,
    "start_time": "2022-05-26T13:18:28.086Z"
   },
   {
    "duration": 38,
    "start_time": "2022-05-26T13:18:28.096Z"
   },
   {
    "duration": 23,
    "start_time": "2022-05-26T13:18:28.136Z"
   },
   {
    "duration": 26,
    "start_time": "2022-05-26T13:18:28.162Z"
   },
   {
    "duration": 26,
    "start_time": "2022-05-26T13:18:28.190Z"
   },
   {
    "duration": 18,
    "start_time": "2022-05-26T13:18:28.218Z"
   },
   {
    "duration": 195,
    "start_time": "2022-05-26T13:18:28.238Z"
   },
   {
    "duration": 103,
    "start_time": "2022-05-26T13:18:28.435Z"
   },
   {
    "duration": 0,
    "start_time": "2022-05-26T13:18:28.540Z"
   },
   {
    "duration": 0,
    "start_time": "2022-05-26T13:18:28.542Z"
   },
   {
    "duration": 0,
    "start_time": "2022-05-26T13:18:28.543Z"
   },
   {
    "duration": 0,
    "start_time": "2022-05-26T13:18:28.544Z"
   },
   {
    "duration": 0,
    "start_time": "2022-05-26T13:18:28.546Z"
   },
   {
    "duration": 7,
    "start_time": "2022-05-26T13:18:31.134Z"
   },
   {
    "duration": 3,
    "start_time": "2022-05-26T13:18:52.593Z"
   },
   {
    "duration": 90,
    "start_time": "2022-05-26T13:18:52.598Z"
   },
   {
    "duration": 13,
    "start_time": "2022-05-26T13:18:52.691Z"
   },
   {
    "duration": 18,
    "start_time": "2022-05-26T13:18:52.706Z"
   },
   {
    "duration": 42,
    "start_time": "2022-05-26T13:18:52.726Z"
   },
   {
    "duration": 24,
    "start_time": "2022-05-26T13:18:52.770Z"
   },
   {
    "duration": 22,
    "start_time": "2022-05-26T13:18:52.798Z"
   },
   {
    "duration": 15,
    "start_time": "2022-05-26T13:18:52.822Z"
   },
   {
    "duration": 48,
    "start_time": "2022-05-26T13:18:52.839Z"
   },
   {
    "duration": 15,
    "start_time": "2022-05-26T13:18:52.889Z"
   },
   {
    "duration": 6,
    "start_time": "2022-05-26T13:18:52.907Z"
   },
   {
    "duration": 34,
    "start_time": "2022-05-26T13:18:52.915Z"
   },
   {
    "duration": 34,
    "start_time": "2022-05-26T13:18:52.951Z"
   },
   {
    "duration": 8,
    "start_time": "2022-05-26T13:18:52.986Z"
   },
   {
    "duration": 5,
    "start_time": "2022-05-26T13:18:52.996Z"
   },
   {
    "duration": 13,
    "start_time": "2022-05-26T13:18:53.003Z"
   },
   {
    "duration": 7,
    "start_time": "2022-05-26T13:18:53.018Z"
   },
   {
    "duration": 39,
    "start_time": "2022-05-26T13:18:53.027Z"
   },
   {
    "duration": 6,
    "start_time": "2022-05-26T13:18:53.067Z"
   },
   {
    "duration": 28,
    "start_time": "2022-05-26T13:18:53.075Z"
   },
   {
    "duration": 33,
    "start_time": "2022-05-26T13:18:53.104Z"
   },
   {
    "duration": 7,
    "start_time": "2022-05-26T13:18:53.139Z"
   },
   {
    "duration": 41,
    "start_time": "2022-05-26T13:18:53.147Z"
   },
   {
    "duration": 25,
    "start_time": "2022-05-26T13:18:53.190Z"
   },
   {
    "duration": 8,
    "start_time": "2022-05-26T13:18:53.217Z"
   },
   {
    "duration": 58,
    "start_time": "2022-05-26T13:18:53.226Z"
   },
   {
    "duration": 21,
    "start_time": "2022-05-26T13:18:53.286Z"
   },
   {
    "duration": 13,
    "start_time": "2022-05-26T13:18:53.309Z"
   },
   {
    "duration": 15,
    "start_time": "2022-05-26T13:18:53.325Z"
   },
   {
    "duration": 31,
    "start_time": "2022-05-26T13:18:53.341Z"
   },
   {
    "duration": 194,
    "start_time": "2022-05-26T13:18:53.374Z"
   },
   {
    "duration": 22,
    "start_time": "2022-05-26T13:18:53.571Z"
   },
   {
    "duration": 0,
    "start_time": "2022-05-26T13:18:53.595Z"
   },
   {
    "duration": 0,
    "start_time": "2022-05-26T13:18:53.596Z"
   },
   {
    "duration": 0,
    "start_time": "2022-05-26T13:18:53.597Z"
   },
   {
    "duration": 0,
    "start_time": "2022-05-26T13:18:53.600Z"
   },
   {
    "duration": 0,
    "start_time": "2022-05-26T13:18:53.601Z"
   },
   {
    "duration": 2,
    "start_time": "2022-05-26T13:19:04.158Z"
   },
   {
    "duration": 94,
    "start_time": "2022-05-26T13:19:04.161Z"
   },
   {
    "duration": 26,
    "start_time": "2022-05-26T13:19:04.257Z"
   },
   {
    "duration": 17,
    "start_time": "2022-05-26T13:19:04.285Z"
   },
   {
    "duration": 10,
    "start_time": "2022-05-26T13:19:04.304Z"
   },
   {
    "duration": 14,
    "start_time": "2022-05-26T13:19:04.315Z"
   },
   {
    "duration": 7,
    "start_time": "2022-05-26T13:19:04.331Z"
   },
   {
    "duration": 29,
    "start_time": "2022-05-26T13:19:04.339Z"
   },
   {
    "duration": 46,
    "start_time": "2022-05-26T13:19:04.371Z"
   },
   {
    "duration": 15,
    "start_time": "2022-05-26T13:19:04.418Z"
   },
   {
    "duration": 5,
    "start_time": "2022-05-26T13:19:04.435Z"
   },
   {
    "duration": 37,
    "start_time": "2022-05-26T13:19:04.442Z"
   },
   {
    "duration": 16,
    "start_time": "2022-05-26T13:19:04.482Z"
   },
   {
    "duration": 7,
    "start_time": "2022-05-26T13:19:04.500Z"
   },
   {
    "duration": 5,
    "start_time": "2022-05-26T13:19:04.509Z"
   },
   {
    "duration": 18,
    "start_time": "2022-05-26T13:19:04.516Z"
   },
   {
    "duration": 45,
    "start_time": "2022-05-26T13:19:04.535Z"
   },
   {
    "duration": 13,
    "start_time": "2022-05-26T13:19:04.583Z"
   },
   {
    "duration": 8,
    "start_time": "2022-05-26T13:19:04.598Z"
   },
   {
    "duration": 27,
    "start_time": "2022-05-26T13:19:04.608Z"
   },
   {
    "duration": 31,
    "start_time": "2022-05-26T13:19:04.637Z"
   },
   {
    "duration": 11,
    "start_time": "2022-05-26T13:19:04.670Z"
   },
   {
    "duration": 43,
    "start_time": "2022-05-26T13:19:04.683Z"
   },
   {
    "duration": 38,
    "start_time": "2022-05-26T13:19:04.727Z"
   },
   {
    "duration": 10,
    "start_time": "2022-05-26T13:19:04.767Z"
   },
   {
    "duration": 27,
    "start_time": "2022-05-26T13:19:04.779Z"
   },
   {
    "duration": 15,
    "start_time": "2022-05-26T13:19:04.808Z"
   },
   {
    "duration": 40,
    "start_time": "2022-05-26T13:19:04.825Z"
   },
   {
    "duration": 17,
    "start_time": "2022-05-26T13:19:04.870Z"
   },
   {
    "duration": 8,
    "start_time": "2022-05-26T13:19:04.889Z"
   },
   {
    "duration": 168,
    "start_time": "2022-05-26T13:19:04.899Z"
   },
   {
    "duration": 21,
    "start_time": "2022-05-26T13:19:05.068Z"
   },
   {
    "duration": 0,
    "start_time": "2022-05-26T13:19:05.090Z"
   },
   {
    "duration": 0,
    "start_time": "2022-05-26T13:19:05.091Z"
   },
   {
    "duration": 0,
    "start_time": "2022-05-26T13:19:05.093Z"
   },
   {
    "duration": 0,
    "start_time": "2022-05-26T13:19:05.094Z"
   },
   {
    "duration": 409,
    "start_time": "2022-05-26T13:19:40.717Z"
   },
   {
    "duration": 84,
    "start_time": "2022-05-26T13:19:41.128Z"
   },
   {
    "duration": 21,
    "start_time": "2022-05-26T13:19:41.214Z"
   },
   {
    "duration": 36,
    "start_time": "2022-05-26T13:19:41.238Z"
   },
   {
    "duration": 14,
    "start_time": "2022-05-26T13:19:41.276Z"
   },
   {
    "duration": 19,
    "start_time": "2022-05-26T13:19:41.292Z"
   },
   {
    "duration": 7,
    "start_time": "2022-05-26T13:19:41.313Z"
   },
   {
    "duration": 10,
    "start_time": "2022-05-26T13:19:41.322Z"
   },
   {
    "duration": 61,
    "start_time": "2022-05-26T13:19:41.333Z"
   },
   {
    "duration": 14,
    "start_time": "2022-05-26T13:19:41.397Z"
   },
   {
    "duration": 10,
    "start_time": "2022-05-26T13:19:41.412Z"
   },
   {
    "duration": 14,
    "start_time": "2022-05-26T13:19:41.424Z"
   },
   {
    "duration": 38,
    "start_time": "2022-05-26T13:19:41.439Z"
   },
   {
    "duration": 10,
    "start_time": "2022-05-26T13:19:41.479Z"
   },
   {
    "duration": 4,
    "start_time": "2022-05-26T13:19:41.491Z"
   },
   {
    "duration": 19,
    "start_time": "2022-05-26T13:19:41.497Z"
   },
   {
    "duration": 6,
    "start_time": "2022-05-26T13:19:41.518Z"
   },
   {
    "duration": 17,
    "start_time": "2022-05-26T13:19:41.526Z"
   },
   {
    "duration": 7,
    "start_time": "2022-05-26T13:19:41.565Z"
   },
   {
    "duration": 29,
    "start_time": "2022-05-26T13:19:41.573Z"
   },
   {
    "duration": 32,
    "start_time": "2022-05-26T13:19:41.604Z"
   },
   {
    "duration": 6,
    "start_time": "2022-05-26T13:19:41.638Z"
   },
   {
    "duration": 41,
    "start_time": "2022-05-26T13:19:41.646Z"
   },
   {
    "duration": 37,
    "start_time": "2022-05-26T13:19:41.689Z"
   },
   {
    "duration": 9,
    "start_time": "2022-05-26T13:19:41.728Z"
   },
   {
    "duration": 48,
    "start_time": "2022-05-26T13:19:41.739Z"
   },
   {
    "duration": 17,
    "start_time": "2022-05-26T13:19:41.789Z"
   },
   {
    "duration": 12,
    "start_time": "2022-05-26T13:19:41.810Z"
   },
   {
    "duration": 10,
    "start_time": "2022-05-26T13:19:41.823Z"
   },
   {
    "duration": 43,
    "start_time": "2022-05-26T13:19:41.835Z"
   },
   {
    "duration": 148,
    "start_time": "2022-05-26T13:19:41.880Z"
   },
   {
    "duration": 97,
    "start_time": "2022-05-26T13:19:42.030Z"
   },
   {
    "duration": 0,
    "start_time": "2022-05-26T13:19:42.129Z"
   },
   {
    "duration": 0,
    "start_time": "2022-05-26T13:19:42.131Z"
   },
   {
    "duration": 0,
    "start_time": "2022-05-26T13:19:42.132Z"
   },
   {
    "duration": 0,
    "start_time": "2022-05-26T13:19:42.134Z"
   },
   {
    "duration": 1,
    "start_time": "2022-05-26T13:19:42.135Z"
   },
   {
    "duration": 7,
    "start_time": "2022-05-26T13:19:59.817Z"
   },
   {
    "duration": 9,
    "start_time": "2022-05-26T13:20:56.698Z"
   },
   {
    "duration": 434,
    "start_time": "2022-05-26T13:22:19.183Z"
   },
   {
    "duration": 88,
    "start_time": "2022-05-26T13:22:19.619Z"
   },
   {
    "duration": 27,
    "start_time": "2022-05-26T13:22:19.709Z"
   },
   {
    "duration": 15,
    "start_time": "2022-05-26T13:22:19.738Z"
   },
   {
    "duration": 13,
    "start_time": "2022-05-26T13:22:19.770Z"
   },
   {
    "duration": 35,
    "start_time": "2022-05-26T13:22:19.786Z"
   },
   {
    "duration": 8,
    "start_time": "2022-05-26T13:22:19.823Z"
   },
   {
    "duration": 25,
    "start_time": "2022-05-26T13:22:19.833Z"
   },
   {
    "duration": 30,
    "start_time": "2022-05-26T13:22:32.597Z"
   },
   {
    "duration": 23,
    "start_time": "2022-05-26T13:22:37.005Z"
   },
   {
    "duration": 57,
    "start_time": "2022-05-26T13:23:05.300Z"
   },
   {
    "duration": 11,
    "start_time": "2022-05-26T13:23:10.628Z"
   },
   {
    "duration": 23,
    "start_time": "2022-05-26T13:23:14.811Z"
   },
   {
    "duration": 11,
    "start_time": "2022-05-26T13:23:37.162Z"
   },
   {
    "duration": 3,
    "start_time": "2022-05-26T13:23:45.544Z"
   },
   {
    "duration": 94,
    "start_time": "2022-05-26T13:23:45.549Z"
   },
   {
    "duration": 12,
    "start_time": "2022-05-26T13:23:45.645Z"
   },
   {
    "duration": 35,
    "start_time": "2022-05-26T13:23:45.659Z"
   },
   {
    "duration": 15,
    "start_time": "2022-05-26T13:23:45.697Z"
   },
   {
    "duration": 22,
    "start_time": "2022-05-26T13:23:45.714Z"
   },
   {
    "duration": 7,
    "start_time": "2022-05-26T13:23:45.738Z"
   },
   {
    "duration": 10,
    "start_time": "2022-05-26T13:23:45.746Z"
   },
   {
    "duration": 36,
    "start_time": "2022-05-26T13:23:45.757Z"
   },
   {
    "duration": 21,
    "start_time": "2022-05-26T13:23:45.795Z"
   },
   {
    "duration": 11,
    "start_time": "2022-05-26T13:23:45.819Z"
   },
   {
    "duration": 34,
    "start_time": "2022-05-26T13:23:45.832Z"
   },
   {
    "duration": 27,
    "start_time": "2022-05-26T13:23:45.868Z"
   },
   {
    "duration": 14,
    "start_time": "2022-05-26T13:23:45.897Z"
   },
   {
    "duration": 21,
    "start_time": "2022-05-26T13:23:45.913Z"
   },
   {
    "duration": 12,
    "start_time": "2022-05-26T13:23:45.936Z"
   },
   {
    "duration": 8,
    "start_time": "2022-05-26T13:23:45.950Z"
   },
   {
    "duration": 28,
    "start_time": "2022-05-26T13:23:45.959Z"
   },
   {
    "duration": 11,
    "start_time": "2022-05-26T13:23:45.990Z"
   },
   {
    "duration": 29,
    "start_time": "2022-05-26T13:23:46.003Z"
   },
   {
    "duration": 56,
    "start_time": "2022-05-26T13:23:46.034Z"
   },
   {
    "duration": 7,
    "start_time": "2022-05-26T13:23:46.092Z"
   },
   {
    "duration": 19,
    "start_time": "2022-05-26T13:23:46.101Z"
   },
   {
    "duration": 77,
    "start_time": "2022-05-26T13:23:46.122Z"
   },
   {
    "duration": 9,
    "start_time": "2022-05-26T13:23:46.200Z"
   },
   {
    "duration": 21,
    "start_time": "2022-05-26T13:23:46.211Z"
   },
   {
    "duration": 33,
    "start_time": "2022-05-26T13:23:46.235Z"
   },
   {
    "duration": 25,
    "start_time": "2022-05-26T13:23:46.271Z"
   },
   {
    "duration": 16,
    "start_time": "2022-05-26T13:23:46.300Z"
   },
   {
    "duration": 9,
    "start_time": "2022-05-26T13:23:46.318Z"
   },
   {
    "duration": 204,
    "start_time": "2022-05-26T13:23:46.329Z"
   },
   {
    "duration": 8,
    "start_time": "2022-05-26T13:23:46.534Z"
   },
   {
    "duration": 10,
    "start_time": "2022-05-26T13:23:46.543Z"
   },
   {
    "duration": 237,
    "start_time": "2022-05-26T13:23:46.566Z"
   },
   {
    "duration": 21,
    "start_time": "2022-05-26T13:23:46.805Z"
   },
   {
    "duration": 9,
    "start_time": "2022-05-26T13:23:46.827Z"
   },
   {
    "duration": 8,
    "start_time": "2022-05-26T13:23:50.986Z"
   },
   {
    "duration": 10,
    "start_time": "2022-05-26T13:25:30.392Z"
   },
   {
    "duration": 13,
    "start_time": "2022-05-26T13:32:08.606Z"
   },
   {
    "duration": 62,
    "start_time": "2022-05-26T13:35:27.102Z"
   },
   {
    "duration": 13,
    "start_time": "2022-05-26T13:42:54.624Z"
   },
   {
    "duration": 12,
    "start_time": "2022-05-26T13:42:58.985Z"
   },
   {
    "duration": 25,
    "start_time": "2022-05-26T13:44:38.580Z"
   },
   {
    "duration": 9,
    "start_time": "2022-05-26T13:45:52.528Z"
   },
   {
    "duration": 20,
    "start_time": "2022-05-26T13:45:57.888Z"
   },
   {
    "duration": 9,
    "start_time": "2022-05-26T13:47:19.707Z"
   },
   {
    "duration": 20,
    "start_time": "2022-05-26T13:47:29.418Z"
   },
   {
    "duration": 19,
    "start_time": "2022-05-26T13:48:03.340Z"
   },
   {
    "duration": 10,
    "start_time": "2022-05-26T13:48:10.404Z"
   },
   {
    "duration": 27,
    "start_time": "2022-05-26T13:48:14.583Z"
   },
   {
    "duration": 11,
    "start_time": "2022-05-26T13:49:30.137Z"
   },
   {
    "duration": 15,
    "start_time": "2022-05-26T13:54:44.567Z"
   },
   {
    "duration": 443,
    "start_time": "2022-05-26T13:58:26.102Z"
   },
   {
    "duration": 95,
    "start_time": "2022-05-26T13:58:26.547Z"
   },
   {
    "duration": 21,
    "start_time": "2022-05-26T13:58:26.644Z"
   },
   {
    "duration": 34,
    "start_time": "2022-05-26T13:58:26.667Z"
   },
   {
    "duration": 11,
    "start_time": "2022-05-26T13:58:26.703Z"
   },
   {
    "duration": 24,
    "start_time": "2022-05-26T13:58:26.716Z"
   },
   {
    "duration": 14,
    "start_time": "2022-05-26T13:58:26.743Z"
   },
   {
    "duration": 21,
    "start_time": "2022-05-26T13:58:26.758Z"
   },
   {
    "duration": 56,
    "start_time": "2022-05-26T13:58:26.781Z"
   },
   {
    "duration": 23,
    "start_time": "2022-05-26T13:58:26.839Z"
   },
   {
    "duration": 14,
    "start_time": "2022-05-26T13:58:26.864Z"
   },
   {
    "duration": 25,
    "start_time": "2022-05-26T13:58:26.880Z"
   },
   {
    "duration": 29,
    "start_time": "2022-05-26T13:58:26.907Z"
   },
   {
    "duration": 17,
    "start_time": "2022-05-26T13:58:26.939Z"
   },
   {
    "duration": 15,
    "start_time": "2022-05-26T13:58:26.957Z"
   },
   {
    "duration": 23,
    "start_time": "2022-05-26T13:58:26.973Z"
   },
   {
    "duration": 22,
    "start_time": "2022-05-26T13:58:26.998Z"
   },
   {
    "duration": 18,
    "start_time": "2022-05-26T13:58:27.022Z"
   },
   {
    "duration": 28,
    "start_time": "2022-05-26T13:58:27.042Z"
   },
   {
    "duration": 34,
    "start_time": "2022-05-26T13:58:27.072Z"
   },
   {
    "duration": 46,
    "start_time": "2022-05-26T13:58:27.108Z"
   },
   {
    "duration": 7,
    "start_time": "2022-05-26T13:58:27.155Z"
   },
   {
    "duration": 44,
    "start_time": "2022-05-26T13:58:27.164Z"
   },
   {
    "duration": 32,
    "start_time": "2022-05-26T13:58:27.210Z"
   },
   {
    "duration": 8,
    "start_time": "2022-05-26T13:58:27.244Z"
   },
   {
    "duration": 32,
    "start_time": "2022-05-26T13:58:27.253Z"
   },
   {
    "duration": 17,
    "start_time": "2022-05-26T13:58:27.286Z"
   },
   {
    "duration": 15,
    "start_time": "2022-05-26T13:58:27.306Z"
   },
   {
    "duration": 12,
    "start_time": "2022-05-26T13:58:27.323Z"
   },
   {
    "duration": 34,
    "start_time": "2022-05-26T13:58:27.338Z"
   },
   {
    "duration": 207,
    "start_time": "2022-05-26T13:58:27.374Z"
   },
   {
    "duration": 10,
    "start_time": "2022-05-26T13:58:27.583Z"
   },
   {
    "duration": 14,
    "start_time": "2022-05-26T13:58:27.595Z"
   },
   {
    "duration": 9,
    "start_time": "2022-05-26T13:58:27.611Z"
   },
   {
    "duration": 236,
    "start_time": "2022-05-26T13:58:27.622Z"
   },
   {
    "duration": 25,
    "start_time": "2022-05-26T13:58:27.860Z"
   },
   {
    "duration": 12,
    "start_time": "2022-05-26T13:58:27.887Z"
   },
   {
    "duration": 24,
    "start_time": "2022-05-26T13:58:27.901Z"
   },
   {
    "duration": 39,
    "start_time": "2022-05-26T13:58:27.927Z"
   },
   {
    "duration": 490,
    "start_time": "2022-05-26T14:00:20.426Z"
   },
   {
    "duration": 90,
    "start_time": "2022-05-26T14:00:20.918Z"
   },
   {
    "duration": 22,
    "start_time": "2022-05-26T14:00:21.010Z"
   },
   {
    "duration": 31,
    "start_time": "2022-05-26T14:00:21.034Z"
   },
   {
    "duration": 20,
    "start_time": "2022-05-26T14:00:21.068Z"
   },
   {
    "duration": 14,
    "start_time": "2022-05-26T14:00:21.091Z"
   },
   {
    "duration": 8,
    "start_time": "2022-05-26T14:00:21.107Z"
   },
   {
    "duration": 7,
    "start_time": "2022-05-26T14:00:21.117Z"
   },
   {
    "duration": 71,
    "start_time": "2022-05-26T14:00:21.126Z"
   },
   {
    "duration": 15,
    "start_time": "2022-05-26T14:00:21.199Z"
   },
   {
    "duration": 10,
    "start_time": "2022-05-26T14:00:21.215Z"
   },
   {
    "duration": 61,
    "start_time": "2022-05-26T14:00:21.226Z"
   },
   {
    "duration": 31,
    "start_time": "2022-05-26T14:00:21.290Z"
   },
   {
    "duration": 23,
    "start_time": "2022-05-26T14:00:21.323Z"
   },
   {
    "duration": 23,
    "start_time": "2022-05-26T14:00:21.348Z"
   },
   {
    "duration": 43,
    "start_time": "2022-05-26T14:00:21.373Z"
   },
   {
    "duration": 36,
    "start_time": "2022-05-26T14:00:21.417Z"
   },
   {
    "duration": 33,
    "start_time": "2022-05-26T14:00:21.455Z"
   },
   {
    "duration": 7,
    "start_time": "2022-05-26T14:00:21.490Z"
   },
   {
    "duration": 49,
    "start_time": "2022-05-26T14:00:21.498Z"
   },
   {
    "duration": 57,
    "start_time": "2022-05-26T14:00:21.549Z"
   },
   {
    "duration": 7,
    "start_time": "2022-05-26T14:00:21.608Z"
   },
   {
    "duration": 33,
    "start_time": "2022-05-26T14:00:21.616Z"
   },
   {
    "duration": 58,
    "start_time": "2022-05-26T14:00:21.650Z"
   },
   {
    "duration": 6,
    "start_time": "2022-05-26T14:00:21.710Z"
   },
   {
    "duration": 31,
    "start_time": "2022-05-26T14:00:21.717Z"
   },
   {
    "duration": 21,
    "start_time": "2022-05-26T14:00:21.749Z"
   },
   {
    "duration": 22,
    "start_time": "2022-05-26T14:00:21.776Z"
   },
   {
    "duration": 24,
    "start_time": "2022-05-26T14:00:21.799Z"
   },
   {
    "duration": 29,
    "start_time": "2022-05-26T14:00:21.824Z"
   },
   {
    "duration": 187,
    "start_time": "2022-05-26T14:00:21.855Z"
   },
   {
    "duration": 9,
    "start_time": "2022-05-26T14:00:22.044Z"
   },
   {
    "duration": 34,
    "start_time": "2022-05-26T14:00:22.065Z"
   },
   {
    "duration": 25,
    "start_time": "2022-05-26T14:00:22.100Z"
   },
   {
    "duration": 280,
    "start_time": "2022-05-26T14:00:22.127Z"
   },
   {
    "duration": 20,
    "start_time": "2022-05-26T14:00:22.408Z"
   },
   {
    "duration": 18,
    "start_time": "2022-05-26T14:00:22.429Z"
   },
   {
    "duration": 21,
    "start_time": "2022-05-26T14:00:22.449Z"
   },
   {
    "duration": 34,
    "start_time": "2022-05-26T14:00:22.476Z"
   },
   {
    "duration": 5,
    "start_time": "2022-05-26T14:01:54.890Z"
   },
   {
    "duration": 27,
    "start_time": "2022-05-26T14:02:18.690Z"
   },
   {
    "duration": 17,
    "start_time": "2022-05-26T14:02:24.550Z"
   },
   {
    "duration": 419,
    "start_time": "2022-05-26T14:02:34.212Z"
   },
   {
    "duration": 92,
    "start_time": "2022-05-26T14:02:34.633Z"
   },
   {
    "duration": 21,
    "start_time": "2022-05-26T14:02:34.727Z"
   },
   {
    "duration": 45,
    "start_time": "2022-05-26T14:02:34.750Z"
   },
   {
    "duration": 10,
    "start_time": "2022-05-26T14:02:34.797Z"
   },
   {
    "duration": 15,
    "start_time": "2022-05-26T14:02:34.809Z"
   },
   {
    "duration": 7,
    "start_time": "2022-05-26T14:02:34.826Z"
   },
   {
    "duration": 9,
    "start_time": "2022-05-26T14:02:34.834Z"
   },
   {
    "duration": 57,
    "start_time": "2022-05-26T14:02:34.845Z"
   },
   {
    "duration": 15,
    "start_time": "2022-05-26T14:02:34.905Z"
   },
   {
    "duration": 7,
    "start_time": "2022-05-26T14:02:34.921Z"
   },
   {
    "duration": 43,
    "start_time": "2022-05-26T14:02:34.930Z"
   },
   {
    "duration": 21,
    "start_time": "2022-05-26T14:02:34.976Z"
   },
   {
    "duration": 5,
    "start_time": "2022-05-26T14:02:34.999Z"
   },
   {
    "duration": 7,
    "start_time": "2022-05-26T14:02:35.006Z"
   },
   {
    "duration": 18,
    "start_time": "2022-05-26T14:02:35.015Z"
   },
   {
    "duration": 39,
    "start_time": "2022-05-26T14:02:35.035Z"
   },
   {
    "duration": 18,
    "start_time": "2022-05-26T14:02:35.076Z"
   },
   {
    "duration": 5,
    "start_time": "2022-05-26T14:02:35.095Z"
   },
   {
    "duration": 15,
    "start_time": "2022-05-26T14:02:35.101Z"
   },
   {
    "duration": 58,
    "start_time": "2022-05-26T14:02:35.117Z"
   },
   {
    "duration": 11,
    "start_time": "2022-05-26T14:02:35.178Z"
   },
   {
    "duration": 22,
    "start_time": "2022-05-26T14:02:35.190Z"
   },
   {
    "duration": 52,
    "start_time": "2022-05-26T14:02:35.213Z"
   },
   {
    "duration": 15,
    "start_time": "2022-05-26T14:02:35.268Z"
   },
   {
    "duration": 26,
    "start_time": "2022-05-26T14:02:35.285Z"
   },
   {
    "duration": 15,
    "start_time": "2022-05-26T14:02:35.313Z"
   },
   {
    "duration": 43,
    "start_time": "2022-05-26T14:02:35.332Z"
   },
   {
    "duration": 17,
    "start_time": "2022-05-26T14:02:35.378Z"
   },
   {
    "duration": 13,
    "start_time": "2022-05-26T14:02:35.397Z"
   },
   {
    "duration": 199,
    "start_time": "2022-05-26T14:02:35.412Z"
   },
   {
    "duration": 10,
    "start_time": "2022-05-26T14:02:35.613Z"
   },
   {
    "duration": 20,
    "start_time": "2022-05-26T14:02:35.624Z"
   },
   {
    "duration": 8,
    "start_time": "2022-05-26T14:02:35.645Z"
   },
   {
    "duration": 245,
    "start_time": "2022-05-26T14:02:35.665Z"
   },
   {
    "duration": 3,
    "start_time": "2022-05-26T14:02:35.912Z"
   },
   {
    "duration": 25,
    "start_time": "2022-05-26T14:02:35.917Z"
   },
   {
    "duration": 22,
    "start_time": "2022-05-26T14:02:35.944Z"
   },
   {
    "duration": 4,
    "start_time": "2022-05-26T14:02:35.968Z"
   },
   {
    "duration": 31,
    "start_time": "2022-05-26T14:02:35.975Z"
   },
   {
    "duration": 5,
    "start_time": "2022-05-26T14:02:57.248Z"
   },
   {
    "duration": 5,
    "start_time": "2022-05-26T14:03:19.494Z"
   },
   {
    "duration": 448,
    "start_time": "2022-05-26T14:03:43.466Z"
   },
   {
    "duration": 79,
    "start_time": "2022-05-26T14:03:43.916Z"
   },
   {
    "duration": 20,
    "start_time": "2022-05-26T14:03:43.997Z"
   },
   {
    "duration": 17,
    "start_time": "2022-05-26T14:03:44.019Z"
   },
   {
    "duration": 36,
    "start_time": "2022-05-26T14:03:44.038Z"
   },
   {
    "duration": 15,
    "start_time": "2022-05-26T14:03:44.076Z"
   },
   {
    "duration": 7,
    "start_time": "2022-05-26T14:03:44.093Z"
   },
   {
    "duration": 8,
    "start_time": "2022-05-26T14:03:44.101Z"
   },
   {
    "duration": 64,
    "start_time": "2022-05-26T14:03:44.111Z"
   },
   {
    "duration": 18,
    "start_time": "2022-05-26T14:03:44.181Z"
   },
   {
    "duration": 4,
    "start_time": "2022-05-26T14:03:44.201Z"
   },
   {
    "duration": 15,
    "start_time": "2022-05-26T14:03:44.207Z"
   },
   {
    "duration": 14,
    "start_time": "2022-05-26T14:03:44.224Z"
   },
   {
    "duration": 37,
    "start_time": "2022-05-26T14:03:44.239Z"
   },
   {
    "duration": 6,
    "start_time": "2022-05-26T14:03:44.279Z"
   },
   {
    "duration": 13,
    "start_time": "2022-05-26T14:03:44.286Z"
   },
   {
    "duration": 5,
    "start_time": "2022-05-26T14:03:44.301Z"
   },
   {
    "duration": 8,
    "start_time": "2022-05-26T14:03:44.307Z"
   },
   {
    "duration": 5,
    "start_time": "2022-05-26T14:03:44.317Z"
   },
   {
    "duration": 42,
    "start_time": "2022-05-26T14:03:44.324Z"
   },
   {
    "duration": 39,
    "start_time": "2022-05-26T14:03:44.369Z"
   },
   {
    "duration": 6,
    "start_time": "2022-05-26T14:03:44.410Z"
   },
   {
    "duration": 19,
    "start_time": "2022-05-26T14:03:44.418Z"
   },
   {
    "duration": 50,
    "start_time": "2022-05-26T14:03:44.439Z"
   },
   {
    "duration": 6,
    "start_time": "2022-05-26T14:03:44.491Z"
   },
   {
    "duration": 23,
    "start_time": "2022-05-26T14:03:44.498Z"
   },
   {
    "duration": 11,
    "start_time": "2022-05-26T14:03:44.523Z"
   },
   {
    "duration": 33,
    "start_time": "2022-05-26T14:03:44.538Z"
   },
   {
    "duration": 12,
    "start_time": "2022-05-26T14:03:44.573Z"
   },
   {
    "duration": 21,
    "start_time": "2022-05-26T14:03:44.587Z"
   },
   {
    "duration": 167,
    "start_time": "2022-05-26T14:03:44.610Z"
   },
   {
    "duration": 14,
    "start_time": "2022-05-26T14:03:44.779Z"
   },
   {
    "duration": 7,
    "start_time": "2022-05-26T14:03:44.795Z"
   },
   {
    "duration": 8,
    "start_time": "2022-05-26T14:03:44.804Z"
   },
   {
    "duration": 237,
    "start_time": "2022-05-26T14:03:44.814Z"
   },
   {
    "duration": 4,
    "start_time": "2022-05-26T14:03:45.053Z"
   },
   {
    "duration": 30,
    "start_time": "2022-05-26T14:03:45.069Z"
   },
   {
    "duration": 9,
    "start_time": "2022-05-26T14:03:45.100Z"
   },
   {
    "duration": 7,
    "start_time": "2022-05-26T14:03:45.111Z"
   },
   {
    "duration": 15,
    "start_time": "2022-05-26T14:03:45.120Z"
   },
   {
    "duration": 24,
    "start_time": "2022-05-26T14:04:17.377Z"
   },
   {
    "duration": 9,
    "start_time": "2022-05-26T14:04:32.395Z"
   },
   {
    "duration": 4,
    "start_time": "2022-05-26T14:05:44.835Z"
   },
   {
    "duration": 36,
    "start_time": "2022-05-26T14:12:22.285Z"
   },
   {
    "duration": 44,
    "start_time": "2022-05-26T14:14:12.644Z"
   },
   {
    "duration": 32,
    "start_time": "2022-05-26T14:15:05.280Z"
   },
   {
    "duration": 12,
    "start_time": "2022-05-26T14:15:07.989Z"
   },
   {
    "duration": 2,
    "start_time": "2022-05-26T14:15:13.296Z"
   },
   {
    "duration": 85,
    "start_time": "2022-05-26T14:15:13.300Z"
   },
   {
    "duration": 14,
    "start_time": "2022-05-26T14:15:13.388Z"
   },
   {
    "duration": 18,
    "start_time": "2022-05-26T14:15:13.404Z"
   },
   {
    "duration": 40,
    "start_time": "2022-05-26T14:15:13.424Z"
   },
   {
    "duration": 14,
    "start_time": "2022-05-26T14:15:13.466Z"
   },
   {
    "duration": 12,
    "start_time": "2022-05-26T14:15:13.481Z"
   },
   {
    "duration": 9,
    "start_time": "2022-05-26T14:15:13.494Z"
   },
   {
    "duration": 59,
    "start_time": "2022-05-26T14:15:13.505Z"
   },
   {
    "duration": 16,
    "start_time": "2022-05-26T14:15:13.566Z"
   },
   {
    "duration": 5,
    "start_time": "2022-05-26T14:15:13.585Z"
   },
   {
    "duration": 16,
    "start_time": "2022-05-26T14:15:13.591Z"
   },
   {
    "duration": 20,
    "start_time": "2022-05-26T14:15:13.608Z"
   },
   {
    "duration": 37,
    "start_time": "2022-05-26T14:15:13.629Z"
   },
   {
    "duration": 42,
    "start_time": "2022-05-26T14:15:13.668Z"
   },
   {
    "duration": 16,
    "start_time": "2022-05-26T14:15:13.712Z"
   },
   {
    "duration": 39,
    "start_time": "2022-05-26T14:15:13.730Z"
   },
   {
    "duration": 10,
    "start_time": "2022-05-26T14:15:13.771Z"
   },
   {
    "duration": 6,
    "start_time": "2022-05-26T14:15:13.783Z"
   },
   {
    "duration": 29,
    "start_time": "2022-05-26T14:15:13.791Z"
   },
   {
    "duration": 35,
    "start_time": "2022-05-26T14:15:13.822Z"
   },
   {
    "duration": 7,
    "start_time": "2022-05-26T14:15:13.864Z"
   },
   {
    "duration": 18,
    "start_time": "2022-05-26T14:15:13.873Z"
   },
   {
    "duration": 33,
    "start_time": "2022-05-26T14:15:13.893Z"
   },
   {
    "duration": 7,
    "start_time": "2022-05-26T14:15:13.928Z"
   },
   {
    "duration": 46,
    "start_time": "2022-05-26T14:15:13.937Z"
   },
   {
    "duration": 23,
    "start_time": "2022-05-26T14:15:13.984Z"
   },
   {
    "duration": 16,
    "start_time": "2022-05-26T14:15:14.009Z"
   },
   {
    "duration": 11,
    "start_time": "2022-05-26T14:15:14.028Z"
   },
   {
    "duration": 8,
    "start_time": "2022-05-26T14:15:14.064Z"
   },
   {
    "duration": 168,
    "start_time": "2022-05-26T14:15:14.074Z"
   },
   {
    "duration": 9,
    "start_time": "2022-05-26T14:15:14.244Z"
   },
   {
    "duration": 8,
    "start_time": "2022-05-26T14:15:14.265Z"
   },
   {
    "duration": 13,
    "start_time": "2022-05-26T14:15:14.275Z"
   },
   {
    "duration": 227,
    "start_time": "2022-05-26T14:15:14.291Z"
   },
   {
    "duration": 5,
    "start_time": "2022-05-26T14:15:14.521Z"
   },
   {
    "duration": 41,
    "start_time": "2022-05-26T14:15:14.529Z"
   },
   {
    "duration": 11,
    "start_time": "2022-05-26T14:15:14.572Z"
   },
   {
    "duration": 3,
    "start_time": "2022-05-26T14:15:14.585Z"
   },
   {
    "duration": 18,
    "start_time": "2022-05-26T14:15:14.590Z"
   },
   {
    "duration": 81,
    "start_time": "2022-05-26T14:19:16.027Z"
   },
   {
    "duration": 8,
    "start_time": "2022-05-26T14:19:23.490Z"
   },
   {
    "duration": 9,
    "start_time": "2022-05-26T14:21:36.064Z"
   },
   {
    "duration": 33,
    "start_time": "2022-05-26T14:44:25.476Z"
   },
   {
    "duration": 11,
    "start_time": "2022-05-26T14:45:10.773Z"
   },
   {
    "duration": 39,
    "start_time": "2022-05-26T14:47:15.359Z"
   },
   {
    "duration": 71,
    "start_time": "2022-05-26T16:53:36.918Z"
   },
   {
    "duration": 480,
    "start_time": "2022-05-26T16:56:11.992Z"
   },
   {
    "duration": 108,
    "start_time": "2022-05-26T16:56:12.474Z"
   },
   {
    "duration": 42,
    "start_time": "2022-05-26T16:56:12.591Z"
   },
   {
    "duration": 24,
    "start_time": "2022-05-26T16:56:12.636Z"
   },
   {
    "duration": 14,
    "start_time": "2022-05-26T16:56:12.661Z"
   },
   {
    "duration": 44,
    "start_time": "2022-05-26T16:56:12.677Z"
   },
   {
    "duration": 10,
    "start_time": "2022-05-26T16:56:12.723Z"
   },
   {
    "duration": 7,
    "start_time": "2022-05-26T16:56:12.735Z"
   },
   {
    "duration": 50,
    "start_time": "2022-05-26T16:56:12.744Z"
   },
   {
    "duration": 24,
    "start_time": "2022-05-26T16:56:12.798Z"
   },
   {
    "duration": 2,
    "start_time": "2022-05-26T16:58:43.748Z"
   },
   {
    "duration": 88,
    "start_time": "2022-05-26T16:58:43.753Z"
   },
   {
    "duration": 15,
    "start_time": "2022-05-26T16:58:43.842Z"
   },
   {
    "duration": 25,
    "start_time": "2022-05-26T16:58:43.859Z"
   },
   {
    "duration": 11,
    "start_time": "2022-05-26T16:58:43.886Z"
   },
   {
    "duration": 15,
    "start_time": "2022-05-26T16:58:43.899Z"
   },
   {
    "duration": 6,
    "start_time": "2022-05-26T16:58:43.916Z"
   },
   {
    "duration": 7,
    "start_time": "2022-05-26T16:58:43.924Z"
   },
   {
    "duration": 72,
    "start_time": "2022-05-26T16:58:43.933Z"
   },
   {
    "duration": 16,
    "start_time": "2022-05-26T16:58:44.007Z"
   },
   {
    "duration": 6,
    "start_time": "2022-05-26T16:58:44.025Z"
   },
   {
    "duration": 42,
    "start_time": "2022-05-26T16:58:44.033Z"
   },
   {
    "duration": 15,
    "start_time": "2022-05-26T16:58:44.079Z"
   },
   {
    "duration": 36,
    "start_time": "2022-05-26T16:58:44.096Z"
   },
   {
    "duration": 11,
    "start_time": "2022-05-26T16:58:44.134Z"
   },
   {
    "duration": 6,
    "start_time": "2022-05-26T17:02:54.194Z"
   },
   {
    "duration": 11,
    "start_time": "2022-05-26T17:04:30.996Z"
   },
   {
    "duration": 24,
    "start_time": "2022-05-26T17:06:49.923Z"
   },
   {
    "duration": 33,
    "start_time": "2022-05-26T17:07:03.186Z"
   },
   {
    "duration": 29,
    "start_time": "2022-05-26T17:07:13.900Z"
   },
   {
    "duration": 22,
    "start_time": "2022-05-26T17:07:20.610Z"
   },
   {
    "duration": 36,
    "start_time": "2022-05-26T17:07:42.984Z"
   },
   {
    "duration": 27,
    "start_time": "2022-05-26T17:07:47.120Z"
   },
   {
    "duration": 23,
    "start_time": "2022-05-26T17:07:53.899Z"
   },
   {
    "duration": 32,
    "start_time": "2022-05-26T17:08:12.487Z"
   },
   {
    "duration": 24,
    "start_time": "2022-05-26T17:08:22.713Z"
   },
   {
    "duration": 22,
    "start_time": "2022-05-26T17:08:27.827Z"
   },
   {
    "duration": 27,
    "start_time": "2022-05-26T17:08:35.194Z"
   },
   {
    "duration": 29,
    "start_time": "2022-05-26T17:08:46.500Z"
   },
   {
    "duration": 16,
    "start_time": "2022-05-26T17:09:05.202Z"
   },
   {
    "duration": 11,
    "start_time": "2022-05-26T17:09:12.678Z"
   },
   {
    "duration": 10,
    "start_time": "2022-05-26T17:09:16.786Z"
   },
   {
    "duration": 12,
    "start_time": "2022-05-26T17:09:21.085Z"
   },
   {
    "duration": 9,
    "start_time": "2022-05-26T17:09:37.912Z"
   },
   {
    "duration": 10,
    "start_time": "2022-05-26T17:09:52.985Z"
   },
   {
    "duration": 24,
    "start_time": "2022-05-26T17:09:56.109Z"
   },
   {
    "duration": 6,
    "start_time": "2022-05-26T17:11:45.003Z"
   },
   {
    "duration": 15,
    "start_time": "2022-05-26T17:12:00.293Z"
   },
   {
    "duration": 448,
    "start_time": "2022-05-26T17:12:44.230Z"
   },
   {
    "duration": 97,
    "start_time": "2022-05-26T17:12:44.682Z"
   },
   {
    "duration": 32,
    "start_time": "2022-05-26T17:12:44.780Z"
   },
   {
    "duration": 24,
    "start_time": "2022-05-26T17:12:44.815Z"
   },
   {
    "duration": 28,
    "start_time": "2022-05-26T17:12:44.842Z"
   },
   {
    "duration": 24,
    "start_time": "2022-05-26T17:12:44.872Z"
   },
   {
    "duration": 19,
    "start_time": "2022-05-26T17:12:44.899Z"
   },
   {
    "duration": 8,
    "start_time": "2022-05-26T17:12:44.919Z"
   },
   {
    "duration": 83,
    "start_time": "2022-05-26T17:12:44.929Z"
   },
   {
    "duration": 17,
    "start_time": "2022-05-26T17:12:45.015Z"
   },
   {
    "duration": 9,
    "start_time": "2022-05-26T17:12:45.034Z"
   },
   {
    "duration": 32,
    "start_time": "2022-05-26T17:12:45.045Z"
   },
   {
    "duration": 39,
    "start_time": "2022-05-26T17:12:47.097Z"
   },
   {
    "duration": 25,
    "start_time": "2022-05-26T17:13:01.421Z"
   },
   {
    "duration": 30,
    "start_time": "2022-05-26T17:13:09.232Z"
   },
   {
    "duration": 9,
    "start_time": "2022-05-26T17:13:29.290Z"
   },
   {
    "duration": 15,
    "start_time": "2022-05-26T17:16:51.848Z"
   },
   {
    "duration": 13,
    "start_time": "2022-05-26T17:16:57.808Z"
   },
   {
    "duration": 24,
    "start_time": "2022-05-26T17:17:25.877Z"
   },
   {
    "duration": 37,
    "start_time": "2022-05-26T17:17:28.851Z"
   },
   {
    "duration": 22,
    "start_time": "2022-05-26T17:19:26.586Z"
   },
   {
    "duration": 8,
    "start_time": "2022-05-26T17:24:01.622Z"
   },
   {
    "duration": 23,
    "start_time": "2022-05-26T17:24:04.485Z"
   },
   {
    "duration": 8,
    "start_time": "2022-05-26T17:24:10.854Z"
   },
   {
    "duration": 13,
    "start_time": "2022-05-26T17:24:13.424Z"
   },
   {
    "duration": 10,
    "start_time": "2022-05-26T17:25:38.786Z"
   },
   {
    "duration": 30,
    "start_time": "2022-05-26T17:25:48.206Z"
   },
   {
    "duration": 9,
    "start_time": "2022-05-26T17:25:54.053Z"
   },
   {
    "duration": 10,
    "start_time": "2022-05-26T17:25:57.083Z"
   },
   {
    "duration": 10,
    "start_time": "2022-05-26T17:25:59.620Z"
   },
   {
    "duration": 10,
    "start_time": "2022-05-26T17:26:09.730Z"
   },
   {
    "duration": 24,
    "start_time": "2022-05-26T17:26:14.783Z"
   },
   {
    "duration": 22,
    "start_time": "2022-05-26T17:26:24.426Z"
   },
   {
    "duration": 12,
    "start_time": "2022-05-26T17:26:31.081Z"
   },
   {
    "duration": 18,
    "start_time": "2022-05-26T17:26:36.436Z"
   },
   {
    "duration": 24,
    "start_time": "2022-05-26T17:36:20.691Z"
   },
   {
    "duration": 14,
    "start_time": "2022-05-26T17:36:58.335Z"
   },
   {
    "duration": 24,
    "start_time": "2022-05-26T17:40:40.757Z"
   },
   {
    "duration": 5,
    "start_time": "2022-05-26T17:41:09.831Z"
   },
   {
    "duration": 24,
    "start_time": "2022-05-26T17:41:31.420Z"
   },
   {
    "duration": 20,
    "start_time": "2022-05-26T17:41:35.553Z"
   },
   {
    "duration": 12,
    "start_time": "2022-05-26T17:41:48.800Z"
   },
   {
    "duration": 14,
    "start_time": "2022-05-26T17:41:52.754Z"
   },
   {
    "duration": 22,
    "start_time": "2022-05-26T17:42:06.658Z"
   },
   {
    "duration": 78,
    "start_time": "2022-05-26T18:19:11.549Z"
   },
   {
    "duration": 60,
    "start_time": "2022-05-27T06:48:57.829Z"
   },
   {
    "duration": 597,
    "start_time": "2022-05-27T06:49:09.680Z"
   },
   {
    "duration": 283,
    "start_time": "2022-05-27T06:49:10.279Z"
   },
   {
    "duration": 19,
    "start_time": "2022-05-27T06:49:10.564Z"
   },
   {
    "duration": 16,
    "start_time": "2022-05-27T06:49:10.585Z"
   },
   {
    "duration": 9,
    "start_time": "2022-05-27T06:49:10.603Z"
   },
   {
    "duration": 13,
    "start_time": "2022-05-27T06:49:10.614Z"
   },
   {
    "duration": 6,
    "start_time": "2022-05-27T06:49:10.628Z"
   },
   {
    "duration": 6,
    "start_time": "2022-05-27T06:49:10.636Z"
   },
   {
    "duration": 32,
    "start_time": "2022-05-27T06:49:10.644Z"
   },
   {
    "duration": 14,
    "start_time": "2022-05-27T06:49:10.677Z"
   },
   {
    "duration": 33,
    "start_time": "2022-05-27T06:49:10.693Z"
   },
   {
    "duration": 12,
    "start_time": "2022-05-27T06:49:10.727Z"
   },
   {
    "duration": 33,
    "start_time": "2022-05-27T06:49:13.692Z"
   },
   {
    "duration": 12,
    "start_time": "2022-05-27T06:49:43.176Z"
   },
   {
    "duration": 12,
    "start_time": "2022-05-27T06:49:54.202Z"
   },
   {
    "duration": 8,
    "start_time": "2022-05-27T06:50:16.134Z"
   },
   {
    "duration": 29,
    "start_time": "2022-05-27T06:51:02.427Z"
   },
   {
    "duration": 20,
    "start_time": "2022-05-27T06:51:27.569Z"
   },
   {
    "duration": 6,
    "start_time": "2022-05-27T06:51:55.728Z"
   },
   {
    "duration": 9,
    "start_time": "2022-05-27T06:52:20.427Z"
   },
   {
    "duration": 10,
    "start_time": "2022-05-27T06:52:50.829Z"
   },
   {
    "duration": 15,
    "start_time": "2022-05-27T06:56:14.166Z"
   },
   {
    "duration": 8,
    "start_time": "2022-05-27T06:56:24.194Z"
   },
   {
    "duration": 7,
    "start_time": "2022-05-27T06:56:31.960Z"
   },
   {
    "duration": 13,
    "start_time": "2022-05-27T06:56:38.734Z"
   },
   {
    "duration": 7,
    "start_time": "2022-05-27T06:56:45.613Z"
   },
   {
    "duration": 14,
    "start_time": "2022-05-27T06:57:11.299Z"
   },
   {
    "duration": 13,
    "start_time": "2022-05-27T06:57:26.825Z"
   },
   {
    "duration": 12,
    "start_time": "2022-05-27T06:58:03.635Z"
   },
   {
    "duration": 16,
    "start_time": "2022-05-27T06:58:12.002Z"
   },
   {
    "duration": 34,
    "start_time": "2022-05-27T06:59:09.883Z"
   },
   {
    "duration": 15,
    "start_time": "2022-05-27T06:59:23.784Z"
   },
   {
    "duration": 16,
    "start_time": "2022-05-27T06:59:39.764Z"
   },
   {
    "duration": 15,
    "start_time": "2022-05-27T06:59:57.411Z"
   },
   {
    "duration": 16,
    "start_time": "2022-05-27T07:01:02.060Z"
   },
   {
    "duration": 14,
    "start_time": "2022-05-27T07:01:09.025Z"
   },
   {
    "duration": 14,
    "start_time": "2022-05-27T07:01:20.318Z"
   },
   {
    "duration": 10,
    "start_time": "2022-05-27T07:07:31.210Z"
   },
   {
    "duration": 10,
    "start_time": "2022-05-27T07:07:55.495Z"
   },
   {
    "duration": 8,
    "start_time": "2022-05-27T07:08:04.699Z"
   },
   {
    "duration": 8,
    "start_time": "2022-05-27T07:08:25.157Z"
   },
   {
    "duration": 8,
    "start_time": "2022-05-27T07:09:25.458Z"
   },
   {
    "duration": 7,
    "start_time": "2022-05-27T07:09:29.193Z"
   },
   {
    "duration": 7,
    "start_time": "2022-05-27T07:09:31.682Z"
   },
   {
    "duration": 28,
    "start_time": "2022-05-27T07:09:59.252Z"
   },
   {
    "duration": 21,
    "start_time": "2022-05-27T07:10:26.752Z"
   },
   {
    "duration": 40,
    "start_time": "2022-05-27T07:10:58.650Z"
   },
   {
    "duration": 427,
    "start_time": "2022-05-27T07:11:12.802Z"
   },
   {
    "duration": 105,
    "start_time": "2022-05-27T07:11:46.819Z"
   },
   {
    "duration": 10,
    "start_time": "2022-05-27T07:11:57.285Z"
   },
   {
    "duration": 6,
    "start_time": "2022-05-27T07:12:30.656Z"
   },
   {
    "duration": 11,
    "start_time": "2022-05-27T07:12:44.561Z"
   },
   {
    "duration": 4,
    "start_time": "2022-05-27T07:12:56.854Z"
   },
   {
    "duration": 7,
    "start_time": "2022-05-27T07:13:14.207Z"
   },
   {
    "duration": 32,
    "start_time": "2022-05-27T07:13:26.207Z"
   },
   {
    "duration": 6,
    "start_time": "2022-05-27T07:13:33.979Z"
   },
   {
    "duration": 6,
    "start_time": "2022-05-27T07:13:45.323Z"
   },
   {
    "duration": 6,
    "start_time": "2022-05-27T07:14:09.834Z"
   },
   {
    "duration": 6,
    "start_time": "2022-05-27T07:14:20.782Z"
   },
   {
    "duration": 6,
    "start_time": "2022-05-27T07:14:33.653Z"
   },
   {
    "duration": 6,
    "start_time": "2022-05-27T07:14:49.478Z"
   },
   {
    "duration": 10,
    "start_time": "2022-05-27T07:15:34.517Z"
   },
   {
    "duration": 11,
    "start_time": "2022-05-27T07:15:42.581Z"
   },
   {
    "duration": 11,
    "start_time": "2022-05-27T07:16:20.793Z"
   },
   {
    "duration": 10,
    "start_time": "2022-05-27T07:16:28.084Z"
   },
   {
    "duration": 7,
    "start_time": "2022-05-27T07:16:43.069Z"
   },
   {
    "duration": 8,
    "start_time": "2022-05-27T07:17:10.592Z"
   },
   {
    "duration": 11,
    "start_time": "2022-05-27T07:17:22.551Z"
   },
   {
    "duration": 68,
    "start_time": "2022-05-27T07:22:12.500Z"
   },
   {
    "duration": 8,
    "start_time": "2022-05-27T07:22:42.733Z"
   },
   {
    "duration": 110,
    "start_time": "2022-05-27T07:28:29.859Z"
   },
   {
    "duration": 7,
    "start_time": "2022-05-27T07:28:51.550Z"
   },
   {
    "duration": 5,
    "start_time": "2022-05-27T07:29:43.371Z"
   },
   {
    "duration": 4,
    "start_time": "2022-05-27T07:29:57.251Z"
   },
   {
    "duration": 9,
    "start_time": "2022-05-27T07:30:00.680Z"
   },
   {
    "duration": 23,
    "start_time": "2022-05-27T07:30:09.638Z"
   },
   {
    "duration": 453,
    "start_time": "2022-05-27T07:30:56.201Z"
   },
   {
    "duration": 22,
    "start_time": "2022-05-27T07:31:08.278Z"
   },
   {
    "duration": 57,
    "start_time": "2022-05-27T07:31:32.953Z"
   },
   {
    "duration": 402,
    "start_time": "2022-05-27T07:31:36.761Z"
   },
   {
    "duration": 78,
    "start_time": "2022-05-27T07:31:37.165Z"
   },
   {
    "duration": 24,
    "start_time": "2022-05-27T07:31:37.245Z"
   },
   {
    "duration": 15,
    "start_time": "2022-05-27T07:31:37.272Z"
   },
   {
    "duration": 9,
    "start_time": "2022-05-27T07:31:37.289Z"
   },
   {
    "duration": 32,
    "start_time": "2022-05-27T07:31:37.299Z"
   },
   {
    "duration": 8,
    "start_time": "2022-05-27T07:31:37.335Z"
   },
   {
    "duration": 8,
    "start_time": "2022-05-27T07:31:37.344Z"
   },
   {
    "duration": 40,
    "start_time": "2022-05-27T07:31:37.354Z"
   },
   {
    "duration": 45,
    "start_time": "2022-05-27T07:31:37.397Z"
   },
   {
    "duration": 13,
    "start_time": "2022-05-27T07:31:37.444Z"
   },
   {
    "duration": 19,
    "start_time": "2022-05-27T07:31:37.459Z"
   },
   {
    "duration": 16,
    "start_time": "2022-05-27T07:31:37.480Z"
   },
   {
    "duration": 33,
    "start_time": "2022-05-27T07:31:37.498Z"
   },
   {
    "duration": 12,
    "start_time": "2022-05-27T07:31:37.533Z"
   },
   {
    "duration": 7,
    "start_time": "2022-05-27T07:31:37.546Z"
   },
   {
    "duration": 19,
    "start_time": "2022-05-27T07:31:39.477Z"
   },
   {
    "duration": 9,
    "start_time": "2022-05-27T07:31:48.110Z"
   },
   {
    "duration": 386,
    "start_time": "2022-05-27T07:32:46.777Z"
   },
   {
    "duration": 76,
    "start_time": "2022-05-27T07:32:47.165Z"
   },
   {
    "duration": 19,
    "start_time": "2022-05-27T07:32:47.242Z"
   },
   {
    "duration": 16,
    "start_time": "2022-05-27T07:32:47.263Z"
   },
   {
    "duration": 17,
    "start_time": "2022-05-27T07:32:47.280Z"
   },
   {
    "duration": 17,
    "start_time": "2022-05-27T07:32:47.300Z"
   },
   {
    "duration": 8,
    "start_time": "2022-05-27T07:32:47.319Z"
   },
   {
    "duration": 18,
    "start_time": "2022-05-27T07:32:47.329Z"
   },
   {
    "duration": 31,
    "start_time": "2022-05-27T07:32:47.349Z"
   },
   {
    "duration": 14,
    "start_time": "2022-05-27T07:32:47.382Z"
   },
   {
    "duration": 4,
    "start_time": "2022-05-27T07:32:47.398Z"
   },
   {
    "duration": 18,
    "start_time": "2022-05-27T07:32:47.423Z"
   },
   {
    "duration": 11,
    "start_time": "2022-05-27T07:32:47.443Z"
   },
   {
    "duration": 13,
    "start_time": "2022-05-27T07:32:47.455Z"
   },
   {
    "duration": 7,
    "start_time": "2022-05-27T07:32:47.469Z"
   },
   {
    "duration": 5,
    "start_time": "2022-05-27T07:32:47.478Z"
   },
   {
    "duration": 24,
    "start_time": "2022-05-27T07:32:49.039Z"
   },
   {
    "duration": 459,
    "start_time": "2022-05-27T07:34:40.399Z"
   },
   {
    "duration": 79,
    "start_time": "2022-05-27T07:34:40.859Z"
   },
   {
    "duration": 21,
    "start_time": "2022-05-27T07:34:40.941Z"
   },
   {
    "duration": 16,
    "start_time": "2022-05-27T07:34:40.964Z"
   },
   {
    "duration": 9,
    "start_time": "2022-05-27T07:34:40.982Z"
   },
   {
    "duration": 44,
    "start_time": "2022-05-27T07:34:40.993Z"
   },
   {
    "duration": 8,
    "start_time": "2022-05-27T07:34:41.040Z"
   },
   {
    "duration": 9,
    "start_time": "2022-05-27T07:34:41.049Z"
   },
   {
    "duration": 36,
    "start_time": "2022-05-27T07:34:41.060Z"
   },
   {
    "duration": 21,
    "start_time": "2022-05-27T07:34:41.123Z"
   },
   {
    "duration": 4,
    "start_time": "2022-05-27T07:34:41.146Z"
   },
   {
    "duration": 15,
    "start_time": "2022-05-27T07:34:41.152Z"
   },
   {
    "duration": 12,
    "start_time": "2022-05-27T07:34:41.169Z"
   },
   {
    "duration": 54,
    "start_time": "2022-05-27T07:34:41.183Z"
   },
   {
    "duration": 9,
    "start_time": "2022-05-27T07:34:41.239Z"
   },
   {
    "duration": 5,
    "start_time": "2022-05-27T07:34:41.250Z"
   },
   {
    "duration": 10,
    "start_time": "2022-05-27T07:34:42.952Z"
   },
   {
    "duration": 5,
    "start_time": "2022-05-27T07:36:26.267Z"
   },
   {
    "duration": 5,
    "start_time": "2022-05-27T07:40:23.155Z"
   },
   {
    "duration": 6,
    "start_time": "2022-05-27T07:42:27.992Z"
   },
   {
    "duration": 18,
    "start_time": "2022-05-27T07:42:45.198Z"
   },
   {
    "duration": 20,
    "start_time": "2022-05-27T07:44:46.066Z"
   },
   {
    "duration": 21,
    "start_time": "2022-05-27T07:45:18.182Z"
   },
   {
    "duration": 23,
    "start_time": "2022-05-27T07:45:52.349Z"
   },
   {
    "duration": 4,
    "start_time": "2022-05-27T07:47:19.061Z"
   },
   {
    "duration": 4,
    "start_time": "2022-05-27T07:47:49.234Z"
   },
   {
    "duration": 8,
    "start_time": "2022-05-27T07:49:03.749Z"
   },
   {
    "duration": 20,
    "start_time": "2022-05-27T07:49:06.639Z"
   },
   {
    "duration": 21,
    "start_time": "2022-05-27T07:49:24.583Z"
   },
   {
    "duration": 13,
    "start_time": "2022-05-27T07:50:00.781Z"
   },
   {
    "duration": 15,
    "start_time": "2022-05-27T07:50:12.635Z"
   },
   {
    "duration": 11,
    "start_time": "2022-05-27T07:50:30.515Z"
   },
   {
    "duration": 14,
    "start_time": "2022-05-27T07:50:47.816Z"
   },
   {
    "duration": 13,
    "start_time": "2022-05-27T07:50:52.618Z"
   },
   {
    "duration": 6,
    "start_time": "2022-05-27T07:52:38.000Z"
   },
   {
    "duration": 9,
    "start_time": "2022-05-27T07:52:41.759Z"
   },
   {
    "duration": 383,
    "start_time": "2022-05-27T07:53:24.669Z"
   },
   {
    "duration": 70,
    "start_time": "2022-05-27T07:53:25.054Z"
   },
   {
    "duration": 18,
    "start_time": "2022-05-27T07:53:25.126Z"
   },
   {
    "duration": 6,
    "start_time": "2022-05-27T07:53:54.325Z"
   },
   {
    "duration": 3,
    "start_time": "2022-05-27T07:54:44.220Z"
   },
   {
    "duration": 73,
    "start_time": "2022-05-27T07:54:44.238Z"
   },
   {
    "duration": 14,
    "start_time": "2022-05-27T07:54:44.314Z"
   },
   {
    "duration": 15,
    "start_time": "2022-05-27T07:54:44.330Z"
   },
   {
    "duration": 25,
    "start_time": "2022-05-27T07:54:44.346Z"
   },
   {
    "duration": 18,
    "start_time": "2022-05-27T07:54:44.374Z"
   },
   {
    "duration": 21,
    "start_time": "2022-05-27T07:54:44.394Z"
   },
   {
    "duration": 8,
    "start_time": "2022-05-27T07:54:44.416Z"
   },
   {
    "duration": 46,
    "start_time": "2022-05-27T07:54:44.425Z"
   },
   {
    "duration": 17,
    "start_time": "2022-05-27T07:54:44.474Z"
   },
   {
    "duration": 10,
    "start_time": "2022-05-27T07:54:44.492Z"
   },
   {
    "duration": 35,
    "start_time": "2022-05-27T07:54:44.503Z"
   },
   {
    "duration": 148,
    "start_time": "2022-05-27T07:54:44.541Z"
   },
   {
    "duration": 17,
    "start_time": "2022-05-27T07:54:44.692Z"
   },
   {
    "duration": 10,
    "start_time": "2022-05-27T07:54:44.711Z"
   },
   {
    "duration": 18,
    "start_time": "2022-05-27T07:54:44.723Z"
   },
   {
    "duration": 19,
    "start_time": "2022-05-27T07:54:44.743Z"
   },
   {
    "duration": 22,
    "start_time": "2022-05-27T07:54:44.763Z"
   },
   {
    "duration": 22,
    "start_time": "2022-05-27T07:54:44.787Z"
   },
   {
    "duration": 14,
    "start_time": "2022-05-27T07:54:44.811Z"
   },
   {
    "duration": 8,
    "start_time": "2022-05-27T07:54:52.989Z"
   },
   {
    "duration": 443,
    "start_time": "2022-05-27T07:56:20.104Z"
   },
   {
    "duration": 70,
    "start_time": "2022-05-27T07:56:20.548Z"
   },
   {
    "duration": 20,
    "start_time": "2022-05-27T07:56:20.620Z"
   },
   {
    "duration": 6,
    "start_time": "2022-05-27T07:56:20.641Z"
   },
   {
    "duration": 12,
    "start_time": "2022-05-27T07:56:20.649Z"
   },
   {
    "duration": 12,
    "start_time": "2022-05-27T07:56:20.662Z"
   },
   {
    "duration": 7,
    "start_time": "2022-05-27T07:56:20.676Z"
   },
   {
    "duration": 11,
    "start_time": "2022-05-27T07:56:20.685Z"
   },
   {
    "duration": 67,
    "start_time": "2022-05-27T07:56:20.698Z"
   },
   {
    "duration": 16,
    "start_time": "2022-05-27T07:56:20.767Z"
   },
   {
    "duration": 5,
    "start_time": "2022-05-27T07:56:20.784Z"
   },
   {
    "duration": 34,
    "start_time": "2022-05-27T07:56:20.790Z"
   },
   {
    "duration": 14,
    "start_time": "2022-05-27T07:56:20.826Z"
   },
   {
    "duration": 13,
    "start_time": "2022-05-27T07:56:20.841Z"
   },
   {
    "duration": 10,
    "start_time": "2022-05-27T07:56:20.856Z"
   },
   {
    "duration": 5,
    "start_time": "2022-05-27T07:56:20.867Z"
   },
   {
    "duration": 10,
    "start_time": "2022-05-27T07:56:20.874Z"
   },
   {
    "duration": 12,
    "start_time": "2022-05-27T07:56:20.923Z"
   },
   {
    "duration": 20,
    "start_time": "2022-05-27T07:56:20.936Z"
   },
   {
    "duration": 7,
    "start_time": "2022-05-27T07:56:20.958Z"
   },
   {
    "duration": 6,
    "start_time": "2022-05-27T07:56:20.966Z"
   },
   {
    "duration": 8,
    "start_time": "2022-05-27T07:56:26.660Z"
   },
   {
    "duration": 4,
    "start_time": "2022-05-27T07:56:34.813Z"
   },
   {
    "duration": 13,
    "start_time": "2022-05-27T07:56:37.363Z"
   },
   {
    "duration": 71,
    "start_time": "2022-05-27T08:05:26.936Z"
   },
   {
    "duration": 6,
    "start_time": "2022-05-27T08:05:34.418Z"
   },
   {
    "duration": 6,
    "start_time": "2022-05-27T08:05:41.010Z"
   },
   {
    "duration": 6,
    "start_time": "2022-05-27T08:05:46.722Z"
   },
   {
    "duration": 6,
    "start_time": "2022-05-27T08:06:38.602Z"
   },
   {
    "duration": 6,
    "start_time": "2022-05-27T08:06:46.195Z"
   },
   {
    "duration": 9,
    "start_time": "2022-05-27T08:09:57.795Z"
   },
   {
    "duration": 6,
    "start_time": "2022-05-27T08:10:04.355Z"
   },
   {
    "duration": 9,
    "start_time": "2022-05-27T08:14:57.914Z"
   },
   {
    "duration": 5,
    "start_time": "2022-05-27T08:25:27.767Z"
   },
   {
    "duration": 6,
    "start_time": "2022-05-27T08:25:53.123Z"
   },
   {
    "duration": 145,
    "start_time": "2022-05-27T08:29:09.056Z"
   },
   {
    "duration": 8,
    "start_time": "2022-05-27T08:30:32.195Z"
   },
   {
    "duration": 8,
    "start_time": "2022-05-27T08:32:45.627Z"
   },
   {
    "duration": 7,
    "start_time": "2022-05-27T08:34:25.731Z"
   },
   {
    "duration": 467,
    "start_time": "2022-05-27T08:35:02.516Z"
   },
   {
    "duration": 72,
    "start_time": "2022-05-27T08:35:02.985Z"
   },
   {
    "duration": 22,
    "start_time": "2022-05-27T08:35:03.058Z"
   },
   {
    "duration": 7,
    "start_time": "2022-05-27T08:35:03.082Z"
   },
   {
    "duration": 11,
    "start_time": "2022-05-27T08:35:03.091Z"
   },
   {
    "duration": 25,
    "start_time": "2022-05-27T08:35:03.104Z"
   },
   {
    "duration": 9,
    "start_time": "2022-05-27T08:35:03.130Z"
   },
   {
    "duration": 17,
    "start_time": "2022-05-27T08:35:03.141Z"
   },
   {
    "duration": 34,
    "start_time": "2022-05-27T08:35:03.160Z"
   },
   {
    "duration": 26,
    "start_time": "2022-05-27T08:35:03.198Z"
   },
   {
    "duration": 5,
    "start_time": "2022-05-27T08:35:03.226Z"
   },
   {
    "duration": 15,
    "start_time": "2022-05-27T08:35:03.232Z"
   },
   {
    "duration": 11,
    "start_time": "2022-05-27T08:35:03.249Z"
   },
   {
    "duration": 13,
    "start_time": "2022-05-27T08:35:03.262Z"
   },
   {
    "duration": 47,
    "start_time": "2022-05-27T08:35:03.276Z"
   },
   {
    "duration": 6,
    "start_time": "2022-05-27T08:35:03.325Z"
   },
   {
    "duration": 11,
    "start_time": "2022-05-27T08:35:03.333Z"
   },
   {
    "duration": 11,
    "start_time": "2022-05-27T08:35:03.346Z"
   },
   {
    "duration": 19,
    "start_time": "2022-05-27T08:35:03.358Z"
   },
   {
    "duration": 7,
    "start_time": "2022-05-27T08:35:03.379Z"
   },
   {
    "duration": 39,
    "start_time": "2022-05-27T08:35:03.388Z"
   },
   {
    "duration": 10,
    "start_time": "2022-05-27T08:35:03.429Z"
   },
   {
    "duration": 7,
    "start_time": "2022-05-27T08:35:03.440Z"
   },
   {
    "duration": 12,
    "start_time": "2022-05-27T08:35:03.449Z"
   },
   {
    "duration": 28,
    "start_time": "2022-05-27T08:35:03.463Z"
   },
   {
    "duration": 34,
    "start_time": "2022-05-27T08:35:03.493Z"
   },
   {
    "duration": 19,
    "start_time": "2022-05-27T08:35:03.529Z"
   },
   {
    "duration": 29,
    "start_time": "2022-05-27T08:35:03.551Z"
   },
   {
    "duration": 7,
    "start_time": "2022-05-27T08:35:03.581Z"
   },
   {
    "duration": 34,
    "start_time": "2022-05-27T08:35:03.589Z"
   },
   {
    "duration": 13,
    "start_time": "2022-05-27T08:35:03.625Z"
   },
   {
    "duration": 18,
    "start_time": "2022-05-27T08:35:03.640Z"
   },
   {
    "duration": 10,
    "start_time": "2022-05-27T08:35:03.660Z"
   },
   {
    "duration": 10,
    "start_time": "2022-05-27T08:35:03.671Z"
   },
   {
    "duration": 161,
    "start_time": "2022-05-27T08:35:03.682Z"
   },
   {
    "duration": 10,
    "start_time": "2022-05-27T08:35:03.845Z"
   },
   {
    "duration": 25,
    "start_time": "2022-05-27T08:35:03.856Z"
   },
   {
    "duration": 9,
    "start_time": "2022-05-27T08:35:03.882Z"
   },
   {
    "duration": 198,
    "start_time": "2022-05-27T08:35:03.893Z"
   },
   {
    "duration": 6,
    "start_time": "2022-05-27T08:35:04.093Z"
   },
   {
    "duration": 14,
    "start_time": "2022-05-27T08:35:04.100Z"
   },
   {
    "duration": 143,
    "start_time": "2022-05-27T08:35:04.124Z"
   },
   {
    "duration": 7,
    "start_time": "2022-05-27T08:35:04.268Z"
   },
   {
    "duration": 147,
    "start_time": "2022-05-27T08:35:04.276Z"
   },
   {
    "duration": 9,
    "start_time": "2022-05-27T08:35:04.425Z"
   },
   {
    "duration": 7,
    "start_time": "2022-05-27T08:35:04.437Z"
   },
   {
    "duration": 24,
    "start_time": "2022-05-27T08:35:04.445Z"
   },
   {
    "duration": 9,
    "start_time": "2022-05-27T08:35:04.470Z"
   },
   {
    "duration": 2,
    "start_time": "2022-05-27T08:35:04.481Z"
   },
   {
    "duration": 39,
    "start_time": "2022-05-27T08:35:04.485Z"
   },
   {
    "duration": 20,
    "start_time": "2022-05-27T08:35:41.135Z"
   },
   {
    "duration": 6,
    "start_time": "2022-05-27T08:38:22.902Z"
   },
   {
    "duration": 77,
    "start_time": "2022-05-27T08:38:45.836Z"
   },
   {
    "duration": 7,
    "start_time": "2022-05-27T08:39:02.264Z"
   },
   {
    "duration": 10,
    "start_time": "2022-05-27T08:39:18.530Z"
   },
   {
    "duration": 13,
    "start_time": "2022-05-27T08:45:53.318Z"
   },
   {
    "duration": 19,
    "start_time": "2022-05-27T08:47:25.569Z"
   },
   {
    "duration": 20,
    "start_time": "2022-05-27T08:56:29.555Z"
   },
   {
    "duration": 3,
    "start_time": "2022-05-27T08:59:09.091Z"
   },
   {
    "duration": 81,
    "start_time": "2022-05-27T08:59:09.095Z"
   },
   {
    "duration": 13,
    "start_time": "2022-05-27T08:59:09.178Z"
   },
   {
    "duration": 22,
    "start_time": "2022-05-27T08:59:09.192Z"
   },
   {
    "duration": 15,
    "start_time": "2022-05-27T08:59:09.215Z"
   },
   {
    "duration": 36,
    "start_time": "2022-05-27T08:59:09.232Z"
   },
   {
    "duration": 9,
    "start_time": "2022-05-27T08:59:09.271Z"
   },
   {
    "duration": 11,
    "start_time": "2022-05-27T08:59:09.281Z"
   },
   {
    "duration": 47,
    "start_time": "2022-05-27T08:59:09.294Z"
   },
   {
    "duration": 15,
    "start_time": "2022-05-27T08:59:09.342Z"
   },
   {
    "duration": 5,
    "start_time": "2022-05-27T08:59:09.360Z"
   },
   {
    "duration": 17,
    "start_time": "2022-05-27T08:59:09.367Z"
   },
   {
    "duration": 14,
    "start_time": "2022-05-27T08:59:09.385Z"
   },
   {
    "duration": 38,
    "start_time": "2022-05-27T08:59:09.400Z"
   },
   {
    "duration": 9,
    "start_time": "2022-05-27T08:59:09.440Z"
   },
   {
    "duration": 6,
    "start_time": "2022-05-27T08:59:09.451Z"
   },
   {
    "duration": 15,
    "start_time": "2022-05-27T08:59:09.459Z"
   },
   {
    "duration": 48,
    "start_time": "2022-05-27T08:59:09.476Z"
   },
   {
    "duration": 21,
    "start_time": "2022-05-27T08:59:09.526Z"
   },
   {
    "duration": 8,
    "start_time": "2022-05-27T08:59:09.548Z"
   },
   {
    "duration": 5,
    "start_time": "2022-05-27T08:59:09.557Z"
   },
   {
    "duration": 9,
    "start_time": "2022-05-27T08:59:09.563Z"
   },
   {
    "duration": 8,
    "start_time": "2022-05-27T08:59:09.573Z"
   },
   {
    "duration": 41,
    "start_time": "2022-05-27T08:59:09.583Z"
   },
   {
    "duration": 28,
    "start_time": "2022-05-27T08:59:09.625Z"
   },
   {
    "duration": 6,
    "start_time": "2022-05-27T08:59:09.655Z"
   },
   {
    "duration": 18,
    "start_time": "2022-05-27T08:59:09.662Z"
   },
   {
    "duration": 47,
    "start_time": "2022-05-27T08:59:09.681Z"
   },
   {
    "duration": 6,
    "start_time": "2022-05-27T08:59:09.732Z"
   },
   {
    "duration": 19,
    "start_time": "2022-05-27T08:59:09.739Z"
   },
   {
    "duration": 12,
    "start_time": "2022-05-27T08:59:09.760Z"
   },
   {
    "duration": 13,
    "start_time": "2022-05-27T08:59:09.774Z"
   },
   {
    "duration": 41,
    "start_time": "2022-05-27T08:59:09.789Z"
   },
   {
    "duration": 10,
    "start_time": "2022-05-27T08:59:09.831Z"
   },
   {
    "duration": 154,
    "start_time": "2022-05-27T08:59:09.843Z"
   },
   {
    "duration": 8,
    "start_time": "2022-05-27T08:59:09.999Z"
   },
   {
    "duration": 21,
    "start_time": "2022-05-27T08:59:10.009Z"
   },
   {
    "duration": 24,
    "start_time": "2022-05-27T08:59:10.031Z"
   },
   {
    "duration": 213,
    "start_time": "2022-05-27T08:59:10.057Z"
   },
   {
    "duration": 7,
    "start_time": "2022-05-27T08:59:10.273Z"
   },
   {
    "duration": 17,
    "start_time": "2022-05-27T08:59:10.282Z"
   },
   {
    "duration": 172,
    "start_time": "2022-05-27T08:59:10.301Z"
   },
   {
    "duration": 9,
    "start_time": "2022-05-27T08:59:10.475Z"
   },
   {
    "duration": 188,
    "start_time": "2022-05-27T08:59:10.487Z"
   },
   {
    "duration": 8,
    "start_time": "2022-05-27T08:59:10.676Z"
   },
   {
    "duration": 16,
    "start_time": "2022-05-27T08:59:10.686Z"
   },
   {
    "duration": 31,
    "start_time": "2022-05-27T08:59:10.703Z"
   },
   {
    "duration": 11,
    "start_time": "2022-05-27T08:59:10.736Z"
   },
   {
    "duration": 35,
    "start_time": "2022-05-27T08:59:10.748Z"
   },
   {
    "duration": 11,
    "start_time": "2022-05-27T08:59:10.785Z"
   },
   {
    "duration": 43,
    "start_time": "2022-05-27T08:59:10.798Z"
   },
   {
    "duration": 21,
    "start_time": "2022-05-27T08:59:10.843Z"
   },
   {
    "duration": 7,
    "start_time": "2022-05-27T09:14:38.973Z"
   },
   {
    "duration": 18,
    "start_time": "2022-05-27T09:16:09.204Z"
   },
   {
    "duration": 3,
    "start_time": "2022-05-27T09:59:01.443Z"
   },
   {
    "duration": 412,
    "start_time": "2022-05-27T10:27:31.679Z"
   },
   {
    "duration": 72,
    "start_time": "2022-05-27T10:27:32.092Z"
   },
   {
    "duration": 18,
    "start_time": "2022-05-27T10:27:32.166Z"
   },
   {
    "duration": 7,
    "start_time": "2022-05-27T10:27:32.185Z"
   },
   {
    "duration": 11,
    "start_time": "2022-05-27T10:27:32.193Z"
   },
   {
    "duration": 30,
    "start_time": "2022-05-27T10:27:32.205Z"
   },
   {
    "duration": 6,
    "start_time": "2022-05-27T10:27:32.236Z"
   },
   {
    "duration": 6,
    "start_time": "2022-05-27T10:27:32.243Z"
   },
   {
    "duration": 32,
    "start_time": "2022-05-27T10:27:32.250Z"
   },
   {
    "duration": 40,
    "start_time": "2022-05-27T10:27:32.284Z"
   },
   {
    "duration": 5,
    "start_time": "2022-05-27T10:27:32.325Z"
   },
   {
    "duration": 14,
    "start_time": "2022-05-27T10:27:32.331Z"
   },
   {
    "duration": 12,
    "start_time": "2022-05-27T10:27:32.346Z"
   },
   {
    "duration": 14,
    "start_time": "2022-05-27T10:27:32.359Z"
   },
   {
    "duration": 8,
    "start_time": "2022-05-27T10:27:32.374Z"
   },
   {
    "duration": 41,
    "start_time": "2022-05-27T10:27:32.383Z"
   },
   {
    "duration": 9,
    "start_time": "2022-05-27T10:27:32.425Z"
   },
   {
    "duration": 10,
    "start_time": "2022-05-27T10:27:32.435Z"
   },
   {
    "duration": 18,
    "start_time": "2022-05-27T10:27:32.446Z"
   },
   {
    "duration": 6,
    "start_time": "2022-05-27T10:27:32.466Z"
   },
   {
    "duration": 4,
    "start_time": "2022-05-27T10:27:32.474Z"
   },
   {
    "duration": 7,
    "start_time": "2022-05-27T10:27:32.479Z"
   },
   {
    "duration": 37,
    "start_time": "2022-05-27T10:27:32.488Z"
   },
   {
    "duration": 31,
    "start_time": "2022-05-27T10:27:32.528Z"
   },
   {
    "duration": 55,
    "start_time": "2022-05-27T10:27:32.561Z"
   },
   {
    "duration": 7,
    "start_time": "2022-05-27T10:27:32.618Z"
   },
   {
    "duration": 27,
    "start_time": "2022-05-27T10:27:32.627Z"
   },
   {
    "duration": 33,
    "start_time": "2022-05-27T10:27:32.659Z"
   },
   {
    "duration": 10,
    "start_time": "2022-05-27T10:27:32.695Z"
   },
   {
    "duration": 35,
    "start_time": "2022-05-27T10:27:32.708Z"
   },
   {
    "duration": 15,
    "start_time": "2022-05-27T10:27:32.745Z"
   },
   {
    "duration": 15,
    "start_time": "2022-05-27T10:27:32.762Z"
   },
   {
    "duration": 13,
    "start_time": "2022-05-27T10:27:32.779Z"
   },
   {
    "duration": 6,
    "start_time": "2022-05-27T10:27:32.823Z"
   },
   {
    "duration": 145,
    "start_time": "2022-05-27T10:27:32.831Z"
   },
   {
    "duration": 7,
    "start_time": "2022-05-27T10:27:32.978Z"
   },
   {
    "duration": 8,
    "start_time": "2022-05-27T10:27:32.987Z"
   },
   {
    "duration": 8,
    "start_time": "2022-05-27T10:27:32.996Z"
   },
   {
    "duration": 208,
    "start_time": "2022-05-27T10:27:33.005Z"
   },
   {
    "duration": 11,
    "start_time": "2022-05-27T10:27:33.214Z"
   },
   {
    "duration": 21,
    "start_time": "2022-05-27T10:27:33.226Z"
   },
   {
    "duration": 146,
    "start_time": "2022-05-27T10:27:33.248Z"
   },
   {
    "duration": 6,
    "start_time": "2022-05-27T10:27:33.395Z"
   },
   {
    "duration": 152,
    "start_time": "2022-05-27T10:27:33.403Z"
   },
   {
    "duration": 7,
    "start_time": "2022-05-27T10:27:33.557Z"
   },
   {
    "duration": 27,
    "start_time": "2022-05-27T10:27:33.566Z"
   },
   {
    "duration": 22,
    "start_time": "2022-05-27T10:27:33.594Z"
   },
   {
    "duration": 25,
    "start_time": "2022-05-27T10:27:33.618Z"
   },
   {
    "duration": 9,
    "start_time": "2022-05-27T10:27:33.645Z"
   },
   {
    "duration": 11,
    "start_time": "2022-05-27T10:27:33.656Z"
   },
   {
    "duration": 25,
    "start_time": "2022-05-27T10:27:33.669Z"
   },
   {
    "duration": 10,
    "start_time": "2022-05-27T10:27:33.696Z"
   },
   {
    "duration": 31,
    "start_time": "2022-05-27T10:27:33.708Z"
   },
   {
    "duration": 19,
    "start_time": "2022-05-27T10:27:33.741Z"
   },
   {
    "duration": 397,
    "start_time": "2022-05-27T10:38:50.070Z"
   },
   {
    "duration": 344,
    "start_time": "2022-05-27T10:38:50.468Z"
   },
   {
    "duration": 27,
    "start_time": "2022-05-27T10:38:50.814Z"
   },
   {
    "duration": 6,
    "start_time": "2022-05-27T10:38:50.843Z"
   },
   {
    "duration": 13,
    "start_time": "2022-05-27T10:38:50.850Z"
   },
   {
    "duration": 12,
    "start_time": "2022-05-27T10:38:50.864Z"
   },
   {
    "duration": 6,
    "start_time": "2022-05-27T10:38:50.878Z"
   },
   {
    "duration": 6,
    "start_time": "2022-05-27T10:38:50.885Z"
   },
   {
    "duration": 60,
    "start_time": "2022-05-27T10:38:50.892Z"
   },
   {
    "duration": 14,
    "start_time": "2022-05-27T10:38:50.955Z"
   },
   {
    "duration": 8,
    "start_time": "2022-05-27T10:38:50.970Z"
   },
   {
    "duration": 12,
    "start_time": "2022-05-27T10:38:50.979Z"
   },
   {
    "duration": 11,
    "start_time": "2022-05-27T10:38:50.993Z"
   },
   {
    "duration": 43,
    "start_time": "2022-05-27T10:38:51.006Z"
   },
   {
    "duration": 10,
    "start_time": "2022-05-27T10:38:51.050Z"
   },
   {
    "duration": 6,
    "start_time": "2022-05-27T10:38:51.062Z"
   },
   {
    "duration": 10,
    "start_time": "2022-05-27T10:38:51.069Z"
   },
   {
    "duration": 12,
    "start_time": "2022-05-27T10:38:51.080Z"
   },
   {
    "duration": 25,
    "start_time": "2022-05-27T10:38:51.129Z"
   },
   {
    "duration": 11,
    "start_time": "2022-05-27T10:38:51.156Z"
   },
   {
    "duration": 12,
    "start_time": "2022-05-27T10:38:51.169Z"
   },
   {
    "duration": 8,
    "start_time": "2022-05-27T10:38:51.183Z"
   },
   {
    "duration": 4,
    "start_time": "2022-05-27T10:38:51.192Z"
   },
   {
    "duration": 14,
    "start_time": "2022-05-27T10:38:51.197Z"
   },
   {
    "duration": 54,
    "start_time": "2022-05-27T10:38:51.213Z"
   },
   {
    "duration": 7,
    "start_time": "2022-05-27T10:38:51.269Z"
   },
   {
    "duration": 22,
    "start_time": "2022-05-27T10:38:51.277Z"
   },
   {
    "duration": 53,
    "start_time": "2022-05-27T10:38:51.303Z"
   },
   {
    "duration": 7,
    "start_time": "2022-05-27T10:38:51.358Z"
   },
   {
    "duration": 18,
    "start_time": "2022-05-27T10:38:51.367Z"
   },
   {
    "duration": 12,
    "start_time": "2022-05-27T10:38:51.387Z"
   },
   {
    "duration": 42,
    "start_time": "2022-05-27T10:38:51.401Z"
   },
   {
    "duration": 15,
    "start_time": "2022-05-27T10:38:51.445Z"
   },
   {
    "duration": 18,
    "start_time": "2022-05-27T10:38:51.461Z"
   },
   {
    "duration": 166,
    "start_time": "2022-05-27T10:38:51.480Z"
   },
   {
    "duration": 8,
    "start_time": "2022-05-27T10:38:51.648Z"
   },
   {
    "duration": 11,
    "start_time": "2022-05-27T10:38:51.657Z"
   },
   {
    "duration": 8,
    "start_time": "2022-05-27T10:38:51.669Z"
   },
   {
    "duration": 221,
    "start_time": "2022-05-27T10:38:51.678Z"
   },
   {
    "duration": 6,
    "start_time": "2022-05-27T10:38:51.900Z"
   },
   {
    "duration": 31,
    "start_time": "2022-05-27T10:38:51.907Z"
   },
   {
    "duration": 154,
    "start_time": "2022-05-27T10:38:51.940Z"
   },
   {
    "duration": 6,
    "start_time": "2022-05-27T10:38:52.096Z"
   },
   {
    "duration": 163,
    "start_time": "2022-05-27T10:38:52.103Z"
   },
   {
    "duration": 17,
    "start_time": "2022-05-27T10:38:52.268Z"
   },
   {
    "duration": 19,
    "start_time": "2022-05-27T10:38:52.287Z"
   },
   {
    "duration": 18,
    "start_time": "2022-05-27T10:38:52.308Z"
   },
   {
    "duration": 24,
    "start_time": "2022-05-27T10:38:52.333Z"
   },
   {
    "duration": 8,
    "start_time": "2022-05-27T10:38:52.358Z"
   },
   {
    "duration": 9,
    "start_time": "2022-05-27T10:38:52.368Z"
   },
   {
    "duration": 20,
    "start_time": "2022-05-27T10:38:52.378Z"
   },
   {
    "duration": 10,
    "start_time": "2022-05-27T10:38:52.399Z"
   },
   {
    "duration": 35,
    "start_time": "2022-05-27T10:38:52.410Z"
   },
   {
    "duration": 18,
    "start_time": "2022-05-27T10:38:52.447Z"
   },
   {
    "duration": 410,
    "start_time": "2022-05-27T10:44:37.396Z"
   },
   {
    "duration": 78,
    "start_time": "2022-05-27T10:44:37.808Z"
   },
   {
    "duration": 18,
    "start_time": "2022-05-27T10:44:37.888Z"
   },
   {
    "duration": 6,
    "start_time": "2022-05-27T10:44:37.907Z"
   },
   {
    "duration": 19,
    "start_time": "2022-05-27T10:44:37.914Z"
   },
   {
    "duration": 12,
    "start_time": "2022-05-27T10:44:37.938Z"
   },
   {
    "duration": 5,
    "start_time": "2022-05-27T10:44:37.952Z"
   },
   {
    "duration": 7,
    "start_time": "2022-05-27T10:44:37.958Z"
   },
   {
    "duration": 33,
    "start_time": "2022-05-27T10:44:37.966Z"
   },
   {
    "duration": 39,
    "start_time": "2022-05-27T10:44:38.002Z"
   },
   {
    "duration": 5,
    "start_time": "2022-05-27T10:44:38.042Z"
   },
   {
    "duration": 13,
    "start_time": "2022-05-27T10:44:38.048Z"
   },
   {
    "duration": 11,
    "start_time": "2022-05-27T10:44:38.062Z"
   },
   {
    "duration": 14,
    "start_time": "2022-05-27T10:44:38.074Z"
   },
   {
    "duration": 8,
    "start_time": "2022-05-27T10:44:38.090Z"
   },
   {
    "duration": 20,
    "start_time": "2022-05-27T10:44:38.127Z"
   },
   {
    "duration": 10,
    "start_time": "2022-05-27T10:44:38.148Z"
   },
   {
    "duration": 11,
    "start_time": "2022-05-27T10:44:38.159Z"
   },
   {
    "duration": 20,
    "start_time": "2022-05-27T10:44:38.171Z"
   },
   {
    "duration": 8,
    "start_time": "2022-05-27T10:44:38.192Z"
   },
   {
    "duration": 38,
    "start_time": "2022-05-27T10:44:38.201Z"
   },
   {
    "duration": 8,
    "start_time": "2022-05-27T10:44:38.241Z"
   },
   {
    "duration": 4,
    "start_time": "2022-05-27T10:44:38.250Z"
   },
   {
    "duration": 12,
    "start_time": "2022-05-27T10:44:38.255Z"
   },
   {
    "duration": 29,
    "start_time": "2022-05-27T10:44:38.268Z"
   },
   {
    "duration": 6,
    "start_time": "2022-05-27T10:44:38.299Z"
   },
   {
    "duration": 24,
    "start_time": "2022-05-27T10:44:38.327Z"
   },
   {
    "duration": 36,
    "start_time": "2022-05-27T10:44:38.355Z"
   },
   {
    "duration": 6,
    "start_time": "2022-05-27T10:44:38.393Z"
   },
   {
    "duration": 18,
    "start_time": "2022-05-27T10:44:38.400Z"
   },
   {
    "duration": 13,
    "start_time": "2022-05-27T10:44:38.438Z"
   },
   {
    "duration": 13,
    "start_time": "2022-05-27T10:44:38.452Z"
   },
   {
    "duration": 11,
    "start_time": "2022-05-27T10:44:38.467Z"
   },
   {
    "duration": 16,
    "start_time": "2022-05-27T10:44:38.480Z"
   },
   {
    "duration": 166,
    "start_time": "2022-05-27T10:44:38.498Z"
   },
   {
    "duration": 7,
    "start_time": "2022-05-27T10:44:38.665Z"
   },
   {
    "duration": 10,
    "start_time": "2022-05-27T10:44:38.673Z"
   },
   {
    "duration": 7,
    "start_time": "2022-05-27T10:44:38.684Z"
   },
   {
    "duration": 214,
    "start_time": "2022-05-27T10:44:38.693Z"
   },
   {
    "duration": 6,
    "start_time": "2022-05-27T10:44:38.908Z"
   },
   {
    "duration": 22,
    "start_time": "2022-05-27T10:44:38.915Z"
   },
   {
    "duration": 154,
    "start_time": "2022-05-27T10:44:38.939Z"
   },
   {
    "duration": 6,
    "start_time": "2022-05-27T10:44:39.095Z"
   },
   {
    "duration": 162,
    "start_time": "2022-05-27T10:44:39.102Z"
   },
   {
    "duration": 7,
    "start_time": "2022-05-27T10:44:39.266Z"
   },
   {
    "duration": 18,
    "start_time": "2022-05-27T10:44:39.275Z"
   },
   {
    "duration": 44,
    "start_time": "2022-05-27T10:44:39.294Z"
   },
   {
    "duration": 20,
    "start_time": "2022-05-27T10:44:39.340Z"
   },
   {
    "duration": 8,
    "start_time": "2022-05-27T10:44:39.362Z"
   },
   {
    "duration": 7,
    "start_time": "2022-05-27T10:44:39.371Z"
   },
   {
    "duration": 20,
    "start_time": "2022-05-27T10:44:39.380Z"
   },
   {
    "duration": 37,
    "start_time": "2022-05-27T10:44:39.401Z"
   },
   {
    "duration": 19,
    "start_time": "2022-05-27T10:44:39.440Z"
   },
   {
    "duration": 17,
    "start_time": "2022-05-27T10:44:39.461Z"
   },
   {
    "duration": 22,
    "start_time": "2022-05-27T10:46:09.226Z"
   },
   {
    "duration": 7,
    "start_time": "2022-05-27T10:46:33.155Z"
   },
   {
    "duration": 39,
    "start_time": "2022-05-27T10:46:46.601Z"
   },
   {
    "duration": 10,
    "start_time": "2022-05-27T10:47:48.199Z"
   },
   {
    "duration": 568,
    "start_time": "2022-05-27T13:28:53.156Z"
   },
   {
    "duration": 1212,
    "start_time": "2022-05-27T13:28:53.729Z"
   },
   {
    "duration": 34,
    "start_time": "2022-05-27T13:28:54.943Z"
   },
   {
    "duration": 64,
    "start_time": "2022-05-27T13:28:54.983Z"
   },
   {
    "duration": 81,
    "start_time": "2022-05-27T13:28:55.050Z"
   },
   {
    "duration": 81,
    "start_time": "2022-05-27T13:28:55.134Z"
   },
   {
    "duration": 103,
    "start_time": "2022-05-27T13:28:55.236Z"
   },
   {
    "duration": 105,
    "start_time": "2022-05-27T13:28:55.345Z"
   },
   {
    "duration": 121,
    "start_time": "2022-05-27T13:28:55.454Z"
   },
   {
    "duration": 52,
    "start_time": "2022-05-27T13:28:55.585Z"
   },
   {
    "duration": 18,
    "start_time": "2022-05-27T13:28:55.639Z"
   },
   {
    "duration": 118,
    "start_time": "2022-05-27T13:28:55.659Z"
   },
   {
    "duration": 48,
    "start_time": "2022-05-27T13:28:55.787Z"
   },
   {
    "duration": 84,
    "start_time": "2022-05-27T13:28:55.837Z"
   },
   {
    "duration": 120,
    "start_time": "2022-05-27T13:28:55.923Z"
   },
   {
    "duration": 70,
    "start_time": "2022-05-27T13:28:56.047Z"
   },
   {
    "duration": 92,
    "start_time": "2022-05-27T13:28:56.126Z"
   },
   {
    "duration": 56,
    "start_time": "2022-05-27T13:28:56.234Z"
   },
   {
    "duration": 155,
    "start_time": "2022-05-27T13:28:56.292Z"
   },
   {
    "duration": 87,
    "start_time": "2022-05-27T13:28:56.451Z"
   },
   {
    "duration": 83,
    "start_time": "2022-05-27T13:28:56.540Z"
   },
   {
    "duration": 122,
    "start_time": "2022-05-27T13:28:56.625Z"
   },
   {
    "duration": 16,
    "start_time": "2022-05-27T13:28:56.750Z"
   },
   {
    "duration": 106,
    "start_time": "2022-05-27T13:28:56.768Z"
   },
   {
    "duration": 183,
    "start_time": "2022-05-27T13:28:56.876Z"
   },
   {
    "duration": 68,
    "start_time": "2022-05-27T13:28:57.075Z"
   },
   {
    "duration": 103,
    "start_time": "2022-05-27T13:28:57.145Z"
   },
   {
    "duration": 164,
    "start_time": "2022-05-27T13:28:57.260Z"
   },
   {
    "duration": 28,
    "start_time": "2022-05-27T13:28:57.426Z"
   },
   {
    "duration": 137,
    "start_time": "2022-05-27T13:28:57.456Z"
   },
   {
    "duration": 51,
    "start_time": "2022-05-27T13:28:57.595Z"
   },
   {
    "duration": 163,
    "start_time": "2022-05-27T13:28:57.649Z"
   },
   {
    "duration": 143,
    "start_time": "2022-05-27T13:28:57.831Z"
   },
   {
    "duration": 41,
    "start_time": "2022-05-27T13:28:57.981Z"
   },
   {
    "duration": 465,
    "start_time": "2022-05-27T13:28:58.040Z"
   },
   {
    "duration": 46,
    "start_time": "2022-05-27T13:28:58.523Z"
   },
   {
    "duration": 61,
    "start_time": "2022-05-27T13:28:58.585Z"
   },
   {
    "duration": 77,
    "start_time": "2022-05-27T13:28:58.648Z"
   },
   {
    "duration": 528,
    "start_time": "2022-05-27T13:28:58.729Z"
   },
   {
    "duration": 20,
    "start_time": "2022-05-27T13:28:59.258Z"
   },
   {
    "duration": 46,
    "start_time": "2022-05-27T13:28:59.280Z"
   },
   {
    "duration": 521,
    "start_time": "2022-05-27T13:28:59.346Z"
   },
   {
    "duration": 19,
    "start_time": "2022-05-27T13:28:59.869Z"
   },
   {
    "duration": 291,
    "start_time": "2022-05-27T13:28:59.891Z"
   },
   {
    "duration": 12,
    "start_time": "2022-05-27T13:29:00.188Z"
   },
   {
    "duration": 129,
    "start_time": "2022-05-27T13:29:00.202Z"
   },
   {
    "duration": 29,
    "start_time": "2022-05-27T13:29:00.335Z"
   },
   {
    "duration": 114,
    "start_time": "2022-05-27T13:29:00.366Z"
   },
   {
    "duration": 73,
    "start_time": "2022-05-27T13:29:00.487Z"
   },
   {
    "duration": 71,
    "start_time": "2022-05-27T13:29:00.571Z"
   },
   {
    "duration": 127,
    "start_time": "2022-05-27T13:29:00.644Z"
   },
   {
    "duration": 62,
    "start_time": "2022-05-27T13:29:00.773Z"
   },
   {
    "duration": 139,
    "start_time": "2022-05-27T13:29:00.839Z"
   },
   {
    "duration": 51,
    "start_time": "2022-05-27T13:29:00.987Z"
   },
   {
    "duration": 62,
    "start_time": "2022-05-27T13:29:15.231Z"
   },
   {
    "duration": 56,
    "start_time": "2022-05-27T13:29:41.278Z"
   },
   {
    "duration": 39,
    "start_time": "2022-05-27T13:33:49.248Z"
   },
   {
    "duration": 7,
    "start_time": "2022-05-27T13:42:45.522Z"
   },
   {
    "duration": 20,
    "start_time": "2022-05-27T13:42:52.580Z"
   },
   {
    "duration": 15,
    "start_time": "2022-05-27T13:43:22.348Z"
   },
   {
    "duration": 32,
    "start_time": "2022-05-27T14:14:32.514Z"
   },
   {
    "duration": 215,
    "start_time": "2022-05-27T14:19:44.327Z"
   },
   {
    "duration": 59,
    "start_time": "2022-05-27T14:20:14.240Z"
   },
   {
    "duration": 66,
    "start_time": "2022-05-27T14:20:31.279Z"
   },
   {
    "duration": 67,
    "start_time": "2022-05-27T14:21:44.429Z"
   },
   {
    "duration": 68,
    "start_time": "2022-05-27T14:24:10.871Z"
   },
   {
    "duration": 106,
    "start_time": "2022-05-27T14:24:30.217Z"
   },
   {
    "duration": 84,
    "start_time": "2022-05-27T14:24:37.383Z"
   },
   {
    "duration": 679,
    "start_time": "2022-05-27T14:39:49.827Z"
   },
   {
    "duration": 650,
    "start_time": "2022-05-27T14:39:50.508Z"
   },
   {
    "duration": 103,
    "start_time": "2022-05-27T14:39:51.171Z"
   },
   {
    "duration": 71,
    "start_time": "2022-05-27T14:39:51.291Z"
   },
   {
    "duration": 157,
    "start_time": "2022-05-27T14:39:51.373Z"
   },
   {
    "duration": 175,
    "start_time": "2022-05-27T14:39:51.543Z"
   },
   {
    "duration": 77,
    "start_time": "2022-05-27T14:39:51.725Z"
   },
   {
    "duration": 119,
    "start_time": "2022-05-27T14:39:51.819Z"
   },
   {
    "duration": 99,
    "start_time": "2022-05-27T14:39:51.955Z"
   },
   {
    "duration": 267,
    "start_time": "2022-05-27T14:39:52.075Z"
   },
   {
    "duration": 75,
    "start_time": "2022-05-27T14:39:52.359Z"
   },
   {
    "duration": 14,
    "start_time": "2022-05-27T14:39:52.466Z"
   },
   {
    "duration": 117,
    "start_time": "2022-05-27T14:39:52.489Z"
   },
   {
    "duration": 116,
    "start_time": "2022-05-27T14:39:52.617Z"
   },
   {
    "duration": 130,
    "start_time": "2022-05-27T14:39:52.738Z"
   },
   {
    "duration": 105,
    "start_time": "2022-05-27T14:39:52.873Z"
   },
   {
    "duration": 159,
    "start_time": "2022-05-27T14:39:52.989Z"
   },
   {
    "duration": 194,
    "start_time": "2022-05-27T14:39:53.153Z"
   },
   {
    "duration": 140,
    "start_time": "2022-05-27T14:39:53.354Z"
   },
   {
    "duration": 193,
    "start_time": "2022-05-27T14:39:53.500Z"
   },
   {
    "duration": 78,
    "start_time": "2022-05-27T14:39:53.698Z"
   },
   {
    "duration": 116,
    "start_time": "2022-05-27T14:39:53.787Z"
   },
   {
    "duration": 140,
    "start_time": "2022-05-27T14:39:53.908Z"
   },
   {
    "duration": 118,
    "start_time": "2022-05-27T14:39:54.052Z"
   },
   {
    "duration": 115,
    "start_time": "2022-05-27T14:39:54.175Z"
   },
   {
    "duration": 135,
    "start_time": "2022-05-27T14:39:54.294Z"
   },
   {
    "duration": 35,
    "start_time": "2022-05-27T14:39:54.434Z"
   },
   {
    "duration": 37,
    "start_time": "2022-05-27T14:39:54.474Z"
   },
   {
    "duration": 61,
    "start_time": "2022-05-27T14:39:54.517Z"
   },
   {
    "duration": 54,
    "start_time": "2022-05-27T14:39:54.583Z"
   },
   {
    "duration": 75,
    "start_time": "2022-05-27T14:39:54.642Z"
   },
   {
    "duration": 112,
    "start_time": "2022-05-27T14:39:54.723Z"
   },
   {
    "duration": 184,
    "start_time": "2022-05-27T14:39:54.843Z"
   },
   {
    "duration": 120,
    "start_time": "2022-05-27T14:39:55.037Z"
   },
   {
    "duration": 112,
    "start_time": "2022-05-27T14:39:55.170Z"
   },
   {
    "duration": 418,
    "start_time": "2022-05-27T14:39:55.288Z"
   },
   {
    "duration": 20,
    "start_time": "2022-05-27T14:39:55.712Z"
   },
   {
    "duration": 119,
    "start_time": "2022-05-27T14:39:55.740Z"
   },
   {
    "duration": 124,
    "start_time": "2022-05-27T14:39:55.865Z"
   },
   {
    "duration": 450,
    "start_time": "2022-05-27T14:39:55.999Z"
   },
   {
    "duration": 11,
    "start_time": "2022-05-27T14:39:56.457Z"
   },
   {
    "duration": 145,
    "start_time": "2022-05-27T14:39:56.473Z"
   },
   {
    "duration": 488,
    "start_time": "2022-05-27T14:39:56.624Z"
   },
   {
    "duration": 16,
    "start_time": "2022-05-27T14:39:57.121Z"
   },
   {
    "duration": 491,
    "start_time": "2022-05-27T14:39:57.142Z"
   },
   {
    "duration": 14,
    "start_time": "2022-05-27T14:39:57.639Z"
   },
   {
    "duration": 119,
    "start_time": "2022-05-27T14:39:57.658Z"
   },
   {
    "duration": 103,
    "start_time": "2022-05-27T14:39:57.782Z"
   },
   {
    "duration": 175,
    "start_time": "2022-05-27T14:39:57.892Z"
   },
   {
    "duration": 98,
    "start_time": "2022-05-27T14:39:58.081Z"
   },
   {
    "duration": 129,
    "start_time": "2022-05-27T14:39:58.185Z"
   },
   {
    "duration": 169,
    "start_time": "2022-05-27T14:39:58.329Z"
   },
   {
    "duration": 207,
    "start_time": "2022-05-27T14:39:58.507Z"
   },
   {
    "duration": 162,
    "start_time": "2022-05-27T14:39:58.728Z"
   },
   {
    "duration": 111,
    "start_time": "2022-05-27T14:39:58.911Z"
   },
   {
    "duration": 249,
    "start_time": "2022-05-27T14:39:59.028Z"
   }
  ],
  "kernelspec": {
   "display_name": "Python 3 (ipykernel)",
   "language": "python",
   "name": "python3"
  },
  "language_info": {
   "codemirror_mode": {
    "name": "ipython",
    "version": 3
   },
   "file_extension": ".py",
   "mimetype": "text/x-python",
   "name": "python",
   "nbconvert_exporter": "python",
   "pygments_lexer": "ipython3",
   "version": "3.9.7"
  },
  "toc": {
   "base_numbering": 1,
   "nav_menu": {},
   "number_sections": true,
   "sideBar": true,
   "skip_h1_title": true,
   "title_cell": "Table of Contents",
   "title_sidebar": "Contents",
   "toc_cell": false,
   "toc_position": {
    "height": "calc(100% - 180px)",
    "left": "10px",
    "top": "150px",
    "width": "366.391px"
   },
   "toc_section_display": true,
   "toc_window_display": true
  }
 },
 "nbformat": 4,
 "nbformat_minor": 5
}
