{
 "cells": [
  {
   "cell_type": "markdown",
   "metadata": {
    "toc": true
   },
   "source": [
    "<h1>Содержание:<span class=\"tocSkip\"></span></h1>\n",
    "<div class=\"toc\"><ul class=\"toc-item\"><li><span><a href=\"#Обзор-данных\" data-toc-modified-id=\"Обзор-данных-1\"><span class=\"toc-item-num\">1&nbsp;&nbsp;</span>Обзор данных</a></span><ul class=\"toc-item\"><li><span><a href=\"#Импорт-библиотек-и-загрузка-данных\" data-toc-modified-id=\"Импорт-библиотек-и-загрузка-данных-1.1\"><span class=\"toc-item-num\">1.1&nbsp;&nbsp;</span>Импорт библиотек и загрузка данных</a></span></li><li><span><a href=\"#Загрузим-файлы-из-папки-/datasets-и-сохраним-в-переменные\" data-toc-modified-id=\"Загрузим-файлы-из-папки-/datasets-и-сохраним-в-переменные-1.2\"><span class=\"toc-item-num\">1.2&nbsp;&nbsp;</span>Загрузим файлы из папки /datasets и сохраним в переменные</a></span></li></ul></li><li><span><a href=\"#Предобработка-данных\" data-toc-modified-id=\"Предобработка-данных-2\"><span class=\"toc-item-num\">2&nbsp;&nbsp;</span>Предобработка данных</a></span></li><li><span><a href=\"#Анализ-данных\" data-toc-modified-id=\"Анализ-данных-3\"><span class=\"toc-item-num\">3&nbsp;&nbsp;</span>Анализ данных</a></span></li><li><span><a href=\"#Проверка-гипотез\" data-toc-modified-id=\"Проверка-гипотез-4\"><span class=\"toc-item-num\">4&nbsp;&nbsp;</span>Проверка гипотез</a></span><ul class=\"toc-item\"><li><span><a href=\"#Посмотрим-на-отток-клиентов-течении-года\" data-toc-modified-id=\"Посмотрим-на-отток-клиентов-течении-года-4.1\"><span class=\"toc-item-num\">4.1&nbsp;&nbsp;</span>Посмотрим на отток клиентов течении года</a></span></li></ul></li><li><span><a href=\"#Выводы\" data-toc-modified-id=\"Выводы-5\"><span class=\"toc-item-num\">5&nbsp;&nbsp;</span>Выводы</a></span><ul class=\"toc-item\"><li><ul class=\"toc-item\"><li><ul class=\"toc-item\"><li><span><a href=\"#Мы-проверили-исследование-и-посмотрели-какие-параметры-влияют-на-стоимость-недвижимости-в-Санкт-Петербурге-и-области:\" data-toc-modified-id=\"Мы-проверили-исследование-и-посмотрели-какие-параметры-влияют-на-стоимость-недвижимости-в-Санкт-Петербурге-и-области:-5.0.0.1\"><span class=\"toc-item-num\">5.0.0.1&nbsp;&nbsp;</span>Мы проверили исследование и посмотрели какие параметры влияют на стоимость недвижимости в Санкт-Петербурге и области:</a></span></li></ul></li></ul></li></ul></li></ul></div>"
   ]
  },
  {
   "cell_type": "markdown",
   "metadata": {},
   "source": [
    "# Определение перспективного тарифа для телеком-компании\n",
    "\n",
    "В вашем распоряжении данные 500 пользователей «Мегалайна»: кто они, откуда, каким тарифом пользуются(Смарт или Ультра), сколько звонков и сообщений каждый отправил за 2018 год. \n",
    "\n",
    "**Тариф «Смарт»**\n",
    "1. Ежемесячная плата: 550 рублей\n",
    "2. Включено 500 минут разговора, 50 сообщений и 15 Гб интернет-трафика\n",
    "3. Стоимость услуг сверх тарифного пакета:\n",
    "    - минута разговора: 3 рубля\n",
    "    - сообщение: 3 рубля\n",
    "    - 1 Гб интернет-трафика: 200 рублей\n",
    "**Тариф «Ультра»**\n",
    "1. Ежемесячная плата: 1950 рублей\n",
    "2. Включено 3000 минут разговора, 1000 сообщений и 30 Гб интернет-трафика\n",
    "3. Стоимость услуг сверх тарифного пакета:\n",
    "    - минута разговора: 1 рубль\n",
    "    - сообщение: 1 рубль\n",
    "    - 1 Гб интернет-трафика: 150 рублей\n",
    "\n",
    "*Примечание:*\n",
    "- *«Мегалайн» всегда округляет секунды до минут, а мегабайты — до гигабайт. Каждый звонок округляется отдельно: даже если он длился всего 1 секунду, будет засчитан как 1 минута.\n",
    "Для веб-трафика отдельные сессии не считаются. Вместо этого общая сумма за месяц округляется в бо́льшую сторону. Если абонент использует 1025 мегабайт в этом месяце, с него возьмут плату за 2 гигабайта. Примите, что неиспользованные за предыдущий месяц звонки, смс, интернет на следующий месяц не переносятся.*\n",
    "\n",
    "**Цель исследования** — Сделать предварительный анализ тарифов на небольшой выборке клиентов. Нужно проанализировать поведение клиентов и сделать вывод — какой тариф лучше.\n",
    " \n",
    "**Входные данный** - данные федерального оператора сотовой связи, компании \"Мегалайн\" - 5 файлов:\n",
    "- `calls.csv` - информация о звонках\n",
    "- `internet.csv` - информация об интернет-сессиях\n",
    "- `messages.csv` - информация о сообщениях\n",
    "- `tariffs.csv` - информация о тарифах\n",
    "- `users.csv` - информация о пользователях\n",
    "\n",
    "**Ход исследования**\n",
    "1. **Обзор данных.** Мы проведем загрузку и обзор предоставленных данных. \n",
    "2. **Предобработка данных.** Проверим данные на ошибки и пропуски, поищем возможность исправить самые критические ошибки. Оценив их влияние на исследования.\n",
    "3. **Проанализируем данные.** Опишитем поведение клиентов: \n",
    "    - Сколько минут разговора \n",
    "    - Сколько сообщений\n",
    "    - Какой объём интернет-трафика \n",
    "    - Посчитаем среднее количество, дисперсию и стандартное отклонение. \n",
    "    - Построем гистограммы.\n",
    "    - Опишитем распределения.\n",
    "4. **Проверим гипотезы** \n",
    "    - средняя выручка пользователей тарифов «Ультра» и «Смарт» различаются;\n",
    "    - средняя выручка пользователей из Москвы отличается от выручки пользователей из других регионов.\n",
    "5. **Вывод** Напишем общий вывод."
   ]
  },
  {
   "cell_type": "markdown",
   "metadata": {},
   "source": [
    "## Обзор данных"
   ]
  },
  {
   "cell_type": "markdown",
   "metadata": {},
   "source": [
    "### Импорт библиотек и загрузка данных\n",
    "`pandas` - для загрузки и обработки данных мы воспльзуемся библеотекой .\n",
    "\n",
    "`matplotlib` - для работы с минимальным и максимальным желаемые значения для графиков. \n",
    "\n",
    "`datetime` - библиотека для работой с датой\n",
    "\n",
    "`numpy` - библиотека высокоуровневых математических функций\n",
    "\n",
    "`scipy` - библиотека математического и числового анализов"
   ]
  },
  {
   "cell_type": "code",
   "execution_count": 1,
   "metadata": {},
   "outputs": [],
   "source": [
    "import pandas as pd \n",
    "import matplotlib.pyplot as plt \n",
    "from datetime import datetime as dt\n",
    "from scipy import stats as st\n",
    "import numpy as np"
   ]
  },
  {
   "cell_type": "markdown",
   "metadata": {},
   "source": [
    "### Загрузим файлы из папки /datasets и сохраним в переменные\n",
    "Выведем первые 5 строк таблиц и общую информацию:"
   ]
  },
  {
   "cell_type": "code",
   "execution_count": 2,
   "metadata": {
    "scrolled": false
   },
   "outputs": [
    {
     "data": {
      "text/plain": [
       "'Загрузка офлайн'"
      ]
     },
     "metadata": {},
     "output_type": "display_data"
    },
    {
     "data": {
      "text/html": [
       "<div>\n",
       "<style scoped>\n",
       "    .dataframe tbody tr th:only-of-type {\n",
       "        vertical-align: middle;\n",
       "    }\n",
       "\n",
       "    .dataframe tbody tr th {\n",
       "        vertical-align: top;\n",
       "    }\n",
       "\n",
       "    .dataframe thead th {\n",
       "        text-align: right;\n",
       "    }\n",
       "</style>\n",
       "<table border=\"1\" class=\"dataframe\">\n",
       "  <thead>\n",
       "    <tr style=\"text-align: right;\">\n",
       "      <th></th>\n",
       "      <th>user_id</th>\n",
       "      <th>age</th>\n",
       "      <th>churn_date</th>\n",
       "      <th>city</th>\n",
       "      <th>first_name</th>\n",
       "      <th>last_name</th>\n",
       "      <th>reg_date</th>\n",
       "      <th>tariff</th>\n",
       "    </tr>\n",
       "  </thead>\n",
       "  <tbody>\n",
       "    <tr>\n",
       "      <th>0</th>\n",
       "      <td>1000</td>\n",
       "      <td>52</td>\n",
       "      <td>NaN</td>\n",
       "      <td>Краснодар</td>\n",
       "      <td>Рафаил</td>\n",
       "      <td>Верещагин</td>\n",
       "      <td>2018-05-25</td>\n",
       "      <td>ultra</td>\n",
       "    </tr>\n",
       "    <tr>\n",
       "      <th>1</th>\n",
       "      <td>1001</td>\n",
       "      <td>41</td>\n",
       "      <td>NaN</td>\n",
       "      <td>Москва</td>\n",
       "      <td>Иван</td>\n",
       "      <td>Ежов</td>\n",
       "      <td>2018-11-01</td>\n",
       "      <td>smart</td>\n",
       "    </tr>\n",
       "    <tr>\n",
       "      <th>2</th>\n",
       "      <td>1002</td>\n",
       "      <td>59</td>\n",
       "      <td>NaN</td>\n",
       "      <td>Стерлитамак</td>\n",
       "      <td>Евгений</td>\n",
       "      <td>Абрамович</td>\n",
       "      <td>2018-06-17</td>\n",
       "      <td>smart</td>\n",
       "    </tr>\n",
       "    <tr>\n",
       "      <th>3</th>\n",
       "      <td>1003</td>\n",
       "      <td>23</td>\n",
       "      <td>NaN</td>\n",
       "      <td>Москва</td>\n",
       "      <td>Белла</td>\n",
       "      <td>Белякова</td>\n",
       "      <td>2018-08-17</td>\n",
       "      <td>ultra</td>\n",
       "    </tr>\n",
       "    <tr>\n",
       "      <th>4</th>\n",
       "      <td>1004</td>\n",
       "      <td>68</td>\n",
       "      <td>NaN</td>\n",
       "      <td>Новокузнецк</td>\n",
       "      <td>Татьяна</td>\n",
       "      <td>Авдеенко</td>\n",
       "      <td>2018-05-14</td>\n",
       "      <td>ultra</td>\n",
       "    </tr>\n",
       "  </tbody>\n",
       "</table>\n",
       "</div>"
      ],
      "text/plain": [
       "   user_id  age churn_date         city first_name  last_name    reg_date  \\\n",
       "0     1000   52        NaN    Краснодар     Рафаил  Верещагин  2018-05-25   \n",
       "1     1001   41        NaN       Москва       Иван       Ежов  2018-11-01   \n",
       "2     1002   59        NaN  Стерлитамак    Евгений  Абрамович  2018-06-17   \n",
       "3     1003   23        NaN       Москва      Белла   Белякова  2018-08-17   \n",
       "4     1004   68        NaN  Новокузнецк    Татьяна   Авдеенко  2018-05-14   \n",
       "\n",
       "  tariff  \n",
       "0  ultra  \n",
       "1  smart  \n",
       "2  smart  \n",
       "3  ultra  \n",
       "4  ultra  "
      ]
     },
     "metadata": {},
     "output_type": "display_data"
    },
    {
     "data": {
      "text/html": [
       "<div>\n",
       "<style scoped>\n",
       "    .dataframe tbody tr th:only-of-type {\n",
       "        vertical-align: middle;\n",
       "    }\n",
       "\n",
       "    .dataframe tbody tr th {\n",
       "        vertical-align: top;\n",
       "    }\n",
       "\n",
       "    .dataframe thead th {\n",
       "        text-align: right;\n",
       "    }\n",
       "</style>\n",
       "<table border=\"1\" class=\"dataframe\">\n",
       "  <thead>\n",
       "    <tr style=\"text-align: right;\">\n",
       "      <th></th>\n",
       "      <th>id</th>\n",
       "      <th>call_date</th>\n",
       "      <th>duration</th>\n",
       "      <th>user_id</th>\n",
       "    </tr>\n",
       "  </thead>\n",
       "  <tbody>\n",
       "    <tr>\n",
       "      <th>0</th>\n",
       "      <td>1000_0</td>\n",
       "      <td>2018-07-25</td>\n",
       "      <td>0.00</td>\n",
       "      <td>1000</td>\n",
       "    </tr>\n",
       "    <tr>\n",
       "      <th>1</th>\n",
       "      <td>1000_1</td>\n",
       "      <td>2018-08-17</td>\n",
       "      <td>0.00</td>\n",
       "      <td>1000</td>\n",
       "    </tr>\n",
       "    <tr>\n",
       "      <th>2</th>\n",
       "      <td>1000_2</td>\n",
       "      <td>2018-06-11</td>\n",
       "      <td>2.85</td>\n",
       "      <td>1000</td>\n",
       "    </tr>\n",
       "    <tr>\n",
       "      <th>3</th>\n",
       "      <td>1000_3</td>\n",
       "      <td>2018-09-21</td>\n",
       "      <td>13.80</td>\n",
       "      <td>1000</td>\n",
       "    </tr>\n",
       "    <tr>\n",
       "      <th>4</th>\n",
       "      <td>1000_4</td>\n",
       "      <td>2018-12-15</td>\n",
       "      <td>5.18</td>\n",
       "      <td>1000</td>\n",
       "    </tr>\n",
       "  </tbody>\n",
       "</table>\n",
       "</div>"
      ],
      "text/plain": [
       "       id   call_date  duration  user_id\n",
       "0  1000_0  2018-07-25      0.00     1000\n",
       "1  1000_1  2018-08-17      0.00     1000\n",
       "2  1000_2  2018-06-11      2.85     1000\n",
       "3  1000_3  2018-09-21     13.80     1000\n",
       "4  1000_4  2018-12-15      5.18     1000"
      ]
     },
     "metadata": {},
     "output_type": "display_data"
    },
    {
     "data": {
      "text/html": [
       "<div>\n",
       "<style scoped>\n",
       "    .dataframe tbody tr th:only-of-type {\n",
       "        vertical-align: middle;\n",
       "    }\n",
       "\n",
       "    .dataframe tbody tr th {\n",
       "        vertical-align: top;\n",
       "    }\n",
       "\n",
       "    .dataframe thead th {\n",
       "        text-align: right;\n",
       "    }\n",
       "</style>\n",
       "<table border=\"1\" class=\"dataframe\">\n",
       "  <thead>\n",
       "    <tr style=\"text-align: right;\">\n",
       "      <th></th>\n",
       "      <th>Unnamed: 0</th>\n",
       "      <th>id</th>\n",
       "      <th>mb_used</th>\n",
       "      <th>session_date</th>\n",
       "      <th>user_id</th>\n",
       "    </tr>\n",
       "  </thead>\n",
       "  <tbody>\n",
       "    <tr>\n",
       "      <th>0</th>\n",
       "      <td>0</td>\n",
       "      <td>1000_0</td>\n",
       "      <td>112.95</td>\n",
       "      <td>2018-11-25</td>\n",
       "      <td>1000</td>\n",
       "    </tr>\n",
       "    <tr>\n",
       "      <th>1</th>\n",
       "      <td>1</td>\n",
       "      <td>1000_1</td>\n",
       "      <td>1052.81</td>\n",
       "      <td>2018-09-07</td>\n",
       "      <td>1000</td>\n",
       "    </tr>\n",
       "    <tr>\n",
       "      <th>2</th>\n",
       "      <td>2</td>\n",
       "      <td>1000_2</td>\n",
       "      <td>1197.26</td>\n",
       "      <td>2018-06-25</td>\n",
       "      <td>1000</td>\n",
       "    </tr>\n",
       "    <tr>\n",
       "      <th>3</th>\n",
       "      <td>3</td>\n",
       "      <td>1000_3</td>\n",
       "      <td>550.27</td>\n",
       "      <td>2018-08-22</td>\n",
       "      <td>1000</td>\n",
       "    </tr>\n",
       "    <tr>\n",
       "      <th>4</th>\n",
       "      <td>4</td>\n",
       "      <td>1000_4</td>\n",
       "      <td>302.56</td>\n",
       "      <td>2018-09-24</td>\n",
       "      <td>1000</td>\n",
       "    </tr>\n",
       "  </tbody>\n",
       "</table>\n",
       "</div>"
      ],
      "text/plain": [
       "   Unnamed: 0      id  mb_used session_date  user_id\n",
       "0           0  1000_0   112.95   2018-11-25     1000\n",
       "1           1  1000_1  1052.81   2018-09-07     1000\n",
       "2           2  1000_2  1197.26   2018-06-25     1000\n",
       "3           3  1000_3   550.27   2018-08-22     1000\n",
       "4           4  1000_4   302.56   2018-09-24     1000"
      ]
     },
     "metadata": {},
     "output_type": "display_data"
    },
    {
     "data": {
      "text/html": [
       "<div>\n",
       "<style scoped>\n",
       "    .dataframe tbody tr th:only-of-type {\n",
       "        vertical-align: middle;\n",
       "    }\n",
       "\n",
       "    .dataframe tbody tr th {\n",
       "        vertical-align: top;\n",
       "    }\n",
       "\n",
       "    .dataframe thead th {\n",
       "        text-align: right;\n",
       "    }\n",
       "</style>\n",
       "<table border=\"1\" class=\"dataframe\">\n",
       "  <thead>\n",
       "    <tr style=\"text-align: right;\">\n",
       "      <th></th>\n",
       "      <th>id</th>\n",
       "      <th>message_date</th>\n",
       "      <th>user_id</th>\n",
       "    </tr>\n",
       "  </thead>\n",
       "  <tbody>\n",
       "    <tr>\n",
       "      <th>0</th>\n",
       "      <td>1000_0</td>\n",
       "      <td>2018-06-27</td>\n",
       "      <td>1000</td>\n",
       "    </tr>\n",
       "    <tr>\n",
       "      <th>1</th>\n",
       "      <td>1000_1</td>\n",
       "      <td>2018-10-08</td>\n",
       "      <td>1000</td>\n",
       "    </tr>\n",
       "    <tr>\n",
       "      <th>2</th>\n",
       "      <td>1000_2</td>\n",
       "      <td>2018-08-04</td>\n",
       "      <td>1000</td>\n",
       "    </tr>\n",
       "    <tr>\n",
       "      <th>3</th>\n",
       "      <td>1000_3</td>\n",
       "      <td>2018-06-16</td>\n",
       "      <td>1000</td>\n",
       "    </tr>\n",
       "    <tr>\n",
       "      <th>4</th>\n",
       "      <td>1000_4</td>\n",
       "      <td>2018-12-05</td>\n",
       "      <td>1000</td>\n",
       "    </tr>\n",
       "  </tbody>\n",
       "</table>\n",
       "</div>"
      ],
      "text/plain": [
       "       id message_date  user_id\n",
       "0  1000_0   2018-06-27     1000\n",
       "1  1000_1   2018-10-08     1000\n",
       "2  1000_2   2018-08-04     1000\n",
       "3  1000_3   2018-06-16     1000\n",
       "4  1000_4   2018-12-05     1000"
      ]
     },
     "metadata": {},
     "output_type": "display_data"
    },
    {
     "data": {
      "text/html": [
       "<div>\n",
       "<style scoped>\n",
       "    .dataframe tbody tr th:only-of-type {\n",
       "        vertical-align: middle;\n",
       "    }\n",
       "\n",
       "    .dataframe tbody tr th {\n",
       "        vertical-align: top;\n",
       "    }\n",
       "\n",
       "    .dataframe thead th {\n",
       "        text-align: right;\n",
       "    }\n",
       "</style>\n",
       "<table border=\"1\" class=\"dataframe\">\n",
       "  <thead>\n",
       "    <tr style=\"text-align: right;\">\n",
       "      <th></th>\n",
       "      <th>messages_included</th>\n",
       "      <th>mb_per_month_included</th>\n",
       "      <th>minutes_included</th>\n",
       "      <th>rub_monthly_fee</th>\n",
       "      <th>rub_per_gb</th>\n",
       "      <th>rub_per_message</th>\n",
       "      <th>rub_per_minute</th>\n",
       "      <th>tariff_name</th>\n",
       "    </tr>\n",
       "  </thead>\n",
       "  <tbody>\n",
       "    <tr>\n",
       "      <th>0</th>\n",
       "      <td>50</td>\n",
       "      <td>15360</td>\n",
       "      <td>500</td>\n",
       "      <td>550</td>\n",
       "      <td>200</td>\n",
       "      <td>3</td>\n",
       "      <td>3</td>\n",
       "      <td>smart</td>\n",
       "    </tr>\n",
       "    <tr>\n",
       "      <th>1</th>\n",
       "      <td>1000</td>\n",
       "      <td>30720</td>\n",
       "      <td>3000</td>\n",
       "      <td>1950</td>\n",
       "      <td>150</td>\n",
       "      <td>1</td>\n",
       "      <td>1</td>\n",
       "      <td>ultra</td>\n",
       "    </tr>\n",
       "  </tbody>\n",
       "</table>\n",
       "</div>"
      ],
      "text/plain": [
       "   messages_included  mb_per_month_included  minutes_included  \\\n",
       "0                 50                  15360               500   \n",
       "1               1000                  30720              3000   \n",
       "\n",
       "   rub_monthly_fee  rub_per_gb  rub_per_message  rub_per_minute tariff_name  \n",
       "0              550         200                3               3       smart  \n",
       "1             1950         150                1               1       ultra  "
      ]
     },
     "metadata": {},
     "output_type": "display_data"
    }
   ],
   "source": [
    "try:\n",
    "    users = pd.read_csv('/datasets/users.csv')\n",
    "    calls = pd.read_csv('/datasets/calls.csv')\n",
    "    internet = pd.read_csv('/datasets/internet.csv')\n",
    "    messages = pd.read_csv('/datasets/messages.csv')\n",
    "    tariffs = pd.read_csv('/datasets/tariffs.csv')    \n",
    "    display('Загрузка онлайн')\n",
    "except:\n",
    "    users = pd.read_csv('users.csv')\n",
    "    calls = pd.read_csv('calls.csv')\n",
    "    internet = pd.read_csv('internet.csv')\n",
    "    messages = pd.read_csv('messages.csv')\n",
    "    tariffs = pd.read_csv('tariffs.csv')\n",
    "    display('Загрузка офлайн')\n",
    "\n",
    "display(\n",
    "    users.head(5),\n",
    "    calls.head(5),\n",
    "    internet.head(5),\n",
    "    messages.head(5),\n",
    "    tariffs.head(5)\n",
    ")\n"
   ]
  },
  {
   "cell_type": "markdown",
   "metadata": {},
   "source": [
    "В названиях колонок нет нарушения стиля."
   ]
  },
  {
   "cell_type": "markdown",
   "metadata": {},
   "source": [
    "Посмотрим на гистограмму распределения объема интернет-сессий, нет ли здесь аномалий "
   ]
  },
  {
   "cell_type": "code",
   "execution_count": 3,
   "metadata": {
    "scrolled": true
   },
   "outputs": [
    {
     "data": {
      "image/png": "[encoded data removed]",
      "text/plain": [
       "<Figure size 1080x288 with 1 Axes>"
      ]
     },
     "metadata": {
      "needs_background": "light"
     },
     "output_type": "display_data"
    }
   ],
   "source": [
    "plt.figure(figsize=(15,4))\n",
    "internet['mb_used'].hist(bins=80)\n",
    "\n",
    "plt.title('График зависимости продолжительности продажи от размещения в определенный год', size=14)\n",
    "plt.xticks(rotation=0)\n",
    "plt.xlabel('Объем интернет-сессий', size=12)\n",
    "plt.ylabel('Кол-во сессий', size=12)\n",
    "plt.show()"
   ]
  },
  {
   "cell_type": "markdown",
   "metadata": {},
   "source": [
    "Есть пик у 0, посмотрим распределение без 0 значений:"
   ]
  },
  {
   "cell_type": "code",
   "execution_count": 4,
   "metadata": {
    "scrolled": true
   },
   "outputs": [
    {
     "data": {
      "image/png": "[encoded data removed]",
      "text/plain": [
       "<Figure size 1080x288 with 1 Axes>"
      ]
     },
     "metadata": {
      "needs_background": "light"
     },
     "output_type": "display_data"
    }
   ],
   "source": [
    "plt.figure(figsize=(15,4))\n",
    "internet.loc[internet['mb_used'] > 0, 'mb_used'].hist(bins=80)\n",
    "\n",
    "plt.xlabel('Объем интернет-сессий', size=12)\n",
    "plt.ylabel('Кол-во сессий', size=12)\n",
    "plt.show()"
   ]
  },
  {
   "cell_type": "markdown",
   "metadata": {},
   "source": [
    "График скошен вправо, аномалий не наблюдаем."
   ]
  },
  {
   "cell_type": "markdown",
   "metadata": {},
   "source": [
    "Проверить пересечения значений первичных ключей (user_id) по таблицам с звонками сообщениями и интернетом:"
   ]
  },
  {
   "cell_type": "code",
   "execution_count": 5,
   "metadata": {
    "scrolled": false
   },
   "outputs": [
    {
     "name": "stdout",
     "output_type": "stream",
     "text": [
      "users: 500\n",
      "users/calls: 492\n",
      "users/internet: 497\n",
      "users/messages: 426\n"
     ]
    }
   ],
   "source": [
    "def intersection_list(df1, df2):\n",
    "    df1 = df1['user_id']\n",
    "    df2 = df2['user_id']\n",
    "    return set(df1).intersection(df2)\n",
    "\n",
    "print('users:',len(users))\n",
    "print('users/calls:',len(intersection_list(users, calls)))\n",
    "print('users/internet:',len(intersection_list(users, internet)))\n",
    "print('users/messages:',len(intersection_list(users, messages)))"
   ]
  },
  {
   "cell_type": "markdown",
   "metadata": {},
   "source": [
    "Из 500 абонентов:\n",
    "- 3 не разу не пользовались интернетом\n",
    "- 8 не разу не звонили\n",
    "- 74 не отправляли сообщений"
   ]
  },
  {
   "cell_type": "markdown",
   "metadata": {},
   "source": [
    "Посмотрии кто вообще не разу не воспользовался услугами:"
   ]
  },
  {
   "cell_type": "code",
   "execution_count": 6,
   "metadata": {
    "scrolled": true
   },
   "outputs": [
    {
     "name": "stdout",
     "output_type": "stream",
     "text": [
      "users - calls: {1128, 1371}\n"
     ]
    }
   ],
   "source": [
    "not_active_user = (set(users.user_id) - set(calls.user_id) - set(internet.user_id) - set(messages.user_id))\n",
    "\n",
    "print('users - calls:', not_active_user)"
   ]
  },
  {
   "cell_type": "markdown",
   "metadata": {},
   "source": [
    "Два абонента не разу не воспользовались услугами для будущего анализа они не предстовляют ценности можем ими пренебречь."
   ]
  },
  {
   "cell_type": "code",
   "execution_count": 7,
   "metadata": {
    "scrolled": true
   },
   "outputs": [
    {
     "name": "stdout",
     "output_type": "stream",
     "text": [
      "500\n",
      "498\n"
     ]
    },
    {
     "data": {
      "text/html": [
       "<div>\n",
       "<style scoped>\n",
       "    .dataframe tbody tr th:only-of-type {\n",
       "        vertical-align: middle;\n",
       "    }\n",
       "\n",
       "    .dataframe tbody tr th {\n",
       "        vertical-align: top;\n",
       "    }\n",
       "\n",
       "    .dataframe thead th {\n",
       "        text-align: right;\n",
       "    }\n",
       "</style>\n",
       "<table border=\"1\" class=\"dataframe\">\n",
       "  <thead>\n",
       "    <tr style=\"text-align: right;\">\n",
       "      <th></th>\n",
       "      <th>user_id</th>\n",
       "      <th>age</th>\n",
       "      <th>churn_date</th>\n",
       "      <th>city</th>\n",
       "      <th>first_name</th>\n",
       "      <th>last_name</th>\n",
       "      <th>reg_date</th>\n",
       "      <th>tariff</th>\n",
       "    </tr>\n",
       "  </thead>\n",
       "  <tbody>\n",
       "    <tr>\n",
       "      <th>0</th>\n",
       "      <td>1000</td>\n",
       "      <td>52</td>\n",
       "      <td>NaN</td>\n",
       "      <td>Краснодар</td>\n",
       "      <td>Рафаил</td>\n",
       "      <td>Верещагин</td>\n",
       "      <td>2018-05-25</td>\n",
       "      <td>ultra</td>\n",
       "    </tr>\n",
       "    <tr>\n",
       "      <th>1</th>\n",
       "      <td>1001</td>\n",
       "      <td>41</td>\n",
       "      <td>NaN</td>\n",
       "      <td>Москва</td>\n",
       "      <td>Иван</td>\n",
       "      <td>Ежов</td>\n",
       "      <td>2018-11-01</td>\n",
       "      <td>smart</td>\n",
       "    </tr>\n",
       "    <tr>\n",
       "      <th>2</th>\n",
       "      <td>1002</td>\n",
       "      <td>59</td>\n",
       "      <td>NaN</td>\n",
       "      <td>Стерлитамак</td>\n",
       "      <td>Евгений</td>\n",
       "      <td>Абрамович</td>\n",
       "      <td>2018-06-17</td>\n",
       "      <td>smart</td>\n",
       "    </tr>\n",
       "    <tr>\n",
       "      <th>3</th>\n",
       "      <td>1003</td>\n",
       "      <td>23</td>\n",
       "      <td>NaN</td>\n",
       "      <td>Москва</td>\n",
       "      <td>Белла</td>\n",
       "      <td>Белякова</td>\n",
       "      <td>2018-08-17</td>\n",
       "      <td>ultra</td>\n",
       "    </tr>\n",
       "    <tr>\n",
       "      <th>4</th>\n",
       "      <td>1004</td>\n",
       "      <td>68</td>\n",
       "      <td>NaN</td>\n",
       "      <td>Новокузнецк</td>\n",
       "      <td>Татьяна</td>\n",
       "      <td>Авдеенко</td>\n",
       "      <td>2018-05-14</td>\n",
       "      <td>ultra</td>\n",
       "    </tr>\n",
       "  </tbody>\n",
       "</table>\n",
       "</div>"
      ],
      "text/plain": [
       "   user_id  age churn_date         city first_name  last_name    reg_date  \\\n",
       "0     1000   52        NaN    Краснодар     Рафаил  Верещагин  2018-05-25   \n",
       "1     1001   41        NaN       Москва       Иван       Ежов  2018-11-01   \n",
       "2     1002   59        NaN  Стерлитамак    Евгений  Абрамович  2018-06-17   \n",
       "3     1003   23        NaN       Москва      Белла   Белякова  2018-08-17   \n",
       "4     1004   68        NaN  Новокузнецк    Татьяна   Авдеенко  2018-05-14   \n",
       "\n",
       "  tariff  \n",
       "0  ultra  \n",
       "1  smart  \n",
       "2  smart  \n",
       "3  ultra  \n",
       "4  ultra  "
      ]
     },
     "execution_count": 7,
     "metadata": {},
     "output_type": "execute_result"
    }
   ],
   "source": [
    "print(users.shape[0])\n",
    "users = users.query('not user_id in @not_active_user').reset_index(drop=True)\n",
    "print(users.shape[0])\n",
    "users.head()"
   ]
  },
  {
   "cell_type": "markdown",
   "metadata": {},
   "source": [
    "## Предобработка данных"
   ]
  },
  {
   "cell_type": "markdown",
   "metadata": {},
   "source": [
    "Видим что в одной базе лишнюю колонку, в справке к файлам указанно что в `internet` 4 колонки в файле их 5.\n",
    "\n",
    "Удалим лишнюю колонку `Unnamed: 0` видимо получившуюся при сбросе индекса, создалась колонка с индексом."
   ]
  },
  {
   "cell_type": "code",
   "execution_count": 8,
   "metadata": {
    "scrolled": true
   },
   "outputs": [
    {
     "data": {
      "text/html": [
       "<div>\n",
       "<style scoped>\n",
       "    .dataframe tbody tr th:only-of-type {\n",
       "        vertical-align: middle;\n",
       "    }\n",
       "\n",
       "    .dataframe tbody tr th {\n",
       "        vertical-align: top;\n",
       "    }\n",
       "\n",
       "    .dataframe thead th {\n",
       "        text-align: right;\n",
       "    }\n",
       "</style>\n",
       "<table border=\"1\" class=\"dataframe\">\n",
       "  <thead>\n",
       "    <tr style=\"text-align: right;\">\n",
       "      <th></th>\n",
       "      <th>id</th>\n",
       "      <th>mb_used</th>\n",
       "      <th>session_date</th>\n",
       "      <th>user_id</th>\n",
       "    </tr>\n",
       "  </thead>\n",
       "  <tbody>\n",
       "    <tr>\n",
       "      <th>0</th>\n",
       "      <td>1000_0</td>\n",
       "      <td>112.95</td>\n",
       "      <td>2018-11-25</td>\n",
       "      <td>1000</td>\n",
       "    </tr>\n",
       "    <tr>\n",
       "      <th>1</th>\n",
       "      <td>1000_1</td>\n",
       "      <td>1052.81</td>\n",
       "      <td>2018-09-07</td>\n",
       "      <td>1000</td>\n",
       "    </tr>\n",
       "    <tr>\n",
       "      <th>2</th>\n",
       "      <td>1000_2</td>\n",
       "      <td>1197.26</td>\n",
       "      <td>2018-06-25</td>\n",
       "      <td>1000</td>\n",
       "    </tr>\n",
       "    <tr>\n",
       "      <th>3</th>\n",
       "      <td>1000_3</td>\n",
       "      <td>550.27</td>\n",
       "      <td>2018-08-22</td>\n",
       "      <td>1000</td>\n",
       "    </tr>\n",
       "    <tr>\n",
       "      <th>4</th>\n",
       "      <td>1000_4</td>\n",
       "      <td>302.56</td>\n",
       "      <td>2018-09-24</td>\n",
       "      <td>1000</td>\n",
       "    </tr>\n",
       "  </tbody>\n",
       "</table>\n",
       "</div>"
      ],
      "text/plain": [
       "       id  mb_used session_date  user_id\n",
       "0  1000_0   112.95   2018-11-25     1000\n",
       "1  1000_1  1052.81   2018-09-07     1000\n",
       "2  1000_2  1197.26   2018-06-25     1000\n",
       "3  1000_3   550.27   2018-08-22     1000\n",
       "4  1000_4   302.56   2018-09-24     1000"
      ]
     },
     "execution_count": 8,
     "metadata": {},
     "output_type": "execute_result"
    }
   ],
   "source": [
    "internet = internet.drop(columns=['Unnamed: 0'])\n",
    "internet.head(5)"
   ]
  },
  {
   "cell_type": "markdown",
   "metadata": {},
   "source": [
    "В таблице `users` есть пропущенные данные в колонке `churn_date` дата прекращения пользования тарифом (если значение пропущено, то тариф ещё действовал на момент выгрузки данных), так как база за 2018 год запоним пропуски последним днем 2018 г. чтобы можно было проводить вычисления с этой колонкой создав таким образам отдельную группу. Для дальнейшего изменения типа данных так как это позволит нам производить вычисления связанное с датой, сделаем это через библиотеку `pandas`."
   ]
  },
  {
   "cell_type": "code",
   "execution_count": 9,
   "metadata": {
    "scrolled": true
   },
   "outputs": [
    {
     "name": "stdout",
     "output_type": "stream",
     "text": [
      "<class 'pandas.core.frame.DataFrame'>\n",
      "RangeIndex: 498 entries, 0 to 497\n",
      "Data columns (total 8 columns):\n",
      " #   Column      Non-Null Count  Dtype         \n",
      "---  ------      --------------  -----         \n",
      " 0   user_id     498 non-null    int64         \n",
      " 1   age         498 non-null    int64         \n",
      " 2   churn_date  498 non-null    datetime64[ns]\n",
      " 3   city        498 non-null    object        \n",
      " 4   first_name  498 non-null    object        \n",
      " 5   last_name   498 non-null    object        \n",
      " 6   reg_date    498 non-null    object        \n",
      " 7   tariff      498 non-null    object        \n",
      "dtypes: datetime64[ns](1), int64(2), object(5)\n",
      "memory usage: 31.2+ KB\n"
     ]
    }
   ],
   "source": [
    "users['churn_date'] = users['churn_date'].fillna('2018-12-31')\n",
    "\n",
    "\n",
    "users['churn_date'] = pd.to_datetime(users['churn_date'], format='%Y-%m-%d')\n",
    "users.info()\n"
   ]
  },
  {
   "cell_type": "markdown",
   "metadata": {},
   "source": [
    "Так же в других колонках с датами изменим тип данных через библиотеку `pandas`."
   ]
  },
  {
   "cell_type": "code",
   "execution_count": 10,
   "metadata": {
    "scrolled": false
   },
   "outputs": [],
   "source": [
    "calls['call_date'] = pd.to_datetime(calls['call_date'], format='%Y-%m-%d')\n",
    "messages['message_date'] = pd.to_datetime(messages['message_date'], format='%Y-%m-%d')\n",
    "internet['session_date'] = pd.to_datetime(internet['session_date'], format='%Y-%m-%d')"
   ]
  },
  {
   "cell_type": "markdown",
   "metadata": {},
   "source": [
    "Добавим в колонку с месяцем чтобы потом групировать данные по месяцам:"
   ]
  },
  {
   "cell_type": "code",
   "execution_count": 11,
   "metadata": {
    "scrolled": false
   },
   "outputs": [],
   "source": [
    "calls['month'] = calls['call_date'].dt.month\n",
    "internet['month'] = internet['session_date'].dt.month\n",
    "messages['month'] = messages['message_date'].dt.month"
   ]
  },
  {
   "cell_type": "markdown",
   "metadata": {},
   "source": [
    "Приведем данные с учетом примечания для учета расходов по тарифам.\n",
    "\n",
    "Для начала выведем 5 верхних строк по длительности звонков:"
   ]
  },
  {
   "cell_type": "code",
   "execution_count": 12,
   "metadata": {
    "scrolled": true
   },
   "outputs": [
    {
     "data": {
      "text/plain": [
       "0     0.00\n",
       "1     0.00\n",
       "2     2.85\n",
       "3    13.80\n",
       "4     5.18\n",
       "Name: duration, dtype: float64"
      ]
     },
     "execution_count": 12,
     "metadata": {},
     "output_type": "execute_result"
    }
   ],
   "source": [
    "calls['duration'].head(5)"
   ]
  },
  {
   "cell_type": "markdown",
   "metadata": {},
   "source": [
    "Округлим значения в большую сторону, с учетом того любая дополнительная секуда округляется до минуты.\n",
    "И выведем для проверки перые 5 строк:"
   ]
  },
  {
   "cell_type": "code",
   "execution_count": 13,
   "metadata": {
    "scrolled": true
   },
   "outputs": [
    {
     "data": {
      "text/plain": [
       "0     0.0\n",
       "1     0.0\n",
       "2     3.0\n",
       "3    14.0\n",
       "4     6.0\n",
       "Name: duration, dtype: float64"
      ]
     },
     "execution_count": 13,
     "metadata": {},
     "output_type": "execute_result"
    }
   ],
   "source": [
    "calls['duration'] = np.ceil(calls['duration'])\n",
    "calls['duration'].head(5)"
   ]
  },
  {
   "cell_type": "markdown",
   "metadata": {},
   "source": [
    "Сделаем сводную таблицу длительности звонков, по абонентам, объеденияя данные по месяцам, выведем первые 10 строк:"
   ]
  },
  {
   "cell_type": "code",
   "execution_count": 14,
   "metadata": {
    "scrolled": false
   },
   "outputs": [
    {
     "data": {
      "text/html": [
       "<div>\n",
       "<style scoped>\n",
       "    .dataframe tbody tr th:only-of-type {\n",
       "        vertical-align: middle;\n",
       "    }\n",
       "\n",
       "    .dataframe tbody tr th {\n",
       "        vertical-align: top;\n",
       "    }\n",
       "\n",
       "    .dataframe thead th {\n",
       "        text-align: right;\n",
       "    }\n",
       "</style>\n",
       "<table border=\"1\" class=\"dataframe\">\n",
       "  <thead>\n",
       "    <tr style=\"text-align: right;\">\n",
       "      <th></th>\n",
       "      <th>user_id</th>\n",
       "      <th>month</th>\n",
       "      <th>duration</th>\n",
       "    </tr>\n",
       "  </thead>\n",
       "  <tbody>\n",
       "    <tr>\n",
       "      <th>0</th>\n",
       "      <td>1000</td>\n",
       "      <td>5</td>\n",
       "      <td>159</td>\n",
       "    </tr>\n",
       "    <tr>\n",
       "      <th>1</th>\n",
       "      <td>1000</td>\n",
       "      <td>6</td>\n",
       "      <td>172</td>\n",
       "    </tr>\n",
       "    <tr>\n",
       "      <th>2</th>\n",
       "      <td>1000</td>\n",
       "      <td>7</td>\n",
       "      <td>340</td>\n",
       "    </tr>\n",
       "    <tr>\n",
       "      <th>3</th>\n",
       "      <td>1000</td>\n",
       "      <td>8</td>\n",
       "      <td>408</td>\n",
       "    </tr>\n",
       "    <tr>\n",
       "      <th>4</th>\n",
       "      <td>1000</td>\n",
       "      <td>9</td>\n",
       "      <td>466</td>\n",
       "    </tr>\n",
       "    <tr>\n",
       "      <th>5</th>\n",
       "      <td>1000</td>\n",
       "      <td>10</td>\n",
       "      <td>350</td>\n",
       "    </tr>\n",
       "    <tr>\n",
       "      <th>6</th>\n",
       "      <td>1000</td>\n",
       "      <td>11</td>\n",
       "      <td>338</td>\n",
       "    </tr>\n",
       "    <tr>\n",
       "      <th>7</th>\n",
       "      <td>1000</td>\n",
       "      <td>12</td>\n",
       "      <td>333</td>\n",
       "    </tr>\n",
       "    <tr>\n",
       "      <th>8</th>\n",
       "      <td>1001</td>\n",
       "      <td>11</td>\n",
       "      <td>430</td>\n",
       "    </tr>\n",
       "    <tr>\n",
       "      <th>9</th>\n",
       "      <td>1001</td>\n",
       "      <td>12</td>\n",
       "      <td>414</td>\n",
       "    </tr>\n",
       "  </tbody>\n",
       "</table>\n",
       "</div>"
      ],
      "text/plain": [
       "   user_id  month  duration\n",
       "0     1000      5       159\n",
       "1     1000      6       172\n",
       "2     1000      7       340\n",
       "3     1000      8       408\n",
       "4     1000      9       466\n",
       "5     1000     10       350\n",
       "6     1000     11       338\n",
       "7     1000     12       333\n",
       "8     1001     11       430\n",
       "9     1001     12       414"
      ]
     },
     "execution_count": 14,
     "metadata": {},
     "output_type": "execute_result"
    }
   ],
   "source": [
    "calls_month = (\n",
    "    calls\n",
    "    .pivot_table(index=['user_id','month'], values='duration', aggfunc='sum')\n",
    "    .fillna(0)\n",
    "              ).astype('int').reset_index()\n",
    "calls_month.head(10)"
   ]
  },
  {
   "cell_type": "markdown",
   "metadata": {},
   "source": [
    "Сделаем сводную таблицу по количеству сообщений, по абонентам, объеденияя данные по месяцам, выведем первые 10 строк:"
   ]
  },
  {
   "cell_type": "code",
   "execution_count": 15,
   "metadata": {
    "scrolled": false
   },
   "outputs": [
    {
     "data": {
      "text/html": [
       "<div>\n",
       "<style scoped>\n",
       "    .dataframe tbody tr th:only-of-type {\n",
       "        vertical-align: middle;\n",
       "    }\n",
       "\n",
       "    .dataframe tbody tr th {\n",
       "        vertical-align: top;\n",
       "    }\n",
       "\n",
       "    .dataframe thead th {\n",
       "        text-align: right;\n",
       "    }\n",
       "</style>\n",
       "<table border=\"1\" class=\"dataframe\">\n",
       "  <thead>\n",
       "    <tr style=\"text-align: right;\">\n",
       "      <th></th>\n",
       "      <th>user_id</th>\n",
       "      <th>month</th>\n",
       "      <th>messages</th>\n",
       "    </tr>\n",
       "  </thead>\n",
       "  <tbody>\n",
       "    <tr>\n",
       "      <th>0</th>\n",
       "      <td>1000</td>\n",
       "      <td>5</td>\n",
       "      <td>22</td>\n",
       "    </tr>\n",
       "    <tr>\n",
       "      <th>1</th>\n",
       "      <td>1000</td>\n",
       "      <td>6</td>\n",
       "      <td>60</td>\n",
       "    </tr>\n",
       "    <tr>\n",
       "      <th>2</th>\n",
       "      <td>1000</td>\n",
       "      <td>7</td>\n",
       "      <td>75</td>\n",
       "    </tr>\n",
       "    <tr>\n",
       "      <th>3</th>\n",
       "      <td>1000</td>\n",
       "      <td>8</td>\n",
       "      <td>81</td>\n",
       "    </tr>\n",
       "    <tr>\n",
       "      <th>4</th>\n",
       "      <td>1000</td>\n",
       "      <td>9</td>\n",
       "      <td>57</td>\n",
       "    </tr>\n",
       "    <tr>\n",
       "      <th>5</th>\n",
       "      <td>1000</td>\n",
       "      <td>10</td>\n",
       "      <td>73</td>\n",
       "    </tr>\n",
       "    <tr>\n",
       "      <th>6</th>\n",
       "      <td>1000</td>\n",
       "      <td>11</td>\n",
       "      <td>58</td>\n",
       "    </tr>\n",
       "    <tr>\n",
       "      <th>7</th>\n",
       "      <td>1000</td>\n",
       "      <td>12</td>\n",
       "      <td>70</td>\n",
       "    </tr>\n",
       "    <tr>\n",
       "      <th>8</th>\n",
       "      <td>1002</td>\n",
       "      <td>6</td>\n",
       "      <td>4</td>\n",
       "    </tr>\n",
       "    <tr>\n",
       "      <th>9</th>\n",
       "      <td>1002</td>\n",
       "      <td>7</td>\n",
       "      <td>11</td>\n",
       "    </tr>\n",
       "  </tbody>\n",
       "</table>\n",
       "</div>"
      ],
      "text/plain": [
       "   user_id  month  messages\n",
       "0     1000      5        22\n",
       "1     1000      6        60\n",
       "2     1000      7        75\n",
       "3     1000      8        81\n",
       "4     1000      9        57\n",
       "5     1000     10        73\n",
       "6     1000     11        58\n",
       "7     1000     12        70\n",
       "8     1002      6         4\n",
       "9     1002      7        11"
      ]
     },
     "execution_count": 15,
     "metadata": {},
     "output_type": "execute_result"
    }
   ],
   "source": [
    "messages_month = (\n",
    "    messages\n",
    "    .pivot_table(index=['user_id','month'], values='id', aggfunc='count')\n",
    "    .fillna(0)\n",
    "              ).astype('int').reset_index()\n",
    "messages_month.rename({'id':'messages'}, axis=1, inplace=True)# переименование столбцов\n",
    "messages_month.head(10)"
   ]
  },
  {
   "cell_type": "markdown",
   "metadata": {},
   "source": [
    "Сделаем сводную таблицу по интернет трафику, по абонентам, объеденияя данные по месяцам, выведем первые 10 строк:"
   ]
  },
  {
   "cell_type": "code",
   "execution_count": 16,
   "metadata": {
    "scrolled": false
   },
   "outputs": [
    {
     "data": {
      "text/html": [
       "<div>\n",
       "<style scoped>\n",
       "    .dataframe tbody tr th:only-of-type {\n",
       "        vertical-align: middle;\n",
       "    }\n",
       "\n",
       "    .dataframe tbody tr th {\n",
       "        vertical-align: top;\n",
       "    }\n",
       "\n",
       "    .dataframe thead th {\n",
       "        text-align: right;\n",
       "    }\n",
       "</style>\n",
       "<table border=\"1\" class=\"dataframe\">\n",
       "  <thead>\n",
       "    <tr style=\"text-align: right;\">\n",
       "      <th></th>\n",
       "      <th>user_id</th>\n",
       "      <th>month</th>\n",
       "      <th>mb_used</th>\n",
       "    </tr>\n",
       "  </thead>\n",
       "  <tbody>\n",
       "    <tr>\n",
       "      <th>0</th>\n",
       "      <td>1000</td>\n",
       "      <td>5</td>\n",
       "      <td>2253.49</td>\n",
       "    </tr>\n",
       "    <tr>\n",
       "      <th>1</th>\n",
       "      <td>1000</td>\n",
       "      <td>6</td>\n",
       "      <td>23233.77</td>\n",
       "    </tr>\n",
       "    <tr>\n",
       "      <th>2</th>\n",
       "      <td>1000</td>\n",
       "      <td>7</td>\n",
       "      <td>14003.64</td>\n",
       "    </tr>\n",
       "    <tr>\n",
       "      <th>3</th>\n",
       "      <td>1000</td>\n",
       "      <td>8</td>\n",
       "      <td>14055.93</td>\n",
       "    </tr>\n",
       "    <tr>\n",
       "      <th>4</th>\n",
       "      <td>1000</td>\n",
       "      <td>9</td>\n",
       "      <td>14568.91</td>\n",
       "    </tr>\n",
       "    <tr>\n",
       "      <th>5</th>\n",
       "      <td>1000</td>\n",
       "      <td>10</td>\n",
       "      <td>14702.49</td>\n",
       "    </tr>\n",
       "    <tr>\n",
       "      <th>6</th>\n",
       "      <td>1000</td>\n",
       "      <td>11</td>\n",
       "      <td>14756.47</td>\n",
       "    </tr>\n",
       "    <tr>\n",
       "      <th>7</th>\n",
       "      <td>1000</td>\n",
       "      <td>12</td>\n",
       "      <td>9817.61</td>\n",
       "    </tr>\n",
       "    <tr>\n",
       "      <th>8</th>\n",
       "      <td>1001</td>\n",
       "      <td>11</td>\n",
       "      <td>18429.34</td>\n",
       "    </tr>\n",
       "    <tr>\n",
       "      <th>9</th>\n",
       "      <td>1001</td>\n",
       "      <td>12</td>\n",
       "      <td>14036.66</td>\n",
       "    </tr>\n",
       "  </tbody>\n",
       "</table>\n",
       "</div>"
      ],
      "text/plain": [
       "   user_id  month   mb_used\n",
       "0     1000      5   2253.49\n",
       "1     1000      6  23233.77\n",
       "2     1000      7  14003.64\n",
       "3     1000      8  14055.93\n",
       "4     1000      9  14568.91\n",
       "5     1000     10  14702.49\n",
       "6     1000     11  14756.47\n",
       "7     1000     12   9817.61\n",
       "8     1001     11  18429.34\n",
       "9     1001     12  14036.66"
      ]
     },
     "execution_count": 16,
     "metadata": {},
     "output_type": "execute_result"
    }
   ],
   "source": [
    "internet_month = (\n",
    "    internet\n",
    "    .pivot_table(index=['user_id','month'], values='mb_used', aggfunc='sum')\n",
    "              ).reset_index()\n",
    "internet_month.head(10)"
   ]
  },
  {
   "cell_type": "markdown",
   "metadata": {},
   "source": [
    "Округлим значения интернет трафика в большую сторону, с учетом примечания. И выведем для проверки перые 5 строк:"
   ]
  },
  {
   "cell_type": "code",
   "execution_count": 17,
   "metadata": {
    "scrolled": false
   },
   "outputs": [
    {
     "data": {
      "text/html": [
       "<div>\n",
       "<style scoped>\n",
       "    .dataframe tbody tr th:only-of-type {\n",
       "        vertical-align: middle;\n",
       "    }\n",
       "\n",
       "    .dataframe tbody tr th {\n",
       "        vertical-align: top;\n",
       "    }\n",
       "\n",
       "    .dataframe thead th {\n",
       "        text-align: right;\n",
       "    }\n",
       "</style>\n",
       "<table border=\"1\" class=\"dataframe\">\n",
       "  <thead>\n",
       "    <tr style=\"text-align: right;\">\n",
       "      <th></th>\n",
       "      <th>user_id</th>\n",
       "      <th>month</th>\n",
       "      <th>gb_used</th>\n",
       "    </tr>\n",
       "  </thead>\n",
       "  <tbody>\n",
       "    <tr>\n",
       "      <th>0</th>\n",
       "      <td>1000</td>\n",
       "      <td>5</td>\n",
       "      <td>3.0</td>\n",
       "    </tr>\n",
       "    <tr>\n",
       "      <th>1</th>\n",
       "      <td>1000</td>\n",
       "      <td>6</td>\n",
       "      <td>23.0</td>\n",
       "    </tr>\n",
       "    <tr>\n",
       "      <th>2</th>\n",
       "      <td>1000</td>\n",
       "      <td>7</td>\n",
       "      <td>14.0</td>\n",
       "    </tr>\n",
       "    <tr>\n",
       "      <th>3</th>\n",
       "      <td>1000</td>\n",
       "      <td>8</td>\n",
       "      <td>14.0</td>\n",
       "    </tr>\n",
       "    <tr>\n",
       "      <th>4</th>\n",
       "      <td>1000</td>\n",
       "      <td>9</td>\n",
       "      <td>15.0</td>\n",
       "    </tr>\n",
       "    <tr>\n",
       "      <th>5</th>\n",
       "      <td>1000</td>\n",
       "      <td>10</td>\n",
       "      <td>15.0</td>\n",
       "    </tr>\n",
       "    <tr>\n",
       "      <th>6</th>\n",
       "      <td>1000</td>\n",
       "      <td>11</td>\n",
       "      <td>15.0</td>\n",
       "    </tr>\n",
       "    <tr>\n",
       "      <th>7</th>\n",
       "      <td>1000</td>\n",
       "      <td>12</td>\n",
       "      <td>10.0</td>\n",
       "    </tr>\n",
       "    <tr>\n",
       "      <th>8</th>\n",
       "      <td>1001</td>\n",
       "      <td>11</td>\n",
       "      <td>18.0</td>\n",
       "    </tr>\n",
       "    <tr>\n",
       "      <th>9</th>\n",
       "      <td>1001</td>\n",
       "      <td>12</td>\n",
       "      <td>14.0</td>\n",
       "    </tr>\n",
       "  </tbody>\n",
       "</table>\n",
       "</div>"
      ],
      "text/plain": [
       "   user_id  month  gb_used\n",
       "0     1000      5      3.0\n",
       "1     1000      6     23.0\n",
       "2     1000      7     14.0\n",
       "3     1000      8     14.0\n",
       "4     1000      9     15.0\n",
       "5     1000     10     15.0\n",
       "6     1000     11     15.0\n",
       "7     1000     12     10.0\n",
       "8     1001     11     18.0\n",
       "9     1001     12     14.0"
      ]
     },
     "execution_count": 17,
     "metadata": {},
     "output_type": "execute_result"
    }
   ],
   "source": [
    "internet_month['mb_used'] = np.ceil(internet_month['mb_used'] / 1024)\n",
    "# и делим на 1024 чтобы получить гб потраченные абонентом учитываемые тарифом.\n",
    "internet_month.rename({'mb_used':'gb_used'}, axis=1, inplace=True)\n",
    "# переименование столбца из за перевода в гигобайты вместо мегобайтов\n",
    "internet_month.head(10)"
   ]
  },
  {
   "cell_type": "markdown",
   "metadata": {},
   "source": [
    "Переведем так же мегобайты в гигобайты в таблице с тарифом."
   ]
  },
  {
   "cell_type": "code",
   "execution_count": 18,
   "metadata": {
    "scrolled": true
   },
   "outputs": [
    {
     "data": {
      "text/html": [
       "<div>\n",
       "<style scoped>\n",
       "    .dataframe tbody tr th:only-of-type {\n",
       "        vertical-align: middle;\n",
       "    }\n",
       "\n",
       "    .dataframe tbody tr th {\n",
       "        vertical-align: top;\n",
       "    }\n",
       "\n",
       "    .dataframe thead th {\n",
       "        text-align: right;\n",
       "    }\n",
       "</style>\n",
       "<table border=\"1\" class=\"dataframe\">\n",
       "  <thead>\n",
       "    <tr style=\"text-align: right;\">\n",
       "      <th></th>\n",
       "      <th>messages_included</th>\n",
       "      <th>gb_per_month_included</th>\n",
       "      <th>minutes_included</th>\n",
       "      <th>rub_monthly_fee</th>\n",
       "      <th>rub_per_gb</th>\n",
       "      <th>rub_per_message</th>\n",
       "      <th>rub_per_minute</th>\n",
       "      <th>tariff_name</th>\n",
       "    </tr>\n",
       "  </thead>\n",
       "  <tbody>\n",
       "    <tr>\n",
       "      <th>0</th>\n",
       "      <td>50</td>\n",
       "      <td>15.0</td>\n",
       "      <td>500</td>\n",
       "      <td>550</td>\n",
       "      <td>200</td>\n",
       "      <td>3</td>\n",
       "      <td>3</td>\n",
       "      <td>smart</td>\n",
       "    </tr>\n",
       "    <tr>\n",
       "      <th>1</th>\n",
       "      <td>1000</td>\n",
       "      <td>30.0</td>\n",
       "      <td>3000</td>\n",
       "      <td>1950</td>\n",
       "      <td>150</td>\n",
       "      <td>1</td>\n",
       "      <td>1</td>\n",
       "      <td>ultra</td>\n",
       "    </tr>\n",
       "  </tbody>\n",
       "</table>\n",
       "</div>"
      ],
      "text/plain": [
       "   messages_included  gb_per_month_included  minutes_included  \\\n",
       "0                 50                   15.0               500   \n",
       "1               1000                   30.0              3000   \n",
       "\n",
       "   rub_monthly_fee  rub_per_gb  rub_per_message  rub_per_minute tariff_name  \n",
       "0              550         200                3               3       smart  \n",
       "1             1950         150                1               1       ultra  "
      ]
     },
     "execution_count": 18,
     "metadata": {},
     "output_type": "execute_result"
    }
   ],
   "source": [
    "tariffs['mb_per_month_included'] = round(tariffs['mb_per_month_included'] / 1024)\n",
    "tariffs.rename({'mb_per_month_included':'gb_per_month_included'}, axis=1, inplace=True)# переименование столбца из за перевода в гигобайты\n",
    "tariffs.head()"
   ]
  },
  {
   "cell_type": "markdown",
   "metadata": {},
   "source": [
    "Сведем все таблицы по тратам абонентов в одну таблицу, выведем первые 10 строк полученной таблицы:"
   ]
  },
  {
   "cell_type": "code",
   "execution_count": 19,
   "metadata": {
    "scrolled": true
   },
   "outputs": [
    {
     "data": {
      "text/html": [
       "<div>\n",
       "<style scoped>\n",
       "    .dataframe tbody tr th:only-of-type {\n",
       "        vertical-align: middle;\n",
       "    }\n",
       "\n",
       "    .dataframe tbody tr th {\n",
       "        vertical-align: top;\n",
       "    }\n",
       "\n",
       "    .dataframe thead th {\n",
       "        text-align: right;\n",
       "    }\n",
       "</style>\n",
       "<table border=\"1\" class=\"dataframe\">\n",
       "  <thead>\n",
       "    <tr style=\"text-align: right;\">\n",
       "      <th></th>\n",
       "      <th>user_id</th>\n",
       "      <th>month</th>\n",
       "      <th>duration</th>\n",
       "      <th>messages</th>\n",
       "      <th>gb_used</th>\n",
       "      <th>tariff</th>\n",
       "    </tr>\n",
       "  </thead>\n",
       "  <tbody>\n",
       "    <tr>\n",
       "      <th>0</th>\n",
       "      <td>1000</td>\n",
       "      <td>5</td>\n",
       "      <td>159.0</td>\n",
       "      <td>22.0</td>\n",
       "      <td>3.0</td>\n",
       "      <td>ultra</td>\n",
       "    </tr>\n",
       "    <tr>\n",
       "      <th>1</th>\n",
       "      <td>1000</td>\n",
       "      <td>6</td>\n",
       "      <td>172.0</td>\n",
       "      <td>60.0</td>\n",
       "      <td>23.0</td>\n",
       "      <td>ultra</td>\n",
       "    </tr>\n",
       "    <tr>\n",
       "      <th>2</th>\n",
       "      <td>1000</td>\n",
       "      <td>7</td>\n",
       "      <td>340.0</td>\n",
       "      <td>75.0</td>\n",
       "      <td>14.0</td>\n",
       "      <td>ultra</td>\n",
       "    </tr>\n",
       "    <tr>\n",
       "      <th>3</th>\n",
       "      <td>1000</td>\n",
       "      <td>8</td>\n",
       "      <td>408.0</td>\n",
       "      <td>81.0</td>\n",
       "      <td>14.0</td>\n",
       "      <td>ultra</td>\n",
       "    </tr>\n",
       "    <tr>\n",
       "      <th>4</th>\n",
       "      <td>1000</td>\n",
       "      <td>9</td>\n",
       "      <td>466.0</td>\n",
       "      <td>57.0</td>\n",
       "      <td>15.0</td>\n",
       "      <td>ultra</td>\n",
       "    </tr>\n",
       "    <tr>\n",
       "      <th>5</th>\n",
       "      <td>1000</td>\n",
       "      <td>10</td>\n",
       "      <td>350.0</td>\n",
       "      <td>73.0</td>\n",
       "      <td>15.0</td>\n",
       "      <td>ultra</td>\n",
       "    </tr>\n",
       "    <tr>\n",
       "      <th>6</th>\n",
       "      <td>1000</td>\n",
       "      <td>11</td>\n",
       "      <td>338.0</td>\n",
       "      <td>58.0</td>\n",
       "      <td>15.0</td>\n",
       "      <td>ultra</td>\n",
       "    </tr>\n",
       "    <tr>\n",
       "      <th>7</th>\n",
       "      <td>1000</td>\n",
       "      <td>12</td>\n",
       "      <td>333.0</td>\n",
       "      <td>70.0</td>\n",
       "      <td>10.0</td>\n",
       "      <td>ultra</td>\n",
       "    </tr>\n",
       "    <tr>\n",
       "      <th>8</th>\n",
       "      <td>1001</td>\n",
       "      <td>11</td>\n",
       "      <td>430.0</td>\n",
       "      <td>NaN</td>\n",
       "      <td>18.0</td>\n",
       "      <td>smart</td>\n",
       "    </tr>\n",
       "    <tr>\n",
       "      <th>9</th>\n",
       "      <td>1001</td>\n",
       "      <td>12</td>\n",
       "      <td>414.0</td>\n",
       "      <td>NaN</td>\n",
       "      <td>14.0</td>\n",
       "      <td>smart</td>\n",
       "    </tr>\n",
       "  </tbody>\n",
       "</table>\n",
       "</div>"
      ],
      "text/plain": [
       "   user_id  month  duration  messages  gb_used tariff\n",
       "0     1000      5     159.0      22.0      3.0  ultra\n",
       "1     1000      6     172.0      60.0     23.0  ultra\n",
       "2     1000      7     340.0      75.0     14.0  ultra\n",
       "3     1000      8     408.0      81.0     14.0  ultra\n",
       "4     1000      9     466.0      57.0     15.0  ultra\n",
       "5     1000     10     350.0      73.0     15.0  ultra\n",
       "6     1000     11     338.0      58.0     15.0  ultra\n",
       "7     1000     12     333.0      70.0     10.0  ultra\n",
       "8     1001     11     430.0       NaN     18.0  smart\n",
       "9     1001     12     414.0       NaN     14.0  smart"
      ]
     },
     "execution_count": 19,
     "metadata": {},
     "output_type": "execute_result"
    }
   ],
   "source": [
    "month_expenses = pd.merge(calls_month, messages_month, on=['user_id','month'], how='outer')\n",
    "month_expenses = pd.merge(month_expenses, internet_month, on=['user_id','month'], how='outer')\n",
    "month_expenses = pd.merge(month_expenses, users[['tariff','user_id']], on=['user_id'], how='outer')\n",
    "month_expenses.head(10)"
   ]
  },
  {
   "cell_type": "code",
   "execution_count": 20,
   "metadata": {},
   "outputs": [
    {
     "data": {
      "text/plain": [
       "3214"
      ]
     },
     "execution_count": 20,
     "metadata": {},
     "output_type": "execute_result"
    }
   ],
   "source": [
    "month_expenses.shape[0]"
   ]
  },
  {
   "cell_type": "markdown",
   "metadata": {},
   "source": [
    "Посмотрим на пропуски в новой таблице:"
   ]
  },
  {
   "cell_type": "code",
   "execution_count": 21,
   "metadata": {
    "scrolled": true
   },
   "outputs": [
    {
     "data": {
      "text/plain": [
       "user_id       0\n",
       "month         0\n",
       "duration     40\n",
       "messages    497\n",
       "gb_used      11\n",
       "tariff        0\n",
       "dtype: int64"
      ]
     },
     "execution_count": 21,
     "metadata": {},
     "output_type": "execute_result"
    }
   ],
   "source": [
    "month_expenses.isna().sum()"
   ]
  },
  {
   "cell_type": "markdown",
   "metadata": {},
   "source": [
    "Заполнии пустые значения нулем так как данные об использования услуги в этот месяц отсутствует."
   ]
  },
  {
   "cell_type": "code",
   "execution_count": 22,
   "metadata": {
    "scrolled": true
   },
   "outputs": [
    {
     "data": {
      "text/plain": [
       "user_id     0\n",
       "month       0\n",
       "duration    0\n",
       "messages    0\n",
       "gb_used     0\n",
       "tariff      0\n",
       "dtype: int64"
      ]
     },
     "execution_count": 22,
     "metadata": {},
     "output_type": "execute_result"
    }
   ],
   "source": [
    "month_expenses[['duration','messages','gb_used']] = month_expenses[['duration','messages','gb_used']].fillna(0)\n",
    "month_expenses.isna().sum()"
   ]
  },
  {
   "cell_type": "markdown",
   "metadata": {},
   "source": [
    "Напишем функцию определяющию траты абонентов по месяцам и применем ее к нашей таблице создав новую колонку `expenses` с суммой трат абонентов:"
   ]
  },
  {
   "cell_type": "code",
   "execution_count": 23,
   "metadata": {
    "scrolled": true
   },
   "outputs": [
    {
     "data": {
      "text/html": [
       "<div>\n",
       "<style scoped>\n",
       "    .dataframe tbody tr th:only-of-type {\n",
       "        vertical-align: middle;\n",
       "    }\n",
       "\n",
       "    .dataframe tbody tr th {\n",
       "        vertical-align: top;\n",
       "    }\n",
       "\n",
       "    .dataframe thead th {\n",
       "        text-align: right;\n",
       "    }\n",
       "</style>\n",
       "<table border=\"1\" class=\"dataframe\">\n",
       "  <thead>\n",
       "    <tr style=\"text-align: right;\">\n",
       "      <th></th>\n",
       "      <th>user_id</th>\n",
       "      <th>month</th>\n",
       "      <th>duration</th>\n",
       "      <th>messages</th>\n",
       "      <th>gb_used</th>\n",
       "      <th>tariff</th>\n",
       "      <th>expenses</th>\n",
       "    </tr>\n",
       "  </thead>\n",
       "  <tbody>\n",
       "    <tr>\n",
       "      <th>0</th>\n",
       "      <td>1000</td>\n",
       "      <td>5</td>\n",
       "      <td>159.0</td>\n",
       "      <td>22.0</td>\n",
       "      <td>3.0</td>\n",
       "      <td>ultra</td>\n",
       "      <td>1950.0</td>\n",
       "    </tr>\n",
       "    <tr>\n",
       "      <th>1</th>\n",
       "      <td>1000</td>\n",
       "      <td>6</td>\n",
       "      <td>172.0</td>\n",
       "      <td>60.0</td>\n",
       "      <td>23.0</td>\n",
       "      <td>ultra</td>\n",
       "      <td>1950.0</td>\n",
       "    </tr>\n",
       "    <tr>\n",
       "      <th>2</th>\n",
       "      <td>1000</td>\n",
       "      <td>7</td>\n",
       "      <td>340.0</td>\n",
       "      <td>75.0</td>\n",
       "      <td>14.0</td>\n",
       "      <td>ultra</td>\n",
       "      <td>1950.0</td>\n",
       "    </tr>\n",
       "    <tr>\n",
       "      <th>3</th>\n",
       "      <td>1000</td>\n",
       "      <td>8</td>\n",
       "      <td>408.0</td>\n",
       "      <td>81.0</td>\n",
       "      <td>14.0</td>\n",
       "      <td>ultra</td>\n",
       "      <td>1950.0</td>\n",
       "    </tr>\n",
       "    <tr>\n",
       "      <th>4</th>\n",
       "      <td>1000</td>\n",
       "      <td>9</td>\n",
       "      <td>466.0</td>\n",
       "      <td>57.0</td>\n",
       "      <td>15.0</td>\n",
       "      <td>ultra</td>\n",
       "      <td>1950.0</td>\n",
       "    </tr>\n",
       "  </tbody>\n",
       "</table>\n",
       "</div>"
      ],
      "text/plain": [
       "   user_id  month  duration  messages  gb_used tariff  expenses\n",
       "0     1000      5     159.0      22.0      3.0  ultra    1950.0\n",
       "1     1000      6     172.0      60.0     23.0  ultra    1950.0\n",
       "2     1000      7     340.0      75.0     14.0  ultra    1950.0\n",
       "3     1000      8     408.0      81.0     14.0  ultra    1950.0\n",
       "4     1000      9     466.0      57.0     15.0  ultra    1950.0"
      ]
     },
     "execution_count": 23,
     "metadata": {},
     "output_type": "execute_result"
    }
   ],
   "source": [
    "def expenses(duration, messages, gb_used, tariff):\n",
    "        \n",
    "    try:\n",
    "        for i in range(len(tariffs)):\n",
    "             if tariff == tariffs['tariff_name'][i]: #проверка тарифа\n",
    "               \n",
    "                dur = duration - tariffs['minutes_included'][i] #расхад пакета минут\n",
    "                mes = messages - tariffs['messages_included'][i] #расхад пакета смс\n",
    "                gb = gb_used - tariffs['gb_per_month_included'][i] #расхад пакета интернета\n",
    "\n",
    "                \n",
    "                if (dur > 0 and mes > 0 and gb > 0): # + + + перерасход всего\n",
    "                    cost = (\n",
    "                            dur * tariffs['rub_per_minute'][i]\n",
    "                            + mes * tariffs['rub_per_message'][i]\n",
    "                            + gb * tariffs['rub_per_gb'][i]\n",
    "                            + tariffs['rub_monthly_fee'][i]\n",
    "                           )\n",
    "                    return cost\n",
    "                if (dur <= 0 and mes > 0 and gb > 0): # - + + перерасход смс и интернета\n",
    "                    cost = (\n",
    "                           mes * tariffs['rub_per_message'][i]\n",
    "                            + gb * tariffs['rub_per_gb'][i]\n",
    "                            + tariffs['rub_monthly_fee'][i]\n",
    "                           )\n",
    "                    return cost\n",
    "                if (dur <= 0 and mes <= 0 and gb > 0): # - - + перерасход интернета\n",
    "                    cost = (\n",
    "                            gb * tariffs['rub_per_gb'][i]\n",
    "                            + tariffs['rub_monthly_fee'][i]\n",
    "                           )\n",
    "                    return cost\n",
    "                if (dur <= 0 and mes > 0 and gb <= 0): # - + - перерасход смс\n",
    "                    cost = (\n",
    "                            mes * tariffs['rub_per_message'][i]\n",
    "                            + tariffs['rub_monthly_fee'][i]\n",
    "                           )\n",
    "                    return cost\n",
    "                if (dur <= 0 and mes <= 0 and gb <= 0): # - - - нет перерасхода всего\n",
    "                    cost = tariffs['rub_monthly_fee'][i]\n",
    "                    return cost\n",
    "                if (dur > 0 and mes > 0 and gb <= 0): # + + - перерасход минут и смс\n",
    "                    cost = (\n",
    "                            dur * tariffs['rub_per_minute'][i]\n",
    "                            + mes * tariffs['rub_per_message'][i]\n",
    "                            + tariffs['rub_monthly_fee'][i]\n",
    "                           )\n",
    "                    return cost\n",
    "                if (dur > 0 and mes <= 0 and gb <= 0): # + - - перерасход минут\n",
    "                    cost = (\n",
    "                            dur * tariffs['rub_per_minute'][i]\n",
    "                            + tariffs['rub_monthly_fee'][i]\n",
    "                           )\n",
    "                    return cost\n",
    "                if (dur > 0 and mes <= 0 and gb > 0): # + - + перерасход минут и интернета\n",
    "                    cost = (\n",
    "                            dur * tariffs['rub_per_minute'][i]\n",
    "                            + gb * tariffs['rub_per_gb'][i]\n",
    "                            + tariffs['rub_monthly_fee'][i]\n",
    "                           )\n",
    "                    return cost\n",
    "    except:\n",
    "        display('Ошибка проверить данные')\n",
    "\n",
    "month_expenses['expenses'] = month_expenses.apply(lambda row : expenses(row['duration'], row['messages'], row['gb_used'], row['tariff']), axis = 1)\n",
    "month_expenses.head(5)"
   ]
  },
  {
   "cell_type": "markdown",
   "metadata": {},
   "source": [
    "Хорошо, можем приступать к следущему шагу."
   ]
  },
  {
   "cell_type": "markdown",
   "metadata": {},
   "source": [
    "Проверим пропуски:"
   ]
  },
  {
   "cell_type": "code",
   "execution_count": 24,
   "metadata": {
    "scrolled": false
   },
   "outputs": [
    {
     "data": {
      "text/plain": [
       "user_id     0\n",
       "month       0\n",
       "duration    0\n",
       "messages    0\n",
       "gb_used     0\n",
       "tariff      0\n",
       "expenses    0\n",
       "dtype: int64"
      ]
     },
     "execution_count": 24,
     "metadata": {},
     "output_type": "execute_result"
    }
   ],
   "source": [
    "month_expenses.isna().sum()"
   ]
  },
  {
   "cell_type": "markdown",
   "metadata": {},
   "source": [
    "Отлично пропусков нет переходим к следущему шагу."
   ]
  },
  {
   "cell_type": "code",
   "execution_count": 25,
   "metadata": {},
   "outputs": [
    {
     "name": "stdout",
     "output_type": "stream",
     "text": [
      "<class 'pandas.core.frame.DataFrame'>\n",
      "Int64Index: 3214 entries, 0 to 3213\n",
      "Data columns (total 7 columns):\n",
      " #   Column    Non-Null Count  Dtype  \n",
      "---  ------    --------------  -----  \n",
      " 0   user_id   3214 non-null   int64  \n",
      " 1   month     3214 non-null   int64  \n",
      " 2   duration  3214 non-null   float64\n",
      " 3   messages  3214 non-null   float64\n",
      " 4   gb_used   3214 non-null   float64\n",
      " 5   tariff    3214 non-null   object \n",
      " 6   expenses  3214 non-null   float64\n",
      "dtypes: float64(4), int64(2), object(1)\n",
      "memory usage: 200.9+ KB\n"
     ]
    }
   ],
   "source": [
    "# check\n",
    "month_expenses.info()"
   ]
  },
  {
   "cell_type": "markdown",
   "metadata": {},
   "source": [
    "## Анализ данных"
   ]
  },
  {
   "cell_type": "markdown",
   "metadata": {},
   "source": [
    "Посмотрим среднее значение по всем колонкам:"
   ]
  },
  {
   "cell_type": "code",
   "execution_count": 26,
   "metadata": {
    "scrolled": false
   },
   "outputs": [
    {
     "data": {
      "text/html": [
       "<div>\n",
       "<style scoped>\n",
       "    .dataframe tbody tr th:only-of-type {\n",
       "        vertical-align: middle;\n",
       "    }\n",
       "\n",
       "    .dataframe tbody tr th {\n",
       "        vertical-align: top;\n",
       "    }\n",
       "\n",
       "    .dataframe thead th {\n",
       "        text-align: right;\n",
       "    }\n",
       "</style>\n",
       "<table border=\"1\" class=\"dataframe\">\n",
       "  <thead>\n",
       "    <tr style=\"text-align: right;\">\n",
       "      <th></th>\n",
       "      <th>duration</th>\n",
       "      <th>expenses</th>\n",
       "      <th>gb_used</th>\n",
       "      <th>messages</th>\n",
       "    </tr>\n",
       "    <tr>\n",
       "      <th>tariff</th>\n",
       "      <th></th>\n",
       "      <th></th>\n",
       "      <th></th>\n",
       "      <th></th>\n",
       "    </tr>\n",
       "  </thead>\n",
       "  <tbody>\n",
       "    <tr>\n",
       "      <th>smart</th>\n",
       "      <td>422.0</td>\n",
       "      <td>1023.0</td>\n",
       "      <td>17.0</td>\n",
       "      <td>28.0</td>\n",
       "    </tr>\n",
       "    <tr>\n",
       "      <th>ultra</th>\n",
       "      <td>518.0</td>\n",
       "      <td>1950.0</td>\n",
       "      <td>19.0</td>\n",
       "      <td>38.0</td>\n",
       "    </tr>\n",
       "  </tbody>\n",
       "</table>\n",
       "</div>"
      ],
      "text/plain": [
       "        duration  expenses  gb_used  messages\n",
       "tariff                                       \n",
       "smart      422.0    1023.0     17.0      28.0\n",
       "ultra      518.0    1950.0     19.0      38.0"
      ]
     },
     "execution_count": 26,
     "metadata": {},
     "output_type": "execute_result"
    }
   ],
   "source": [
    "month_expenses_mean = month_expenses.pivot_table(\n",
    "    index='tariff', values=['duration','messages','gb_used','expenses'], aggfunc='median'\n",
    ")\n",
    "month_expenses_mean"
   ]
  },
  {
   "cell_type": "markdown",
   "metadata": {},
   "source": [
    "С учетом медианы за год абоненты не превышают пакет услуг, но в тарифе smart в отличие от ultra по оплате, расходы в smart почти в два раза больше базовой стоимости, вместо 550 р. выходит 1023 р. Видимо большой разброс по расходам пакетов, кто то разговаривает мало, а кто то много в среднем все укладывается в базовый пакет, но на стоимости превышение сказывается горазно значительнее.\n",
    "\n",
    " - среднее длительность разговоров в месяц, в тарифе `smart` - 422 мин.\n",
    " - среднее количество сообщений в месяц, в тарифе `smart` - 28 смс\n",
    " - среднее интернет трафик в месяц, в тарифе `smart` - 17 гб.\n",
    " \n",
    " - среднее длительность разговоров в месяц, в тарифе `ultra` - 518 мин.\n",
    " - среднее количество сообщений в месяц, в тарифе `ultra` - 38 смс\n",
    " - среднее интернет трафик в месяц, в тарифе `ultra` - 19 гб.\n",
    " \n",
    " - средние траты в месяц, в тарифе `smart` - 1023 руб.\n",
    " - средние траты в месяц, в тарифе `ultra` - 1950 руб."
   ]
  },
  {
   "cell_type": "markdown",
   "metadata": {},
   "source": [
    "Посчитаем дисперсию по тарифам:"
   ]
  },
  {
   "cell_type": "code",
   "execution_count": 27,
   "metadata": {},
   "outputs": [
    {
     "name": "stdout",
     "output_type": "stream",
     "text": [
      "          smart          \n",
      "duration     36219.0\n",
      "messages       797.0\n",
      "gb_used         33.0\n",
      "expenses    669786.0\n",
      "dtype: float64\n",
      "\n",
      "          ultra          \n",
      "duration    100874.0\n",
      "messages      2285.0\n",
      "gb_used         97.0\n",
      "expenses    141517.0\n",
      "dtype: float64\n",
      "\n"
     ]
    }
   ],
   "source": [
    "tariffs_list = ['smart', 'ultra']\n",
    "\n",
    "for col in tariffs_list:\n",
    "    print(col.center(len(col)+20))\n",
    "    print(\n",
    "        round(np.var(\n",
    "            month_expenses.loc[month_expenses['tariff']==col, \n",
    "            ['duration','messages','gb_used','expenses']], ddof=1))\n",
    "    )\n",
    "    print()"
   ]
  },
  {
   "cell_type": "markdown",
   "metadata": {},
   "source": [
    "Посчитаем стандартное отклонение по тарифам:"
   ]
  },
  {
   "cell_type": "code",
   "execution_count": 28,
   "metadata": {
    "scrolled": true
   },
   "outputs": [
    {
     "name": "stdout",
     "output_type": "stream",
     "text": [
      "          smart          \n",
      "duration    190.0\n",
      "messages     28.0\n",
      "gb_used       6.0\n",
      "expenses    818.0\n",
      "dtype: float64\n",
      "\n",
      "          ultra          \n",
      "duration    318.0\n",
      "messages     48.0\n",
      "gb_used      10.0\n",
      "expenses    376.0\n",
      "dtype: float64\n",
      "\n"
     ]
    }
   ],
   "source": [
    "for col in tariffs_list:\n",
    "    print(col.center(len(col)+20))\n",
    "    print(\n",
    "        round(np.std(\n",
    "            month_expenses.loc[month_expenses['tariff']==col, \n",
    "            ['duration','messages','gb_used','expenses']], ddof=1))\n",
    "    )\n",
    "    print()"
   ]
  },
  {
   "cell_type": "markdown",
   "metadata": {},
   "source": [
    "Посмотрим как менялось количество абонентов по месяцам:"
   ]
  },
  {
   "cell_type": "code",
   "execution_count": 29,
   "metadata": {},
   "outputs": [
    {
     "data": {
      "text/html": [
       "<div>\n",
       "<style scoped>\n",
       "    .dataframe tbody tr th:only-of-type {\n",
       "        vertical-align: middle;\n",
       "    }\n",
       "\n",
       "    .dataframe tbody tr th {\n",
       "        vertical-align: top;\n",
       "    }\n",
       "\n",
       "    .dataframe thead th {\n",
       "        text-align: right;\n",
       "    }\n",
       "</style>\n",
       "<table border=\"1\" class=\"dataframe\">\n",
       "  <thead>\n",
       "    <tr style=\"text-align: right;\">\n",
       "      <th>tariff</th>\n",
       "      <th>smart</th>\n",
       "      <th>ultra</th>\n",
       "    </tr>\n",
       "    <tr>\n",
       "      <th>month</th>\n",
       "      <th></th>\n",
       "      <th></th>\n",
       "    </tr>\n",
       "  </thead>\n",
       "  <tbody>\n",
       "    <tr>\n",
       "      <th>1</th>\n",
       "      <td>34</td>\n",
       "      <td>9</td>\n",
       "    </tr>\n",
       "    <tr>\n",
       "      <th>2</th>\n",
       "      <td>58</td>\n",
       "      <td>24</td>\n",
       "    </tr>\n",
       "    <tr>\n",
       "      <th>3</th>\n",
       "      <td>77</td>\n",
       "      <td>37</td>\n",
       "    </tr>\n",
       "    <tr>\n",
       "      <th>4</th>\n",
       "      <td>112</td>\n",
       "      <td>55</td>\n",
       "    </tr>\n",
       "    <tr>\n",
       "      <th>5</th>\n",
       "      <td>141</td>\n",
       "      <td>67</td>\n",
       "    </tr>\n",
       "    <tr>\n",
       "      <th>6</th>\n",
       "      <td>164</td>\n",
       "      <td>84</td>\n",
       "    </tr>\n",
       "    <tr>\n",
       "      <th>7</th>\n",
       "      <td>201</td>\n",
       "      <td>91</td>\n",
       "    </tr>\n",
       "    <tr>\n",
       "      <th>8</th>\n",
       "      <td>235</td>\n",
       "      <td>107</td>\n",
       "    </tr>\n",
       "    <tr>\n",
       "      <th>9</th>\n",
       "      <td>260</td>\n",
       "      <td>115</td>\n",
       "    </tr>\n",
       "    <tr>\n",
       "      <th>10</th>\n",
       "      <td>294</td>\n",
       "      <td>123</td>\n",
       "    </tr>\n",
       "    <tr>\n",
       "      <th>11</th>\n",
       "      <td>316</td>\n",
       "      <td>134</td>\n",
       "    </tr>\n",
       "    <tr>\n",
       "      <th>12</th>\n",
       "      <td>337</td>\n",
       "      <td>139</td>\n",
       "    </tr>\n",
       "  </tbody>\n",
       "</table>\n",
       "</div>"
      ],
      "text/plain": [
       "tariff  smart  ultra\n",
       "month               \n",
       "1          34      9\n",
       "2          58     24\n",
       "3          77     37\n",
       "4         112     55\n",
       "5         141     67\n",
       "6         164     84\n",
       "7         201     91\n",
       "8         235    107\n",
       "9         260    115\n",
       "10        294    123\n",
       "11        316    134\n",
       "12        337    139"
      ]
     },
     "execution_count": 29,
     "metadata": {},
     "output_type": "execute_result"
    }
   ],
   "source": [
    "month_expenses.pivot_table(index='month',columns='tariff', values='user_id', aggfunc='count')"
   ]
  },
  {
   "cell_type": "code",
   "execution_count": 30,
   "metadata": {
    "scrolled": false
   },
   "outputs": [
    {
     "data": {
      "image/png": "[encoded data removed]",
      "text/plain": [
       "<Figure size 720x360 with 1 Axes>"
      ]
     },
     "metadata": {
      "needs_background": "light"
     },
     "output_type": "display_data"
    }
   ],
   "source": [
    "users_mount = (\n",
    "    month_expenses.pivot_table(index='month',columns='tariff', values='user_id', aggfunc='count')\n",
    "    .plot( y='smart', style='o-',  grid=True, figsize=(10, 5))\n",
    ")\n",
    "(\n",
    "    month_expenses.pivot_table(index='month',columns='tariff', values='user_id', aggfunc='count')\n",
    "    .plot( y='ultra', style='o-',  grid=True, figsize=(10, 5), ax=users_mount)\n",
    ");\n",
    "(   month_expenses.pivot_table(index='month', values='user_id', aggfunc='count')\n",
    "    .plot( y='user_id', style='o-',  grid=True, figsize=(10, 5), ax=users_mount, title='Количество абонентов')\n",
    ");\n",
    "users_mount.legend(['Smart', 'Ultra','All']);\n",
    "#  Добавляем подписи к осям:\n",
    "users_mount.set_xlabel('месяц')\n",
    "users_mount.set_ylabel('кол-во абонентов')\n",
    "\n",
    "plt.show()"
   ]
  },
  {
   "cell_type": "markdown",
   "metadata": {},
   "source": [
    "В течении года количество абонентов заметно выросло примерно с 50 до 500 в общем, количество абонентов тарифа `smart` к концу года больше примерно в 2,5 раза больше абонентов тарифа `ultra`."
   ]
  },
  {
   "cell_type": "markdown",
   "metadata": {},
   "source": [
    "Посмотрим на гистрограммы, сколько длительность звонков, количество сообщений, объем трафика интернета и сумму расходав абонентов по месяцам с разделением по тарифам."
   ]
  },
  {
   "cell_type": "code",
   "execution_count": 31,
   "metadata": {
    "scrolled": false
   },
   "outputs": [
    {
     "data": {
      "image/png": "[encoded data removed]",
      "text/plain": [
       "<Figure size 720x360 with 1 Axes>"
      ]
     },
     "metadata": {
      "needs_background": "light"
     },
     "output_type": "display_data"
    },
    {
     "data": {
      "image/png": "[encoded data removed]",
      "text/plain": [
       "<Figure size 720x360 with 1 Axes>"
      ]
     },
     "metadata": {
      "needs_background": "light"
     },
     "output_type": "display_data"
    },
    {
     "data": {
      "image/png": "[encoded data removed]",
      "text/plain": [
       "<Figure size 720x360 with 1 Axes>"
      ]
     },
     "metadata": {
      "needs_background": "light"
     },
     "output_type": "display_data"
    },
    {
     "data": {
      "image/png": "[encoded data removed]",
      "text/plain": [
       "<Figure size 720x360 with 1 Axes>"
      ]
     },
     "metadata": {
      "needs_background": "light"
     },
     "output_type": "display_data"
    }
   ],
   "source": [
    "group_col = ['duration','messages','gb_used','expenses']\n",
    "group_name = ['Длительность звонков','Количество сообщений','Объем трафика интернета','Сумма расходов']\n",
    "\n",
    "for i in range(len(group_col)):\n",
    "    (\n",
    "        month_expenses.pivot_table(index='month', columns='tariff', values=group_col[i], aggfunc='median')\n",
    "        .plot( kind='bar',  grid=True, figsize=(10, 5), title=group_name[i])\n",
    "    )\n",
    "    \n",
    "    plt.xticks(rotation=0)\n",
    "    plt.xlabel('Месяц', size=12)\n",
    "    plt.ylabel(group_name[i], size=12)\n",
    "    plt.show()"
   ]
  },
  {
   "cell_type": "markdown",
   "metadata": {},
   "source": [
    "- Есть рост длительности разговоров до мая, скорее всего это связано с ростом колисчество абонентов тем самым выборочная средняя стремится к генеральной совокупносте, после мая роста среднего уже нет, хотя количество абонентов все равно продолжается.\n",
    "\n",
    "- По сообщениям, среднее значение, у тарифа `ultra`, растет с количеством абонентов если не брать выброс первого месяца из за малого количества абонентов в текущем месяце и концу года равняется около 50 сообщений. У тарифа `smart` рост идет только до мая далее средняя стабилизируется в значении 29 сообщений. \n",
    "\n",
    "- По трафику интернета также рост только в нескольких первых месяцев вместе с ростом числа абонентов(до марта) далее среднее значение изменяется не сильно. К концк годасредее значение у тарифа `ultra` чуть больше 20гб, а у тарифа `smart` 18гб что является пререрасходом базового пакета в 15гб.\n",
    "\n",
    "- Если смотреть среднее по расходам минут и сообщений, то нигде нет превышения пакета входящего в тариф, кроме трафика интернета в тарифе `smart` где средее за год превысило базовый пакет. По средним расходам в тарифе `ultra` все стабильно и в течении года нет превышений по ежемесячной плате в 1950 р. А вот в тарифе `smart` есть заметный рост в тратах с 550 р (базовая стоимость) в начале года и 1300 в конце.(в 2,3 раза выросли расходы у абонентов)."
   ]
  },
  {
   "cell_type": "markdown",
   "metadata": {},
   "source": [
    "Посмотрим количество абонентов по тарифам и сумму трат по всем категориям:"
   ]
  },
  {
   "cell_type": "code",
   "execution_count": 32,
   "metadata": {
    "scrolled": true
   },
   "outputs": [
    {
     "name": "stdout",
     "output_type": "stream",
     "text": [
      "Количество абонентов в тарифе smart : 350\n",
      "\n",
      "Количество абонентов в тарифе ultra : 148\n",
      "\n"
     ]
    },
    {
     "data": {
      "text/html": [
       "<div>\n",
       "<style scoped>\n",
       "    .dataframe tbody tr th:only-of-type {\n",
       "        vertical-align: middle;\n",
       "    }\n",
       "\n",
       "    .dataframe tbody tr th {\n",
       "        vertical-align: top;\n",
       "    }\n",
       "\n",
       "    .dataframe thead th {\n",
       "        text-align: right;\n",
       "    }\n",
       "</style>\n",
       "<table border=\"1\" class=\"dataframe\">\n",
       "  <thead>\n",
       "    <tr style=\"text-align: right;\">\n",
       "      <th></th>\n",
       "      <th>duration</th>\n",
       "      <th>expenses</th>\n",
       "      <th>gb_used</th>\n",
       "      <th>messages</th>\n",
       "    </tr>\n",
       "    <tr>\n",
       "      <th>tariff</th>\n",
       "      <th></th>\n",
       "      <th></th>\n",
       "      <th></th>\n",
       "      <th></th>\n",
       "    </tr>\n",
       "  </thead>\n",
       "  <tbody>\n",
       "    <tr>\n",
       "      <th>smart</th>\n",
       "      <td>931577.0</td>\n",
       "      <td>2875351.0</td>\n",
       "      <td>36397.0</td>\n",
       "      <td>74413.0</td>\n",
       "    </tr>\n",
       "    <tr>\n",
       "      <th>ultra</th>\n",
       "      <td>518724.0</td>\n",
       "      <td>2039100.0</td>\n",
       "      <td>19202.0</td>\n",
       "      <td>48623.0</td>\n",
       "    </tr>\n",
       "  </tbody>\n",
       "</table>\n",
       "</div>"
      ],
      "text/plain": [
       "        duration   expenses  gb_used  messages\n",
       "tariff                                        \n",
       "smart   931577.0  2875351.0  36397.0   74413.0\n",
       "ultra   518724.0  2039100.0  19202.0   48623.0"
      ]
     },
     "execution_count": 32,
     "metadata": {},
     "output_type": "execute_result"
    }
   ],
   "source": [
    "for col in tariffs_list:\n",
    "    print('Количество абонентов в тарифе', col,':', len(month_expenses.loc[month_expenses['tariff'] == col,'user_id'].unique()))\n",
    "    print()\n",
    "\n",
    "month_expenses.pivot_table(index='tariff', values=['duration','messages','gb_used','expenses'], aggfunc='sum')"
   ]
  },
  {
   "cell_type": "markdown",
   "metadata": {},
   "source": [
    "Видим что в сумме доходы от тарифа `smart` в 1,4 раза больше `ultra`, но при этом количество и абонентов тарифе `smart` в 2,4 раза больше тарифа `ultra`, так и средний доход от одного абонента у `ultra` выше чем у тарифа `smart`."
   ]
  },
  {
   "cell_type": "code",
   "execution_count": 33,
   "metadata": {
    "scrolled": false
   },
   "outputs": [
    {
     "data": {
      "image/png": "[encoded data removed]",
      "text/plain": [
       "<Figure size 1080x288 with 1 Axes>"
      ]
     },
     "metadata": {
      "needs_background": "light"
     },
     "output_type": "display_data"
    },
    {
     "data": {
      "image/png": "[encoded data removed]",
      "text/plain": [
       "<Figure size 1080x288 with 1 Axes>"
      ]
     },
     "metadata": {
      "needs_background": "light"
     },
     "output_type": "display_data"
    }
   ],
   "source": [
    "color = ['#1f77b4','#ff7f0e']\n",
    "for i in range(len(tariffs_list)):\n",
    "    plt.figure(figsize=(15,4))\n",
    "    month_expenses.loc[month_expenses['tariff'] == tariffs_list[i],'duration'].hist(bins=100, color = color[i])\n",
    "    plt.title('Тариф '+tariffs_list[i])\n",
    "    plt.xlabel('Длительность звонков', size=12)\n",
    "    plt.ylabel('Кол-во абонентов', size=12)\n",
    "    plt.show()"
   ]
  },
  {
   "cell_type": "markdown",
   "metadata": {},
   "source": [
    "По построенным гистрограмма мы видим:\n",
    " - По длительности в тарифе `smart` видим практически нормальное распределение с небольшим скосом вправа. С учетом что в пакете всего 550 минут значительная часть выходит за переделы базового пакета.\n",
    " - По длительности в тарифе `ultra` так же скос вправа и график не такой равномерный возможно это сказывается разница в количестве абонентов(их меньше чем в тарифе смарт). Никто не превышает пакет минут в тарифе, большинство укладывается в 1200 мин."
   ]
  },
  {
   "cell_type": "code",
   "execution_count": 34,
   "metadata": {
    "scrolled": false
   },
   "outputs": [
    {
     "data": {
      "image/png": "[encoded data removed]",
      "text/plain": [
       "<Figure size 1080x288 with 1 Axes>"
      ]
     },
     "metadata": {
      "needs_background": "light"
     },
     "output_type": "display_data"
    },
    {
     "data": {
      "image/png": "[encoded data removed]",
      "text/plain": [
       "<Figure size 1080x288 with 1 Axes>"
      ]
     },
     "metadata": {
      "needs_background": "light"
     },
     "output_type": "display_data"
    }
   ],
   "source": [
    "\n",
    "for i in range(len(tariffs_list)):\n",
    "    plt.figure(figsize=(15,4))\n",
    "    month_expenses.loc[month_expenses['tariff'] == tariffs_list[i],'messages'].hist(bins=50, color = color[i])\n",
    "    plt.title('Тариф '+tariffs_list[i])\n",
    "    plt.xlabel('Количество сообщений', size=12)\n",
    "    plt.ylabel('Кол-во абонентов', size=12)\n",
    "    plt.show()"
   ]
  },
  {
   "cell_type": "markdown",
   "metadata": {},
   "source": [
    "По построенным гистрограмма мы видим:\n",
    "- По интернет трафику в тарифе `smart` график скошен враво, с наиболшем количеством абонентов которые не отправляют сообщения. Тут как в звонках части абонентам не хватат базового пакета сообщений(50) доходят до 120 сообщений. Единичные доходят до 140.\n",
    " - По сообщениям в тарифе `ultra` график повторяет `smart` только изменены границы большенство укладываются в 200 сообщений(единичны до 220), но все этовходит в базовый пакет(1000)"
   ]
  },
  {
   "cell_type": "code",
   "execution_count": 35,
   "metadata": {
    "scrolled": false
   },
   "outputs": [
    {
     "data": {
      "image/png": "[encoded data removed]",
      "text/plain": [
       "<Figure size 1080x288 with 1 Axes>"
      ]
     },
     "metadata": {
      "needs_background": "light"
     },
     "output_type": "display_data"
    },
    {
     "data": {
      "image/png": "[encoded data removed]",
      "text/plain": [
       "<Figure size 1080x288 with 1 Axes>"
      ]
     },
     "metadata": {
      "needs_background": "light"
     },
     "output_type": "display_data"
    }
   ],
   "source": [
    "bins_list = [38,49]\n",
    "for i in range(len(tariffs_list)):\n",
    "    plt.figure(figsize=(15,4))\n",
    "    month_expenses.loc[month_expenses['tariff'] == tariffs_list[i],'gb_used'].hist(bins=bins_list[i], color = color[i])\n",
    "    plt.title('Тариф '+tariffs_list[i])\n",
    "    plt.xlabel('Объем трафика интернета', size=12)\n",
    "    plt.ylabel('Кол-во абонентов', size=12)\n",
    "    plt.show()"
   ]
  },
  {
   "cell_type": "markdown",
   "metadata": {},
   "source": [
    "По построенным гистрограмма мы видим:\n",
    " - По интернет трафику в тарифе `smart` график стремиться к нормальному распределению. Части абонентам также не хватает базового пакета доходя до 30 гб.(единичны до 38)\n",
    " - По интернет трафику в тарифе `ultra` график с небольшим скосом вправо, большинство укладываются в 44 гб.(единичны до 49)"
   ]
  },
  {
   "cell_type": "code",
   "execution_count": 36,
   "metadata": {
    "scrolled": false
   },
   "outputs": [
    {
     "data": {
      "image/png": "[encoded data removed]",
      "text/plain": [
       "<Figure size 1080x288 with 1 Axes>"
      ]
     },
     "metadata": {
      "needs_background": "light"
     },
     "output_type": "display_data"
    },
    {
     "data": {
      "image/png": "[encoded data removed]",
      "text/plain": [
       "<Figure size 1080x288 with 1 Axes>"
      ]
     },
     "metadata": {
      "needs_background": "light"
     },
     "output_type": "display_data"
    }
   ],
   "source": [
    "for i in range(len(tariffs_list)):\n",
    "    plt.figure(figsize=(15,4))\n",
    "    (\n",
    "        month_expenses.loc[month_expenses['tariff'] == tariffs_list[i],'expenses']\n",
    "        .hist(bins=20, color = color[i])\n",
    "    )\n",
    "    plt.title('Тариф '+tariffs_list[i])\n",
    "    plt.xlabel('Сумма расходов', size=12)\n",
    "    plt.ylabel('Кол-во абонентов', size=12)\n",
    "    plt.show()"
   ]
  },
  {
   "cell_type": "markdown",
   "metadata": {},
   "source": [
    "И за больших скачков в базовой стоимости плохо видно другие значение, выведем дополнительный график без учета этих скачков."
   ]
  },
  {
   "cell_type": "code",
   "execution_count": 37,
   "metadata": {},
   "outputs": [
    {
     "data": {
      "image/png": "[encoded data removed]",
      "text/plain": [
       "<Figure size 1080x288 with 1 Axes>"
      ]
     },
     "metadata": {
      "needs_background": "light"
     },
     "output_type": "display_data"
    },
    {
     "data": {
      "image/png": "[encoded data removed]",
      "text/plain": [
       "<Figure size 1080x288 with 1 Axes>"
      ]
     },
     "metadata": {
      "needs_background": "light"
     },
     "output_type": "display_data"
    }
   ],
   "source": [
    "limit_tariff = [550,1950]\n",
    "\n",
    "for i in range(len(tariffs_list)):\n",
    "    plt.figure(figsize=(15,4))\n",
    "    (\n",
    "        month_expenses.loc[(month_expenses['tariff'] == tariffs_list[i]) & (month_expenses['expenses'] > limit_tariff[i]),'expenses']\n",
    "        .hist(bins=20, color = color[i])\n",
    "    )\n",
    "    plt.title('Тариф '+tariffs_list[i])\n",
    "    plt.xlabel('Сумма расходов', size=12)\n",
    "    plt.ylabel('Кол-во абонентов', size=12)\n",
    "    plt.show()"
   ]
  },
  {
   "cell_type": "markdown",
   "metadata": {},
   "source": [
    "По построенным гистрограмма мы видим:\n",
    " - По тратам в тарифе `smart` видим скос вправо, с пиком в 550 р так как это базовая стоимость тарифа. Значительная часть абонентов не укладывается в базовую стоимость и доходит до 4000 р (единичные значения до 6500 р)\n",
    " - По тратам в тарифе `ultra` так же скос вправо и график не такой равномерный возможно это сказывается разница в количестве. Большинство абонентов укладывается в базовую стоимость тарифа. Небольшая часть месячных трат доходит до 4000 р. И пара клиентов выбивалось до 4600-4700 р."
   ]
  },
  {
   "cell_type": "markdown",
   "metadata": {},
   "source": [
    "## Проверка гипотез"
   ]
  },
  {
   "cell_type": "markdown",
   "metadata": {},
   "source": [
    "Перед проверкой гипотезы об отличии трат в зависимости региона(отличия Москвы от других регионов), напишем функцию для добавлении в нашу базу колонки с регионом, с двумя значениями: `Москва` или `Другой регион`"
   ]
  },
  {
   "cell_type": "code",
   "execution_count": 38,
   "metadata": {
    "scrolled": true
   },
   "outputs": [
    {
     "data": {
      "text/html": [
       "<div>\n",
       "<style scoped>\n",
       "    .dataframe tbody tr th:only-of-type {\n",
       "        vertical-align: middle;\n",
       "    }\n",
       "\n",
       "    .dataframe tbody tr th {\n",
       "        vertical-align: top;\n",
       "    }\n",
       "\n",
       "    .dataframe thead th {\n",
       "        text-align: right;\n",
       "    }\n",
       "</style>\n",
       "<table border=\"1\" class=\"dataframe\">\n",
       "  <thead>\n",
       "    <tr style=\"text-align: right;\">\n",
       "      <th></th>\n",
       "      <th>user_id</th>\n",
       "      <th>month</th>\n",
       "      <th>duration</th>\n",
       "      <th>messages</th>\n",
       "      <th>gb_used</th>\n",
       "      <th>tariff</th>\n",
       "      <th>expenses</th>\n",
       "    </tr>\n",
       "  </thead>\n",
       "  <tbody>\n",
       "    <tr>\n",
       "      <th>0</th>\n",
       "      <td>1000</td>\n",
       "      <td>5</td>\n",
       "      <td>159.0</td>\n",
       "      <td>22.0</td>\n",
       "      <td>3.0</td>\n",
       "      <td>ultra</td>\n",
       "      <td>1950.0</td>\n",
       "    </tr>\n",
       "    <tr>\n",
       "      <th>1</th>\n",
       "      <td>1000</td>\n",
       "      <td>6</td>\n",
       "      <td>172.0</td>\n",
       "      <td>60.0</td>\n",
       "      <td>23.0</td>\n",
       "      <td>ultra</td>\n",
       "      <td>1950.0</td>\n",
       "    </tr>\n",
       "    <tr>\n",
       "      <th>2</th>\n",
       "      <td>1000</td>\n",
       "      <td>7</td>\n",
       "      <td>340.0</td>\n",
       "      <td>75.0</td>\n",
       "      <td>14.0</td>\n",
       "      <td>ultra</td>\n",
       "      <td>1950.0</td>\n",
       "    </tr>\n",
       "    <tr>\n",
       "      <th>3</th>\n",
       "      <td>1000</td>\n",
       "      <td>8</td>\n",
       "      <td>408.0</td>\n",
       "      <td>81.0</td>\n",
       "      <td>14.0</td>\n",
       "      <td>ultra</td>\n",
       "      <td>1950.0</td>\n",
       "    </tr>\n",
       "    <tr>\n",
       "      <th>4</th>\n",
       "      <td>1000</td>\n",
       "      <td>9</td>\n",
       "      <td>466.0</td>\n",
       "      <td>57.0</td>\n",
       "      <td>15.0</td>\n",
       "      <td>ultra</td>\n",
       "      <td>1950.0</td>\n",
       "    </tr>\n",
       "  </tbody>\n",
       "</table>\n",
       "</div>"
      ],
      "text/plain": [
       "   user_id  month  duration  messages  gb_used tariff  expenses\n",
       "0     1000      5     159.0      22.0      3.0  ultra    1950.0\n",
       "1     1000      6     172.0      60.0     23.0  ultra    1950.0\n",
       "2     1000      7     340.0      75.0     14.0  ultra    1950.0\n",
       "3     1000      8     408.0      81.0     14.0  ultra    1950.0\n",
       "4     1000      9     466.0      57.0     15.0  ultra    1950.0"
      ]
     },
     "execution_count": 38,
     "metadata": {},
     "output_type": "execute_result"
    }
   ],
   "source": [
    "month_expenses.head(5)"
   ]
  },
  {
   "cell_type": "code",
   "execution_count": 39,
   "metadata": {},
   "outputs": [
    {
     "data": {
      "text/html": [
       "<div>\n",
       "<style scoped>\n",
       "    .dataframe tbody tr th:only-of-type {\n",
       "        vertical-align: middle;\n",
       "    }\n",
       "\n",
       "    .dataframe tbody tr th {\n",
       "        vertical-align: top;\n",
       "    }\n",
       "\n",
       "    .dataframe thead th {\n",
       "        text-align: right;\n",
       "    }\n",
       "</style>\n",
       "<table border=\"1\" class=\"dataframe\">\n",
       "  <thead>\n",
       "    <tr style=\"text-align: right;\">\n",
       "      <th></th>\n",
       "      <th>user_id</th>\n",
       "      <th>age</th>\n",
       "      <th>churn_date</th>\n",
       "      <th>city</th>\n",
       "      <th>first_name</th>\n",
       "      <th>last_name</th>\n",
       "      <th>reg_date</th>\n",
       "      <th>tariff</th>\n",
       "    </tr>\n",
       "  </thead>\n",
       "  <tbody>\n",
       "    <tr>\n",
       "      <th>0</th>\n",
       "      <td>1000</td>\n",
       "      <td>52</td>\n",
       "      <td>2018-12-31</td>\n",
       "      <td>Краснодар</td>\n",
       "      <td>Рафаил</td>\n",
       "      <td>Верещагин</td>\n",
       "      <td>2018-05-25</td>\n",
       "      <td>ultra</td>\n",
       "    </tr>\n",
       "    <tr>\n",
       "      <th>1</th>\n",
       "      <td>1001</td>\n",
       "      <td>41</td>\n",
       "      <td>2018-12-31</td>\n",
       "      <td>Москва</td>\n",
       "      <td>Иван</td>\n",
       "      <td>Ежов</td>\n",
       "      <td>2018-11-01</td>\n",
       "      <td>smart</td>\n",
       "    </tr>\n",
       "    <tr>\n",
       "      <th>2</th>\n",
       "      <td>1002</td>\n",
       "      <td>59</td>\n",
       "      <td>2018-12-31</td>\n",
       "      <td>Стерлитамак</td>\n",
       "      <td>Евгений</td>\n",
       "      <td>Абрамович</td>\n",
       "      <td>2018-06-17</td>\n",
       "      <td>smart</td>\n",
       "    </tr>\n",
       "    <tr>\n",
       "      <th>3</th>\n",
       "      <td>1003</td>\n",
       "      <td>23</td>\n",
       "      <td>2018-12-31</td>\n",
       "      <td>Москва</td>\n",
       "      <td>Белла</td>\n",
       "      <td>Белякова</td>\n",
       "      <td>2018-08-17</td>\n",
       "      <td>ultra</td>\n",
       "    </tr>\n",
       "    <tr>\n",
       "      <th>4</th>\n",
       "      <td>1004</td>\n",
       "      <td>68</td>\n",
       "      <td>2018-12-31</td>\n",
       "      <td>Новокузнецк</td>\n",
       "      <td>Татьяна</td>\n",
       "      <td>Авдеенко</td>\n",
       "      <td>2018-05-14</td>\n",
       "      <td>ultra</td>\n",
       "    </tr>\n",
       "  </tbody>\n",
       "</table>\n",
       "</div>"
      ],
      "text/plain": [
       "   user_id  age churn_date         city first_name  last_name    reg_date  \\\n",
       "0     1000   52 2018-12-31    Краснодар     Рафаил  Верещагин  2018-05-25   \n",
       "1     1001   41 2018-12-31       Москва       Иван       Ежов  2018-11-01   \n",
       "2     1002   59 2018-12-31  Стерлитамак    Евгений  Абрамович  2018-06-17   \n",
       "3     1003   23 2018-12-31       Москва      Белла   Белякова  2018-08-17   \n",
       "4     1004   68 2018-12-31  Новокузнецк    Татьяна   Авдеенко  2018-05-14   \n",
       "\n",
       "  tariff  \n",
       "0  ultra  \n",
       "1  smart  \n",
       "2  smart  \n",
       "3  ultra  \n",
       "4  ultra  "
      ]
     },
     "execution_count": 39,
     "metadata": {},
     "output_type": "execute_result"
    }
   ],
   "source": [
    "users.head(5)"
   ]
  },
  {
   "cell_type": "code",
   "execution_count": 40,
   "metadata": {
    "scrolled": false
   },
   "outputs": [
    {
     "data": {
      "text/html": [
       "<div>\n",
       "<style scoped>\n",
       "    .dataframe tbody tr th:only-of-type {\n",
       "        vertical-align: middle;\n",
       "    }\n",
       "\n",
       "    .dataframe tbody tr th {\n",
       "        vertical-align: top;\n",
       "    }\n",
       "\n",
       "    .dataframe thead th {\n",
       "        text-align: right;\n",
       "    }\n",
       "</style>\n",
       "<table border=\"1\" class=\"dataframe\">\n",
       "  <thead>\n",
       "    <tr style=\"text-align: right;\">\n",
       "      <th></th>\n",
       "      <th>user_id</th>\n",
       "      <th>month</th>\n",
       "      <th>duration</th>\n",
       "      <th>messages</th>\n",
       "      <th>gb_used</th>\n",
       "      <th>tariff</th>\n",
       "      <th>expenses</th>\n",
       "      <th>region</th>\n",
       "    </tr>\n",
       "  </thead>\n",
       "  <tbody>\n",
       "    <tr>\n",
       "      <th>0</th>\n",
       "      <td>1000</td>\n",
       "      <td>5</td>\n",
       "      <td>159.0</td>\n",
       "      <td>22.0</td>\n",
       "      <td>3.0</td>\n",
       "      <td>ultra</td>\n",
       "      <td>1950.0</td>\n",
       "      <td>Другой регион</td>\n",
       "    </tr>\n",
       "    <tr>\n",
       "      <th>1</th>\n",
       "      <td>1000</td>\n",
       "      <td>6</td>\n",
       "      <td>172.0</td>\n",
       "      <td>60.0</td>\n",
       "      <td>23.0</td>\n",
       "      <td>ultra</td>\n",
       "      <td>1950.0</td>\n",
       "      <td>Другой регион</td>\n",
       "    </tr>\n",
       "    <tr>\n",
       "      <th>2</th>\n",
       "      <td>1000</td>\n",
       "      <td>7</td>\n",
       "      <td>340.0</td>\n",
       "      <td>75.0</td>\n",
       "      <td>14.0</td>\n",
       "      <td>ultra</td>\n",
       "      <td>1950.0</td>\n",
       "      <td>Другой регион</td>\n",
       "    </tr>\n",
       "    <tr>\n",
       "      <th>3</th>\n",
       "      <td>1000</td>\n",
       "      <td>8</td>\n",
       "      <td>408.0</td>\n",
       "      <td>81.0</td>\n",
       "      <td>14.0</td>\n",
       "      <td>ultra</td>\n",
       "      <td>1950.0</td>\n",
       "      <td>Другой регион</td>\n",
       "    </tr>\n",
       "    <tr>\n",
       "      <th>4</th>\n",
       "      <td>1000</td>\n",
       "      <td>9</td>\n",
       "      <td>466.0</td>\n",
       "      <td>57.0</td>\n",
       "      <td>15.0</td>\n",
       "      <td>ultra</td>\n",
       "      <td>1950.0</td>\n",
       "      <td>Другой регион</td>\n",
       "    </tr>\n",
       "  </tbody>\n",
       "</table>\n",
       "</div>"
      ],
      "text/plain": [
       "   user_id  month  duration  messages  gb_used tariff  expenses         region\n",
       "0     1000      5     159.0      22.0      3.0  ultra    1950.0  Другой регион\n",
       "1     1000      6     172.0      60.0     23.0  ultra    1950.0  Другой регион\n",
       "2     1000      7     340.0      75.0     14.0  ultra    1950.0  Другой регион\n",
       "3     1000      8     408.0      81.0     14.0  ultra    1950.0  Другой регион\n",
       "4     1000      9     466.0      57.0     15.0  ultra    1950.0  Другой регион"
      ]
     },
     "execution_count": 40,
     "metadata": {},
     "output_type": "execute_result"
    }
   ],
   "source": [
    "def region(row):\n",
    "    \n",
    "    user_id = row['user_id']\n",
    "    \n",
    "    for i in range(len(users['user_id'])):\n",
    "        if user_id == users['user_id'][i]:\n",
    "            if users['city'][i] == 'Москва':\n",
    "                return 'Москва'\n",
    "            else:\n",
    "                return 'Другой регион'\n",
    "            \n",
    "month_expenses['region'] = month_expenses.apply(region,axis=1) \n",
    "month_expenses.head(5)"
   ]
  },
  {
   "cell_type": "code",
   "execution_count": null,
   "metadata": {},
   "outputs": [],
   "source": []
  },
  {
   "cell_type": "markdown",
   "metadata": {},
   "source": [
    "Посмотрим на графиках как распределяются расходы по региона с делением по месяцам:"
   ]
  },
  {
   "cell_type": "code",
   "execution_count": 41,
   "metadata": {
    "scrolled": false
   },
   "outputs": [
    {
     "data": {
      "image/png": "[encoded data removed]",
      "text/plain": [
       "<Figure size 720x360 with 1 Axes>"
      ]
     },
     "metadata": {
      "needs_background": "light"
     },
     "output_type": "display_data"
    },
    {
     "data": {
      "image/png": "[encoded data removed]",
      "text/plain": [
       "<Figure size 720x360 with 1 Axes>"
      ]
     },
     "metadata": {
      "needs_background": "light"
     },
     "output_type": "display_data"
    },
    {
     "data": {
      "image/png": "[encoded data removed]",
      "text/plain": [
       "<Figure size 720x360 with 1 Axes>"
      ]
     },
     "metadata": {
      "needs_background": "light"
     },
     "output_type": "display_data"
    },
    {
     "data": {
      "image/png": "[encoded data removed]",
      "text/plain": [
       "<Figure size 720x360 with 1 Axes>"
      ]
     },
     "metadata": {
      "needs_background": "light"
     },
     "output_type": "display_data"
    }
   ],
   "source": [
    "for i in range(len(group_col)):\n",
    "    (\n",
    "        month_expenses.pivot_table(index='month',columns='region', values=group_col[i], aggfunc='median')\n",
    "        .plot( kind='bar',  grid=True, figsize=(10, 5), title=group_name[i])\n",
    "    )\n",
    "    plt.xticks(rotation=0)\n",
    "    plt.xlabel('Месяц', size=12)\n",
    "    plt.ylabel(group_name[i], size=12)\n",
    "    plt.show()"
   ]
  },
  {
   "cell_type": "markdown",
   "metadata": {},
   "source": [
    "###### "
   ]
  },
  {
   "cell_type": "markdown",
   "metadata": {},
   "source": [
    "Нулевая гипотеза что тариф smart и ultra равны, альтернативная гипотеза что тарифы не равны(двухсторонняя):"
   ]
  },
  {
   "cell_type": "code",
   "execution_count": 42,
   "metadata": {},
   "outputs": [
    {
     "name": "stdout",
     "output_type": "stream",
     "text": [
      "p-значение: 1.4229814360764067e-160\n",
      "Отвергаем нулевую гипотезу, что расходы по тарифам равны\n",
      "\n",
      "cреднее по `smart`:  1290\n",
      "cреднее по `ultra`:  2070\n"
     ]
    }
   ],
   "source": [
    "tariff_smart = month_expenses.loc[month_expenses['tariff']=='smart','expenses']\n",
    "tariff_ultra = month_expenses.loc[month_expenses['tariff']=='ultra','expenses']\n",
    "\n",
    "alpha = .05 #критический уровень статистической значимости\n",
    "\n",
    "results_tariffs = st.ttest_ind(\n",
    "    tariff_smart,\n",
    "    tariff_ultra\n",
    ")\n",
    "\n",
    "print('p-значение:', results_tariffs.pvalue)\n",
    "\n",
    "if results_tariffs.pvalue < alpha:\n",
    "    print('Отвергаем нулевую гипотезу, что расходы по тарифам равны')\n",
    "else:\n",
    "    print('Не получилось отвергнуть нулевую гипотезу, что расходы по тарифам равны')\n",
    "print() \n",
    "print('cреднее по `smart`: ', round(tariff_smart.mean()))\n",
    "print('cреднее по `ultra`: ', round(tariff_ultra.mean()))"
   ]
  },
  {
   "cell_type": "markdown",
   "metadata": {},
   "source": [
    "Отвергаем нулевую гипотезу что расходы у абонентов равны.\n",
    "\n",
    "1,4 × 10^(−158)% такова вероятность допустить ошибку при отклонении нулевой гипотезы, так что мы переходим к альтернативной гипотизе."
   ]
  },
  {
   "cell_type": "markdown",
   "metadata": {},
   "source": [
    "Вторая часть, проверим нулевую гипотезу что расходы по регионам равны, альтернативная что расходны не равны."
   ]
  },
  {
   "cell_type": "code",
   "execution_count": 43,
   "metadata": {
    "scrolled": true
   },
   "outputs": [
    {
     "name": "stdout",
     "output_type": "stream",
     "text": [
      "p-значение: 0.5440152911670224\n",
      "Не получилось отвергнуть нулевую гипотезу, что расходы по регионам равны\n",
      "\n",
      "cреднее по Москве:  1547\n",
      "cреднее по другому региону:  1525\n"
     ]
    }
   ],
   "source": [
    "region_moscow = month_expenses.loc[month_expenses['region']=='Москва','expenses']\n",
    "region_other = month_expenses.loc[month_expenses['region']=='Другой регион','expenses']\n",
    "\n",
    "alpha = .05 #критический уровень статистической значимости\n",
    "\n",
    "results_tariffs = st.ttest_ind(\n",
    "    region_moscow,\n",
    "    region_other\n",
    ")\n",
    "\n",
    "print('p-значение:', results_tariffs.pvalue)\n",
    "\n",
    "if results_tariffs.pvalue < alpha:\n",
    "    print('Отвергаем нулевую гипотезу, что расходы по регионам равны')\n",
    "else:\n",
    "    print('Не получилось отвергнуть нулевую гипотезу, что расходы по регионам равны')\n",
    "print()   \n",
    "print('cреднее по Москве: ', round(region_moscow.mean()))\n",
    "print('cреднее по другому региону: ', round(region_other.mean()))"
   ]
  },
  {
   "cell_type": "markdown",
   "metadata": {},
   "source": [
    "Видим что отвергнуть нулевую гипотезу не получися, так как p-значение равно 54% что значительно превышает критический уровень статистической значимости в 5%."
   ]
  },
  {
   "cell_type": "markdown",
   "metadata": {},
   "source": [
    "### Посмотрим на отток клиентов течении года"
   ]
  },
  {
   "cell_type": "code",
   "execution_count": 44,
   "metadata": {
    "scrolled": false
   },
   "outputs": [
    {
     "name": "stdout",
     "output_type": "stream",
     "text": [
      "\n",
      "Всего ушедших клиентов: 498\n",
      "\n",
      "Ушедшие клиенты с тарифа `smart`: 350\n",
      "Ушедшие клиенты с тарифа `ultra`: 148\n"
     ]
    },
    {
     "data": {
      "text/html": [
       "<div>\n",
       "<style scoped>\n",
       "    .dataframe tbody tr th:only-of-type {\n",
       "        vertical-align: middle;\n",
       "    }\n",
       "\n",
       "    .dataframe tbody tr th {\n",
       "        vertical-align: top;\n",
       "    }\n",
       "\n",
       "    .dataframe thead th {\n",
       "        text-align: right;\n",
       "    }\n",
       "</style>\n",
       "<table border=\"1\" class=\"dataframe\">\n",
       "  <thead>\n",
       "    <tr style=\"text-align: right;\">\n",
       "      <th>month</th>\n",
       "      <th>8</th>\n",
       "      <th>9</th>\n",
       "      <th>10</th>\n",
       "      <th>11</th>\n",
       "      <th>12</th>\n",
       "    </tr>\n",
       "    <tr>\n",
       "      <th>tariff</th>\n",
       "      <th></th>\n",
       "      <th></th>\n",
       "      <th></th>\n",
       "      <th></th>\n",
       "      <th></th>\n",
       "    </tr>\n",
       "  </thead>\n",
       "  <tbody>\n",
       "    <tr>\n",
       "      <th>smart</th>\n",
       "      <td>1</td>\n",
       "      <td>1</td>\n",
       "      <td>5</td>\n",
       "      <td>6</td>\n",
       "      <td>337</td>\n",
       "    </tr>\n",
       "    <tr>\n",
       "      <th>ultra</th>\n",
       "      <td>1</td>\n",
       "      <td>2</td>\n",
       "      <td>4</td>\n",
       "      <td>2</td>\n",
       "      <td>139</td>\n",
       "    </tr>\n",
       "  </tbody>\n",
       "</table>\n",
       "</div>"
      ],
      "text/plain": [
       "month   8   9   10  11   12\n",
       "tariff                     \n",
       "smart    1   1   5   6  337\n",
       "ultra    1   2   4   2  139"
      ]
     },
     "execution_count": 44,
     "metadata": {},
     "output_type": "execute_result"
    },
    {
     "data": {
      "image/png": "[encoded data removed]",
      "text/plain": [
       "<Figure size 720x288 with 1 Axes>"
      ]
     },
     "metadata": {
      "needs_background": "light"
     },
     "output_type": "display_data"
    }
   ],
   "source": [
    "df_users_departed = users.loc[users['churn_date'].notna()].copy() \n",
    "# делаем копию таблицы по клиентов только с датой окончания оказывания услуг\n",
    "df_users_departed['churn_date'] = pd.to_datetime(df_users_departed['churn_date'], format='%Y-%m-%d')\n",
    "df_users_departed['month'] = df_users_departed['churn_date'].dt.month\n",
    "# добавляем колоннку с месяцем\n",
    "print()\n",
    "print('Всего ушедших клиентов:', df_users_departed.shape[0])\n",
    "print()\n",
    "print('Ушедшие клиенты с тарифа `smart`:', df_users_departed.query('tariff == \"smart\"').shape[0])\n",
    "print('Ушедшие клиенты с тарифа `ultra`:', df_users_departed.query('tariff == \"ultra\"').shape[0])\n",
    "\n",
    "departed_users = df_users_departed.pivot_table(index='tariff', columns='month', values='user_id', aggfunc='count')\n",
    "\n",
    "(departed_users\n",
    " .T\n",
    " .plot(kind='line', figsize=(10,4),  style = 'o-')\n",
    ")\n",
    "\n",
    "plt.title('Отток клиентов в течении 2018 года'+ \"\\n\")\n",
    "plt.xlabel('Месяц')\n",
    "plt.ylabel('Кол-во');\n",
    "# выводим график оттока\n",
    "\n",
    "departed_users"
   ]
  },
  {
   "cell_type": "markdown",
   "metadata": {},
   "source": [
    "Как видим отток начиная с августа месяца и набирает обороты к концу года.\n",
    "\n",
    "Если в сентебре всего 3 то в декабре 479 клиентов ушли от оператора.\n",
    "\n",
    "Доходы с клиентов smart выше в 1,4 раза, но и отток клиентов в 2,4 раза выше клиентов тарифа ultra, нужно придумать способ остановить отток клиентов."
   ]
  },
  {
   "cell_type": "markdown",
   "metadata": {},
   "source": [
    "## Выводы"
   ]
  },
  {
   "cell_type": "markdown",
   "metadata": {},
   "source": [
    "1) В общей сумме, за 2018 год абоненты тарифа `smart` принесли компании в 1,4 раза больше (2 870 440 р.) чем `ultra` (1 969 500 р.), правда с учетом что в тарифе `smart` абонентов в 2,4 раза больше тарифе `ultra`.\n",
    "\n",
    "2) После проверки нулевой гипотезы что *тарифы равны*, мы перешили к альтернативной гипотизе *что тарифы не равны*, так как значение p-value показывает вероятность ошибки 3,2 × 10^(−153)% при отклонении гипотезы что *тарифы равны*.\n",
    "\n",
    "3) В среднем на одного абонента доход выше у тарифа `ultra` **2071 р.** против **1291 р.** у `smart`.\n",
    " \n",
    "4) После проверки нулевой гипотезы что *Москва и другие регионы приносят одинаковый доход*, мы не отвергли нулевую гипотезу, так как значение p-value показывает вероятность ошибки 46% если мы откинем нулевую гипотизу.\n",
    " \n",
    "5) В среднем на одного абонента доход у Московского региона **1546 р.** пракстически равен с средним других регионов  **1520 р.**.\n",
    "\n",
    "6) Рекомендация так как среднии доход от тарифа `ultra` выше, нужно скорректировать рекламный бюджет чтобы привлечь дополнительных клиентов.\n",
    "\n",
    "7) С учетом увеличивающего оттока клиентов, возможно нужно рассчитать новый промежуточный тариф который поможет дополнительно привлеч новых и удержать текущих клиентов."
   ]
  }
 ],
 "metadata": {
  "ExecuteTimeLog": [
   {
    "duration": 1098,
    "start_time": "2022-06-25T19:37:07.900Z"
   },
   {
    "duration": 941,
    "start_time": "2022-06-25T19:37:09.001Z"
   },
   {
    "duration": 14,
    "start_time": "2022-06-25T19:37:09.944Z"
   },
   {
    "duration": 15,
    "start_time": "2022-06-25T19:37:09.960Z"
   },
   {
    "duration": 72,
    "start_time": "2022-06-25T19:37:09.978Z"
   },
   {
    "duration": 61,
    "start_time": "2022-06-25T19:37:10.052Z"
   },
   {
    "duration": 6,
    "start_time": "2022-06-25T19:37:10.115Z"
   },
   {
    "duration": 23,
    "start_time": "2022-06-25T19:37:10.123Z"
   },
   {
    "duration": 51,
    "start_time": "2022-06-25T19:37:10.148Z"
   },
   {
    "duration": 43,
    "start_time": "2022-06-25T19:37:10.202Z"
   },
   {
    "duration": 48,
    "start_time": "2022-06-25T19:37:10.247Z"
   },
   {
    "duration": 11,
    "start_time": "2022-06-25T19:37:10.297Z"
   },
   {
    "duration": 16,
    "start_time": "2022-06-25T19:37:10.309Z"
   },
   {
    "duration": 24,
    "start_time": "2022-06-25T19:37:10.328Z"
   },
   {
    "duration": 7,
    "start_time": "2022-06-25T19:37:10.367Z"
   },
   {
    "duration": 11,
    "start_time": "2022-06-25T19:37:10.375Z"
   },
   {
    "duration": 174,
    "start_time": "2022-06-25T19:37:10.388Z"
   },
   {
    "duration": 20,
    "start_time": "2022-06-25T19:37:10.563Z"
   },
   {
    "duration": 13,
    "start_time": "2022-06-25T19:37:10.584Z"
   },
   {
    "duration": 16,
    "start_time": "2022-06-25T19:37:10.599Z"
   },
   {
    "duration": 472,
    "start_time": "2022-06-25T19:37:10.618Z"
   },
   {
    "duration": 1632,
    "start_time": "2022-06-25T19:37:11.092Z"
   },
   {
    "duration": 23,
    "start_time": "2022-06-25T19:37:12.726Z"
   },
   {
    "duration": 3406,
    "start_time": "2022-06-25T19:37:12.751Z"
   },
   {
    "duration": 903,
    "start_time": "2022-06-25T19:37:16.159Z"
   },
   {
    "duration": 9,
    "start_time": "2022-06-25T19:37:17.067Z"
   },
   {
    "duration": 10,
    "start_time": "2022-06-25T19:37:17.078Z"
   },
   {
    "duration": 4,
    "start_time": "2022-06-25T19:43:40.883Z"
   },
   {
    "duration": 4,
    "start_time": "2022-06-25T19:43:45.931Z"
   },
   {
    "duration": 3,
    "start_time": "2022-06-25T19:43:48.339Z"
   },
   {
    "duration": 4,
    "start_time": "2022-06-25T19:44:04.165Z"
   },
   {
    "duration": 5,
    "start_time": "2022-06-25T19:44:09.652Z"
   },
   {
    "duration": 4,
    "start_time": "2022-06-25T19:45:26.536Z"
   },
   {
    "duration": 5,
    "start_time": "2022-06-25T19:47:14.299Z"
   },
   {
    "duration": 5,
    "start_time": "2022-06-25T19:47:26.012Z"
   },
   {
    "duration": 13,
    "start_time": "2022-06-25T19:47:44.125Z"
   },
   {
    "duration": 13,
    "start_time": "2022-06-25T19:48:53.441Z"
   },
   {
    "duration": 7,
    "start_time": "2022-06-25T19:57:06.835Z"
   },
   {
    "duration": 1076,
    "start_time": "2022-06-25T20:02:15.804Z"
   },
   {
    "duration": 402,
    "start_time": "2022-06-25T20:02:16.882Z"
   },
   {
    "duration": 14,
    "start_time": "2022-06-25T20:02:17.286Z"
   },
   {
    "duration": 15,
    "start_time": "2022-06-25T20:02:17.301Z"
   },
   {
    "duration": 81,
    "start_time": "2022-06-25T20:02:17.318Z"
   },
   {
    "duration": 47,
    "start_time": "2022-06-25T20:02:17.401Z"
   },
   {
    "duration": 5,
    "start_time": "2022-06-25T20:02:17.449Z"
   },
   {
    "duration": 30,
    "start_time": "2022-06-25T20:02:17.456Z"
   },
   {
    "duration": 33,
    "start_time": "2022-06-25T20:02:17.487Z"
   },
   {
    "duration": 51,
    "start_time": "2022-06-25T20:02:17.521Z"
   },
   {
    "duration": 26,
    "start_time": "2022-06-25T20:02:17.574Z"
   },
   {
    "duration": 13,
    "start_time": "2022-06-25T20:02:17.602Z"
   },
   {
    "duration": 8,
    "start_time": "2022-06-25T20:02:17.616Z"
   },
   {
    "duration": 11,
    "start_time": "2022-06-25T20:02:17.627Z"
   },
   {
    "duration": 46,
    "start_time": "2022-06-25T20:02:17.640Z"
   },
   {
    "duration": 6,
    "start_time": "2022-06-25T20:02:17.688Z"
   },
   {
    "duration": 10,
    "start_time": "2022-06-25T20:02:17.695Z"
   },
   {
    "duration": 187,
    "start_time": "2022-06-25T20:02:17.707Z"
   },
   {
    "duration": 4,
    "start_time": "2022-06-25T20:02:17.896Z"
   },
   {
    "duration": 8,
    "start_time": "2022-06-25T20:02:17.901Z"
   },
   {
    "duration": 13,
    "start_time": "2022-06-25T20:02:17.910Z"
   },
   {
    "duration": 13,
    "start_time": "2022-06-25T20:02:17.925Z"
   },
   {
    "duration": 41,
    "start_time": "2022-06-25T20:02:17.939Z"
   },
   {
    "duration": 12,
    "start_time": "2022-06-25T20:02:17.981Z"
   },
   {
    "duration": 21,
    "start_time": "2022-06-25T20:02:17.995Z"
   },
   {
    "duration": 264,
    "start_time": "2022-06-25T20:02:18.018Z"
   },
   {
    "duration": 978,
    "start_time": "2022-06-25T20:02:18.284Z"
   },
   {
    "duration": 20,
    "start_time": "2022-06-25T20:02:19.267Z"
   },
   {
    "duration": 3167,
    "start_time": "2022-06-25T20:02:19.289Z"
   },
   {
    "duration": 949,
    "start_time": "2022-06-25T20:02:22.458Z"
   },
   {
    "duration": 7,
    "start_time": "2022-06-25T20:02:23.409Z"
   },
   {
    "duration": 8,
    "start_time": "2022-06-25T20:02:23.418Z"
   },
   {
    "duration": 96,
    "start_time": "2022-06-25T20:02:23.427Z"
   },
   {
    "duration": 1460,
    "start_time": "2022-06-27T12:07:33.706Z"
   },
   {
    "duration": 919,
    "start_time": "2022-06-27T12:07:35.169Z"
   },
   {
    "duration": 74,
    "start_time": "2022-06-27T12:07:36.090Z"
   },
   {
    "duration": 588,
    "start_time": "2022-06-27T12:07:36.166Z"
   },
   {
    "duration": 356,
    "start_time": "2022-06-27T12:07:36.756Z"
   },
   {
    "duration": 70,
    "start_time": "2022-06-27T12:07:37.113Z"
   },
   {
    "duration": 24,
    "start_time": "2022-06-27T12:07:37.186Z"
   },
   {
    "duration": 18,
    "start_time": "2022-06-27T12:07:37.212Z"
   },
   {
    "duration": 66,
    "start_time": "2022-06-27T12:07:37.250Z"
   },
   {
    "duration": 197,
    "start_time": "2022-06-27T12:07:37.320Z"
   },
   {
    "duration": 0,
    "start_time": "2022-06-27T12:07:37.520Z"
   },
   {
    "duration": 0,
    "start_time": "2022-06-27T12:07:37.523Z"
   },
   {
    "duration": 0,
    "start_time": "2022-06-27T12:07:37.524Z"
   },
   {
    "duration": 0,
    "start_time": "2022-06-27T12:07:37.526Z"
   },
   {
    "duration": 0,
    "start_time": "2022-06-27T12:07:37.528Z"
   },
   {
    "duration": 0,
    "start_time": "2022-06-27T12:07:37.530Z"
   },
   {
    "duration": 0,
    "start_time": "2022-06-27T12:07:37.531Z"
   },
   {
    "duration": 0,
    "start_time": "2022-06-27T12:07:37.551Z"
   },
   {
    "duration": 0,
    "start_time": "2022-06-27T12:07:37.553Z"
   },
   {
    "duration": 0,
    "start_time": "2022-06-27T12:07:37.555Z"
   },
   {
    "duration": 0,
    "start_time": "2022-06-27T12:07:37.557Z"
   },
   {
    "duration": 0,
    "start_time": "2022-06-27T12:07:37.558Z"
   },
   {
    "duration": 0,
    "start_time": "2022-06-27T12:07:37.560Z"
   },
   {
    "duration": 0,
    "start_time": "2022-06-27T12:07:37.562Z"
   },
   {
    "duration": 0,
    "start_time": "2022-06-27T12:07:37.563Z"
   },
   {
    "duration": 0,
    "start_time": "2022-06-27T12:07:37.565Z"
   },
   {
    "duration": 0,
    "start_time": "2022-06-27T12:07:37.567Z"
   },
   {
    "duration": 0,
    "start_time": "2022-06-27T12:07:37.568Z"
   },
   {
    "duration": 0,
    "start_time": "2022-06-27T12:07:37.570Z"
   },
   {
    "duration": 0,
    "start_time": "2022-06-27T12:07:37.571Z"
   },
   {
    "duration": 0,
    "start_time": "2022-06-27T12:07:37.573Z"
   },
   {
    "duration": 0,
    "start_time": "2022-06-27T12:07:37.575Z"
   },
   {
    "duration": 0,
    "start_time": "2022-06-27T12:07:37.576Z"
   },
   {
    "duration": 0,
    "start_time": "2022-06-27T12:07:37.578Z"
   },
   {
    "duration": 0,
    "start_time": "2022-06-27T12:07:37.580Z"
   },
   {
    "duration": 0,
    "start_time": "2022-06-27T12:07:37.581Z"
   },
   {
    "duration": 0,
    "start_time": "2022-06-27T12:07:37.583Z"
   },
   {
    "duration": 0,
    "start_time": "2022-06-27T12:07:37.584Z"
   },
   {
    "duration": 0,
    "start_time": "2022-06-27T12:07:37.585Z"
   },
   {
    "duration": 0,
    "start_time": "2022-06-27T12:07:37.586Z"
   },
   {
    "duration": 0,
    "start_time": "2022-06-27T12:07:37.588Z"
   },
   {
    "duration": 0,
    "start_time": "2022-06-27T12:07:37.590Z"
   },
   {
    "duration": 0,
    "start_time": "2022-06-27T12:07:37.651Z"
   },
   {
    "duration": 0,
    "start_time": "2022-06-27T12:07:37.653Z"
   },
   {
    "duration": 1284,
    "start_time": "2022-06-27T12:10:30.658Z"
   },
   {
    "duration": 487,
    "start_time": "2022-06-27T12:10:31.944Z"
   },
   {
    "duration": 35,
    "start_time": "2022-06-27T12:10:32.433Z"
   },
   {
    "duration": 284,
    "start_time": "2022-06-27T12:10:32.470Z"
   },
   {
    "duration": 294,
    "start_time": "2022-06-27T12:10:32.759Z"
   },
   {
    "duration": 71,
    "start_time": "2022-06-27T12:10:33.056Z"
   },
   {
    "duration": 34,
    "start_time": "2022-06-27T12:10:33.129Z"
   },
   {
    "duration": 18,
    "start_time": "2022-06-27T12:10:33.165Z"
   },
   {
    "duration": 92,
    "start_time": "2022-06-27T12:10:33.185Z"
   },
   {
    "duration": 37,
    "start_time": "2022-06-27T12:10:33.279Z"
   },
   {
    "duration": 86,
    "start_time": "2022-06-27T12:10:33.319Z"
   },
   {
    "duration": 7,
    "start_time": "2022-06-27T12:10:33.408Z"
   },
   {
    "duration": 11,
    "start_time": "2022-06-27T12:10:33.417Z"
   },
   {
    "duration": 15,
    "start_time": "2022-06-27T12:10:33.450Z"
   },
   {
    "duration": 54,
    "start_time": "2022-06-27T12:10:33.467Z"
   },
   {
    "duration": 53,
    "start_time": "2022-06-27T12:10:33.523Z"
   },
   {
    "duration": 32,
    "start_time": "2022-06-27T12:10:33.578Z"
   },
   {
    "duration": 12,
    "start_time": "2022-06-27T12:10:33.612Z"
   },
   {
    "duration": 7,
    "start_time": "2022-06-27T12:10:33.651Z"
   },
   {
    "duration": 14,
    "start_time": "2022-06-27T12:10:33.660Z"
   },
   {
    "duration": 41,
    "start_time": "2022-06-27T12:10:33.676Z"
   },
   {
    "duration": 35,
    "start_time": "2022-06-27T12:10:33.719Z"
   },
   {
    "duration": 10,
    "start_time": "2022-06-27T12:10:33.755Z"
   },
   {
    "duration": 12,
    "start_time": "2022-06-27T12:10:33.767Z"
   },
   {
    "duration": 264,
    "start_time": "2022-06-27T12:10:33.781Z"
   },
   {
    "duration": 8,
    "start_time": "2022-06-27T12:10:34.047Z"
   },
   {
    "duration": 7,
    "start_time": "2022-06-27T12:10:34.057Z"
   },
   {
    "duration": 22,
    "start_time": "2022-06-27T12:10:34.066Z"
   },
   {
    "duration": 19,
    "start_time": "2022-06-27T12:10:34.090Z"
   },
   {
    "duration": 50,
    "start_time": "2022-06-27T12:10:34.111Z"
   },
   {
    "duration": 13,
    "start_time": "2022-06-27T12:10:34.163Z"
   },
   {
    "duration": 14,
    "start_time": "2022-06-27T12:10:34.178Z"
   },
   {
    "duration": 330,
    "start_time": "2022-06-27T12:10:34.194Z"
   },
   {
    "duration": 1072,
    "start_time": "2022-06-27T12:10:34.532Z"
   },
   {
    "duration": 26,
    "start_time": "2022-06-27T12:10:35.606Z"
   },
   {
    "duration": 716,
    "start_time": "2022-06-27T12:10:35.652Z"
   },
   {
    "duration": 490,
    "start_time": "2022-06-27T12:10:36.370Z"
   },
   {
    "duration": 474,
    "start_time": "2022-06-27T12:10:36.862Z"
   },
   {
    "duration": 427,
    "start_time": "2022-06-27T12:10:37.338Z"
   },
   {
    "duration": 492,
    "start_time": "2022-06-27T12:10:37.767Z"
   },
   {
    "duration": 4439,
    "start_time": "2022-06-27T12:10:38.264Z"
   },
   {
    "duration": 1179,
    "start_time": "2022-06-27T12:10:42.705Z"
   },
   {
    "duration": 15,
    "start_time": "2022-06-27T12:10:43.887Z"
   },
   {
    "duration": 13,
    "start_time": "2022-06-27T12:10:43.905Z"
   },
   {
    "duration": 37,
    "start_time": "2022-06-27T12:10:43.920Z"
   },
   {
    "duration": 70,
    "start_time": "2022-06-27T12:24:49.015Z"
   },
   {
    "duration": 5,
    "start_time": "2022-06-27T12:25:14.518Z"
   },
   {
    "duration": 5,
    "start_time": "2022-06-27T12:25:15.112Z"
   },
   {
    "duration": 207,
    "start_time": "2022-06-27T12:25:17.880Z"
   },
   {
    "duration": 203,
    "start_time": "2022-06-27T12:25:29.673Z"
   },
   {
    "duration": 194,
    "start_time": "2022-06-27T12:25:33.385Z"
   },
   {
    "duration": 39,
    "start_time": "2022-06-27T12:25:36.150Z"
   },
   {
    "duration": 1453,
    "start_time": "2022-06-27T12:25:55.854Z"
   },
   {
    "duration": 1266,
    "start_time": "2022-06-27T12:29:40.524Z"
   },
   {
    "duration": 469,
    "start_time": "2022-06-27T12:29:41.793Z"
   },
   {
    "duration": 24,
    "start_time": "2022-06-27T12:29:42.264Z"
   },
   {
    "duration": 289,
    "start_time": "2022-06-27T12:29:42.291Z"
   },
   {
    "duration": 277,
    "start_time": "2022-06-27T12:29:42.582Z"
   },
   {
    "duration": 62,
    "start_time": "2022-06-27T12:29:42.861Z"
   },
   {
    "duration": 34,
    "start_time": "2022-06-27T12:29:42.925Z"
   },
   {
    "duration": 17,
    "start_time": "2022-06-27T12:29:42.961Z"
   },
   {
    "duration": 81,
    "start_time": "2022-06-27T12:29:42.980Z"
   },
   {
    "duration": 28,
    "start_time": "2022-06-27T12:29:43.064Z"
   },
   {
    "duration": 75,
    "start_time": "2022-06-27T12:29:43.094Z"
   },
   {
    "duration": 8,
    "start_time": "2022-06-27T12:29:43.173Z"
   },
   {
    "duration": 7,
    "start_time": "2022-06-27T12:29:43.183Z"
   },
   {
    "duration": 18,
    "start_time": "2022-06-27T12:29:43.192Z"
   },
   {
    "duration": 61,
    "start_time": "2022-06-27T12:29:43.212Z"
   },
   {
    "duration": 36,
    "start_time": "2022-06-27T12:29:43.275Z"
   },
   {
    "duration": 50,
    "start_time": "2022-06-27T12:29:43.313Z"
   },
   {
    "duration": 11,
    "start_time": "2022-06-27T12:29:43.365Z"
   },
   {
    "duration": 18,
    "start_time": "2022-06-27T12:29:43.378Z"
   },
   {
    "duration": 14,
    "start_time": "2022-06-27T12:29:43.398Z"
   },
   {
    "duration": 48,
    "start_time": "2022-06-27T12:29:43.415Z"
   },
   {
    "duration": 4,
    "start_time": "2022-06-27T12:29:43.465Z"
   },
   {
    "duration": 10,
    "start_time": "2022-06-27T12:29:43.471Z"
   },
   {
    "duration": 23,
    "start_time": "2022-06-27T12:29:43.483Z"
   },
   {
    "duration": 250,
    "start_time": "2022-06-27T12:29:43.508Z"
   },
   {
    "duration": 5,
    "start_time": "2022-06-27T12:29:43.760Z"
   },
   {
    "duration": 8,
    "start_time": "2022-06-27T12:29:43.767Z"
   },
   {
    "duration": 20,
    "start_time": "2022-06-27T12:29:43.780Z"
   },
   {
    "duration": 12,
    "start_time": "2022-06-27T12:29:43.802Z"
   },
   {
    "duration": 50,
    "start_time": "2022-06-27T12:29:43.816Z"
   },
   {
    "duration": 14,
    "start_time": "2022-06-27T12:29:43.868Z"
   },
   {
    "duration": 15,
    "start_time": "2022-06-27T12:29:43.885Z"
   },
   {
    "duration": 267,
    "start_time": "2022-06-27T12:29:43.902Z"
   },
   {
    "duration": 1092,
    "start_time": "2022-06-27T12:29:44.170Z"
   },
   {
    "duration": 23,
    "start_time": "2022-06-27T12:29:45.265Z"
   },
   {
    "duration": 701,
    "start_time": "2022-06-27T12:29:45.290Z"
   },
   {
    "duration": 482,
    "start_time": "2022-06-27T12:29:45.993Z"
   },
   {
    "duration": 453,
    "start_time": "2022-06-27T12:29:46.478Z"
   },
   {
    "duration": 375,
    "start_time": "2022-06-27T12:29:46.933Z"
   },
   {
    "duration": 501,
    "start_time": "2022-06-27T12:29:47.311Z"
   },
   {
    "duration": 4107,
    "start_time": "2022-06-27T12:29:47.814Z"
   },
   {
    "duration": 1030,
    "start_time": "2022-06-27T12:29:51.923Z"
   },
   {
    "duration": 11,
    "start_time": "2022-06-27T12:29:52.955Z"
   },
   {
    "duration": 17,
    "start_time": "2022-06-27T12:29:52.969Z"
   },
   {
    "duration": 8,
    "start_time": "2022-06-27T12:29:52.989Z"
   },
   {
    "duration": 94,
    "start_time": "2022-06-27T12:29:52.999Z"
   },
   {
    "duration": 4,
    "start_time": "2022-06-27T12:29:53.095Z"
   },
   {
    "duration": 1183,
    "start_time": "2022-06-27T12:29:53.101Z"
   },
   {
    "duration": 246,
    "start_time": "2022-06-27T12:29:54.285Z"
   },
   {
    "duration": 346,
    "start_time": "2022-06-27T12:29:54.533Z"
   },
   {
    "duration": 209,
    "start_time": "2022-06-27T12:29:54.881Z"
   },
   {
    "duration": 40,
    "start_time": "2022-06-27T12:29:55.092Z"
   }
  ],
  "kernelspec": {
   "display_name": "Python 3 (ipykernel)",
   "language": "python",
   "name": "python3"
  },
  "language_info": {
   "codemirror_mode": {
    "name": "ipython",
    "version": 3
   },
   "file_extension": ".py",
   "mimetype": "text/x-python",
   "name": "python",
   "nbconvert_exporter": "python",
   "pygments_lexer": "ipython3",
   "version": "3.9.7"
  },
  "toc": {
   "base_numbering": 1,
   "nav_menu": {},
   "number_sections": true,
   "sideBar": true,
   "skip_h1_title": true,
   "title_cell": "Содержание:",
   "title_sidebar": "Contents",
   "toc_cell": true,
   "toc_position": {},
   "toc_section_display": true,
   "toc_window_display": true
  }
 },
 "nbformat": 4,
 "nbformat_minor": 2
}
